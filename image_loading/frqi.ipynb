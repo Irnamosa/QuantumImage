{
 "cells": [
  {
   "cell_type": "markdown",
   "id": "e46a2f23-5e04-4112-b502-9fcc4af58ffe",
   "metadata": {
    "tags": []
   },
   "source": [
    "# FRQI Implementation\n",
    "From the following [paper](https://link.springer.com/article/10.1007/s11128-010-0177-y)"
   ]
  },
  {
   "cell_type": "code",
   "execution_count": 188,
   "id": "dd9b81b3-d92e-4d2b-949e-1bc8a33edb65",
   "metadata": {},
   "outputs": [],
   "source": [
    "from commons import *\n",
    "import math\n",
    "from qiskit.circuit.library.standard_gates import RYGate\n",
    "from qiskit.visualization import plot_histogram\n",
    "import numpy as np\n",
    "from PIL import Image"
   ]
  },
  {
   "cell_type": "code",
   "execution_count": 455,
   "id": "7db7bc86-a56a-45dc-bb58-9833d7cfde58",
   "metadata": {},
   "outputs": [],
   "source": [
    "def coord2bool(i,j,N):\n",
    "    '''\n",
    "    (i,j) entry in NxN matrix\n",
    "    0<= i,j <= N-1\n",
    "    '''\n",
    "    get_bin = lambda x, n: format(x, 'b').zfill(n)\n",
    "    pad = len(get_bin(N*(N-1)+(N-1),0))\n",
    "    \n",
    "    return get_bin(N*i+j, pad)\n",
    "\n",
    "def populate(counts, N):\n",
    "    '''\n",
    "    populate counts with states that yielded 0 shots\n",
    "    '''\n",
    "    for i in range(2**N):\n",
    "        bnry = \"{0:b}\".format(i).zfill(N)\n",
    "        if bnry not in counts:\n",
    "            counts[bnry] = 0\n",
    "    \n",
    "    return counts\n",
    "\n",
    "def my_acos(x):\n",
    "    if(x>1):\n",
    "        return 0\n",
    "    return math.acos(x)\n",
    "\n",
    "def counts2angles(counts):\n",
    "    '''\n",
    "    convert shot counts to probabilities and then to \n",
    "    angles encoding grayscale values\n",
    "    '''\n",
    "    \n",
    "    shots = sum(counts.values())\n",
    "    counts = [(k,v/shots) for k,v in counts.items() if k[-1]=='0'] \n",
    "    angles = [(k[:-1][::-1], my_acos(np.sqrt((2**(Nqs))*v))/(np.pi/2)) for k,v in counts]\n",
    "    angles = sorted(angles, key=lambda x: int(x[0], 2))\n",
    "    angles = np.array([v for k,v in angles]).reshape(N,N)\n",
    "    \n",
    "    return angles"
   ]
  },
  {
   "cell_type": "code",
   "execution_count": 562,
   "id": "731fc05d-2a5b-437f-a80b-20ef87a4e483",
   "metadata": {},
   "outputs": [],
   "source": []
  },
  {
   "cell_type": "code",
   "execution_count": 564,
   "id": "0a06845e-68f4-4f26-9fb9-916d431e7229",
   "metadata": {},
   "outputs": [
    {
     "data": {
      "image/png": "[encoded data removed]",
      "text/plain": [
       "<PIL.Image.Image image mode=L size=100x100 at 0x1E3BCEDFC08>"
      ]
     },
     "metadata": {},
     "output_type": "display_data"
    }
   ],
   "source": [
    "# Test image: NxN BW gradient\n",
    "N=8\n",
    "\n",
    "# gradient between 0 and 1 for N*N\n",
    "#array = np.linspace(0,1,N*N)\n",
    "#mat = np.reshape(array,(N,N))\n",
    "\n",
    "a = np.zeros(N)\n",
    "a[4], a[3] = 1, 1\n",
    "mat = 1 -  a * np.ones((N,N))\n",
    "\n",
    "# Creates PIL image\n",
    "img = Image.fromarray(np.uint8(mat * 255) , 'L')\n",
    "display(img.resize((100, 100),  Image.NEAREST))"
   ]
  },
  {
   "cell_type": "code",
   "execution_count": 565,
   "id": "b19a29ec-2669-4044-8662-3f9e32fcfcfe",
   "metadata": {},
   "outputs": [],
   "source": [
    "# Number of qubits required to sufficiently store the NxN pixel positions \n",
    "Nqs = math.ceil(np.log2(N*N))\n",
    "\n",
    "# +1 qubit encoding grayscale value\n",
    "qc = QuantumCircuit(Nqs+1,Nqs+1)\n",
    "\n",
    "# We require NxN angles to encode shade of each pixel\n",
    "angles = [Parameter('$t_{}$'.format(i)) for i in range(N*N)]\n",
    "angles = np.array(angles).reshape(N,N)\n",
    "\n",
    "# Apply FRQI algorithm: https://link.springer.com/article/10.1007/s11128-010-0177-y\n",
    "\n",
    "qc.h(range(1,Nqs+1))\n",
    "\n",
    "# Apply Rys(T_i) for the ith pixel in the NxN image \n",
    "for i in range(N):\n",
    "    for j in range(N):\n",
    "        r = RYGate(angles[i][j])\n",
    "        r = r.control(Nqs, ctrl_state=coord2bool(i,j,N))\n",
    "        qc.append(r,list(range(0,Nqs+1))[::-1])\n",
    "\n",
    "angle_values = dict(zip(angles.reshape(N*N), 2*(np.pi/2)*mat.reshape(N*N)))\n",
    "qc = qc.assign_parameters(angle_values)\n",
    "qc.measure(np.arange(0,Nqs+1),np.arange(0,Nqs+1));"
   ]
  },
  {
   "cell_type": "code",
   "execution_count": null,
   "id": "3663810e-1fc9-4c56-91d1-ac1e6699f9de",
   "metadata": {},
   "outputs": [],
   "source": [
    "qc.draw('mpl')"
   ]
  },
  {
   "cell_type": "code",
   "execution_count": 567,
   "id": "862f41d9-2c9e-4c39-acc8-c288bec7438e",
   "metadata": {},
   "outputs": [],
   "source": [
    "shots = 1e4\n",
    "backend = Aer.get_backend('qasm_simulator')\n",
    "job =  execute(qc, backend, shots=shots)\n",
    "counts = job.result().get_counts(qc)"
   ]
  },
  {
   "cell_type": "code",
   "execution_count": 568,
   "id": "5b06580b-072e-41ec-a3a0-cd2fad2ed4d0",
   "metadata": {},
   "outputs": [],
   "source": [
    "counts = populate(counts, Nqs+1)"
   ]
  },
  {
   "cell_type": "code",
   "execution_count": 569,
   "id": "0f7a821e-91ab-46c8-a387-fe6d2450bf91",
   "metadata": {},
   "outputs": [],
   "source": [
    "# retrieve angles and thus greyscale values from counts\n",
    "angles_rec = counts2angles(counts)"
   ]
  },
  {
   "cell_type": "code",
   "execution_count": 570,
   "id": "a496518b-2abd-4537-8f75-ba7da8e3af4d",
   "metadata": {},
   "outputs": [
    {
     "data": {
      "image/png": "[encoded data removed]",
      "text/plain": [
       "<PIL.Image.Image image mode=L size=100x100 at 0x1E3BAA74948>"
      ]
     },
     "metadata": {},
     "output_type": "display_data"
    }
   ],
   "source": [
    "img_rec = Image.fromarray(np.uint8(angles_rec * 255) , 'L')\n",
    "display(img_rec.resize((100, 100),  Image.NEAREST))\n",
    "(img_rec.resize((100, 100),  Image.NEAREST)).save(\"images/stripe_rec.jpg\")"
   ]
  },
  {
   "cell_type": "code",
   "execution_count": 571,
   "id": "68509e6f-5fb0-470f-bfaf-35d140df2631",
   "metadata": {},
   "outputs": [
    {
     "data": {
      "image/png": "[encoded data removed]",
      "text/plain": [
       "<PIL.Image.Image image mode=L size=100x100 at 0x1E3BAC7F908>"
      ]
     },
     "metadata": {},
     "output_type": "display_data"
    }
   ],
   "source": [
    "img = Image.fromarray(np.uint8(mat * 255) , 'L')\n",
    "display(img.resize((100, 100),  Image.NEAREST))\n",
    "(img.resize((100, 100),  Image.NEAREST)).save(\"images/stripe.jpg\")"
   ]
  },
  {
   "cell_type": "code",
   "execution_count": 572,
   "id": "bbc9b5d6-2a74-429e-92c2-09616a4f5335",
   "metadata": {},
   "outputs": [
    {
     "data": {
      "image/png": "[encoded data removed]",
      "text/plain": [
       "<PIL.Image.Image image mode=L size=100x100 at 0x1E3BAC7F788>"
      ]
     },
     "metadata": {},
     "output_type": "display_data"
    }
   ],
   "source": [
    "# get error\n",
    "error = Image.fromarray(np.uint8((1-abs(angles_rec- mat)) * 255) , 'L')\n",
    "display(error.resize((100, 100),  Image.NEAREST))\n",
    "(error.resize((100, 100),  Image.NEAREST)).save(\"images/error_stripe.jpg\")"
   ]
  },
  {
   "cell_type": "code",
   "execution_count": 574,
   "id": "1800e92d-d210-44fe-9aae-eafe54e03650",
   "metadata": {},
   "outputs": [
    {
     "data": {
      "image/png": "[encoded data removed]",
      "text/plain": [
       "<Figure size 576x216 with 3 Axes>"
      ]
     },
     "metadata": {
      "needs_background": "light"
     },
     "output_type": "display_data"
    }
   ],
   "source": [
    "fig = plt.figure(figsize=(8,3))\n",
    "columns = 3\n",
    "rows = 1\n",
    "for (i,imges,title) in zip(range(1, columns*rows +1), [img, img_rec, error], [\"Original\", \"Recovered\", \"Error\"]):\n",
    "    fig.add_subplot(rows, columns, i)\n",
    "    plt.imshow(imges, cmap='gray', vmin=0, vmax=255)\n",
    "    plt.title(title)\n",
    "\n",
    "plt.savefig(\"images/comparison_stripe.jpg\")\n",
    "plt.show()"
   ]
  },
  {
   "cell_type": "code",
   "execution_count": 552,
   "id": "96709653-28cd-4443-ba52-5bc1d21c2902",
   "metadata": {},
   "outputs": [
    {
     "data": {
      "image/png": "[encoded data removed]",
      "text/plain": [
       "<Figure size 576x216 with 3 Axes>"
      ]
     },
     "metadata": {
      "needs_background": "light"
     },
     "output_type": "display_data"
    }
   ],
   "source": [
    "fig = plt.figure(figsize=(8,3))\n",
    "columns = 3\n",
    "rows = 1\n",
    "for (i,imges,title) in zip(range(1, columns*rows +1), [img, img_rec, error], [\"Original\", \"Recovered\", \"Error\"]):\n",
    "    fig.add_subplot(rows, columns, i)\n",
    "    plt.imshow(imges, cmap='gray', vmin=0, vmax=255)\n",
    "    plt.title(title)\n",
    "\n",
    "plt.savefig(\"images/comparison8x8.jpg\")\n",
    "plt.show()"
   ]
  }
 ],
 "metadata": {
  "kernelspec": {
   "display_name": "Python 3 (ipykernel)",
   "language": "python",
   "name": "python3"
  },
  "language_info": {
   "codemirror_mode": {
    "name": "ipython",
    "version": 3
   },
   "file_extension": ".py",
   "mimetype": "text/x-python",
   "name": "python",
   "nbconvert_exporter": "python",
   "pygments_lexer": "ipython3",
   "version": "3.7.11"
  }
 },
 "nbformat": 4,
 "nbformat_minor": 5
}
