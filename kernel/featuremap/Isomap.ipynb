{
 "cells": [
  {
   "cell_type": "markdown",
   "id": "b033311f-9edf-493f-ac2d-efca8c2db616",
   "metadata": {},
   "source": [
    "# Isomap"
   ]
  },
  {
   "cell_type": "code",
   "execution_count": 3,
   "id": "6c1f09af-d163-4d0e-a55a-14957b21f61f",
   "metadata": {},
   "outputs": [],
   "source": [
    "import setup\n",
    "from circuits import * "
   ]
  },
  {
   "cell_type": "code",
   "execution_count": 158,
   "id": "d9e73c4c-7ece-46d1-82ac-79900a658c3c",
   "metadata": {},
   "outputs": [],
   "source": [
    "from sklearn.utils.graph import single_source_shortest_path_length"
   ]
  },
  {
   "cell_type": "code",
   "execution_count": 329,
   "id": "2654140c-0794-4e6a-bb07-cb32f9b19212",
   "metadata": {},
   "outputs": [
    {
     "data": {
      "text/plain": [
       "(100, 64)"
      ]
     },
     "execution_count": 329,
     "metadata": {},
     "output_type": "execute_result"
    }
   ],
   "source": [
    "from sklearn.datasets import load_digits\n",
    "from sklearn.manifold import Isomap\n",
    "X, _ = load_digits(return_X_y=True)\n",
    "X = X[:100]\n",
    "X.shape"
   ]
  },
  {
   "cell_type": "code",
   "execution_count": 330,
   "id": "7842ebbc-5c85-45f5-a154-8245550a3bc3",
   "metadata": {},
   "outputs": [
    {
     "data": {
      "text/plain": [
       "(100, 49)"
      ]
     },
     "execution_count": 330,
     "metadata": {},
     "output_type": "execute_result"
    }
   ],
   "source": [
    "embedding = Isomap(n_components=49, n_neighbors=9)\n",
    "X_transformed = embedding.fit_transform(X)\n",
    "X_transformed.shape"
   ]
  },
  {
   "cell_type": "code",
   "execution_count": 331,
   "id": "7f284907-2149-4f13-b788-ffc93fd69711",
   "metadata": {},
   "outputs": [
    {
     "data": {
      "text/plain": [
       "<Figure size 432x288 with 0 Axes>"
      ]
     },
     "metadata": {},
     "output_type": "display_data"
    },
    {
     "data": {
      "image/png": "[encoded data removed]",
      "text/plain": [
       "<Figure size 360x360 with 2 Axes>"
      ]
     },
     "metadata": {
      "needs_background": "light"
     },
     "output_type": "display_data"
    },
    {
     "data": {
      "text/plain": [
       "<Figure size 432x288 with 0 Axes>"
      ]
     },
     "metadata": {},
     "output_type": "display_data"
    },
    {
     "data": {
      "image/png": "[encoded data removed]",
      "text/plain": [
       "<Figure size 360x360 with 2 Axes>"
      ]
     },
     "metadata": {
      "needs_background": "light"
     },
     "output_type": "display_data"
    },
    {
     "data": {
      "text/plain": [
       "<Figure size 432x288 with 0 Axes>"
      ]
     },
     "metadata": {},
     "output_type": "display_data"
    },
    {
     "data": {
      "image/png": "[encoded data removed]",
      "text/plain": [
       "<Figure size 360x360 with 2 Axes>"
      ]
     },
     "metadata": {
      "needs_background": "light"
     },
     "output_type": "display_data"
    }
   ],
   "source": [
    "# Fading out for large components indicates less informative\n",
    "\n",
    "for i in range(3):\n",
    "    plt.gray()\n",
    "    fig, axes = plt.subplots(nrows=1, ncols=2, figsize=(5, 5))\n",
    "\n",
    "    axes[0].matshow(np.array(X[i]).reshape(8,8))\n",
    "    axes[1].matshow(X_transformed[i].real.reshape(7,7))\n",
    "\n",
    "    plt.show()"
   ]
  },
  {
   "cell_type": "markdown",
   "id": "647913ce-bd5c-4628-877e-7353fcddcb58",
   "metadata": {
    "tags": []
   },
   "source": [
    "## My Isomap"
   ]
  },
  {
   "cell_type": "code",
   "execution_count": 366,
   "id": "1066ef2a-c992-449c-b2e3-9356507d1c86",
   "metadata": {},
   "outputs": [],
   "source": [
    "def kNN(x,X, k=5):\n",
    "    dists = X.apply(lambda y: np.linalg.norm(x-y), axis=1)\n",
    "    dists = dists.sort_values()\n",
    "    dists[set(dists.index) - set(dists.head(k+1).index)] = 0 \n",
    "    return dists.sort_index()\n",
    "    \n",
    "    "
   ]
  },
  {
   "cell_type": "code",
   "execution_count": 350,
   "id": "826871d8-c740-4c19-9078-a5a362e2a240",
   "metadata": {},
   "outputs": [],
   "source": [
    "X = pd.DataFrame(X)"
   ]
  },
  {
   "cell_type": "code",
   "execution_count": 368,
   "id": "e0355ada-9b80-456d-ac78-bedaa637b6df",
   "metadata": {},
   "outputs": [
    {
     "data": {
      "text/plain": [
       "78    30.512293\n",
       "55    30.430248\n",
       "49    27.184554\n",
       "20    26.095977\n",
       "48    24.186773\n",
       "        ...    \n",
       "32     0.000000\n",
       "31     0.000000\n",
       "29     0.000000\n",
       "28     0.000000\n",
       "99     0.000000\n",
       "Length: 100, dtype: float64"
      ]
     },
     "execution_count": 368,
     "metadata": {},
     "output_type": "execute_result"
    }
   ],
   "source": [
    "kNN(X.iloc[0],X,k=9).sort_values(ascending=False)"
   ]
  },
  {
   "cell_type": "code",
   "execution_count": 369,
   "id": "5533dc5f-54fa-4221-b1ed-043503365ab5",
   "metadata": {},
   "outputs": [],
   "source": [
    "cols = []\n",
    "for i,x in X.iterrows():\n",
    "    cols.append(np.array(kNN(x,X,k=9)))"
   ]
  },
  {
   "cell_type": "code",
   "execution_count": 370,
   "id": "74daccfe-2d5e-4e52-8485-e6735ee46d97",
   "metadata": {},
   "outputs": [],
   "source": [
    "dij_N = np.column_stack(cols)\n"
   ]
  },
  {
   "cell_type": "code",
   "execution_count": 371,
   "id": "10050327-92e1-4847-a950-9e544941ecd7",
   "metadata": {},
   "outputs": [
    {
     "data": {
      "text/plain": [
       "array([ 0.        ,  0.        ,  0.        ,  0.        ,  0.        ,\n",
       "        0.        ,  0.        ,  0.        ,  0.        ,  0.        ,\n",
       "       23.70653918,  0.        ,  0.        ,  0.        ,  0.        ,\n",
       "        0.        ,  0.        ,  0.        ,  0.        ,  0.        ,\n",
       "       26.0959767 ,  0.        ,  0.        ,  0.        ,  0.        ,\n",
       "        0.        ,  0.        ,  0.        ,  0.        ,  0.        ,\n",
       "       20.78460969,  0.        ,  0.        ,  0.        ,  0.        ,\n",
       "        0.        , 21.74856317,  0.        ,  0.        ,  0.        ,\n",
       "        0.        ,  0.        ,  0.        ,  0.        ,  0.        ,\n",
       "        0.        ,  0.        ,  0.        , 24.18677324, 27.18455444,\n",
       "        0.        ,  0.        ,  0.        ,  0.        ,  0.        ,\n",
       "       30.43024811,  0.        ,  0.        ,  0.        ,  0.        ,\n",
       "        0.        ,  0.        ,  0.        ,  0.        ,  0.        ,\n",
       "        0.        ,  0.        ,  0.        ,  0.        ,  0.        ,\n",
       "        0.        ,  0.        ,  0.        ,  0.        ,  0.        ,\n",
       "        0.        ,  0.        ,  0.        , 30.5122926 , 22.89104628,\n",
       "        0.        ,  0.        ,  0.        ,  0.        ,  0.        ,\n",
       "        0.        ,  0.        ,  0.        ,  0.        ,  0.        ,\n",
       "        0.        ,  0.        ,  0.        ,  0.        ,  0.        ,\n",
       "        0.        ,  0.        ,  0.        ,  0.        ,  0.        ])"
      ]
     },
     "execution_count": 371,
     "metadata": {},
     "output_type": "execute_result"
    }
   ],
   "source": [
    "dij_N.T[0]"
   ]
  },
  {
   "cell_type": "code",
   "execution_count": 372,
   "id": "f2a86b09-44f8-4068-a1c4-a50468a6329b",
   "metadata": {},
   "outputs": [],
   "source": [
    "dij_N = dij_N.T"
   ]
  },
  {
   "cell_type": "code",
   "execution_count": 373,
   "id": "2a298735-1809-44f1-ac15-f2cd7b676c51",
   "metadata": {},
   "outputs": [],
   "source": [
    "dists_geodesic = []\n",
    "for i in range(dij_N.shape[0]):\n",
    "    dists_geodesic.append(np.array(pd.Series(single_source_shortest_path_length(dij_N, i)).sort_index()))"
   ]
  },
  {
   "cell_type": "code",
   "execution_count": 374,
   "id": "10283ffd-ced8-4ce4-bbef-26249ad957a2",
   "metadata": {},
   "outputs": [],
   "source": [
    "dij_geo = np.column_stack(dists_geodesic)\n"
   ]
  },
  {
   "cell_type": "code",
   "execution_count": 375,
   "id": "b3d0e56e-438e-4312-a1e2-e0f058f06884",
   "metadata": {},
   "outputs": [
    {
     "data": {
      "text/plain": [
       "array([[ 0,  5,  4, ...,  3,  6,  4],\n",
       "       [ 8,  0,  3, ...,  3, 10,  1],\n",
       "       [ 8,  4,  0, ...,  5,  9,  3],\n",
       "       ...,\n",
       "       [ 7,  3,  4, ...,  0,  9,  2],\n",
       "       [ 4,  5,  3, ...,  4,  0,  4],\n",
       "       [ 8,  1,  2, ...,  3,  9,  0]], dtype=int64)"
      ]
     },
     "execution_count": 375,
     "metadata": {},
     "output_type": "execute_result"
    }
   ],
   "source": [
    "dij_geo"
   ]
  },
  {
   "cell_type": "code",
   "execution_count": 265,
   "id": "294d86ae-209a-4e01-a3f7-431ece4bc1a3",
   "metadata": {},
   "outputs": [],
   "source": [
    "from sklearn.decomposition import KernelPCA"
   ]
  },
  {
   "cell_type": "code",
   "execution_count": 266,
   "id": "d6228cb8-f646-4536-9ad3-9d054c4ba333",
   "metadata": {},
   "outputs": [],
   "source": [
    "from sklearn.metrics.pairwise import linear_kernel\n",
    "from sklearn.metrics.pairwise import pairwise_kernels\n",
    "\n",
    "from sklearn.preprocessing import KernelCenterer"
   ]
  },
  {
   "cell_type": "code",
   "execution_count": 267,
   "id": "7159b028-6526-4236-b94e-4da6a00c676f",
   "metadata": {},
   "outputs": [],
   "source": [
    "K = dij_geo**2"
   ]
  },
  {
   "cell_type": "code",
   "execution_count": 268,
   "id": "1e66a837-ca46-4c69-a2dd-ae3eba14d76b",
   "metadata": {},
   "outputs": [],
   "source": [
    "\n",
    "K_transformer = KernelCenterer().fit(K)\n",
    "K_transformer\n",
    "K = K_transformer.transform(K)"
   ]
  },
  {
   "cell_type": "code",
   "execution_count": 269,
   "id": "67824433-a6ba-48d3-b272-35f7d7884956",
   "metadata": {},
   "outputs": [],
   "source": [
    "evals, evecs = np.linalg.eig(K)"
   ]
  },
  {
   "cell_type": "code",
   "execution_count": 270,
   "id": "cff7b883-a985-4586-acfe-c6905b54cede",
   "metadata": {},
   "outputs": [],
   "source": [
    "d= len(X.columns)"
   ]
  },
  {
   "cell_type": "code",
   "execution_count": 271,
   "id": "cd131075-5ab4-454c-9a2f-4117729dd0cf",
   "metadata": {},
   "outputs": [],
   "source": [
    "from sklearn.utils.extmath import svd_flip\n",
    "\n",
    "# Flips evecs sign if its largest element by absolute value is negative (for uniqueness?) \n",
    "evecs, _ = svd_flip(\n",
    "   evecs, np.zeros_like(evecs).T\n",
    ")"
   ]
  },
  {
   "cell_type": "code",
   "execution_count": 272,
   "id": "99c425cc-172d-4d54-90c5-b94dccbfa137",
   "metadata": {},
   "outputs": [],
   "source": [
    "Z = []\n",
    "for n in range(len(evecs)):\n",
    "    zn = np.asarray([np.sqrt(evals[i])*evecs[n][i] for i in range(d)])\n",
    "    Z.append(zn)\n",
    "Z = np.asarray(Z)"
   ]
  },
  {
   "cell_type": "code",
   "execution_count": 274,
   "id": "34bb1b06-cf06-48da-aaf7-0d1153b4f7d1",
   "metadata": {
    "tags": []
   },
   "outputs": [
    {
     "data": {
      "text/plain": [
       "<Figure size 432x288 with 0 Axes>"
      ]
     },
     "metadata": {},
     "output_type": "display_data"
    },
    {
     "data": {
      "image/png": "[encoded data removed]",
      "text/plain": [
       "<Figure size 360x360 with 2 Axes>"
      ]
     },
     "metadata": {
      "needs_background": "light"
     },
     "output_type": "display_data"
    },
    {
     "data": {
      "text/plain": [
       "<Figure size 432x288 with 0 Axes>"
      ]
     },
     "metadata": {},
     "output_type": "display_data"
    },
    {
     "data": {
      "image/png": "[encoded data removed]",
      "text/plain": [
       "<Figure size 360x360 with 2 Axes>"
      ]
     },
     "metadata": {
      "needs_background": "light"
     },
     "output_type": "display_data"
    },
    {
     "data": {
      "text/plain": [
       "<Figure size 432x288 with 0 Axes>"
      ]
     },
     "metadata": {},
     "output_type": "display_data"
    },
    {
     "data": {
      "image/png": "[encoded data removed]",
      "text/plain": [
       "<Figure size 360x360 with 2 Axes>"
      ]
     },
     "metadata": {
      "needs_background": "light"
     },
     "output_type": "display_data"
    }
   ],
   "source": [
    "# Fading out for large components indicates less informative\n",
    "\n",
    "for i in range(3):\n",
    "    plt.gray()\n",
    "    fig, axes = plt.subplots(nrows=1, ncols=2, figsize=(5, 5))\n",
    "\n",
    "    axes[0].matshow(np.array(X.iloc[i]).reshape(8,8))\n",
    "    axes[1].matshow(Z[i][:49].real.reshape(7,7))\n",
    "\n",
    "    plt.show()"
   ]
  },
  {
   "cell_type": "code",
   "execution_count": 278,
   "id": "a3e6784e-d25c-4c75-9704-1723b767d244",
   "metadata": {},
   "outputs": [],
   "source": [
    "\n",
    "Kernel = KernelPCA(\n",
    "    n_components=49,\n",
    "    kernel=\"precomputed\"\n",
    ")"
   ]
  },
  {
   "cell_type": "code",
   "execution_count": 286,
   "id": "c2c9c447-df0d-4d9b-8843-2510aca4106d",
   "metadata": {},
   "outputs": [
    {
     "data": {
      "text/plain": [
       "array([[ 0,  8,  8, ...,  7,  4,  8],\n",
       "       [ 5,  0,  4, ...,  3,  5,  1],\n",
       "       [ 4,  3,  0, ...,  4,  3,  2],\n",
       "       ...,\n",
       "       [ 3,  3,  5, ...,  0,  4,  3],\n",
       "       [ 6, 10,  9, ...,  9,  0,  9],\n",
       "       [ 4,  1,  3, ...,  2,  4,  0]], dtype=int64)"
      ]
     },
     "execution_count": 286,
     "metadata": {},
     "output_type": "execute_result"
    }
   ],
   "source": [
    "dij_geo"
   ]
  },
  {
   "cell_type": "markdown",
   "id": "7a74fc82-41f4-41c4-8826-921c78cd0c86",
   "metadata": {},
   "source": [
    "## Source"
   ]
  },
  {
   "cell_type": "code",
   "execution_count": 315,
   "id": "3259852b-8ae6-4d07-91ef-1c101d8d76b3",
   "metadata": {},
   "outputs": [],
   "source": [
    "from sklearn.neighbors import NearestNeighbors, kneighbors_graph\n",
    "from scipy.sparse.csgraph import connected_components, shortest_path"
   ]
  },
  {
   "cell_type": "code",
   "execution_count": 316,
   "id": "5f2309d0-da96-44b1-957e-2f2b4eeb8075",
   "metadata": {},
   "outputs": [],
   "source": [
    "Kernel = KernelPCA(\n",
    "    n_components=49,\n",
    "    kernel=\"precomputed\"\n",
    ")"
   ]
  },
  {
   "cell_type": "code",
   "execution_count": 317,
   "id": "6569ba96-deca-4b3c-b485-c170f33155ac",
   "metadata": {},
   "outputs": [],
   "source": [
    "k = 9"
   ]
  },
  {
   "cell_type": "code",
   "execution_count": 318,
   "id": "711baf9d-4a6a-4575-8286-3bcc2571c360",
   "metadata": {},
   "outputs": [],
   "source": [
    "nbrs = NearestNeighbors(\n",
    "            n_neighbors=9,\n",
    "            radius=None,\n",
    "            algorithm='auto',\n",
    "            metric='minkowski',\n",
    "            p=2,\n",
    "            metric_params=None,\n",
    "            n_jobs=None,\n",
    "        )"
   ]
  },
  {
   "cell_type": "code",
   "execution_count": 319,
   "id": "e809dab9-f5cf-470f-a6c6-768fcfa4fead",
   "metadata": {},
   "outputs": [
    {
     "data": {
      "text/plain": [
       "NearestNeighbors(n_neighbors=9, radius=None)"
      ]
     },
     "execution_count": 319,
     "metadata": {},
     "output_type": "execute_result"
    }
   ],
   "source": [
    "nbrs.fit(X)"
   ]
  },
  {
   "cell_type": "code",
   "execution_count": 320,
   "id": "bfe93373-53d9-4906-ab12-a1c65fa0343c",
   "metadata": {},
   "outputs": [],
   "source": [
    "nbg = kneighbors_graph(\n",
    "                nbrs,\n",
    "                k,\n",
    "                metric='minkowski',\n",
    "                p=2,\n",
    "                metric_params=None,\n",
    "                mode='distance',\n",
    "                n_jobs=None,\n",
    "            )"
   ]
  },
  {
   "cell_type": "code",
   "execution_count": 321,
   "id": "5dede00f-410c-43fd-b4ab-5dc93c54f5d0",
   "metadata": {},
   "outputs": [],
   "source": [
    "n_connected_components, labels = connected_components(nbg)"
   ]
  },
  {
   "cell_type": "code",
   "execution_count": 322,
   "id": "ee54b3f1-3383-48c7-b105-102baa45750b",
   "metadata": {},
   "outputs": [
    {
     "data": {
      "text/plain": [
       "1"
      ]
     },
     "execution_count": 322,
     "metadata": {},
     "output_type": "execute_result"
    }
   ],
   "source": [
    "n_connected_components"
   ]
  },
  {
   "cell_type": "code",
   "execution_count": 494,
   "id": "d18b55ba-6713-47d1-b899-7d10186478d7",
   "metadata": {},
   "outputs": [],
   "source": [
    "G = shortest_path(dij_N.T, method=\"auto\", directed=False)"
   ]
  },
  {
   "cell_type": "code",
   "execution_count": 495,
   "id": "6eec9d41-28dc-44e9-ae50-6e26f44fe6da",
   "metadata": {},
   "outputs": [],
   "source": [
    "G = G**2"
   ]
  },
  {
   "cell_type": "code",
   "execution_count": 489,
   "id": "78400ca0-8eb8-46cc-877d-6b952c08cb37",
   "metadata": {},
   "outputs": [],
   "source": [
    "#G *= -0.5"
   ]
  },
  {
   "cell_type": "code",
   "execution_count": 496,
   "id": "f44e018d-c88e-408c-99d0-ad155c6c4ad5",
   "metadata": {},
   "outputs": [],
   "source": [
    "K_transformer = KernelCenterer().fit(G)\n",
    "K_transformer\n",
    "K = K_transformer.transform(G)"
   ]
  },
  {
   "cell_type": "code",
   "execution_count": 497,
   "id": "b8cd38dd-ed6f-4fb9-8e15-e848cc8cb151",
   "metadata": {},
   "outputs": [
    {
     "ename": "ValueError",
     "evalue": "There are significant negative eigenvalues (0.00181339 of the maximum positive). Either the matrix is not PSD, or there was an issue while computing the eigendecomposition of the matrix.",
     "output_type": "error",
     "traceback": [
      "\u001b[1;31m---------------------------------------------------------------------------\u001b[0m",
      "\u001b[1;31mValueError\u001b[0m                                Traceback (most recent call last)",
      "\u001b[1;32m~\\AppData\\Local\\Temp/ipykernel_7892/2188490758.py\u001b[0m in \u001b[0;36m<module>\u001b[1;34m\u001b[0m\n\u001b[1;32m----> 1\u001b[1;33m \u001b[0mX_transformed\u001b[0m \u001b[1;33m=\u001b[0m \u001b[0mKernel\u001b[0m\u001b[1;33m.\u001b[0m\u001b[0mfit_transform\u001b[0m\u001b[1;33m(\u001b[0m\u001b[0mG\u001b[0m\u001b[1;33m)\u001b[0m\u001b[1;33m\u001b[0m\u001b[1;33m\u001b[0m\u001b[0m\n\u001b[0m",
      "\u001b[1;32m~\\Anaconda3\\lib\\site-packages\\sklearn\\decomposition\\_kernel_pca.py\u001b[0m in \u001b[0;36mfit_transform\u001b[1;34m(self, X, y, **params)\u001b[0m\n\u001b[0;32m    462\u001b[0m             \u001b[0mReturns\u001b[0m \u001b[0mthe\u001b[0m \u001b[0minstance\u001b[0m \u001b[0mitself\u001b[0m\u001b[1;33m.\u001b[0m\u001b[1;33m\u001b[0m\u001b[1;33m\u001b[0m\u001b[0m\n\u001b[0;32m    463\u001b[0m         \"\"\"\n\u001b[1;32m--> 464\u001b[1;33m         \u001b[0mself\u001b[0m\u001b[1;33m.\u001b[0m\u001b[0mfit\u001b[0m\u001b[1;33m(\u001b[0m\u001b[0mX\u001b[0m\u001b[1;33m,\u001b[0m \u001b[1;33m**\u001b[0m\u001b[0mparams\u001b[0m\u001b[1;33m)\u001b[0m\u001b[1;33m\u001b[0m\u001b[1;33m\u001b[0m\u001b[0m\n\u001b[0m\u001b[0;32m    465\u001b[0m \u001b[1;33m\u001b[0m\u001b[0m\n\u001b[0;32m    466\u001b[0m         \u001b[1;31m# no need to use the kernel to transform X, use shortcut expression\u001b[0m\u001b[1;33m\u001b[0m\u001b[1;33m\u001b[0m\u001b[1;33m\u001b[0m\u001b[0m\n",
      "\u001b[1;32m~\\Anaconda3\\lib\\site-packages\\sklearn\\decomposition\\_kernel_pca.py\u001b[0m in \u001b[0;36mfit\u001b[1;34m(self, X, y)\u001b[0m\n\u001b[0;32m    430\u001b[0m         \u001b[0mself\u001b[0m\u001b[1;33m.\u001b[0m\u001b[0m_centerer\u001b[0m \u001b[1;33m=\u001b[0m \u001b[0mKernelCenterer\u001b[0m\u001b[1;33m(\u001b[0m\u001b[1;33m)\u001b[0m\u001b[1;33m\u001b[0m\u001b[1;33m\u001b[0m\u001b[0m\n\u001b[0;32m    431\u001b[0m         \u001b[0mK\u001b[0m \u001b[1;33m=\u001b[0m \u001b[0mself\u001b[0m\u001b[1;33m.\u001b[0m\u001b[0m_get_kernel\u001b[0m\u001b[1;33m(\u001b[0m\u001b[0mX\u001b[0m\u001b[1;33m)\u001b[0m\u001b[1;33m\u001b[0m\u001b[1;33m\u001b[0m\u001b[0m\n\u001b[1;32m--> 432\u001b[1;33m         \u001b[0mself\u001b[0m\u001b[1;33m.\u001b[0m\u001b[0m_fit_transform\u001b[0m\u001b[1;33m(\u001b[0m\u001b[0mK\u001b[0m\u001b[1;33m)\u001b[0m\u001b[1;33m\u001b[0m\u001b[1;33m\u001b[0m\u001b[0m\n\u001b[0m\u001b[0;32m    433\u001b[0m \u001b[1;33m\u001b[0m\u001b[0m\n\u001b[0;32m    434\u001b[0m         \u001b[1;32mif\u001b[0m \u001b[0mself\u001b[0m\u001b[1;33m.\u001b[0m\u001b[0mfit_inverse_transform\u001b[0m\u001b[1;33m:\u001b[0m\u001b[1;33m\u001b[0m\u001b[1;33m\u001b[0m\u001b[0m\n",
      "\u001b[1;32m~\\Anaconda3\\lib\\site-packages\\sklearn\\decomposition\\_kernel_pca.py\u001b[0m in \u001b[0;36m_fit_transform\u001b[1;34m(self, K)\u001b[0m\n\u001b[0;32m    359\u001b[0m         \u001b[1;31m# make sure that the eigenvalues are ok and fix numerical issues\u001b[0m\u001b[1;33m\u001b[0m\u001b[1;33m\u001b[0m\u001b[1;33m\u001b[0m\u001b[0m\n\u001b[0;32m    360\u001b[0m         self.eigenvalues_ = _check_psd_eigenvalues(\n\u001b[1;32m--> 361\u001b[1;33m             \u001b[0mself\u001b[0m\u001b[1;33m.\u001b[0m\u001b[0meigenvalues_\u001b[0m\u001b[1;33m,\u001b[0m \u001b[0menable_warnings\u001b[0m\u001b[1;33m=\u001b[0m\u001b[1;32mFalse\u001b[0m\u001b[1;33m\u001b[0m\u001b[1;33m\u001b[0m\u001b[0m\n\u001b[0m\u001b[0;32m    362\u001b[0m         )\n\u001b[0;32m    363\u001b[0m \u001b[1;33m\u001b[0m\u001b[0m\n",
      "\u001b[1;32m~\\Anaconda3\\lib\\site-packages\\sklearn\\utils\\validation.py\u001b[0m in \u001b[0;36m_check_psd_eigenvalues\u001b[1;34m(lambdas, enable_warnings)\u001b[0m\n\u001b[0;32m   1477\u001b[0m                 \u001b[1;34m\" of the maximum positive). Either the matrix is \"\u001b[0m\u001b[1;33m\u001b[0m\u001b[1;33m\u001b[0m\u001b[0m\n\u001b[0;32m   1478\u001b[0m                 \u001b[1;34m\"not PSD, or there was an issue while computing \"\u001b[0m\u001b[1;33m\u001b[0m\u001b[1;33m\u001b[0m\u001b[0m\n\u001b[1;32m-> 1479\u001b[1;33m                 \u001b[1;34m\"the eigendecomposition of the matrix.\"\u001b[0m \u001b[1;33m%\u001b[0m \u001b[1;33m(\u001b[0m\u001b[1;33m-\u001b[0m\u001b[0mmin_eig\u001b[0m \u001b[1;33m/\u001b[0m \u001b[0mmax_eig\u001b[0m\u001b[1;33m)\u001b[0m\u001b[1;33m\u001b[0m\u001b[1;33m\u001b[0m\u001b[0m\n\u001b[0m\u001b[0;32m   1480\u001b[0m             )\n\u001b[0;32m   1481\u001b[0m         \u001b[1;32melif\u001b[0m \u001b[0mmin_eig\u001b[0m \u001b[1;33m<\u001b[0m \u001b[1;36m0\u001b[0m\u001b[1;33m:\u001b[0m\u001b[1;33m\u001b[0m\u001b[1;33m\u001b[0m\u001b[0m\n",
      "\u001b[1;31mValueError\u001b[0m: There are significant negative eigenvalues (0.00181339 of the maximum positive). Either the matrix is not PSD, or there was an issue while computing the eigendecomposition of the matrix."
     ]
    }
   ],
   "source": [
    "X_transformed = Kernel.fit_transform(G)"
   ]
  },
  {
   "cell_type": "code",
   "execution_count": 498,
   "id": "fbae2f31-ccc2-4388-b6d3-8247a4bc1044",
   "metadata": {},
   "outputs": [
    {
     "data": {
      "text/plain": [
       "<Figure size 432x288 with 0 Axes>"
      ]
     },
     "metadata": {},
     "output_type": "display_data"
    },
    {
     "data": {
      "image/png": "[encoded data removed]",
      "text/plain": [
       "<Figure size 360x360 with 2 Axes>"
      ]
     },
     "metadata": {
      "needs_background": "light"
     },
     "output_type": "display_data"
    },
    {
     "data": {
      "text/plain": [
       "<Figure size 432x288 with 0 Axes>"
      ]
     },
     "metadata": {},
     "output_type": "display_data"
    },
    {
     "data": {
      "image/png": "[encoded data removed]",
      "text/plain": [
       "<Figure size 360x360 with 2 Axes>"
      ]
     },
     "metadata": {
      "needs_background": "light"
     },
     "output_type": "display_data"
    },
    {
     "data": {
      "text/plain": [
       "<Figure size 432x288 with 0 Axes>"
      ]
     },
     "metadata": {},
     "output_type": "display_data"
    },
    {
     "data": {
      "image/png": "[encoded data removed]",
      "text/plain": [
       "<Figure size 360x360 with 2 Axes>"
      ]
     },
     "metadata": {
      "needs_background": "light"
     },
     "output_type": "display_data"
    }
   ],
   "source": [
    "# Fading out for large components indicates less information\n",
    "\n",
    "for i in range(3):\n",
    "    plt.gray()\n",
    "    fig, axes = plt.subplots(nrows=1, ncols=2, figsize=(5, 5))\n",
    "\n",
    "    axes[0].matshow(np.array(X.iloc[i]).reshape(8,8))\n",
    "    axes[1].matshow(X_transformed[i].reshape(7,7))\n",
    "\n",
    "    plt.show()"
   ]
  },
  {
   "cell_type": "code",
   "execution_count": null,
   "id": "bbb4f3fd-e805-4aaa-bf8b-684adf6e0694",
   "metadata": {},
   "outputs": [],
   "source": []
  }
 ],
 "metadata": {
  "kernelspec": {
   "display_name": "Python 3 (ipykernel)",
   "language": "python",
   "name": "python3"
  },
  "language_info": {
   "codemirror_mode": {
    "name": "ipython",
    "version": 3
   },
   "file_extension": ".py",
   "mimetype": "text/x-python",
   "name": "python",
   "nbconvert_exporter": "python",
   "pygments_lexer": "ipython3",
   "version": "3.7.11"
  }
 },
 "nbformat": 4,
 "nbformat_minor": 5
}
