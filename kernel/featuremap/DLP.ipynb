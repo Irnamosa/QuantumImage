{
 "cells": [
  {
   "cell_type": "markdown",
   "id": "c03de326-c047-4497-bdec-c08d4f520d1b",
   "metadata": {},
   "source": [
    "# DLP"
   ]
  },
  {
   "cell_type": "code",
   "execution_count": 1,
   "id": "92304879-7d78-469a-9b03-d768841f602f",
   "metadata": {},
   "outputs": [],
   "source": [
    "import setup\n",
    "from circuits import * \n",
    "from sklearn.datasets import load_digits\n",
    "from sklearn.decomposition import KernelPCA"
   ]
  },
  {
   "cell_type": "code",
   "execution_count": 5,
   "id": "4822b2cf-2245-4ae5-a8ba-8b3755793510",
   "metadata": {},
   "outputs": [],
   "source": [
    "import numpy as np"
   ]
  },
  {
   "cell_type": "code",
   "execution_count": 6,
   "id": "dee1c3c1-241f-4a9c-99b5-dfeaa7c9c96e",
   "metadata": {},
   "outputs": [],
   "source": [
    "import math"
   ]
  },
  {
   "cell_type": "code",
   "execution_count": null,
   "id": "80470bc4-71af-42ca-96a6-7bf29800358b",
   "metadata": {},
   "outputs": [],
   "source": [
    "N = 1"
   ]
  },
  {
   "cell_type": "code",
   "execution_count": 159,
   "id": "e84126c3-688f-4443-914b-4d79b7d8fa6a",
   "metadata": {},
   "outputs": [],
   "source": [
    "def order(x,N):\n",
    "    assert(N>x)\n",
    "    if(math.gcd(x,N)!=1):\n",
    "        return -1\n",
    "    for i in range(1,N+1):\n",
    "        if((x**i % N) == 1):\n",
    "            return i\n",
    "    \n",
    "\n",
    "def d_log(g,y,p=p):\n",
    "    x=1\n",
    "    while ((g**x % p)!=y):\n",
    "        x+=1\n",
    "        if(x>p):\n",
    "            raise ValueError()\n",
    "        \n",
    "    return x\n",
    "\n",
    "def pol2cart(rho, phi):\n",
    "    y = rho * np.cos(phi)\n",
    "    x = rho * np.sin(phi)\n",
    "    return(x, y)\n",
    "\n",
    "def dlp(g, p, s):\n",
    "    I = [i%(p-1) if i>=p else i%p for i in list(range(s, s + int((p-3)/2)+ 1))]\n",
    "\n",
    "    #dlps = [[i, d_log(g,i,p=p)] for i in range(1,p)]\n",
    "    dlps = [[i, order(i,N=p)] for i in range(1,p)]\n",
    "    \n",
    "    #dlps = [dlp + [\"green\"] if (dlp[1] in I)  else dlp + [\"red\"] for dlp in dlps]\n",
    "    dlps = [dlp + [\"None\"] if (dlp[1] == -1) else dlp + [\"green\"] if (dlp[1] in I) else dlp + [\"red\"] for dlp in dlps]\n",
    "    [print(dlp) for dlp in dlps if dlp[2]!=\"None\"]\n",
    "\n",
    "    dlps_order, dlps_log_order, _ = list(zip(*dlps))\n",
    "\n",
    "    coords_labels = [[pol2cart(1, (dlp[0]-1)*np.pi*2/(p-1)), dlp[2]] for dlp in dlps]\n",
    "\n",
    "    coords_labels_log = [[pol2cart(1, (dlp[1]-1)*np.pi*2/(p-1)), dlp[2]] for dlp in dlps]\n",
    "\n",
    "    coords, labels = list(zip(*coords_labels))\n",
    "\n",
    "    coords_log, _ = list(zip(*coords_labels_log))\n",
    "    \n",
    "    s_i = np.array(coords[I[0]-1])\n",
    "    \n",
    "    s_f = np.array(coords[I[-1]])\n",
    "    \n",
    "    dlp_plot(coords, labels, title=r\"$\\mathbb{{Z}}^{{*}}_{{{p}}}$\".format(p=p))\n",
    "    \n",
    "    dlp_plot(coords_log, labels,  diameter=(s_i, s_f), title=r\"$\\log_{{{g}}}({{\\mathbb{{Z}}^{{*}}_{{{p}}}}})$\".format(g=g, p=p))\n",
    "    \n",
    "def dlp_plot(coords, labels, diameter=None, title=None):\n",
    "    circle1 = plt.Circle((0, 0), 1, facecolor= 'none', edgecolor='black', linewidth=3, zorder=0)\n",
    "\n",
    "    \n",
    "    fig, ax = plt.subplots(figsize=(5,5)) \n",
    "\n",
    "    if(diameter):\n",
    "        plt.plot(*list(zip(*diameter)), color='black', linewidth=3)\n",
    "    \n",
    "    plt.xlim(-1.5,1.5)\n",
    "    plt.ylim(-1.5,1.5)\n",
    "\n",
    "    ax.add_patch(circle1)\n",
    "    \n",
    "    xs, ys = list(zip(*coords))\n",
    "\n",
    "    plt.scatter(xs, ys, color=labels, linewidth=3,zorder =5)\n",
    "    [plt.annotate(str(i), xy=1.2*np.array(coords[i-1]), ha=\"center\", va=\"center\") for i in range(1,len(xs)+1)]\n",
    "    plt.axis('off')\n",
    "    \n",
    "    plt.title(title, fontsize=20, loc='left')\n",
    "    \n",
    "    #plt.savefig(\"./images/DLP/\" + ''.join(e for e in title if e.isalnum()) + \".pdf\",  bbox_inches='tight')\n",
    "    \n",
    "    plt.show()"
   ]
  },
  {
   "cell_type": "code",
   "execution_count": 177,
   "id": "d257b26a-0ffe-46fd-8242-77d5158451d1",
   "metadata": {},
   "outputs": [],
   "source": [
    "import sympy as sp"
   ]
  },
  {
   "cell_type": "code",
   "execution_count": 181,
   "id": "c6de7867-162f-4624-b34f-6c590a50de66",
   "metadata": {},
   "outputs": [
    {
     "data": {
      "text/plain": [
       "310"
      ]
     },
     "execution_count": 181,
     "metadata": {},
     "output_type": "execute_result"
    }
   ],
   "source": [
    "sp.totient(311)"
   ]
  },
  {
   "cell_type": "code",
   "execution_count": 186,
   "id": "f5e3172d-3322-4987-b831-15382e0ab25e",
   "metadata": {},
   "outputs": [],
   "source": [
    "p = N = 311"
   ]
  },
  {
   "cell_type": "code",
   "execution_count": 187,
   "id": "cca81f75-1173-404e-817d-2c4d7bbf7e99",
   "metadata": {},
   "outputs": [
    {
     "name": "stdout",
     "output_type": "stream",
     "text": [
      "[1, 1, 'red']\n",
      "[2, 155, 'green']\n",
      "[3, 155, 'green']\n",
      "[4, 155, 'green']\n",
      "[5, 155, 'green']\n",
      "[6, 5, 'red']\n",
      "[7, 31, 'green']\n",
      "[8, 155, 'green']\n",
      "[9, 155, 'green']\n",
      "[10, 155, 'green']\n",
      "[11, 62, 'green']\n",
      "[12, 155, 'green']\n",
      "[13, 31, 'green']\n",
      "[14, 155, 'green']\n",
      "[15, 31, 'green']\n",
      "[16, 155, 'green']\n",
      "[17, 310, 'red']\n",
      "[18, 31, 'green']\n",
      "[19, 310, 'red']\n",
      "[20, 31, 'green']\n",
      "[21, 155, 'green']\n",
      "[22, 310, 'red']\n",
      "[23, 310, 'red']\n",
      "[24, 31, 'green']\n",
      "[25, 155, 'green']\n",
      "[26, 155, 'green']\n",
      "[27, 155, 'green']\n",
      "[28, 155, 'green']\n",
      "[29, 310, 'red']\n",
      "[30, 155, 'green']\n",
      "[31, 310, 'red']\n",
      "[32, 31, 'green']\n",
      "[33, 310, 'red']\n",
      "[34, 310, 'red']\n",
      "[35, 155, 'green']\n",
      "[36, 5, 'red']\n",
      "[37, 310, 'red']\n",
      "[38, 310, 'red']\n",
      "[39, 155, 'green']\n",
      "[40, 155, 'green']\n",
      "[41, 62, 'green']\n",
      "[42, 155, 'green']\n",
      "[43, 310, 'red']\n",
      "[44, 310, 'red']\n",
      "[45, 155, 'green']\n",
      "[46, 62, 'green']\n",
      "[47, 31, 'green']\n",
      "[48, 155, 'green']\n",
      "[49, 31, 'green']\n",
      "[50, 155, 'green']\n",
      "[51, 62, 'green']\n",
      "[52, 5, 'red']\n",
      "[53, 155, 'green']\n",
      "[54, 155, 'green']\n",
      "[55, 310, 'red']\n",
      "[56, 155, 'green']\n",
      "[57, 310, 'red']\n",
      "[58, 310, 'red']\n",
      "[59, 310, 'red']\n",
      "[60, 155, 'green']\n",
      "[61, 62, 'green']\n",
      "[62, 310, 'red']\n",
      "[63, 155, 'green']\n",
      "[64, 155, 'green']\n",
      "[65, 155, 'green']\n",
      "[66, 310, 'red']\n",
      "[67, 155, 'green']\n",
      "[68, 62, 'green']\n",
      "[69, 310, 'red']\n",
      "[70, 155, 'green']\n",
      "[71, 310, 'red']\n",
      "[72, 155, 'green']\n",
      "[73, 155, 'green']\n",
      "[74, 310, 'red']\n",
      "[75, 155, 'green']\n",
      "[76, 310, 'red']\n",
      "[77, 62, 'green']\n",
      "[78, 155, 'green']\n",
      "[79, 155, 'green']\n",
      "[80, 155, 'green']\n",
      "[81, 155, 'green']\n",
      "[82, 310, 'red']\n",
      "[83, 31, 'green']\n",
      "[84, 155, 'green']\n",
      "[85, 310, 'red']\n",
      "[86, 62, 'green']\n",
      "[87, 62, 'green']\n",
      "[88, 310, 'red']\n",
      "[89, 31, 'green']\n",
      "[90, 155, 'green']\n",
      "[91, 31, 'green']\n",
      "[92, 310, 'red']\n",
      "[93, 310, 'red']\n",
      "[94, 155, 'green']\n",
      "[95, 10, 'red']\n",
      "[96, 155, 'green']\n",
      "[97, 310, 'red']\n",
      "[98, 155, 'green']\n",
      "[99, 310, 'red']\n",
      "[100, 155, 'green']\n",
      "[101, 310, 'red']\n",
      "[102, 310, 'red']\n",
      "[103, 310, 'red']\n",
      "[104, 155, 'green']\n",
      "[105, 31, 'green']\n",
      "[106, 155, 'green']\n",
      "[107, 155, 'green']\n",
      "[108, 155, 'green']\n",
      "[109, 155, 'green']\n",
      "[110, 310, 'red']\n",
      "[111, 310, 'red']\n",
      "[112, 155, 'green']\n",
      "[113, 31, 'green']\n",
      "[114, 310, 'red']\n",
      "[115, 310, 'red']\n",
      "[116, 62, 'green']\n",
      "[117, 155, 'green']\n",
      "[118, 310, 'red']\n",
      "[119, 310, 'red']\n",
      "[120, 155, 'green']\n",
      "[121, 31, 'green']\n",
      "[122, 310, 'red']\n",
      "[123, 310, 'red']\n",
      "[124, 310, 'red']\n",
      "[125, 155, 'green']\n",
      "[126, 31, 'green']\n",
      "[127, 155, 'green']\n",
      "[128, 155, 'green']\n",
      "[129, 310, 'red']\n",
      "[130, 155, 'green']\n",
      "[131, 310, 'red']\n",
      "[132, 310, 'red']\n",
      "[133, 310, 'red']\n",
      "[134, 155, 'green']\n",
      "[135, 155, 'green']\n",
      "[136, 310, 'red']\n",
      "[137, 155, 'green']\n",
      "[138, 310, 'red']\n",
      "[139, 155, 'green']\n",
      "[140, 31, 'green']\n",
      "[141, 155, 'green']\n",
      "[142, 62, 'green']\n",
      "[143, 62, 'green']\n",
      "[144, 155, 'green']\n",
      "[145, 310, 'red']\n",
      "[146, 31, 'green']\n",
      "[147, 155, 'green']\n",
      "[148, 310, 'red']\n",
      "[149, 310, 'red']\n",
      "[150, 155, 'green']\n",
      "[151, 310, 'red']\n",
      "[152, 310, 'red']\n",
      "[153, 310, 'red']\n",
      "[154, 310, 'red']\n",
      "[155, 310, 'red']\n",
      "[156, 155, 'green']\n",
      "[157, 155, 'green']\n",
      "[158, 155, 'green']\n",
      "[159, 155, 'green']\n",
      "[160, 155, 'green']\n",
      "[161, 310, 'red']\n",
      "[162, 155, 'green']\n",
      "[163, 155, 'green']\n",
      "[164, 310, 'red']\n",
      "[165, 62, 'green']\n",
      "[166, 155, 'green']\n",
      "[167, 310, 'red']\n",
      "[168, 31, 'green']\n",
      "[169, 31, 'green']\n",
      "[170, 310, 'red']\n",
      "[171, 62, 'green']\n",
      "[172, 310, 'red']\n",
      "[173, 155, 'green']\n",
      "[174, 310, 'red']\n",
      "[175, 155, 'green']\n",
      "[176, 310, 'red']\n",
      "[177, 310, 'red']\n",
      "[178, 155, 'green']\n",
      "[179, 155, 'green']\n",
      "[180, 155, 'green']\n",
      "[181, 310, 'red']\n",
      "[182, 155, 'green']\n",
      "[183, 310, 'red']\n",
      "[184, 310, 'red']\n",
      "[185, 62, 'green']\n",
      "[186, 310, 'red']\n",
      "[187, 155, 'green']\n",
      "[188, 155, 'green']\n",
      "[189, 155, 'green']\n",
      "[190, 62, 'green']\n",
      "[191, 310, 'red']\n",
      "[192, 155, 'green']\n",
      "[193, 155, 'green']\n",
      "[194, 310, 'red']\n",
      "[195, 31, 'green']\n",
      "[196, 155, 'green']\n",
      "[197, 155, 'green']\n",
      "[198, 62, 'green']\n",
      "[199, 310, 'red']\n",
      "[200, 155, 'green']\n",
      "[201, 155, 'green']\n",
      "[202, 310, 'red']\n",
      "[203, 310, 'red']\n",
      "[204, 310, 'red']\n",
      "[205, 310, 'red']\n",
      "[206, 62, 'green']\n",
      "[207, 310, 'red']\n",
      "[208, 155, 'green']\n",
      "[209, 155, 'green']\n",
      "[210, 155, 'green']\n",
      "[211, 310, 'red']\n",
      "[212, 155, 'green']\n",
      "[213, 310, 'red']\n",
      "[214, 155, 'green']\n",
      "[215, 310, 'red']\n",
      "[216, 5, 'red']\n",
      "[217, 310, 'red']\n",
      "[218, 155, 'green']\n",
      "[219, 155, 'green']\n",
      "[220, 62, 'green']\n",
      "[221, 310, 'red']\n",
      "[222, 62, 'green']\n",
      "[223, 155, 'green']\n",
      "[224, 31, 'green']\n",
      "[225, 31, 'green']\n",
      "[226, 155, 'green']\n",
      "[227, 310, 'red']\n",
      "[228, 62, 'green']\n",
      "[229, 155, 'green']\n",
      "[230, 310, 'red']\n",
      "[231, 310, 'red']\n",
      "[232, 310, 'red']\n",
      "[233, 310, 'red']\n",
      "[234, 31, 'green']\n",
      "[235, 155, 'green']\n",
      "[236, 310, 'red']\n",
      "[237, 155, 'green']\n",
      "[238, 310, 'red']\n",
      "[239, 310, 'red']\n",
      "[240, 155, 'green']\n",
      "[241, 310, 'red']\n",
      "[242, 155, 'green']\n",
      "[243, 31, 'green']\n",
      "[244, 310, 'red']\n",
      "[245, 155, 'green']\n",
      "[246, 310, 'red']\n",
      "[247, 310, 'red']\n",
      "[248, 310, 'red']\n",
      "[249, 155, 'green']\n",
      "[250, 31, 'green']\n",
      "[251, 310, 'red']\n",
      "[252, 155, 'green']\n",
      "[253, 155, 'green']\n",
      "[254, 155, 'green']\n",
      "[255, 310, 'red']\n",
      "[256, 155, 'green']\n",
      "[257, 310, 'red']\n",
      "[258, 310, 'red']\n",
      "[259, 10, 'red']\n",
      "[260, 31, 'green']\n",
      "[261, 310, 'red']\n",
      "[262, 62, 'green']\n",
      "[263, 310, 'red']\n",
      "[264, 62, 'green']\n",
      "[265, 31, 'green']\n",
      "[266, 310, 'red']\n",
      "[267, 155, 'green']\n",
      "[268, 155, 'green']\n",
      "[269, 310, 'red']\n",
      "[270, 31, 'green']\n",
      "[271, 310, 'red']\n",
      "[272, 310, 'red']\n",
      "[273, 155, 'green']\n",
      "[274, 155, 'green']\n",
      "[275, 10, 'red']\n",
      "[276, 310, 'red']\n",
      "[277, 155, 'green']\n",
      "[278, 155, 'green']\n",
      "[279, 62, 'green']\n",
      "[280, 155, 'green']\n",
      "[281, 310, 'red']\n",
      "[282, 155, 'green']\n",
      "[283, 310, 'red']\n",
      "[284, 310, 'red']\n",
      "[285, 310, 'red']\n",
      "[286, 310, 'red']\n",
      "[287, 62, 'green']\n",
      "[288, 155, 'green']\n",
      "[289, 155, 'green']\n",
      "[290, 310, 'red']\n",
      "[291, 62, 'green']\n",
      "[292, 155, 'green']\n",
      "[293, 62, 'green']\n",
      "[294, 155, 'green']\n",
      "[295, 310, 'red']\n",
      "[296, 62, 'green']\n",
      "[297, 310, 'red']\n",
      "[298, 62, 'green']\n",
      "[299, 310, 'red']\n",
      "[300, 31, 'green']\n",
      "[301, 310, 'red']\n",
      "[302, 310, 'red']\n",
      "[303, 310, 'red']\n",
      "[304, 62, 'green']\n",
      "[305, 10, 'red']\n",
      "[306, 310, 'red']\n",
      "[307, 310, 'red']\n",
      "[308, 310, 'red']\n",
      "[309, 310, 'red']\n",
      "[310, 2, 'red']\n"
     ]
    },
    {
     "data": {
      "image/png": "[encoded data removed]",
      "text/plain": [
       "<Figure size 360x360 with 1 Axes>"
      ]
     },
     "metadata": {
      "needs_background": "light"
     },
     "output_type": "display_data"
    },
    {
     "data": {
      "image/png": "[encoded data removed]",
      "text/plain": [
       "<Figure size 360x360 with 1 Axes>"
      ]
     },
     "metadata": {
      "needs_background": "light"
     },
     "output_type": "display_data"
    }
   ],
   "source": [
    "dlp(9,N,11)"
   ]
  },
  {
   "cell_type": "code",
   "execution_count": null,
   "id": "efe8cb2e-7f78-4742-85cb-4a065cc4d923",
   "metadata": {},
   "outputs": [],
   "source": []
  },
  {
   "cell_type": "code",
   "execution_count": 10,
   "id": "473b0082-9754-4537-85b7-818082b8c4a8",
   "metadata": {},
   "outputs": [],
   "source": [
    "p = 29\n",
    "g = 11\n",
    "s = 11"
   ]
  },
  {
   "cell_type": "code",
   "execution_count": 11,
   "id": "0870785f-cb7c-42ab-8c39-145f761c3508",
   "metadata": {},
   "outputs": [
    {
     "data": {
      "image/png": "[encoded data removed]",
      "text/plain": [
       "<Figure size 360x360 with 1 Axes>"
      ]
     },
     "metadata": {
      "needs_background": "light"
     },
     "output_type": "display_data"
    },
    {
     "data": {
      "image/png": "[encoded data removed]",
      "text/plain": [
       "<Figure size 360x360 with 1 Axes>"
      ]
     },
     "metadata": {
      "needs_background": "light"
     },
     "output_type": "display_data"
    }
   ],
   "source": [
    "dlp(g,p,s)"
   ]
  },
  {
   "cell_type": "markdown",
   "id": "fb59f5a9-a1c0-408f-920b-44b714b34028",
   "metadata": {},
   "source": [
    "# Quadratic Residues"
   ]
  },
  {
   "cell_type": "code",
   "execution_count": 2,
   "id": "371a73e0-72ac-44a8-a936-7b37a3afc559",
   "metadata": {},
   "outputs": [
    {
     "data": {
      "text/plain": [
       "1"
      ]
     },
     "execution_count": 2,
     "metadata": {},
     "output_type": "execute_result"
    }
   ],
   "source": [
    "1**2"
   ]
  },
  {
   "cell_type": "code",
   "execution_count": 3,
   "id": "bd5ae3a4-5043-48ef-a4dc-e92074604670",
   "metadata": {},
   "outputs": [
    {
     "data": {
      "text/plain": [
       "1"
      ]
     },
     "execution_count": 3,
     "metadata": {},
     "output_type": "execute_result"
    }
   ],
   "source": [
    "np.gcd(1,2)"
   ]
  },
  {
   "cell_type": "code",
   "execution_count": 24,
   "id": "769bbf42-9864-431a-9ab6-859e1124580d",
   "metadata": {},
   "outputs": [],
   "source": [
    "def residues(n):\n",
    "    res = np.zeros(n)\n",
    "    for i in range(n):\n",
    "        if(np.gcd(i,n) == 1):\n",
    "            res[i**2 % n] += 1\n",
    "    return res"
   ]
  },
  {
   "cell_type": "code",
   "execution_count": 27,
   "id": "740bdfcf-a60e-4562-b2f8-189494786b52",
   "metadata": {},
   "outputs": [
    {
     "data": {
      "text/plain": [
       "array([0., 2., 2., 0., 2., 0., 0.])"
      ]
     },
     "execution_count": 27,
     "metadata": {},
     "output_type": "execute_result"
    }
   ],
   "source": [
    "residues(7)"
   ]
  },
  {
   "cell_type": "code",
   "execution_count": 38,
   "id": "bb9dc67a-272a-4454-955d-ee59f8840932",
   "metadata": {},
   "outputs": [
    {
     "data": {
      "text/plain": [
       "array([0., 2., 0., 0., 0., 0., 0., 0., 0., 2.])"
      ]
     },
     "execution_count": 38,
     "metadata": {},
     "output_type": "execute_result"
    }
   ],
   "source": [
    "residues(10)"
   ]
  },
  {
   "cell_type": "code",
   "execution_count": 37,
   "id": "9d7d6c54-8a4e-426d-bf0c-736b0da3c3c1",
   "metadata": {},
   "outputs": [
    {
     "data": {
      "text/plain": [
       "array([0., 4., 0., 0., 4., 0., 0., 0., 0., 0., 0., 0., 0., 0., 0.])"
      ]
     },
     "execution_count": 37,
     "metadata": {},
     "output_type": "execute_result"
    }
   ],
   "source": [
    "residues(15)"
   ]
  },
  {
   "cell_type": "code",
   "execution_count": 48,
   "id": "8d864728-129e-4ba5-bc61-a5b56f0418d3",
   "metadata": {},
   "outputs": [
    {
     "data": {
      "text/plain": [
       "array([0., 4., 0., 0., 0., 0., 0., 0.])"
      ]
     },
     "execution_count": 48,
     "metadata": {},
     "output_type": "execute_result"
    }
   ],
   "source": [
    "residues(8)"
   ]
  },
  {
   "cell_type": "markdown",
   "id": "8c982c3b-7775-41f7-aa7b-4dda6d2bc819",
   "metadata": {
    "jupyter": {
     "outputs_hidden": true
    },
    "tags": []
   },
   "source": [
    "# for i in residues(3*5*7*11*13*17):\n",
    "    print(i)"
   ]
  },
  {
   "cell_type": "code",
   "execution_count": null,
   "id": "f7ba8659-e7a2-4f1b-8a2a-865b9cdb10b0",
   "metadata": {},
   "outputs": [],
   "source": []
  }
 ],
 "metadata": {
  "kernelspec": {
   "display_name": "Python 3 (ipykernel)",
   "language": "python",
   "name": "python3"
  },
  "language_info": {
   "codemirror_mode": {
    "name": "ipython",
    "version": 3
   },
   "file_extension": ".py",
   "mimetype": "text/x-python",
   "name": "python",
   "nbconvert_exporter": "python",
   "pygments_lexer": "ipython3",
   "version": "3.7.11"
  }
 },
 "nbformat": 4,
 "nbformat_minor": 5
}
