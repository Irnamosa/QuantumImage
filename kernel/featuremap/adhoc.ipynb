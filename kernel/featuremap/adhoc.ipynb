{
 "cells": [
  {
   "cell_type": "markdown",
   "id": "a3d9545d-821e-4735-a950-ef6e331ee6d3",
   "metadata": {},
   "source": [
    "# Adhoc feature map"
   ]
  },
  {
   "cell_type": "code",
   "execution_count": 1,
   "id": "dc4c0ab5-10df-490e-a494-66ad39ea39ed",
   "metadata": {},
   "outputs": [],
   "source": [
    "import setup\n",
    "from circuits import * \n",
    "\n",
    "from PIL import Image\n",
    "from functools import reduce\n",
    "import tensorflow as tf\n",
    "import cv2"
   ]
  },
  {
   "cell_type": "code",
   "execution_count": 2,
   "id": "5d03021e-66ee-4095-998a-9843a8c7d996",
   "metadata": {},
   "outputs": [],
   "source": [
    "def subsets(n):\n",
    "    '''\n",
    "    Subsets S of [n] where |S|<=2\n",
    "    '''\n",
    "    return [(i,j) for i in range(0,n) for j in range(0,n) if i != j and i<j] + [(i,) for i in range(0,n)]\n",
    "\n",
    "def pauliprod(s,x):\n",
    "    ''' \n",
    "    Pauli product of len(x) strings with Z specified by s and I elsewhere\n",
    "    '''\n",
    "    xs = [Z if i in s else I for i in range(len(x))]\n",
    "    return reduce(lambda a,b: a^b, xs, 1)\n",
    "\n",
    "def phi(s, x):\n",
    "    '''\n",
    "    Feature embedding for nqubits = 2\n",
    "    '''\n",
    "    if len(s)==2:\n",
    "        return (np.pi - x[s[0]])*(np.pi - x[s[1]])\n",
    "    else:\n",
    "        return x[s[0]]\n",
    "\n",
    "    \n",
    "def U(x):\n",
    "    '''\n",
    "    Unitary of PauliSum operator\n",
    "    '''\n",
    "    \n",
    "    H = 0 \n",
    "    for s in subsets(len(x)):\n",
    "        H = H + (phi(s,x) * pauliprod(s,x))\n",
    "        \n",
    "    return (-1*H).exp_i()\n",
    "\n",
    "def fancyU(x):\n",
    "    '''\n",
    "    Feature map\n",
    "    '''\n",
    "    u = U(x)\n",
    "    return u @ (H^H) @ u @ (H^H) \n",
    "\n",
    "def innerProduct(x1,x2):\n",
    "    '''\n",
    "    Transition probability of |phi(x1)> to |phi(x2)>\n",
    "    '''\n",
    "    Phi1 = fancyU(x1) @ Zero\n",
    "    Phi2 = fancyU(x2) @ Zero\n",
    "\n",
    "    return np.abs((~Phi2 @ Phi1).eval())**2"
   ]
  },
  {
   "cell_type": "code",
   "execution_count": 3,
   "id": "f72be0f9-47d8-4fb7-a11a-4381195d9af2",
   "metadata": {},
   "outputs": [],
   "source": [
    "from tensorflow.keras.datasets import mnist\n",
    "# load dataset\n",
    "(X_train, y_train), (X_test, y_test) = mnist.load_data()"
   ]
  },
  {
   "cell_type": "code",
   "execution_count": 4,
   "id": "1b0a28af-0039-4ef7-a8a8-8f2769233a5a",
   "metadata": {},
   "outputs": [],
   "source": [
    "X_train, X_test= 2*np.pi*X_train/255.0 , 2*np.pi*X_test/255.0"
   ]
  },
  {
   "cell_type": "code",
   "execution_count": 5,
   "id": "f3bc305d-e937-417c-a737-9bf7efe97f78",
   "metadata": {},
   "outputs": [],
   "source": [
    "train_mask = np.isin(y_train, [0])\n",
    "test_mask = np.isin(y_test, [0])"
   ]
  },
  {
   "cell_type": "code",
   "execution_count": 6,
   "id": "7c10f1ec-7dc9-4cf6-bf78-6a87fab4e52f",
   "metadata": {},
   "outputs": [],
   "source": [
    "X_train_0, y_train_0 = X_train[train_mask], y_train[train_mask]\n",
    "X_test_0, y_test_0 = X_test[test_mask], y_test[test_mask]"
   ]
  },
  {
   "cell_type": "code",
   "execution_count": 7,
   "id": "559f9406-e64f-45b1-b36d-dd6ce5598793",
   "metadata": {},
   "outputs": [],
   "source": [
    "train_mask = np.isin(y_train, [5])\n",
    "test_mask = np.isin(y_test, [5])"
   ]
  },
  {
   "cell_type": "code",
   "execution_count": 8,
   "id": "eb28d581-5cdc-497d-8d1e-0803669a148f",
   "metadata": {},
   "outputs": [],
   "source": [
    "X_train_5, y_train_5 = X_train[train_mask], y_train[train_mask]\n",
    "X_test_5, y_test_5 = X_test[test_mask], y_test[test_mask]"
   ]
  },
  {
   "cell_type": "code",
   "execution_count": 9,
   "id": "41b8cc4e-6861-465b-bd5e-f81a6eba027b",
   "metadata": {},
   "outputs": [],
   "source": [
    "compressed = [cv2.resize(x,(2,2)) for x in (list(X_train_0[:10])+list(X_train_5[:10]))]"
   ]
  },
  {
   "cell_type": "code",
   "execution_count": 10,
   "id": "89b25b0e-868f-4032-95e3-52024684e9f5",
   "metadata": {},
   "outputs": [
    {
     "data": {
      "image/png": "[encoded data removed]",
      "text/plain": [
       "<PIL.Image.Image image mode=L size=100x100 at 0x2677E90F108>"
      ]
     },
     "metadata": {},
     "output_type": "display_data"
    }
   ],
   "source": [
    "img = Image.fromarray(np.uint8(compressed[17]*(255/(2*np.pi))) , 'L')\n",
    "display(img.resize((100, 100),  Image.NEAREST))"
   ]
  },
  {
   "cell_type": "code",
   "execution_count": 11,
   "id": "19db6b09-4d05-4658-a201-6f37f01931af",
   "metadata": {},
   "outputs": [],
   "source": [
    "X_linearised = np.asarray(compressed).reshape(20,len(compressed[0])**2,)"
   ]
  },
  {
   "cell_type": "code",
   "execution_count": 13,
   "id": "548d3a20-f928-47f7-baa2-f40f1a81e29b",
   "metadata": {},
   "outputs": [],
   "source": [
    "from sklearn.metrics import pairwise_distances"
   ]
  },
  {
   "cell_type": "code",
   "execution_count": 15,
   "id": "a9111321-9d8c-452a-8b72-33a945f39a1b",
   "metadata": {},
   "outputs": [
    {
     "name": "stdout",
     "output_type": "stream",
     "text": [
      "6.874859571456909\n"
     ]
    }
   ],
   "source": [
    "import time\n",
    "start = time.time()\n",
    "K = pairwise_distances(X_linearised, metric=innerProduct, n)\n",
    "end = time.time()\n",
    "print(end - start)"
   ]
  },
  {
   "cell_type": "code",
   "execution_count": 111,
   "id": "8652737b-8cad-45db-b092-b57624c9945b",
   "metadata": {},
   "outputs": [
    {
     "name": "stdout",
     "output_type": "stream",
     "text": [
      "0.11136674880981445\n"
     ]
    }
   ],
   "source": [
    "import time\n",
    "start = time.time()\n",
    "K = pairwise_distances(X_linearised, n_jobs = 11)\n",
    "end = time.time()\n",
    "print(end - start)"
   ]
  },
  {
   "cell_type": "code",
   "execution_count": 76,
   "id": "70b7c0f2-8a1a-45a4-9b39-2b7745f31365",
   "metadata": {},
   "outputs": [
    {
     "data": {
      "text/plain": [
       "<AxesSubplot:>"
      ]
     },
     "execution_count": 76,
     "metadata": {},
     "output_type": "execute_result"
    },
    {
     "data": {
      "image/png": "[encoded data removed]",
      "text/plain": [
       "<Figure size 432x288 with 2 Axes>"
      ]
     },
     "metadata": {
      "needs_background": "light"
     },
     "output_type": "display_data"
    }
   ],
   "source": [
    "sb.heatmap(K)"
   ]
  },
  {
   "cell_type": "code",
   "execution_count": null,
   "id": "c9fa3655-1246-443a-bd71-1410659b2a1c",
   "metadata": {},
   "outputs": [],
   "source": [
    "from multiprocessing import Pool\n",
    "def f(x):\n",
    "    return x*x\n",
    "if __name__ == '__main__':\n",
    "    with Pool(5) as p:\n",
    "        print(p.map(f, [1, 2, 3]))"
   ]
  },
  {
   "cell_type": "code",
   "execution_count": 1,
   "id": "c7c0c94c-df51-45dc-ac2e-8537757de190",
   "metadata": {},
   "outputs": [],
   "source": [
    "import os"
   ]
  },
  {
   "cell_type": "code",
   "execution_count": 2,
   "id": "1cc66c77-5545-4001-a556-5413f4bfe799",
   "metadata": {},
   "outputs": [
    {
     "data": {
      "text/plain": [
       "8"
      ]
     },
     "execution_count": 2,
     "metadata": {},
     "output_type": "execute_result"
    }
   ],
   "source": [
    "os.cpu_count()"
   ]
  },
  {
   "cell_type": "code",
   "execution_count": 16,
   "id": "4c3af598-a49f-4ae0-a4e2-65e04107949a",
   "metadata": {},
   "outputs": [
    {
     "data": {
      "text/plain": [
       "''"
      ]
     },
     "execution_count": 16,
     "metadata": {},
     "output_type": "execute_result"
    }
   ],
   "source": [
    "import sys\n",
    "sys.stdin.readline(10)"
   ]
  },
  {
   "cell_type": "code",
   "execution_count": 20,
   "id": "7201323d-4fe1-4a1c-ba35-168f8fdc93f3",
   "metadata": {},
   "outputs": [
    {
     "data": {
      "text/plain": [
       "array([0.26262769, 0.06973076, 0.43844939, 0.20970556, 0.15488061,\n",
       "       0.51400053, 0.5000772 , 0.17167501, 0.607537  , 0.92622111])"
      ]
     },
     "execution_count": 20,
     "metadata": {},
     "output_type": "execute_result"
    }
   ],
   "source": [
    "import numpy as np\n",
    "np.random.rand(100)"
   ]
  },
  {
   "cell_type": "code",
   "execution_count": 22,
   "id": "003d1ede-14bd-4f90-94f0-08326fd2e936",
   "metadata": {},
   "outputs": [
    {
     "data": {
      "text/plain": [
       "[1, 1, 1, 1, 1, 1, 1, 1, 1, 1]"
      ]
     },
     "execution_count": 22,
     "metadata": {},
     "output_type": "execute_result"
    }
   ],
   "source": [
    "[1]*10"
   ]
  },
  {
   "cell_type": "code",
   "execution_count": null,
   "id": "90e06ecf-0ccb-4fdd-a53c-503bab6c09d8",
   "metadata": {},
   "outputs": [],
   "source": []
  }
 ],
 "metadata": {
  "kernelspec": {
   "display_name": "Python 3 (ipykernel)",
   "language": "python",
   "name": "python3"
  },
  "language_info": {
   "codemirror_mode": {
    "name": "ipython",
    "version": 3
   },
   "file_extension": ".py",
   "mimetype": "text/x-python",
   "name": "python",
   "nbconvert_exporter": "python",
   "pygments_lexer": "ipython3",
   "version": "3.7.11"
  }
 },
 "nbformat": 4,
 "nbformat_minor": 5
}
