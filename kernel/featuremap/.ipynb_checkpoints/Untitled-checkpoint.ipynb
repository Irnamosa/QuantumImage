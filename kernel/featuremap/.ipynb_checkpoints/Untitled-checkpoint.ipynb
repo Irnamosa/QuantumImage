{
 "cells": [
  {
   "cell_type": "code",
   "execution_count": 1,
   "id": "1c27cf33",
   "metadata": {},
   "outputs": [],
   "source": [
    "import einsteinpy"
   ]
  },
  {
   "cell_type": "code",
   "execution_count": 3,
   "id": "3297dbb3",
   "metadata": {},
   "outputs": [],
   "source": [
    "import sympy as sp\n",
    "from einsteinpy.symbolic import MetricTensor, ChristoffelSymbols, RiemannCurvatureTensor\n",
    "\n",
    "sympy.init_printing()"
   ]
  },
  {
   "cell_type": "code",
   "execution_count": 103,
   "id": "5eacdc9e",
   "metadata": {},
   "outputs": [
    {
     "data": {
      "image/png": "[encoded data removed]",
      "text/latex": [
       "$\\displaystyle \\left[\\begin{matrix}1 & 0 & 0\\\\0 & \\frac{a^{2}{\\left(t \\right)}}{- \\kappa r^{2} + 1} & 0\\\\0 & 0 & r^{2} a^{2}{\\left(t \\right)}\\end{matrix}\\right]$"
      ],
      "text/plain": [
       "⎡1      0          0    ⎤\n",
       "⎢                       ⎥\n",
       "⎢      2                ⎥\n",
       "⎢     a (t)             ⎥\n",
       "⎢0  ──────────     0    ⎥\n",
       "⎢        2              ⎥\n",
       "⎢   - κ⋅r  + 1          ⎥\n",
       "⎢                       ⎥\n",
       "⎢                2  2   ⎥\n",
       "⎣0      0       r ⋅a (t)⎦"
      ]
     },
     "execution_count": 103,
     "metadata": {},
     "output_type": "execute_result"
    }
   ],
   "source": [
    "syms = sp.symbols('t r phi kappa')\n",
    "t, r, phi, k = syms\n",
    "a = sp.Function('a')(t)\n",
    "# define the metric for 3d spherical coordinates\n",
    "metric = [[0 for i in range(3)] for i in range(3)]\n",
    "metric[0][0] = 1\n",
    "metric[1][1] = a**2/(1-k*r**2)\n",
    "metric[2][2] = (a**2)*(r**2)\n",
    "# creating metric object\n",
    "m_obj = MetricTensor(metric, syms[:3])\n",
    "m_obj.tensor()"
   ]
  },
  {
   "cell_type": "code",
   "execution_count": 104,
   "id": "7c453804",
   "metadata": {},
   "outputs": [
    {
     "data": {
      "image/png": "[encoded data removed]",
      "text/latex": [
       "$\\displaystyle \\left[\\begin{matrix}\\left[\\begin{matrix}0 & 0 & 0\\\\0 & - \\frac{a{\\left(t \\right)} \\frac{d}{d t} a{\\left(t \\right)}}{- \\kappa r^{2} + 1} & 0\\\\0 & 0 & - r^{2} a{\\left(t \\right)} \\frac{d}{d t} a{\\left(t \\right)}\\end{matrix}\\right] & \\left[\\begin{matrix}0 & \\frac{\\frac{d}{d t} a{\\left(t \\right)}}{a{\\left(t \\right)}} & 0\\\\\\frac{\\frac{d}{d t} a{\\left(t \\right)}}{a{\\left(t \\right)}} & \\frac{\\kappa r}{- \\kappa r^{2} + 1} & 0\\\\0 & 0 & - r \\left(- \\kappa r^{2} + 1\\right)\\end{matrix}\\right] & \\left[\\begin{matrix}0 & 0 & \\frac{\\frac{d}{d t} a{\\left(t \\right)}}{a{\\left(t \\right)}}\\\\0 & 0 & \\frac{1}{r}\\\\\\frac{\\frac{d}{d t} a{\\left(t \\right)}}{a{\\left(t \\right)}} & \\frac{1}{r} & 0\\end{matrix}\\right]\\end{matrix}\\right]$"
      ],
      "text/plain": [
       "⎡                                         ⎡           d                       \n",
       "⎢⎡0         0                 0        ⎤  ⎢           ──(a(t))                \n",
       "⎢⎢                                     ⎥  ⎢           dt                      \n",
       "⎢⎢         d                           ⎥  ⎢   0       ────────          0     \n",
       "⎢⎢   -a(t)⋅──(a(t))                    ⎥  ⎢             a(t)                  \n",
       "⎢⎢         dt                          ⎥  ⎢                                   \n",
       "⎢⎢0  ───────────────          0        ⎥  ⎢d                                  \n",
       "⎢⎢           2                         ⎥  ⎢──(a(t))                           \n",
       "⎢⎢      - κ⋅r  + 1                     ⎥  ⎢dt           κ⋅r                   \n",
       "⎢⎢                                     ⎥  ⎢────────  ──────────         0     \n",
       "⎢⎢                      2      d       ⎥  ⎢  a(t)         2                   \n",
       "⎢⎢0         0         -r ⋅a(t)⋅──(a(t))⎥  ⎢          - κ⋅r  + 1               \n",
       "⎢⎣                             dt      ⎦  ⎢                                   \n",
       "⎢                                         ⎢                         ⎛     2   \n",
       "⎣                                         ⎣   0          0       -r⋅⎝- κ⋅r  + \n",
       "\n",
       "  ⎤  ⎡             d       ⎤⎤\n",
       "  ⎥  ⎢             ──(a(t))⎥⎥\n",
       "  ⎥  ⎢             dt      ⎥⎥\n",
       "  ⎥  ⎢   0      0  ────────⎥⎥\n",
       "  ⎥  ⎢               a(t)  ⎥⎥\n",
       "  ⎥  ⎢                     ⎥⎥\n",
       "  ⎥  ⎢                1    ⎥⎥\n",
       "  ⎥  ⎢   0      0     ─    ⎥⎥\n",
       "  ⎥  ⎢                r    ⎥⎥\n",
       "  ⎥  ⎢                     ⎥⎥\n",
       "  ⎥  ⎢d                    ⎥⎥\n",
       "  ⎥  ⎢──(a(t))             ⎥⎥\n",
       "  ⎥  ⎢dt        1          ⎥⎥\n",
       " ⎞⎥  ⎢────────  ─     0    ⎥⎥\n",
       "1⎠⎦  ⎣  a(t)    r          ⎦⎦"
      ]
     },
     "execution_count": 104,
     "metadata": {},
     "output_type": "execute_result"
    }
   ],
   "source": [
    "ch = ChristoffelSymbols.from_metric(m_obj)\n",
    "ch.tensor()"
   ]
  },
  {
   "cell_type": "code",
   "execution_count": 105,
   "id": "12ca6cc5",
   "metadata": {},
   "outputs": [
    {
     "data": {
      "image/png": "[encoded data removed]",
      "text/latex": [
       "$\\displaystyle \\frac{\\frac{d}{d t} a{\\left(t \\right)}}{a{\\left(t \\right)}}$"
      ],
      "text/plain": [
       "d       \n",
       "──(a(t))\n",
       "dt      \n",
       "────────\n",
       "  a(t)  "
      ]
     },
     "execution_count": 105,
     "metadata": {},
     "output_type": "execute_result"
    }
   ],
   "source": [
    "sp.simplify(ch.tensor()[1,1,0])"
   ]
  },
  {
   "cell_type": "code",
   "execution_count": 107,
   "id": "298fb27e",
   "metadata": {},
   "outputs": [
    {
     "data": {
      "image/png": "[encoded data removed]",
      "text/latex": [
       "$\\displaystyle \\frac{\\frac{d}{d t} a{\\left(t \\right)}}{a{\\left(t \\right)}}$"
      ],
      "text/plain": [
       "d       \n",
       "──(a(t))\n",
       "dt      \n",
       "────────\n",
       "  a(t)  "
      ]
     },
     "execution_count": 107,
     "metadata": {},
     "output_type": "execute_result"
    }
   ],
   "source": [
    "sp.simplify(ch.tensor()[1,1,0])"
   ]
  },
  {
   "cell_type": "code",
   "execution_count": 108,
   "id": "3fd8634f",
   "metadata": {},
   "outputs": [
    {
     "data": {
      "image/png": "[encoded data removed]",
      "text/latex": [
       "$\\displaystyle \\frac{\\frac{d}{d t} a{\\left(t \\right)}}{a{\\left(t \\right)}}$"
      ],
      "text/plain": [
       "d       \n",
       "──(a(t))\n",
       "dt      \n",
       "────────\n",
       "  a(t)  "
      ]
     },
     "execution_count": 108,
     "metadata": {},
     "output_type": "execute_result"
    }
   ],
   "source": [
    "sp.simplify(ch.tensor()[2,2,0])"
   ]
  },
  {
   "cell_type": "code",
   "execution_count": 110,
   "id": "16aa80b6",
   "metadata": {
    "scrolled": true
   },
   "outputs": [
    {
     "data": {
      "image/png": "[encoded data removed]",
      "text/latex": [
       "$\\displaystyle \\left[\\begin{matrix}- \\frac{2 \\frac{d^{2}}{d t^{2}} a{\\left(t \\right)}}{a{\\left(t \\right)}} & 0 & 0\\\\0 & \\frac{- \\kappa + a{\\left(t \\right)} \\frac{d^{2}}{d t^{2}} a{\\left(t \\right)} + \\left(\\frac{d}{d t} a{\\left(t \\right)}\\right)^{2}}{\\kappa r^{2} - 1} & 0\\\\0 & 0 & r^{2} \\left(\\kappa - a{\\left(t \\right)} \\frac{d^{2}}{d t^{2}} a{\\left(t \\right)} - \\left(\\frac{d}{d t} a{\\left(t \\right)}\\right)^{2}\\right)\\end{matrix}\\right]$"
      ],
      "text/plain": [
       "⎡     2                                                                       \n",
       "⎢    d                                                                        \n",
       "⎢-2⋅───(a(t))                                                                 \n",
       "⎢     2                                                                       \n",
       "⎢   dt                                                                        \n",
       "⎢─────────────                  0                                    0        \n",
       "⎢     a(t)                                                                    \n",
       "⎢                                                                             \n",
       "⎢                           2                   2                             \n",
       "⎢                          d          ⎛d       ⎞                              \n",
       "⎢               -κ + a(t)⋅───(a(t)) + ⎜──(a(t))⎟                              \n",
       "⎢                           2         ⎝dt      ⎠                              \n",
       "⎢                         dt                                                  \n",
       "⎢      0        ─────────────────────────────────                    0        \n",
       "⎢                               2                                             \n",
       "⎢                            κ⋅r  - 1                                         \n",
       "⎢                                                                             \n",
       "⎢                                                     ⎛           2           \n",
       "⎢                                                   2 ⎜          d          ⎛d\n",
       "⎢      0                        0                  r ⋅⎜κ - a(t)⋅───(a(t)) - ⎜─\n",
       "⎢                                                     ⎜           2         ⎝d\n",
       "⎣                                                     ⎝         dt            \n",
       "\n",
       "          ⎤\n",
       "          ⎥\n",
       "          ⎥\n",
       "          ⎥\n",
       "          ⎥\n",
       "          ⎥\n",
       "          ⎥\n",
       "          ⎥\n",
       "          ⎥\n",
       "          ⎥\n",
       "          ⎥\n",
       "          ⎥\n",
       "          ⎥\n",
       "          ⎥\n",
       "          ⎥\n",
       "          ⎥\n",
       "          ⎥\n",
       "        2⎞⎥\n",
       "       ⎞ ⎟⎥\n",
       "─(a(t))⎟ ⎟⎥\n",
       "t      ⎠ ⎟⎥\n",
       "         ⎠⎦"
      ]
     },
     "execution_count": 110,
     "metadata": {},
     "output_type": "execute_result"
    }
   ],
   "source": [
    "Ric = RicciTensor.from_metric(m_obj)\n",
    "Ric.tensor()"
   ]
  },
  {
   "cell_type": "code",
   "execution_count": 113,
   "id": "44f68daf",
   "metadata": {
    "scrolled": true
   },
   "outputs": [
    {
     "data": {
      "image/png": "[encoded data removed]",
      "text/latex": [
       "$\\displaystyle \\frac{- \\kappa + a{\\left(t \\right)} \\frac{d^{2}}{d t^{2}} a{\\left(t \\right)} + \\left(\\frac{d}{d t} a{\\left(t \\right)}\\right)^{2}}{\\kappa r^{2} - 1}$"
      ],
      "text/plain": [
       "            2                   2\n",
       "           d          ⎛d       ⎞ \n",
       "-κ + a(t)⋅───(a(t)) + ⎜──(a(t))⎟ \n",
       "            2         ⎝dt      ⎠ \n",
       "          dt                     \n",
       "─────────────────────────────────\n",
       "                2                \n",
       "             κ⋅r  - 1            "
      ]
     },
     "execution_count": 113,
     "metadata": {},
     "output_type": "execute_result"
    }
   ],
   "source": [
    "Ric.tensor()[1,1]"
   ]
  },
  {
   "cell_type": "code",
   "execution_count": 112,
   "id": "dfc0f413",
   "metadata": {
    "scrolled": true
   },
   "outputs": [
    {
     "data": {
      "image/png": "[encoded data removed]",
      "text/latex": [
       "$\\displaystyle - \\frac{2 \\frac{d^{2}}{d t^{2}} a{\\left(t \\right)}}{a{\\left(t \\right)}}$"
      ],
      "text/plain": [
       "     2       \n",
       "    d        \n",
       "-2⋅───(a(t)) \n",
       "     2       \n",
       "   dt        \n",
       "─────────────\n",
       "     a(t)    "
      ]
     },
     "execution_count": 112,
     "metadata": {},
     "output_type": "execute_result"
    }
   ],
   "source": [
    "Ric.tensor()[0,0]"
   ]
  },
  {
   "cell_type": "code",
   "execution_count": 111,
   "id": "8de76435",
   "metadata": {},
   "outputs": [
    {
     "data": {
      "image/png": "[encoded data removed]",
      "text/latex": [
       "$\\displaystyle \\frac{2 \\left(\\kappa - 2 a{\\left(t \\right)} \\frac{d^{2}}{d t^{2}} a{\\left(t \\right)} - \\left(\\frac{d}{d t} a{\\left(t \\right)}\\right)^{2}\\right)}{a^{2}{\\left(t \\right)}}$"
      ],
      "text/plain": [
       "  ⎛             2                   2⎞\n",
       "  ⎜            d          ⎛d       ⎞ ⎟\n",
       "2⋅⎜κ - 2⋅a(t)⋅───(a(t)) - ⎜──(a(t))⎟ ⎟\n",
       "  ⎜             2         ⎝dt      ⎠ ⎟\n",
       "  ⎝           dt                     ⎠\n",
       "──────────────────────────────────────\n",
       "                 2                    \n",
       "                a (t)                 "
      ]
     },
     "execution_count": 111,
     "metadata": {},
     "output_type": "execute_result"
    }
   ],
   "source": [
    "R = RicciScalar.from_riccitensor(Ric)\n",
    "R.simplify()\n",
    "R.expr"
   ]
  },
  {
   "cell_type": "code",
   "execution_count": null,
   "id": "37c1ad28",
   "metadata": {},
   "outputs": [],
   "source": []
  }
 ],
 "metadata": {
  "kernelspec": {
   "display_name": "Python 3 (ipykernel)",
   "language": "python",
   "name": "python3"
  },
  "language_info": {
   "codemirror_mode": {
    "name": "ipython",
    "version": 3
   },
   "file_extension": ".py",
   "mimetype": "text/x-python",
   "name": "python",
   "nbconvert_exporter": "python",
   "pygments_lexer": "ipython3",
   "version": "3.7.11"
  }
 },
 "nbformat": 4,
 "nbformat_minor": 5
}
