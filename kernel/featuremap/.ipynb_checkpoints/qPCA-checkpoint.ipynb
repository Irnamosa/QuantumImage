{
 "cells": [
  {
   "cell_type": "markdown",
   "id": "1206ec48-7f1b-4242-be3f-1a7750d92a09",
   "metadata": {},
   "source": [
    "# qPCA"
   ]
  },
  {
   "cell_type": "code",
   "execution_count": 29,
   "id": "29b8aa34-18ec-4c5b-9232-56d4913a5437",
   "metadata": {},
   "outputs": [],
   "source": [
    "import setup\n",
    "from circuits import * \n",
    "import qiskit\n",
    "\n",
    "import sympy as sp\n",
    "\n",
    "from qiskit.opflow import MatrixOp, CircuitOp\n",
    "\n",
    "from qiskit.quantum_info.states.densitymatrix import DensityMatrix\n",
    "from qiskit.quantum_info import partial_trace\n",
    "from qiskit.quantum_info.operators import Operator, Pauli\n",
    "from qiskit.quantum_info import random_density_matrix"
   ]
  },
  {
   "cell_type": "code",
   "execution_count": 53,
   "id": "8a964209-7c80-4c8d-950d-6a63152dcb5b",
   "metadata": {},
   "outputs": [],
   "source": [
    "def printmat(x, precision=4, max_size=7):\n",
    "    try:\n",
    "        return qiskit.visualization.array_to_latex(x, precision=precision, prefix='', source=False, max_size=max_size)\n",
    "    except TypeError:\n",
    "        return print(x)"
   ]
  },
  {
   "cell_type": "markdown",
   "id": "320f5ddd-6f92-422f-8221-4639211e32c3",
   "metadata": {
    "tags": []
   },
   "source": [
    "# Partial Swap Operator"
   ]
  },
  {
   "cell_type": "markdown",
   "id": "524e9835-b7b9-419a-9ff0-897dad8a237b",
   "metadata": {
    "jp-MarkdownHeadingCollapsed": true,
    "tags": []
   },
   "source": [
    "### Initialising $\\sigma$ and $\\rho^{\\otimes n}$"
   ]
  },
  {
   "cell_type": "code",
   "execution_count": 3815,
   "id": "c0b77d09-fed9-4153-972b-8217f1aa6aa6",
   "metadata": {},
   "outputs": [],
   "source": [
    "m = 3\n",
    "D = np.random.rand(m,4)\n",
    "\n",
    "# Normalise each entry \n",
    "X = np.array([x / np.linalg.norm(x) for x in D])\n",
    "X = X.T\n",
    "\n",
    "# Inner product between pairs of features; equivalent to |psi_i><psi_i| per i number of features\n",
    "Q = (1/m)*(np.matmul(X,X.T))\n",
    "rho = DensityMatrix(Q)\n",
    "cols = [DensityMatrix(np.outer(x,x)) for x in X.T] \n",
    "\n",
    "evals, evecs = np.linalg.eig(Q)"
   ]
  },
  {
   "cell_type": "code",
   "execution_count": 3816,
   "id": "84951ba8-7f2c-4490-b3c5-bb4481fc60ab",
   "metadata": {},
   "outputs": [
    {
     "data": {
      "text/plain": [
       "True"
      ]
     },
     "execution_count": 3816,
     "metadata": {},
     "output_type": "execute_result"
    }
   ],
   "source": [
    "# Ansatz\n",
    "#sigma = rho\n",
    "sigma = DensityMatrix(1/2*np.matmul(np.array([[1,0,0,1]]).T, np.array([[1,0,0,1]])))\n",
    "sigma.is_valid()"
   ]
  },
  {
   "cell_type": "markdown",
   "id": "4ab88334-68c1-4428-a454-be1571813d83",
   "metadata": {
    "jp-MarkdownHeadingCollapsed": true,
    "tags": []
   },
   "source": [
    "### Showing $e^{-i\\rho \\delta t} \\approx Tr_{\\rho}[e^{-iS \\delta t}]$"
   ]
  },
  {
   "cell_type": "code",
   "execution_count": 3817,
   "id": "a48e097b-f0a5-4a0c-9336-aa21f976b964",
   "metadata": {},
   "outputs": [],
   "source": [
    "sigma = random_density_matrix(4)"
   ]
  },
  {
   "cell_type": "code",
   "execution_count": 3818,
   "id": "4772f4b4-41c9-4cfe-94ad-1a6f196dcb92",
   "metadata": {},
   "outputs": [
    {
     "data": {
      "image/png": "[encoded data removed]",
      "text/plain": [
       "<Figure size 206.997x264.88 with 1 Axes>"
      ]
     },
     "execution_count": 3818,
     "metadata": {},
     "output_type": "execute_result"
    }
   ],
   "source": [
    "qc = QuantumCircuit(4)\n",
    "qc.swap([0,1],[2,3]);\n",
    "qc.draw('mpl')"
   ]
  },
  {
   "cell_type": "code",
   "execution_count": 3819,
   "id": "b021ac92-8a39-48b8-95e5-5c594cb1986f",
   "metadata": {},
   "outputs": [],
   "source": [
    "t = 2*np.pi/2\n",
    "N = 1000\n",
    "dt = t/N"
   ]
  },
  {
   "cell_type": "code",
   "execution_count": 3820,
   "id": "f2e3c262-1fe1-420e-bd07-c89411678c71",
   "metadata": {},
   "outputs": [],
   "source": [
    "# np.exp(SWAP*dt)\n",
    "swap_4 = Operator(qc)\n",
    "\n",
    "def exp_swap_4(x):\n",
    "    return Operator(MatrixOp(x*swap_4).exp_i())\n",
    "\n",
    "# Evolve sigma via Trotter\n",
    "sigma_ = sigma.copy()\n",
    "for i in range(N):\n",
    "    sigma_ = DensityMatrix(partial_trace((rho ^ sigma_).evolve(exp_swap_4(dt)), [2,3])) # Leftmost is lowest, except in partial trace where labeling is important"
   ]
  },
  {
   "cell_type": "code",
   "execution_count": 3821,
   "id": "519d9c4d-3d2b-4d99-8995-85d4c38da810",
   "metadata": {},
   "outputs": [],
   "source": [
    "# np.exp(SWAP*t*rho)\n",
    "exp_rho = Operator(MatrixOp(t*Q).exp_i())"
   ]
  },
  {
   "cell_type": "code",
   "execution_count": 3822,
   "id": "0053cb7c-bbe6-4164-b4fb-5a860edebd35",
   "metadata": {},
   "outputs": [
    {
     "data": {
      "text/latex": [
       "$$\n",
       "\n",
       "\\begin{bmatrix}\n",
       "0.001 & 0.0014 - 0.0013i & 0.0012 + 0.0011i & 0.0015 + 0.0008i  \\\\\n",
       " 0.0014 + 0.0013i & -0.0007 & 0.0038 + 0.0008i & 0.0012 - 0.0002i  \\\\\n",
       " 0.0012 - 0.0011i & 0.0038 - 0.0008i & 0.0008 & -0.0002 + 0.0006i  \\\\\n",
       " 0.0015 - 0.0008i & 0.0012 + 0.0002i & -0.0002 - 0.0006i & -0.0011  \\\\\n",
       " \\end{bmatrix}\n",
       "$$"
      ],
      "text/plain": [
       "<IPython.core.display.Latex object>"
      ]
     },
     "execution_count": 3822,
     "metadata": {},
     "output_type": "execute_result"
    }
   ],
   "source": [
    "printmat(sigma_.data - sigma.evolve(exp_rho).data)"
   ]
  },
  {
   "cell_type": "markdown",
   "id": "2ff4e968-0046-4269-99a6-551b37a020b5",
   "metadata": {
    "jp-MarkdownHeadingCollapsed": true,
    "tags": []
   },
   "source": [
    "# Partial Swap Implementation"
   ]
  },
  {
   "cell_type": "markdown",
   "id": "b0d1fc70-9249-4e98-8a1e-336538a25042",
   "metadata": {
    "jp-MarkdownHeadingCollapsed": true,
    "tags": []
   },
   "source": [
    "## Two qubits"
   ]
  },
  {
   "cell_type": "code",
   "execution_count": 2130,
   "id": "9ce3b76e-664b-45c2-a3bf-af6b1729c994",
   "metadata": {},
   "outputs": [],
   "source": [
    "from qiskit.circuit import QuantumCircuit, Parameter"
   ]
  },
  {
   "cell_type": "code",
   "execution_count": 2131,
   "id": "9606249f-7663-4c28-a485-b498201b3464",
   "metadata": {},
   "outputs": [],
   "source": [
    "w = Parameter(\"w\")"
   ]
  },
  {
   "cell_type": "code",
   "execution_count": 2134,
   "id": "3186e61c-92d1-4a43-ad86-06b5369148cc",
   "metadata": {},
   "outputs": [],
   "source": [
    "qc = QuantumCircuit(2)\n",
    "\n",
    "qc.swap([0],[1]);\n",
    "\n",
    "qc.draw('mpl')"
   ]
  },
  {
   "cell_type": "code",
   "execution_count": 2135,
   "id": "023966b3-8c4e-47c1-8509-33f7e81b985e",
   "metadata": {},
   "outputs": [],
   "source": [
    "t = 1\n",
    "N = 10\n",
    "dt = t/N"
   ]
  },
  {
   "cell_type": "code",
   "execution_count": 2136,
   "id": "012fbdaa-9b57-460c-b841-bca447bc95b9",
   "metadata": {},
   "outputs": [],
   "source": [
    "swap_2 = Operator(qc)\n",
    "exp_swap_control_2 = Operator(Operator(MatrixOp(dt*swap_2).exp_i()).to_instruction().control(1))"
   ]
  },
  {
   "cell_type": "code",
   "execution_count": 2381,
   "id": "035a019d-4241-48a1-90d3-df08b5d9ff89",
   "metadata": {},
   "outputs": [
    {
     "data": {
      "image/png": "[encoded data removed]",
      "text/plain": [
       "<Figure size 748.797x264.88 with 1 Axes>"
      ]
     },
     "execution_count": 2381,
     "metadata": {},
     "output_type": "execute_result"
    }
   ],
   "source": [
    "def make_exp_swap_control_2(par):\n",
    "    qc2 = QuantumCircuit(4)\n",
    "\n",
    "    qc2.cnot(2,1)\n",
    "    qc2.cry(-np.pi/2, control_qubit=1, target_qubit=2)\n",
    "\n",
    "    qc2.barrier()\n",
    "\n",
    "    qc2.toffoli(1, 2, 3)\n",
    "\n",
    "\n",
    "    qc2.crz(2*par, 0,3)\n",
    "\n",
    "    qc2.toffoli(1, 2, 3)\n",
    "\n",
    "    qc2.barrier()\n",
    "\n",
    "    qc2.cry(np.pi/2, control_qubit=1, target_qubit=2)\n",
    "\n",
    "    qc2.cnot(2,1)\n",
    "    \n",
    "    return qc2\n",
    "\n",
    "qc2.draw('mpl')"
   ]
  },
  {
   "cell_type": "code",
   "execution_count": 2138,
   "id": "ffc76fc3-0db2-4fee-9fc4-6dc8f35d1e7a",
   "metadata": {},
   "outputs": [],
   "source": [
    "qc2 = make_exp_swap_control_2(w).assign_parameters({w:dt})"
   ]
  },
  {
   "cell_type": "code",
   "execution_count": 2139,
   "id": "d4c70011-1f12-4949-bf6b-1e985e12fd7b",
   "metadata": {},
   "outputs": [],
   "source": [
    "from qiskit.opflow import (StateFn, Zero, One, Plus, Minus, H,\n",
    "                           DictStateFn, VectorStateFn, CircuitStateFn, OperatorStateFn)"
   ]
  },
  {
   "cell_type": "code",
   "execution_count": 2140,
   "id": "ded2f57b-9edf-437f-839f-c180e1713a73",
   "metadata": {},
   "outputs": [],
   "source": [
    "x1 = (MatrixOp(exp_swap_control_2) @ (Plus ^ Plus ^ Plus)).eval().to_density_matrix()"
   ]
  },
  {
   "cell_type": "code",
   "execution_count": 2141,
   "id": "93cfe4a0-5e41-41df-a2b0-9256e91541e6",
   "metadata": {},
   "outputs": [],
   "source": [
    "x2 = partial_trace((MatrixOp(Operator(qc2)) @ (Zero ^ Plus ^ Plus ^ Plus)).eval().to_density_matrix(), [3])"
   ]
  },
  {
   "cell_type": "code",
   "execution_count": 2142,
   "id": "06c1e6bb-7662-4a02-ac88-e30f3d3c72a6",
   "metadata": {},
   "outputs": [
    {
     "data": {
      "text/latex": [
       "$$\n",
       "\n",
       "\\begin{bmatrix}\n",
       "0 & 0 & 0 & \\cdots & 0 & 0 & 0  \\\\\n",
       " 0 & 0 & 0 & \\cdots & 0 & 0 & 0  \\\\\n",
       " 0 & 0 & 0 & \\cdots & 0 & 0 & 0  \\\\\n",
       " \\vdots & \\vdots & \\vdots & \\ddots & \\vdots & \\vdots & \\vdots \\\\\n",
       " 0 & 0 & 0 & \\cdots & 0 & 0 & 0  \\\\\n",
       " 0 & 0 & 0 & \\cdots & 0 & 0 & 0  \\\\\n",
       " 0 & 0 & 0 & \\cdots & 0 & 0 & 0  \\\\\n",
       " \\end{bmatrix}\n",
       "$$"
      ],
      "text/plain": [
       "<IPython.core.display.Latex object>"
      ]
     },
     "execution_count": 2142,
     "metadata": {},
     "output_type": "execute_result"
    }
   ],
   "source": [
    "printmat(x2.data-x1.data)"
   ]
  },
  {
   "cell_type": "code",
   "execution_count": 2143,
   "id": "8a46cbe4-edcc-4b19-b77c-7c079be675c8",
   "metadata": {},
   "outputs": [],
   "source": [
    "rho_i = DensityMatrix(np.diag([1,0]))^random_density_matrix(2**3)"
   ]
  },
  {
   "cell_type": "code",
   "execution_count": 2144,
   "id": "6c337536-abe7-42a4-a221-1ba1be03fa0b",
   "metadata": {},
   "outputs": [
    {
     "data": {
      "text/latex": [
       "$$\n",
       "\n",
       "\\begin{bmatrix}\n",
       "0 & 0 & 0 & 0 & 0 & 0 & 0 & 0  \\\\\n",
       " 0 & 0 & 0 & 0 & 0 & 0 & 0 & 0  \\\\\n",
       " 0 & 0 & 0 & 0 & 0 & 0 & 0 & 0  \\\\\n",
       " 0 & 0 & 0 & 0 & 0 & 0 & 0 & 0  \\\\\n",
       " 0 & 0 & 0 & 0 & 0 & 0 & 0 & 0  \\\\\n",
       " 0 & 0 & 0 & 0 & 0 & 0 & 0 & 0  \\\\\n",
       " 0 & 0 & 0 & 0 & 0 & 0 & 0 & 0  \\\\\n",
       " 0 & 0 & 0 & 0 & 0 & 0 & 0 & 0  \\\\\n",
       " \\end{bmatrix}\n",
       "$$"
      ],
      "text/plain": [
       "<IPython.core.display.Latex object>"
      ]
     },
     "execution_count": 2144,
     "metadata": {},
     "output_type": "execute_result"
    }
   ],
   "source": [
    "printmat(partial_trace(rho_i,[3]).evolve(exp_swap_control_2).data - partial_trace(rho_i.evolve(Operator(qc2)),[3]).data, max_size=10)"
   ]
  },
  {
   "cell_type": "markdown",
   "id": "2471eed2-c968-4b64-9adf-1733a48093d5",
   "metadata": {
    "jp-MarkdownHeadingCollapsed": true,
    "tags": []
   },
   "source": [
    "## Four qubits"
   ]
  },
  {
   "cell_type": "code",
   "execution_count": 2261,
   "id": "77951dbd-be71-4f71-804c-cd0719a348cb",
   "metadata": {},
   "outputs": [],
   "source": [
    "qc = QuantumCircuit(4)\n",
    "qc.swap([0,1],[2,3]);"
   ]
  },
  {
   "cell_type": "code",
   "execution_count": null,
   "id": "6d53b305-8fe8-4e4c-8578-6ac2c4c06d88",
   "metadata": {},
   "outputs": [
    {
     "data": {
      "image/png": "[encoded data removed]",
      "text/plain": [
       "<Figure size 206.997x264.88 with 1 Axes>"
      ]
     },
     "execution_count": 944,
     "metadata": {},
     "output_type": "execute_result"
    }
   ],
   "source": [
    "qc.draw('mpl')"
   ]
  },
  {
   "cell_type": "code",
   "execution_count": null,
   "id": "2ab9abe1-78ba-428b-96fd-e17ed3ccb0b1",
   "metadata": {},
   "outputs": [],
   "source": [
    "swap_4 = Operator(qc)\n",
    "exp_swap_control_4 = Operator(Operator(MatrixOp(dt*swap_4).exp_i()).to_instruction().control(1))"
   ]
  },
  {
   "cell_type": "code",
   "execution_count": null,
   "id": "1a58ddc1-e3d3-4b06-a78d-70feae8c81b3",
   "metadata": {},
   "outputs": [],
   "source": [
    "qc2 = QuantumCircuit(6)\n",
    "\n",
    "qc2.cnot(2,0)\n",
    "qc2.cry(-np.pi/2, control_qubit=0, target_qubit=2)\n",
    "\n",
    "qc2.barrier()\n",
    "\n",
    "qc2.cnot(3,1)\n",
    "qc2.cry(-np.pi/2, control_qubit=1, target_qubit=3)\n",
    "\n",
    "qc2.barrier()\n",
    "\n",
    "qc2.toffoli(0, 2, 4)\n",
    "qc2.toffoli(1, 3, 4)\n",
    "\n",
    "qc2.crz(2*dt, 5,4)\n",
    "\n",
    "qc2.toffoli(1, 3, 4)\n",
    "qc2.toffoli(0, 2, 4)\n",
    "\n",
    "qc2.barrier()\n",
    "\n",
    "qc2.cry(np.pi/2, control_qubit=1, target_qubit=3)\n",
    "qc2.cnot(3,1)\n",
    "\n",
    "qc2.barrier()\n",
    "\n",
    "qc2.cry(np.pi/2, control_qubit=0, target_qubit=2)\n",
    "qc2.cnot(2,0)"
   ]
  },
  {
   "cell_type": "code",
   "execution_count": null,
   "id": "23ca441c-bba0-4d79-a0ac-d67dc69d1834",
   "metadata": {},
   "outputs": [],
   "source": [
    "qc3 = QuantumCircuit(6)\n",
    "qc3 = qc3.compose(qc2, [1,2,3,4,5,0])"
   ]
  },
  {
   "cell_type": "code",
   "execution_count": null,
   "id": "c69164d9-029d-4aa1-aafc-edd6b3d68945",
   "metadata": {},
   "outputs": [
    {
     "data": {
      "image/png": "[encoded data removed]",
      "text/plain": [
       "<Figure size 1110x385.28 with 1 Axes>"
      ]
     },
     "execution_count": 949,
     "metadata": {},
     "output_type": "execute_result"
    }
   ],
   "source": [
    "qc3.draw('mpl')"
   ]
  },
  {
   "cell_type": "code",
   "execution_count": null,
   "id": "cd3f329d-487f-431b-94e0-0714395e7297",
   "metadata": {},
   "outputs": [],
   "source": [
    "rho_i = DensityMatrix(np.diag([1,0]))^random_density_matrix(2**5)"
   ]
  },
  {
   "cell_type": "code",
   "execution_count": null,
   "id": "7c657d7f-2a66-4126-8438-3882a5e9a097",
   "metadata": {},
   "outputs": [],
   "source": [
    "# Simulated\n",
    "rho_f_simul = partial_trace(rho_i, [5]).evolve(exp_swap_control_4)\n",
    "\n",
    "# Circuit\n",
    "rho_f_qc = partial_trace(rho_i.evolve(Operator(qc3)), [5])"
   ]
  },
  {
   "cell_type": "code",
   "execution_count": null,
   "id": "b65bea72-743b-41d6-90bf-0fec5a1a1383",
   "metadata": {},
   "outputs": [
    {
     "data": {
      "text/latex": [
       "$$\n",
       "\n",
       "\\begin{bmatrix}\n",
       "0 & 0 & 0 & \\cdots & 0 & 0 & 0  \\\\\n",
       " 0 & 0 & 0 & \\cdots & 0 & 0 & 0  \\\\\n",
       " 0 & 0 & 0 & \\cdots & 0 & 0 & 0  \\\\\n",
       " \\vdots & \\vdots & \\vdots & \\ddots & \\vdots & \\vdots & \\vdots \\\\\n",
       " 0 & 0 & 0 & \\cdots & 0 & 0 & 0  \\\\\n",
       " 0 & 0 & 0 & \\cdots & 0 & 0 & 0  \\\\\n",
       " 0 & 0 & 0 & \\cdots & 0 & 0 & 0  \\\\\n",
       " \\end{bmatrix}\n",
       "$$"
      ],
      "text/plain": [
       "<IPython.core.display.Latex object>"
      ]
     },
     "execution_count": 959,
     "metadata": {},
     "output_type": "execute_result"
    }
   ],
   "source": [
    "printmat(rho_f_simul.data - rho_f_qc.data)"
   ]
  },
  {
   "cell_type": "markdown",
   "id": "c9bbab93-fb13-4c7d-ae60-70bda89b4fd4",
   "metadata": {
    "jp-MarkdownHeadingCollapsed": true,
    "tags": []
   },
   "source": [
    "## Symbolic Representation"
   ]
  },
  {
   "cell_type": "code",
   "execution_count": 3173,
   "id": "6efe61e4-6e86-4b50-b5f2-d8faf93816f9",
   "metadata": {},
   "outputs": [],
   "source": [
    "import sympy as sp"
   ]
  },
  {
   "cell_type": "code",
   "execution_count": 828,
   "id": "4d2e28b5-3b82-43f8-9951-2af2a2c2e795",
   "metadata": {},
   "outputs": [],
   "source": [
    "def kron(*m):\n",
    "    if(len(m)==1):\n",
    "        return m[0]\n",
    "    return sp.Matrix(np.kron(m[0], kron(*m[1:])))"
   ]
  },
  {
   "cell_type": "code",
   "execution_count": 3174,
   "id": "2b2f972a-b457-4727-801c-c825511298d8",
   "metadata": {},
   "outputs": [],
   "source": [
    "def mycontrol(x, order=0):\n",
    "    if(order):\n",
    "        return sp.Matrix(np.kron(np.diag([0,1]),x)) + sp.Matrix(np.kron(np.diag([1,0]), np.eye(x.shape[0])))\n",
    "    return sp.Matrix(np.kron(x, np.diag([0,1]))) + sp.Matrix(np.kron(np.eye(x.shape[0]), np.diag([1,0])))\n",
    "    "
   ]
  },
  {
   "cell_type": "code",
   "execution_count": 915,
   "id": "d107cd47-4daa-4ffd-b4e3-87de909e31fc",
   "metadata": {},
   "outputs": [],
   "source": [
    "def rz(x):\n",
    "    return sp.simplify((-sp.I/2*x*Z).exp())\n",
    "\n",
    "def ry(x):\n",
    "    return sp.simplify((-sp.I/2*x*Y).exp())\n",
    "\n",
    "def cry(x):\n",
    "    return mycontrol(ry(x))"
   ]
  },
  {
   "cell_type": "code",
   "execution_count": 674,
   "id": "903f8780-8c03-4ac8-9444-9b80f89fec44",
   "metadata": {},
   "outputs": [],
   "source": [
    "a, b, t =  sp.symbols('a b t') "
   ]
  },
  {
   "cell_type": "code",
   "execution_count": 702,
   "id": "6b3adfa0-0a6a-4b87-b526-b0304f3ff3da",
   "metadata": {},
   "outputs": [],
   "source": [
    "I = np.eye(2)"
   ]
  },
  {
   "cell_type": "code",
   "execution_count": 714,
   "id": "3d339c41-7f47-4dc8-bb28-835729e39aad",
   "metadata": {},
   "outputs": [],
   "source": [
    "Y = sp.Matrix([[0, -sp.I], [sp.I, 0]])"
   ]
  },
  {
   "cell_type": "code",
   "execution_count": 740,
   "id": "dcb52ada-245e-4145-a02f-5a855daddf0b",
   "metadata": {},
   "outputs": [],
   "source": [
    "Z = sp.Matrix([[1, 0], [0, -1]])"
   ]
  },
  {
   "cell_type": "code",
   "execution_count": 826,
   "id": "4e614183-ddc0-438e-9048-fc8db6ee0207",
   "metadata": {},
   "outputs": [],
   "source": [
    "myswap = sp.Matrix(np.array([[1,0,0,0],[0,0,1,0],[0,1,0,0],[0,0,0,1]]))"
   ]
  },
  {
   "cell_type": "code",
   "execution_count": 847,
   "id": "f71e2fb7-edc5-469a-8a26-96bf56559c39",
   "metadata": {},
   "outputs": [
    {
     "data": {
      "text/latex": [
       "$\\displaystyle \\left[\\begin{matrix}e^{- \\frac{i t}{2}} & 0 & 0 & 0\\\\0 & \\cos{\\left(\\frac{t}{2} \\right)} & - i \\sin{\\left(\\frac{t}{2} \\right)} & 0\\\\0 & - i \\sin{\\left(\\frac{t}{2} \\right)} & \\cos{\\left(\\frac{t}{2} \\right)} & 0\\\\0 & 0 & 0 & e^{- \\frac{i t}{2}}\\end{matrix}\\right]$"
      ],
      "text/plain": [
       "Matrix([\n",
       "[exp(-I*t/2),           0,           0,           0],\n",
       "[          0,    cos(t/2), -I*sin(t/2),           0],\n",
       "[          0, -I*sin(t/2),    cos(t/2),           0],\n",
       "[          0,           0,           0, exp(-I*t/2)]])"
      ]
     },
     "execution_count": 847,
     "metadata": {},
     "output_type": "execute_result"
    }
   ],
   "source": [
    "myswap_exp = sp.simplify((-sp.I/2*t*myswap).exp())\n",
    "myswap_exp"
   ]
  },
  {
   "cell_type": "code",
   "execution_count": 848,
   "id": "09112810-8d61-4272-8147-3087c6e9d6a9",
   "metadata": {},
   "outputs": [],
   "source": [
    "cnot = mycontrol(X)"
   ]
  },
  {
   "cell_type": "code",
   "execution_count": 849,
   "id": "b53897e4-4c7b-4199-a821-1784299ffa62",
   "metadata": {},
   "outputs": [
    {
     "data": {
      "text/latex": [
       "$\\displaystyle \\left[\\begin{matrix}1.0 & 0 & 0 & 0\\\\0 & 0 & 0 & 1.0\\\\0 & 0 & 1.0 & 0\\\\0 & 1.0 & 0 & 0\\end{matrix}\\right]$"
      ],
      "text/plain": [
       "Matrix([\n",
       "[1.0,   0,   0,   0],\n",
       "[  0,   0,   0, 1.0],\n",
       "[  0,   0, 1.0,   0],\n",
       "[  0, 1.0,   0,   0]])"
      ]
     },
     "execution_count": 849,
     "metadata": {},
     "output_type": "execute_result"
    }
   ],
   "source": [
    "cnot"
   ]
  },
  {
   "cell_type": "code",
   "execution_count": 850,
   "id": "ebbdbd9d-61cd-4834-ac18-55eb3f960b83",
   "metadata": {},
   "outputs": [],
   "source": [
    "toffoli = mycontrol(cnot)"
   ]
  },
  {
   "cell_type": "code",
   "execution_count": 851,
   "id": "e8e6b4ca-9d0f-427c-b602-e645b9a80fe9",
   "metadata": {},
   "outputs": [
    {
     "data": {
      "text/latex": [
       "$\\displaystyle \\left[\\begin{matrix}1.0 & 0 & 0 & 0 & 0 & 0 & 0 & 0\\\\0 & 1.0 & 0 & 0 & 0 & 0 & 0 & 0\\\\0 & 0 & 1.0 & 0 & 0 & 0 & 0 & 0\\\\0 & 0 & 0 & 0 & 0 & 0 & 0 & 1.0\\\\0 & 0 & 0 & 0 & 1.0 & 0 & 0 & 0\\\\0 & 0 & 0 & 0 & 0 & 1.0 & 0 & 0\\\\0 & 0 & 0 & 0 & 0 & 0 & 1.0 & 0\\\\0 & 0 & 0 & 1.0 & 0 & 0 & 0 & 0\\end{matrix}\\right]$"
      ],
      "text/plain": [
       "Matrix([\n",
       "[1.0,   0,   0,   0,   0,   0,   0,   0],\n",
       "[  0, 1.0,   0,   0,   0,   0,   0,   0],\n",
       "[  0,   0, 1.0,   0,   0,   0,   0,   0],\n",
       "[  0,   0,   0,   0,   0,   0,   0, 1.0],\n",
       "[  0,   0,   0,   0, 1.0,   0,   0,   0],\n",
       "[  0,   0,   0,   0,   0, 1.0,   0,   0],\n",
       "[  0,   0,   0,   0,   0,   0, 1.0,   0],\n",
       "[  0,   0,   0, 1.0,   0,   0,   0,   0]])"
      ]
     },
     "execution_count": 851,
     "metadata": {},
     "output_type": "execute_result"
    }
   ],
   "source": [
    "toffoli"
   ]
  },
  {
   "cell_type": "code",
   "execution_count": 923,
   "id": "6f204756-48ba-4c96-b96b-7e034929cfba",
   "metadata": {},
   "outputs": [],
   "source": [
    "fh = (kron(I, mycontrol(X, order=1), I)*kron(I, cry(-a), I))*kron(toffoli, I)*sp.Matrix(mycontrol(kron(rz(t), I, I)))"
   ]
  },
  {
   "cell_type": "code",
   "execution_count": 924,
   "id": "9c911d35-a0c0-4a6d-882c-e9c316f7738b",
   "metadata": {},
   "outputs": [],
   "source": [
    "matrix = ((fh * kron(toffoli, I) * kron(I, cry(a), I) * (kron(I, mycontrol(X, order=1), I))).subs({a:np.pi/2}))"
   ]
  },
  {
   "cell_type": "code",
   "execution_count": 925,
   "id": "a1b79e8b-06ea-4b89-8e1b-812a83fea8e0",
   "metadata": {},
   "outputs": [],
   "source": [
    "finalansatz = sp.nsimplify(matrix).rewrite(sp.cos).trigsimp()"
   ]
  },
  {
   "cell_type": "markdown",
   "id": "c1f5aea2-fc9e-44be-bdf2-8b740b81cdf3",
   "metadata": {
    "tags": []
   },
   "source": [
    "### Sympy circuit"
   ]
  },
  {
   "cell_type": "code",
   "execution_count": 926,
   "id": "87bdf0eb-ed30-4c85-ae74-2e14fff59c07",
   "metadata": {},
   "outputs": [
    {
     "data": {
      "text/latex": [
       "$\\displaystyle \\left[\\begin{matrix}1 & 0 & 0 & 0 & 0 & 0 & 0 & 0\\\\0 & 0.995004165278026 - 0.0998334166468282 i & 0 & 0 & 0 & 0 & 0 & 0\\\\0 & 0 & 1 & 0 & 0 & 0 & 0 & 0\\\\0 & 0 & 0 & 0.995004165278026 & 0 & 0.0998334166468282 i & 0 & 0\\\\0 & 0 & 0 & 0 & 1 & 0 & 0 & 0\\\\0 & 0 & 0 & 0.0998334166468282 i & 0 & 0.995004165278026 & 0 & 0\\\\0 & 0 & 0 & 0 & 0 & 0 & 1 & 0\\\\0 & 0 & 0 & 0 & 0 & 0 & 0 & 0.995004165278026 - 0.0998334166468282 i\\end{matrix}\\right]$"
      ],
      "text/plain": [
       "Matrix([\n",
       "[1,                                        0, 0,                    0, 0,                    0, 0,                                        0],\n",
       "[0, 0.995004165278026 - 0.0998334166468282*I, 0,                    0, 0,                    0, 0,                                        0],\n",
       "[0,                                        0, 1,                    0, 0,                    0, 0,                                        0],\n",
       "[0,                                        0, 0,    0.995004165278026, 0, 0.0998334166468282*I, 0,                                        0],\n",
       "[0,                                        0, 0,                    0, 1,                    0, 0,                                        0],\n",
       "[0,                                        0, 0, 0.0998334166468282*I, 0,    0.995004165278026, 0,                                        0],\n",
       "[0,                                        0, 0,                    0, 0,                    0, 1,                                        0],\n",
       "[0,                                        0, 0,                    0, 0,                    0, 0, 0.995004165278026 - 0.0998334166468282*I]])"
      ]
     },
     "execution_count": 926,
     "metadata": {},
     "output_type": "execute_result"
    }
   ],
   "source": [
    "finalansatz[:8,:8].subs({t:2*dt})"
   ]
  },
  {
   "cell_type": "markdown",
   "id": "517aaa66-310c-4df0-a7d7-98e671a31a75",
   "metadata": {},
   "source": [
    "### Qiskit Circuit"
   ]
  },
  {
   "cell_type": "code",
   "execution_count": 927,
   "id": "5405e685-5872-471f-bc56-070489236c84",
   "metadata": {},
   "outputs": [
    {
     "data": {
      "text/latex": [
       "$$\n",
       "\n",
       "\\begin{bmatrix}\n",
       "1 & 0 & 0 & 0 & 0 & 0 & 0 & 0  \\\\\n",
       " 0 & 0.995 - 0.0998i & 0 & 0 & 0 & 0 & 0 & 0  \\\\\n",
       " 0 & 0 & 1 & 0 & 0 & 0 & 0 & 0  \\\\\n",
       " 0 & 0 & 0 & 0.995 & 0 & 0.0998i & 0 & 0  \\\\\n",
       " 0 & 0 & 0 & 0 & 1 & 0 & 0 & 0  \\\\\n",
       " 0 & 0 & 0 & 0.0998i & 0 & 0.995 & 0 & 0  \\\\\n",
       " 0 & 0 & 0 & 0 & 0 & 0 & 1 & 0  \\\\\n",
       " 0 & 0 & 0 & 0 & 0 & 0 & 0 & 0.995 - 0.0998i  \\\\\n",
       " \\end{bmatrix}\n",
       "$$"
      ],
      "text/plain": [
       "<IPython.core.display.Latex object>"
      ]
     },
     "execution_count": 927,
     "metadata": {},
     "output_type": "execute_result"
    }
   ],
   "source": [
    "printmat(Operator(qc2).data[:8,:8], max_size=16)"
   ]
  },
  {
   "cell_type": "markdown",
   "id": "bf563da1-c1b4-4205-b2f8-da7b9eafeb6c",
   "metadata": {},
   "source": [
    "### Sympy math"
   ]
  },
  {
   "cell_type": "code",
   "execution_count": 928,
   "id": "7187e3d2-56f5-4f63-a2ce-4e9d23134d0a",
   "metadata": {},
   "outputs": [
    {
     "data": {
      "text/latex": [
       "$\\displaystyle \\left[\\begin{matrix}1.0 & 0 & 0 & 0 & 0 & 0 & 0 & 0\\\\0 & 0.995004165278026 - 0.0998334166468282 i & 0 & 0 & 0 & 0 & 0 & 0\\\\0 & 0 & 1.0 & 0 & 0 & 0 & 0 & 0\\\\0 & 0 & 0 & 0.995004165278026 & 0 & - 0.0998334166468282 i & 0 & 0\\\\0 & 0 & 0 & 0 & 1.0 & 0 & 0 & 0\\\\0 & 0 & 0 & - 0.0998334166468282 i & 0 & 0.995004165278026 & 0 & 0\\\\0 & 0 & 0 & 0 & 0 & 0 & 1.0 & 0\\\\0 & 0 & 0 & 0 & 0 & 0 & 0 & 0.995004165278026 - 0.0998334166468282 i\\end{matrix}\\right]$"
      ],
      "text/plain": [
       "Matrix([\n",
       "[1.0,                                        0,   0,                     0,   0,                     0,   0,                                        0],\n",
       "[  0, 0.995004165278026 - 0.0998334166468282*I,   0,                     0,   0,                     0,   0,                                        0],\n",
       "[  0,                                        0, 1.0,                     0,   0,                     0,   0,                                        0],\n",
       "[  0,                                        0,   0,     0.995004165278026,   0, -0.0998334166468282*I,   0,                                        0],\n",
       "[  0,                                        0,   0,                     0, 1.0,                     0,   0,                                        0],\n",
       "[  0,                                        0,   0, -0.0998334166468282*I,   0,     0.995004165278026,   0,                                        0],\n",
       "[  0,                                        0,   0,                     0,   0,                     0, 1.0,                                        0],\n",
       "[  0,                                        0,   0,                     0,   0,                     0,   0, 0.995004165278026 - 0.0998334166468282*I]])"
      ]
     },
     "execution_count": 928,
     "metadata": {},
     "output_type": "execute_result"
    }
   ],
   "source": [
    "sp.simplify(mycontrol(myswap_exp).subs({t:2*dt}))"
   ]
  },
  {
   "cell_type": "markdown",
   "id": "cb3e6615-ff3f-4fd5-b48b-fba513c3aa36",
   "metadata": {},
   "source": [
    "### Qiskit Math"
   ]
  },
  {
   "cell_type": "code",
   "execution_count": 929,
   "id": "8dcd5328-3d8d-4c66-8235-9ccd06e5c916",
   "metadata": {},
   "outputs": [
    {
     "data": {
      "text/latex": [
       "$$\n",
       "\n",
       "\\begin{bmatrix}\n",
       "1 & 0 & 0 & 0 & 0 & 0 & 0 & 0  \\\\\n",
       " 0 & 0.995 - 0.0998i & 0 & 0 & 0 & 0 & 0 & 0  \\\\\n",
       " 0 & 0 & 1 & 0 & 0 & 0 & 0 & 0  \\\\\n",
       " 0 & 0 & 0 & 0.995 & 0 & -0.0998i & 0 & 0  \\\\\n",
       " 0 & 0 & 0 & 0 & 1 & 0 & 0 & 0  \\\\\n",
       " 0 & 0 & 0 & -0.0998i & 0 & 0.995 & 0 & 0  \\\\\n",
       " 0 & 0 & 0 & 0 & 0 & 0 & 1 & 0  \\\\\n",
       " 0 & 0 & 0 & 0 & 0 & 0 & 0 & 0.995 - 0.0998i  \\\\\n",
       " \\end{bmatrix}\n",
       "$$"
      ],
      "text/plain": [
       "<IPython.core.display.Latex object>"
      ]
     },
     "execution_count": 929,
     "metadata": {},
     "output_type": "execute_result"
    }
   ],
   "source": [
    "printmat(exp_swap_control_2, max_size=16)"
   ]
  },
  {
   "cell_type": "markdown",
   "id": "416fdccb-14f2-43ec-8d4a-757b4858de5d",
   "metadata": {
    "jp-MarkdownHeadingCollapsed": true,
    "tags": []
   },
   "source": [
    "## Showing $Tr_{\\rho^{\\otimes N}}\\big[\\prod_{j=1}^N(\\text{C-}e^{-iS_j\\frac{t}{N}})\\big] \\approx \\text{C-}e^{-i\\rho t}$"
   ]
  },
  {
   "cell_type": "code",
   "execution_count": 2556,
   "id": "82e71eb5-547b-434e-b449-71f5dda85606",
   "metadata": {},
   "outputs": [],
   "source": [
    "t = 1\n",
    "N = 1000\n",
    "dt = t/N"
   ]
  },
  {
   "cell_type": "code",
   "execution_count": 2557,
   "id": "ccae9e1a-f115-4e1f-95a6-edb434a092a7",
   "metadata": {},
   "outputs": [],
   "source": [
    "# X \\in R^3x4, 4-D data arranged rowwise \n",
    "D = np.array([[0.32241437, 0.04200095],\n",
    "       [0.32591982, 0.04014517],\n",
    "       [0.17208166, 0.61868603]])\n",
    "# Normalise each entry \n",
    "X = np.array([x / np.linalg.norm(x) for x in D])\n",
    "\n",
    "# Columns\n",
    "X = X.T\n",
    "\n",
    "# Inner product between pairs of features; equivalent to |psi_i><psi_i| per i number of features\n",
    "Q = 1/3*np.matmul(X,X.T)\n",
    "rho = DensityMatrix(Q)"
   ]
  },
  {
   "cell_type": "code",
   "execution_count": 2558,
   "id": "e9304d66-e1ae-4d4a-879c-5ea83bd8fb39",
   "metadata": {},
   "outputs": [
    {
     "data": {
      "text/plain": [
       "(0.2529181977115852+0j)"
      ]
     },
     "execution_count": 2558,
     "metadata": {},
     "output_type": "execute_result"
    }
   ],
   "source": [
    "cols = [DensityMatrix(np.outer(x,x)) for x in X.T] \n",
    "\n",
    "evals, evecs = np.linalg.eig(rho.data)\n",
    "\n",
    "sigma = DensityMatrix(np.outer(evecs[1], evecs[1]))\n",
    "\n",
    "evals[1]"
   ]
  },
  {
   "cell_type": "code",
   "execution_count": 2559,
   "id": "d9e7b7a4-f2a5-432a-b857-5b6841e797cb",
   "metadata": {},
   "outputs": [
    {
     "data": {
      "image/png": "[encoded data removed]",
      "text/plain": [
       "<Figure size 628.397x264.88 with 1 Axes>"
      ]
     },
     "execution_count": 2559,
     "metadata": {},
     "output_type": "execute_result"
    }
   ],
   "source": [
    "make_exp_swap_control_2(dt).draw('mpl')"
   ]
  },
  {
   "cell_type": "code",
   "execution_count": 2560,
   "id": "37e6d87c-5158-48e3-8e24-69e8b48ed90a",
   "metadata": {
    "tags": []
   },
   "outputs": [],
   "source": [
    "# Evolve sigma via Trotter\n",
    "sigma_i = sigma.copy() ^ random_density_matrix(2)\n",
    "sigma_ = sigma_i.copy()\n",
    "for i in range(N):\n",
    "    for x in cols:\n",
    "        sigma_ = DensityMatrix(partial_trace((DensityMatrix(np.diag([1,0])) ^ x ^ sigma_).evolve(Operator(make_exp_swap_control_2(dt/len(cols)))), [2,3])) # Leftmost is lowest, except in partial trace where labeling is important"
   ]
  },
  {
   "cell_type": "code",
   "execution_count": 2561,
   "id": "80b3f2f0-4c25-46ce-b552-2f5d1782ade0",
   "metadata": {},
   "outputs": [],
   "source": [
    "exp_rho = Operator(Operator(MatrixOp(t*Q).exp_i()).to_instruction().control(1))"
   ]
  },
  {
   "cell_type": "code",
   "execution_count": 2562,
   "id": "f0e42d0c-ceb0-4708-bda8-829d8d9970ce",
   "metadata": {},
   "outputs": [
    {
     "data": {
      "text/latex": [
       "$$\n",
       "\n",
       "\\begin{bmatrix}\n",
       "0 & 0. - 0.i & 0 & 0.i  \\\\\n",
       " 0. + 0.i & 0.0002 & 0. + 0.i & 0. + 0.i  \\\\\n",
       " 0 & 0. - 0.i & 0 & 0.i  \\\\\n",
       " -0.i & 0. - 0.i & -0.i & -0.0002  \\\\\n",
       " \\end{bmatrix}\n",
       "$$"
      ],
      "text/plain": [
       "<IPython.core.display.Latex object>"
      ]
     },
     "execution_count": 2562,
     "metadata": {},
     "output_type": "execute_result"
    }
   ],
   "source": [
    "printmat(sigma_.data - sigma_i.evolve(exp_rho).data)"
   ]
  },
  {
   "cell_type": "markdown",
   "id": "4e3072fd-0788-4516-a5ad-f363b5abcd9a",
   "metadata": {
    "tags": []
   },
   "source": [
    "# QPE"
   ]
  },
  {
   "cell_type": "markdown",
   "id": "5fc7aed0-47c8-453a-8635-2a23ef42d55f",
   "metadata": {
    "jp-MarkdownHeadingCollapsed": true,
    "tags": []
   },
   "source": [
    "## Helper functions"
   ]
  },
  {
   "cell_type": "code",
   "execution_count": 2392,
   "id": "de743c3d-4a43-4bf1-bef0-ae1cde09be5c",
   "metadata": {},
   "outputs": [],
   "source": [
    "def c_es2(par):\n",
    "    qc2 = QuantumCircuit(4)\n",
    "\n",
    "    qc2.cnot(2,1)\n",
    "    qc2.cry(-np.pi/2, control_qubit=1, target_qubit=2)\n",
    "\n",
    "    qc2.barrier()\n",
    "\n",
    "    qc2.toffoli(1, 2, 3)\n",
    "    qc2.crz(2*par, 0,3)\n",
    "    qc2.toffoli(1, 2, 3)\n",
    "\n",
    "    qc2.barrier()\n",
    "\n",
    "    qc2.cry(np.pi/2, control_qubit=1, target_qubit=2)\n",
    "    qc2.cnot(2,1)\n",
    "    \n",
    "    return qc2\n",
    "\n",
    "def qc_swap2():\n",
    "    qc = QuantumCircuit(2)\n",
    "    qc.swap([0],[1])\n",
    "    return qc"
   ]
  },
  {
   "cell_type": "markdown",
   "id": "d3699764-04fa-4081-a0d4-825f318a6054",
   "metadata": {
    "tags": []
   },
   "source": [
    "## Implementation"
   ]
  },
  {
   "cell_type": "code",
   "execution_count": null,
   "id": "91bc2530-a8e1-486c-aaa7-4cd067abdc54",
   "metadata": {},
   "outputs": [],
   "source": [
    "from qiskit.opflow import I, X, Y, Z\n",
    "\n",
    "from qiskit.circuit.library import QFT"
   ]
  },
  {
   "cell_type": "code",
   "execution_count": 3683,
   "id": "5699eba0-0ccf-4f9b-8ff3-7e2053bfb08a",
   "metadata": {},
   "outputs": [],
   "source": [
    "def exp_rho(x, Q):\n",
    "    return Operator(Operator(MatrixOp(x*Q).exp_i()).to_instruction().control(1))"
   ]
  },
  {
   "cell_type": "code",
   "execution_count": null,
   "id": "1d2a1bc5-bd6d-49d8-95a0-b45f66dc346c",
   "metadata": {},
   "outputs": [],
   "source": [
    "def qft_dagger(qc, n):\n",
    "    \"\"\"n-qubit QFTdagger the first n qubits in circ\"\"\"\n",
    "    # Don't forget the Swaps!\n",
    "    for qubit in range(n//2):\n",
    "        qc.swap(qubit, n-qubit-1)\n",
    "    for j in range(n):\n",
    "        for m in range(j):\n",
    "            qc.cp(-math.pi/float(2**(j-m)), m, j)\n",
    "        qc.h(j)"
   ]
  },
  {
   "cell_type": "code",
   "execution_count": 3663,
   "id": "18c2b77d-3a2b-4741-9283-7c888753598e",
   "metadata": {},
   "outputs": [],
   "source": [
    "# 0.25\n",
    "D = np.array([[0.32241437, 0.04200095],\n",
    "       [0.32591982, 0.04014517],\n",
    "       [0.17208166, 0.61868603]])"
   ]
  },
  {
   "cell_type": "code",
   "execution_count": 3827,
   "id": "08da9971-1602-4774-87ad-a9817c919db6",
   "metadata": {},
   "outputs": [],
   "source": [
    "# well partitioned\n",
    "D = np.array([[0.68392582, 0.11945512],\n",
    "       [0.03946855, 0.90996401],\n",
    "       [0.80280525, 0.216806  ]])"
   ]
  },
  {
   "cell_type": "code",
   "execution_count": 3798,
   "id": "be4c0ea9-bdca-4c17-8bf7-717dc8c56478",
   "metadata": {},
   "outputs": [],
   "source": [
    "m = 3\n",
    "D = np.random.rand(m,2)"
   ]
  },
  {
   "cell_type": "code",
   "execution_count": 3828,
   "id": "476bfb81-cd06-4c4c-aede-8200db352a61",
   "metadata": {},
   "outputs": [],
   "source": [
    "# Normalise each entry \n",
    "X = np.array([x / np.linalg.norm(x) for x in D])\n",
    "X = X.T\n",
    "\n",
    "# Inner product between pairs of features; equivalent to |psi_i><psi_i| per i number of features\n",
    "Q = (1/m)*(np.matmul(X,X.T))\n",
    "rho = DensityMatrix(Q)\n",
    "cols = [DensityMatrix(np.outer(x,x)) for x in X.T] \n",
    "\n",
    "evals, evecs = np.linalg.eig(Q)"
   ]
  },
  {
   "cell_type": "code",
   "execution_count": 3800,
   "id": "2ff7ce8c-9afb-46ec-947b-c9b782a75022",
   "metadata": {},
   "outputs": [
    {
     "name": "stdout",
     "output_type": "stream",
     "text": [
      "[0.70526542 0.29473458]\n",
      "0.71875\n"
     ]
    },
    {
     "data": {
      "image/png": "[encoded data removed]",
      "text/plain": [
       "<Figure size 504x360 with 1 Axes>"
      ]
     },
     "execution_count": 3800,
     "metadata": {},
     "output_type": "execute_result"
    }
   ],
   "source": [
    "evaldp = 5\n",
    "eval_reg = QuantumRegister(evaldp, 'eval')\n",
    "rho_reg = QuantumRegister(1, 'rho')\n",
    "anc_reg = QuantumRegister(2, 'ancilla')\n",
    "\n",
    "# 1/3 of QPE: Initialisation and Hadamards \n",
    "main_1 = QuantumCircuit(eval_reg, rho_reg)\n",
    "main_1.h(range(0,evaldp));\n",
    "\n",
    "#DensityMatrix(np.outer(evecs[:,1], evecs[:,1].conj()))\n",
    "sigma = rho\n",
    "rho2 = sigma ^ DensityMatrix(np.diag([1]+[0]*(2**eval_reg.size-1)))\n",
    "rho2 = rho2.evolve(Operator(main_1))\n",
    "\n",
    "# 2/3 of QPE: Controlled e^i\\rho t via m*N partial swaps\n",
    "# Uses \"c_es2\" defined under \"Two qubits\"\n",
    "N = 100\n",
    "rep = 0\n",
    "for i in range(eval_reg.size):\n",
    "    main_2 = QuantumCircuit(eval_reg, rho_reg , anc_reg)\n",
    "    \n",
    "    t = -(2**rep)*2*np.pi\n",
    "    dt = t/N\n",
    "    \n",
    "    main_2 = main_2.compose(c_es2(dt/len(cols)).to_instruction(label=r\"$e^{iSdt}$\"), [eval_reg[i], *rho_reg, *anc_reg])\n",
    "    rep +=1\n",
    "    \n",
    "    for j in range(N):\n",
    "        for x in cols:\n",
    "            rho2 = partial_trace((DensityMatrix(np.diag([1,0])) ^ x ^ rho2).evolve(Operator(main_2)), list(range(eval_reg.size+1,main_2.num_qubits)))\n",
    "\n",
    "# Hardcoded approach (faster and more accurate for evading partial swap requirement) \n",
    "\n",
    "# N = 100\n",
    "# rep = 0\n",
    "# for counting_qubit in range(eval_reg.size):\n",
    "#     main_2 = QuantumCircuit(eval_reg, rho_reg , anc_reg)\n",
    "    \n",
    "    \n",
    "#     #main_2 = main_2.compose(exp_rho(2*np.pi).to_instruction(), [counting_qubit ,4]); # This is CU\n",
    "#     main_2 = main_2.compose(exp_rho(-2**rep*2*np.pi,Q).to_instruction(), [counting_qubit ,eval_reg.size])\n",
    "#     #main_2.cp(math.pi/4, counting_qubit, 4);\n",
    "#     rep +=1\n",
    "    \n",
    "#     rho2 = partial_trace((DensityMatrix(np.diag([1,0])) ^ rho ^ rho2).evolve(Operator(main_2)), list(range(eval_reg.size+1,main_2.num_qubits)))\n",
    "\n",
    "# 3/3 of QPE: Inverse qft\n",
    "main_3 = QuantumCircuit(eval_reg, rho_reg)\n",
    "\n",
    "qft_dagger(main_3, eval_reg.size)\n",
    "rho2 = rho2.evolve(Operator(main_3))\n",
    "\n",
    "# Measure eigenvalue register and output most probable value\n",
    "outcomes = partial_trace(rho2, [eval_reg.size]).sample_counts(shots=10000)\n",
    "\n",
    "print(evals.real)\n",
    "print(int(max(outcomes, key=outcomes.get), 2)/(2**eval_reg.size)) # Important: binary to float via b/2^n\n",
    "\n",
    "qiskit.visualization.plot_histogram(outcomes)"
   ]
  },
  {
   "cell_type": "code",
   "execution_count": 3830,
   "id": "be5074a4-f7d3-4e65-bb3d-a0d77c78767b",
   "metadata": {},
   "outputs": [
    {
     "data": {
      "text/plain": [
       "array([[0.63476644, 0.15482861],\n",
       "       [0.15482861, 0.36523356]])"
      ]
     },
     "execution_count": 3830,
     "metadata": {},
     "output_type": "execute_result"
    }
   ],
   "source": [
    "Q"
   ]
  },
  {
   "cell_type": "markdown",
   "id": "07b81145-ba7e-4f8a-b65c-3eb0ce6fe555",
   "metadata": {
    "jp-MarkdownHeadingCollapsed": true,
    "tags": []
   },
   "source": [
    "## Exact QPE"
   ]
  },
  {
   "cell_type": "code",
   "execution_count": null,
   "id": "7ccd4af5-049d-473b-8ca5-026803039baf",
   "metadata": {},
   "outputs": [],
   "source": [
    "rho = DensityMatrix(np.diag([1]+[0]*(2**4-1)))"
   ]
  },
  {
   "cell_type": "code",
   "execution_count": null,
   "id": "45b8287b-35cc-46d6-a433-bbf71e0d61f4",
   "metadata": {},
   "outputs": [],
   "source": [
    "qpe = QuantumCircuit(4)"
   ]
  },
  {
   "cell_type": "code",
   "execution_count": 1640,
   "id": "fa1a1bbb-a069-4104-87d9-6fa649d8950e",
   "metadata": {
    "tags": []
   },
   "outputs": [
    {
     "data": {
      "text/html": [
       "<pre style=\"word-wrap: normal;white-space: pre;background: #fff0;line-height: 1.1;font-family: &quot;Courier New&quot;,Courier,monospace\">     ┌───┐\n",
       "q_0: ┤ H ├\n",
       "     ├───┤\n",
       "q_1: ┤ H ├\n",
       "     ├───┤\n",
       "q_2: ┤ H ├\n",
       "     └───┘\n",
       "q_3: ─────\n",
       "          </pre>"
      ],
      "text/plain": [
       "     ┌───┐\n",
       "q_0: ┤ H ├\n",
       "     ├───┤\n",
       "q_1: ┤ H ├\n",
       "     ├───┤\n",
       "q_2: ┤ H ├\n",
       "     └───┘\n",
       "q_3: ─────\n",
       "          "
      ]
     },
     "execution_count": 1640,
     "metadata": {},
     "output_type": "execute_result"
    }
   ],
   "source": [
    "#qpe.x(3)\n",
    "for qubit in range(3):\n",
    "    qpe.h(qubit)\n",
    "qpe.draw()"
   ]
  },
  {
   "cell_type": "code",
   "execution_count": 1641,
   "id": "4c844b0f-1bc9-429f-9f09-5239e6e46872",
   "metadata": {},
   "outputs": [],
   "source": [
    "rho2 = rho.evolve(Operator(qpe))"
   ]
  },
  {
   "cell_type": "code",
   "execution_count": 1642,
   "id": "50d35f20-6c6f-4a01-985c-99b9b7405a8b",
   "metadata": {},
   "outputs": [
    {
     "data": {
      "text/html": [
       "<pre style=\"word-wrap: normal;white-space: pre;background: #fff0;line-height: 1.1;font-family: &quot;Courier New&quot;,Courier,monospace\">                                         \n",
       "q_0: ────────────────────────────────────\n",
       "                                         \n",
       "q_1: ────────────────────────────────────\n",
       "                                         \n",
       "q_2: ─■────────■────────■────────■───────\n",
       "      │P(π/4)  │P(π/4)  │P(π/4)  │P(π/4) \n",
       "q_3: ─■────────■────────■────────■───────\n",
       "                                         </pre>"
      ],
      "text/plain": [
       "                                         \n",
       "q_0: ────────────────────────────────────\n",
       "                                         \n",
       "q_1: ────────────────────────────────────\n",
       "                                         \n",
       "q_2: ─■────────■────────■────────■───────\n",
       "      │P(π/4)  │P(π/4)  │P(π/4)  │P(π/4) \n",
       "q_3: ─■────────■────────■────────■───────\n",
       "                                         "
      ]
     },
     "execution_count": 1642,
     "metadata": {},
     "output_type": "execute_result"
    }
   ],
   "source": [
    "\n",
    "rep = 1\n",
    "for counting_qubit in range(3):\n",
    "    qpe = QuantumCircuit(4)\n",
    "    \n",
    "    for i in range(rep):\n",
    "        qpe.cp(math.pi/4, counting_qubit, 3); # This is CU\n",
    "    rep *= 2\n",
    "    \n",
    "    rho2 = rho2.evolve(Operator(qpe))\n",
    "    \n",
    "qpe.draw()\n",
    "\n"
   ]
  },
  {
   "cell_type": "code",
   "execution_count": 1643,
   "id": "0e87d430-a627-4026-9db4-4812fec88016",
   "metadata": {},
   "outputs": [
    {
     "data": {
      "image/png": "[encoded data removed]",
      "text/plain": [
       "<Figure size 568.197x264.88 with 1 Axes>"
      ]
     },
     "execution_count": 1643,
     "metadata": {},
     "output_type": "execute_result"
    }
   ],
   "source": [
    "qpe.draw('mpl')"
   ]
  },
  {
   "cell_type": "code",
   "execution_count": 1644,
   "id": "31a32e1e-3801-4a4e-af4e-c1f6c4c79bb1",
   "metadata": {},
   "outputs": [],
   "source": [
    "def qft_dagger(qc, n):\n",
    "    \"\"\"n-qubit QFTdagger the first n qubits in circ\"\"\"\n",
    "    # Don't forget the Swaps!\n",
    "    for qubit in range(n//2):\n",
    "        qc.swap(qubit, n-qubit-1)\n",
    "    for j in range(n):\n",
    "        for m in range(j):\n",
    "            qc.cp(-math.pi/float(2**(j-m)), m, j)\n",
    "        qc.h(j)"
   ]
  },
  {
   "cell_type": "code",
   "execution_count": 1645,
   "id": "d651771a-9784-47f0-a6c8-f617e8a39ec6",
   "metadata": {},
   "outputs": [],
   "source": [
    "qpe = QuantumCircuit(4)"
   ]
  },
  {
   "cell_type": "code",
   "execution_count": 1646,
   "id": "84b46938-a568-4ae2-8b66-92db4bd0ea6b",
   "metadata": {},
   "outputs": [
    {
     "data": {
      "text/plain": [
       "<qiskit.circuit.instructionset.InstructionSet at 0x2037e39a908>"
      ]
     },
     "execution_count": 1646,
     "metadata": {},
     "output_type": "execute_result"
    }
   ],
   "source": [
    "qpe.barrier()\n",
    "# Apply inverse QFT\n",
    "qft_dagger(qpe, 3)\n",
    "# Measure\n",
    "qpe.barrier()"
   ]
  },
  {
   "cell_type": "code",
   "execution_count": 1647,
   "id": "57f9556c-a68c-411d-b3f1-9adcd677df53",
   "metadata": {},
   "outputs": [],
   "source": [
    "rho4 = rho2.evolve(Operator(qpe))"
   ]
  },
  {
   "cell_type": "code",
   "execution_count": 1648,
   "id": "1a3c5524-9ddf-4fab-9c73-6955100bfb4d",
   "metadata": {},
   "outputs": [
    {
     "data": {
      "image/png": "[encoded data removed]",
      "text/plain": [
       "<Figure size 504x360 with 1 Axes>"
      ]
     },
     "execution_count": 1648,
     "metadata": {},
     "output_type": "execute_result"
    }
   ],
   "source": [
    "qiskit.visualization.plot_histogram(partial_trace(rho4, [3]).sample_counts(shots=10000))"
   ]
  },
  {
   "cell_type": "markdown",
   "id": "afcea96e-8240-41c6-bf08-edec2942ddf8",
   "metadata": {
    "jp-MarkdownHeadingCollapsed": true,
    "tags": []
   },
   "source": [
    "# Validating circuit implementation of $e^{-iSt}$"
   ]
  },
  {
   "cell_type": "markdown",
   "id": "9e880828-f26f-402c-8814-0a5e171ef5fc",
   "metadata": {
    "jp-MarkdownHeadingCollapsed": true,
    "tags": []
   },
   "source": [
    "## Initialisation"
   ]
  },
  {
   "cell_type": "code",
   "execution_count": null,
   "id": "da3b2922-8c42-4153-96d8-c4b17ca29679",
   "metadata": {},
   "outputs": [],
   "source": [
    "# X \\in R^3x2, 4-D data arranged rowwise \n",
    "D = np.array([[0.32241437, 0.04200095],\n",
    "       [0.32591982, 0.04014517],\n",
    "       [0.17208166, 0.61868603]])\n",
    "# Normalise each entry \n",
    "X = np.array([x / np.linalg.norm(x) for x in D])\n",
    "\n",
    "# Columns\n",
    "X = X.T\n",
    "\n",
    "# Inner product between pairs of features; equivalent to |psi_i><psi_i| per i number of features\n",
    "Q = 1/3*np.matmul(X,X.T)\n",
    "rho = DensityMatrix(Q)"
   ]
  },
  {
   "cell_type": "code",
   "execution_count": null,
   "id": "05f98a8e-c65d-4efb-9861-1b2e00fa817b",
   "metadata": {},
   "outputs": [],
   "source": [
    "evals, evecs = np.linalg.eig(rho.data)\n",
    "\n",
    "sigma = DensityMatrix(np.outer(evecs[1], evecs[1]))\n",
    "\n",
    "cols = [DensityMatrix(np.outer(x,x)) for x in X.T] \n"
   ]
  },
  {
   "cell_type": "code",
   "execution_count": null,
   "id": "be45d63b-52dc-4ea8-ad43-edc551fe6345",
   "metadata": {},
   "outputs": [],
   "source": [
    "t = 1\n",
    "N = 100\n",
    "dt = 1/N"
   ]
  },
  {
   "cell_type": "code",
   "execution_count": null,
   "id": "49a217f5-04df-4c9a-b139-e3d4adb372e5",
   "metadata": {},
   "outputs": [],
   "source": [
    "w = Parameter(\"w\")"
   ]
  },
  {
   "cell_type": "code",
   "execution_count": null,
   "id": "7065e17f-feab-4892-9d43-f0c78b5874a4",
   "metadata": {},
   "outputs": [],
   "source": [
    "zero = DensityMatrix(np.diag([1,0]))"
   ]
  },
  {
   "cell_type": "code",
   "execution_count": 2429,
   "id": "8d21f77d-91c8-441e-b457-974724cc358a",
   "metadata": {},
   "outputs": [],
   "source": [
    "rando = random_density_matrix(2)"
   ]
  },
  {
   "cell_type": "markdown",
   "id": "7fed7b76-9765-4e25-90ba-decd8788abf8",
   "metadata": {
    "jp-MarkdownHeadingCollapsed": true,
    "tags": []
   },
   "source": [
    "## Main"
   ]
  },
  {
   "cell_type": "code",
   "execution_count": 2460,
   "id": "8d5dc324-f8ea-40b8-86a2-2becfb2dfc3f",
   "metadata": {},
   "outputs": [],
   "source": [
    "def es2_num(x):\n",
    "    return Operator(MatrixOp(x*Operator(qc_swap2())).exp_i())"
   ]
  },
  {
   "cell_type": "code",
   "execution_count": 2462,
   "id": "a5e4e7f1-6b5b-4cc7-99d9-c73b70cca24e",
   "metadata": {},
   "outputs": [],
   "source": [
    "def c_es2_num(x):\n",
    "    return Operator(es2_num(x).to_instruction().control(1))"
   ]
  },
  {
   "cell_type": "code",
   "execution_count": null,
   "id": "ef4033af-5df4-4f2e-99da-0f4d5f91ddb8",
   "metadata": {},
   "outputs": [
    {
     "data": {
      "image/png": "[encoded data removed]",
      "text/plain": [
       "<Figure size 146.652x144.48 with 1 Axes>"
      ]
     },
     "execution_count": 2393,
     "metadata": {},
     "output_type": "execute_result"
    }
   ],
   "source": [
    "qc_swap2().draw('mpl')"
   ]
  },
  {
   "cell_type": "code",
   "execution_count": 2445,
   "id": "b18f8771-1f52-4623-a79e-714eba328079",
   "metadata": {},
   "outputs": [],
   "source": [
    "rho_i = zero ^ rho ^ sigma ^ rando"
   ]
  },
  {
   "cell_type": "code",
   "execution_count": 2446,
   "id": "aeb70efc-1487-42bb-9c30-6ed99053119e",
   "metadata": {},
   "outputs": [
    {
     "data": {
      "text/latex": [
       "$$\n",
       "\n",
       "\\begin{bmatrix}\n",
       "0.0496 & 0.0071 - 0.0369i & 0.1253 & \\cdots & 0.0513 - 0.0612i & 0.0312 & 0.0044 - 0.0231i  \\\\\n",
       " 0.0071 + 0.0369i & 0.0426 & 0.0179 + 0.093i & \\cdots & 0.0793 + 0.0441i & 0.0044 + 0.0231i & 0.0268  \\\\\n",
       " 0.1253 & 0.0179 - 0.093i & 0.3162 & \\cdots & 0.1295 - 0.1546i & 0.0787 & 0.0112 - 0.0584i  \\\\\n",
       " \\vdots & \\vdots & \\vdots & \\ddots & \\vdots & \\vdots & \\vdots \\\\\n",
       " 0.0513 + 0.0612i & 0.0793 - 0.0441i & 0.1295 + 0.1546i & \\cdots & 0.1982 & 0.0171 + 0.0529i & 0.0626 - 0.0077i  \\\\\n",
       " 0.0312 & 0.0044 - 0.0231i & 0.0787 & \\cdots & 0.0171 - 0.0529i & 0.1488 & 0.0212 - 0.1105i  \\\\\n",
       " 0.0044 + 0.0231i & 0.0268 & 0.0112 + 0.0584i & \\cdots & 0.0626 + 0.0077i & 0.0212 + 0.1105i & 0.1278  \\\\\n",
       " \\end{bmatrix}\n",
       "$$"
      ],
      "text/plain": [
       "<IPython.core.display.Latex object>"
      ]
     },
     "execution_count": 2446,
     "metadata": {},
     "output_type": "execute_result"
    }
   ],
   "source": [
    "printmat(partial_trace((zero ^ rho ^ sigma ^ rando).evolve(c_es2(t)),[3]))"
   ]
  },
  {
   "cell_type": "code",
   "execution_count": 2466,
   "id": "1562b312-24ea-4922-bd81-d56ce1907d4f",
   "metadata": {},
   "outputs": [
    {
     "data": {
      "text/latex": [
       "$$\n",
       "\n",
       "\\begin{bmatrix}\n",
       "0.0496 & 0.0071 - 0.0369i & 0.1253 & \\cdots & 0.0513 - 0.0612i & 0.0312 & 0.0044 - 0.0231i  \\\\\n",
       " 0.0071 + 0.0369i & 0.0426 & 0.0179 + 0.093i & \\cdots & 0.0793 + 0.0441i & 0.0044 + 0.0231i & 0.0268  \\\\\n",
       " 0.1253 & 0.0179 - 0.093i & 0.3162 & \\cdots & 0.1295 - 0.1546i & 0.0787 & 0.0112 - 0.0584i  \\\\\n",
       " \\vdots & \\vdots & \\vdots & \\ddots & \\vdots & \\vdots & \\vdots \\\\\n",
       " 0.0513 + 0.0612i & 0.0793 - 0.0441i & 0.1295 + 0.1546i & \\cdots & 0.1982 & 0.0171 + 0.0529i & 0.0626 - 0.0077i  \\\\\n",
       " 0.0312 & 0.0044 - 0.0231i & 0.0787 & \\cdots & 0.0171 - 0.0529i & 0.1488 & 0.0212 - 0.1105i  \\\\\n",
       " 0.0044 + 0.0231i & 0.0268 & 0.0112 + 0.0584i & \\cdots & 0.0626 + 0.0077i & 0.0212 + 0.1105i & 0.1278  \\\\\n",
       " \\end{bmatrix}\n",
       "$$"
      ],
      "text/plain": [
       "<IPython.core.display.Latex object>"
      ]
     },
     "execution_count": 2466,
     "metadata": {},
     "output_type": "execute_result"
    }
   ],
   "source": [
    "printmat((rho ^ sigma ^ rando).evolve(c_es2_num(t)))"
   ]
  },
  {
   "cell_type": "code",
   "execution_count": 2472,
   "id": "d81542b6-01f5-4d3c-9cf6-75f4f74ae450",
   "metadata": {},
   "outputs": [
    {
     "data": {
      "text/latex": [
       "$$\n",
       "\n",
       "\\begin{bmatrix}\n",
       "0 & 0 & 0 & \\cdots & 0 & 0 & 0  \\\\\n",
       " 0 & 0 & 0 & \\cdots & 0 & 0 & 0  \\\\\n",
       " 0 & 0 & 0 & \\cdots & 0 & 0 & 0  \\\\\n",
       " \\vdots & \\vdots & \\vdots & \\ddots & \\vdots & \\vdots & \\vdots \\\\\n",
       " 0 & 0 & 0 & \\cdots & 0 & 0 & 0  \\\\\n",
       " 0 & 0 & 0 & \\cdots & 0 & 0 & 0  \\\\\n",
       " 0 & 0 & 0 & \\cdots & 0 & 0 & 0  \\\\\n",
       " \\end{bmatrix}\n",
       "$$"
      ],
      "text/plain": [
       "<IPython.core.display.Latex object>"
      ]
     },
     "execution_count": 2472,
     "metadata": {},
     "output_type": "execute_result"
    }
   ],
   "source": [
    "printmat((rho ^ sigma ^ rando).evolve(c_es2_num(t)).data - partial_trace((zero ^ rho ^ sigma ^ rando).evolve(c_es2(t)),[3]).data)"
   ]
  },
  {
   "cell_type": "code",
   "execution_count": null,
   "id": "9b71dfa8-919a-482a-b760-2a45318a7fda",
   "metadata": {},
   "outputs": [],
   "source": [
    "# Indeed, tr(c_es2,[3]) = c_es2_num"
   ]
  }
 ],
 "metadata": {
  "kernelspec": {
   "display_name": "Python 3 (ipykernel)",
   "language": "python",
   "name": "python3"
  },
  "language_info": {
   "codemirror_mode": {
    "name": "ipython",
    "version": 3
   },
   "file_extension": ".py",
   "mimetype": "text/x-python",
   "name": "python",
   "nbconvert_exporter": "python",
   "pygments_lexer": "ipython3",
   "version": "3.7.11"
  }
 },
 "nbformat": 4,
 "nbformat_minor": 5
}
