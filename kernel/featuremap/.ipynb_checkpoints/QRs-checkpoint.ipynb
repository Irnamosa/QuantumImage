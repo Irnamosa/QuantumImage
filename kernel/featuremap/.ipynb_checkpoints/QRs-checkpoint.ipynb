{
 "cells": [
  {
   "cell_type": "markdown",
   "id": "e1eeb69c-acac-41bf-a2b5-4c1121ef1eab",
   "metadata": {},
   "source": [
    "# Quadratic Residue"
   ]
  },
  {
   "cell_type": "code",
   "execution_count": 1,
   "id": "91042b3a-eee4-4418-93e1-89ab68e5c737",
   "metadata": {},
   "outputs": [],
   "source": [
    "import setup\n",
    "from circuits import * \n",
    "import sympy as sp"
   ]
  },
  {
   "cell_type": "code",
   "execution_count": 2,
   "id": "52fafd61-8a4d-4d46-895a-14373a21797d",
   "metadata": {},
   "outputs": [],
   "source": [
    "def residues(n):\n",
    "    v = []\n",
    "    res = np.zeros(n)\n",
    "    for i in range(n):\n",
    "        if(np.gcd(i,n) == 1):\n",
    "            #print(i, i**2 % n)\n",
    "            res[i**2 % n] += 1\n",
    "            v.append(i**2 % n)\n",
    "    return res, np.sort(np.array(list(set(v))))"
   ]
  },
  {
   "cell_type": "code",
   "execution_count": 3,
   "id": "93135745-dca8-4d1e-a5d3-46705512e3cd",
   "metadata": {},
   "outputs": [],
   "source": [
    "def is_prime(n):\n",
    "  if n == 2 or n == 3: return True\n",
    "  if n < 2 or n%2 == 0: return False\n",
    "  if n < 9: return True\n",
    "  if n%3 == 0: return False\n",
    "  r = int(n**0.5)\n",
    "  # since all primes > 3 are of the form 6n ± 1\n",
    "  # start with f=5 (which is prime)\n",
    "  # and test f, f+2 for being prime\n",
    "  # then loop by 6. \n",
    "  f = 5\n",
    "  while f <= r:\n",
    "    #print('\\t',f)\n",
    "    if n % f == 0: return False\n",
    "    if n % (f+2) == 0: return False\n",
    "    f += 6\n",
    "  return True    "
   ]
  },
  {
   "cell_type": "code",
   "execution_count": 4,
   "id": "992f0cbf-1490-4b7e-aa27-62042cdf9fd7",
   "metadata": {},
   "outputs": [],
   "source": [
    "def coprimes(n):\n",
    "    cps = []\n",
    "    for i in range(n):\n",
    "        if(np.gcd(i,n)==1):\n",
    "            cps.append(i)\n",
    "    return cps\n",
    "\n",
    "def pol2cart(rho, phi):\n",
    "    y = rho * np.cos(phi)\n",
    "    x = rho * np.sin(phi)\n",
    "    return(x, y)\n",
    "\n",
    "def dlp(reses, n):\n",
    "    dlps = coprimes(n)\n",
    "    \n",
    "    dlps = [[dlp] + [\"green\"] if (dlp in reses) else [dlp] + [\"red\"] for dlp in dlps]\n",
    "\n",
    "    dlps_order,  _ = list(zip(*dlps))\n",
    "\n",
    "    coords_labels = [[pol2cart(1, (dlp[0]-1)*np.pi*2/(n-1)), dlp[1]] for dlp in dlps]\n",
    "    \n",
    "    coords, labels = list(zip(*coords_labels))    \n",
    "    \n",
    "    dlp_plot(coords, labels, title=r\"$\\mathbb{{Z}}^{{*}}_{{{p}}}$\".format(p=p))\n",
    "    \n",
    "def dlp_plot(coords, labels, diameter=None, title=None):\n",
    "    circle1 = plt.Circle((0, 0), 1, facecolor= 'none', edgecolor='black', linewidth=3, zorder=0)\n",
    "\n",
    "    \n",
    "    fig, ax = plt.subplots(figsize=(5,5)) \n",
    "\n",
    "    if(diameter):\n",
    "        plt.plot(*list(zip(*diameter)), color='black', linewidth=3)\n",
    "    \n",
    "    plt.xlim(-1.5,1.5)\n",
    "    plt.ylim(-1.5,1.5)\n",
    "\n",
    "    ax.add_patch(circle1)\n",
    "    \n",
    "    xs, ys = list(zip(*coords))\n",
    "\n",
    "    plt.scatter(xs, ys, color=labels, linewidth=3,zorder =5)\n",
    "    #[plt.annotate(str(i), xy=1.2*np.array(coords[i-1]), ha=\"center\", va=\"center\") for i in range(1,len(xs)+1)]\n",
    "    plt.axis('off')\n",
    "    \n",
    "    plt.title(title, fontsize=20, loc='left')\n",
    "    \n",
    "    #plt.savefig(\"./images/DLP/\" + ''.join(e for e in title if e.isalnum()) + \".pdf\",  bbox_inches='tight')\n",
    "    \n",
    "    plt.show()"
   ]
  },
  {
   "cell_type": "code",
   "execution_count": 5,
   "id": "c33334e8-7a02-4d38-beed-83006c47c3f1",
   "metadata": {},
   "outputs": [],
   "source": [
    "primes = [i for i in range(10,10**3) if is_prime(i)]"
   ]
  },
  {
   "cell_type": "code",
   "execution_count": 334,
   "id": "bb8c8e84-1bb2-49aa-a66a-72daaec64704",
   "metadata": {},
   "outputs": [
    {
     "data": {
      "text/plain": [
       "197"
      ]
     },
     "execution_count": 334,
     "metadata": {},
     "output_type": "execute_result"
    }
   ],
   "source": [
    "primes[40]"
   ]
  },
  {
   "cell_type": "code",
   "execution_count": 335,
   "id": "281d6cd6-8b81-48d3-af92-774a62446286",
   "metadata": {},
   "outputs": [
    {
     "data": {
      "text/plain": [
       "229"
      ]
     },
     "execution_count": 335,
     "metadata": {},
     "output_type": "execute_result"
    }
   ],
   "source": [
    "primes[45]"
   ]
  },
  {
   "cell_type": "code",
   "execution_count": 336,
   "id": "cd98b4b3-6408-45e7-b468-e7136795a5cd",
   "metadata": {},
   "outputs": [],
   "source": [
    "p = primes[50]\n",
    "q = primes[55]"
   ]
  },
  {
   "cell_type": "code",
   "execution_count": 553,
   "id": "149e7ab7-6e0f-4b84-8377-a316e2a351c9",
   "metadata": {},
   "outputs": [],
   "source": [
    "p = primes[5]\n",
    "q = primes[10]"
   ]
  },
  {
   "cell_type": "code",
   "execution_count": 630,
   "id": "134dda4b-e196-41cc-8270-5f7c5a85583f",
   "metadata": {},
   "outputs": [],
   "source": [
    "# Sizeable number with two primes satisfying 2**11 - 1\n",
    "p = primes[4]\n",
    "q = primes[19]"
   ]
  },
  {
   "cell_type": "code",
   "execution_count": 634,
   "id": "edffdbfd-b782-4e13-8b1a-bfa694a346a4",
   "metadata": {},
   "outputs": [],
   "source": [
    "p = 3\n",
    "q = 5"
   ]
  },
  {
   "cell_type": "code",
   "execution_count": 635,
   "id": "510bb426-d80e-4b20-8255-4f474e1e249e",
   "metadata": {},
   "outputs": [],
   "source": [
    "n = p*q"
   ]
  },
  {
   "cell_type": "code",
   "execution_count": 636,
   "id": "2f0aab51-e0df-44dd-8a84-79b81ff5552f",
   "metadata": {},
   "outputs": [
    {
     "data": {
      "text/plain": [
       "15"
      ]
     },
     "execution_count": 636,
     "metadata": {},
     "output_type": "execute_result"
    }
   ],
   "source": [
    "n"
   ]
  },
  {
   "cell_type": "markdown",
   "id": "4a5ba946-8a06-492f-b959-b0935a793b81",
   "metadata": {
    "jp-MarkdownHeadingCollapsed": true,
    "tags": []
   },
   "source": [
    "# Troubleshooting"
   ]
  },
  {
   "cell_type": "code",
   "execution_count": 637,
   "id": "353c108e-1034-4456-a5ca-7f4f50970371",
   "metadata": {},
   "outputs": [
    {
     "data": {
      "text/plain": [
       "0.5333333333333333"
      ]
     },
     "execution_count": 637,
     "metadata": {},
     "output_type": "execute_result"
    }
   ],
   "source": [
    "sp.totient(n)/n"
   ]
  },
  {
   "cell_type": "code",
   "execution_count": 638,
   "id": "c587a36c-657f-4148-a10d-c9968b5ddcb1",
   "metadata": {},
   "outputs": [],
   "source": [
    "res, v = residues(n)"
   ]
  },
  {
   "cell_type": "code",
   "execution_count": 639,
   "id": "030c640e-674a-4cc1-9c95-b9c563466814",
   "metadata": {},
   "outputs": [
    {
     "data": {
      "text/plain": [
       "2.0"
      ]
     },
     "execution_count": 639,
     "metadata": {},
     "output_type": "execute_result"
    }
   ],
   "source": [
    "sum(res)/4"
   ]
  },
  {
   "cell_type": "code",
   "execution_count": 640,
   "id": "33444790-ca46-48f6-976d-9b93ab92ba1a",
   "metadata": {},
   "outputs": [],
   "source": [
    "nqrs = int(((p-1)*(q-1))/4)"
   ]
  },
  {
   "cell_type": "code",
   "execution_count": 611,
   "id": "d4b90537-38bd-41d4-bb7a-b22a0cb7416f",
   "metadata": {},
   "outputs": [
    {
     "data": {
      "text/plain": [
       "2046"
      ]
     },
     "execution_count": 611,
     "metadata": {},
     "output_type": "execute_result"
    }
   ],
   "source": [
    "len(res[1:])"
   ]
  },
  {
   "cell_type": "code",
   "execution_count": 641,
   "id": "959acfda-b824-4712-a45e-98fb3b4888c0",
   "metadata": {},
   "outputs": [],
   "source": [
    "for i in range(len(v)):\n",
    "    if(sum(np.sort(v*v[i] % n) - (v % n)) != 0):\n",
    "        print(i, \"what the...\")\n",
    "        break"
   ]
  },
  {
   "cell_type": "code",
   "execution_count": 642,
   "id": "d6315a94-eb17-4a69-b3ca-0588e69e29d7",
   "metadata": {},
   "outputs": [
    {
     "data": {
      "text/plain": [
       "2"
      ]
     },
     "execution_count": 642,
     "metadata": {},
     "output_type": "execute_result"
    }
   ],
   "source": [
    "len(v)"
   ]
  },
  {
   "cell_type": "code",
   "execution_count": 643,
   "id": "89044e44-2f19-4ea9-ba13-5acfbad0851d",
   "metadata": {},
   "outputs": [],
   "source": [
    "idx = []\n",
    "vals = [] \n",
    "for i in range(1,n):\n",
    "    idx.append(i)\n",
    "    vals.append(np.sum(np.abs(np.sign(np.sort(v*i % n) - v))))"
   ]
  },
  {
   "cell_type": "code",
   "execution_count": 644,
   "id": "c9578c7e-3dfb-400d-b4e9-fedfe67cadcc",
   "metadata": {},
   "outputs": [],
   "source": [
    "idx = np.array(idx)\n",
    "vals = np.array(vals)/nqrs"
   ]
  },
  {
   "cell_type": "code",
   "execution_count": 645,
   "id": "1e3843eb-a4fd-4535-911a-979ac18a1345",
   "metadata": {},
   "outputs": [
    {
     "data": {
      "text/plain": [
       "<matplotlib.collections.PathCollection at 0x1cc482faa88>"
      ]
     },
     "execution_count": 645,
     "metadata": {},
     "output_type": "execute_result"
    },
    {
     "data": {
      "image/png": "[encoded data removed]",
      "text/plain": [
       "<Figure size 640x480 with 1 Axes>"
      ]
     },
     "metadata": {},
     "output_type": "display_data"
    }
   ],
   "source": [
    "plt.scatter(idx,vals, c = res[1:])"
   ]
  },
  {
   "cell_type": "code",
   "execution_count": 617,
   "id": "2443de85-37d1-48a9-8322-9f30c20d9df4",
   "metadata": {},
   "outputs": [
    {
     "ename": "IndexError",
     "evalue": "index 0 is out of bounds for axis 0 with size 0",
     "output_type": "error",
     "traceback": [
      "\u001b[1;31m---------------------------------------------------------------------------\u001b[0m",
      "\u001b[1;31mIndexError\u001b[0m                                Traceback (most recent call last)",
      "\u001b[1;32m~\\AppData\\Local\\Temp\\ipykernel_10972\\2722284556.py\u001b[0m in \u001b[0;36m<module>\u001b[1;34m\u001b[0m\n\u001b[1;32m----> 1\u001b[1;33m \u001b[0mnp\u001b[0m\u001b[1;33m.\u001b[0m\u001b[0mnonzero\u001b[0m\u001b[1;33m(\u001b[0m\u001b[1;33m(\u001b[0m\u001b[0mvals\u001b[0m \u001b[1;33m<\u001b[0m \u001b[1;36m0.4\u001b[0m\u001b[1;33m)\u001b[0m \u001b[1;33m&\u001b[0m \u001b[1;33m(\u001b[0m\u001b[0mvals\u001b[0m \u001b[1;33m>\u001b[0m \u001b[1;36m0.2\u001b[0m\u001b[1;33m)\u001b[0m\u001b[1;33m)\u001b[0m\u001b[1;33m[\u001b[0m\u001b[1;36m0\u001b[0m\u001b[1;33m]\u001b[0m\u001b[1;33m[\u001b[0m\u001b[1;36m0\u001b[0m\u001b[1;33m]\u001b[0m\u001b[1;33m\u001b[0m\u001b[1;33m\u001b[0m\u001b[0m\n\u001b[0m",
      "\u001b[1;31mIndexError\u001b[0m: index 0 is out of bounds for axis 0 with size 0"
     ]
    }
   ],
   "source": [
    "np.nonzero((vals < 0.4) & (vals > 0.2))[0][0]"
   ]
  },
  {
   "cell_type": "code",
   "execution_count": null,
   "id": "e58f8d33-e73e-4c3e-9596-b141c0b2d1c6",
   "metadata": {},
   "outputs": [
    {
     "data": {
      "text/plain": [
       "0.33359375"
      ]
     },
     "execution_count": 425,
     "metadata": {},
     "output_type": "execute_result"
    }
   ],
   "source": [
    "vals[36108]"
   ]
  },
  {
   "cell_type": "code",
   "execution_count": null,
   "id": "026c239d-79e5-4837-84c7-ed780b176f34",
   "metadata": {},
   "outputs": [
    {
     "data": {
      "text/plain": [
       "<matplotlib.collections.PathCollection at 0x1cc2d7c5288>"
      ]
     },
     "execution_count": 440,
     "metadata": {},
     "output_type": "execute_result"
    },
    {
     "data": {
      "image/png": "[encoded data removed]",
      "text/plain": [
       "<Figure size 640x480 with 1 Axes>"
      ]
     },
     "metadata": {},
     "output_type": "display_data"
    }
   ],
   "source": [
    "plt.scatter(idx[v[7376]-100:v[7376]+1000],vals[v[7376]-100:v[7376]+1000], c=res[1:][v[7376]-100:v[7376]+1000])"
   ]
  },
  {
   "cell_type": "code",
   "execution_count": null,
   "id": "070e9c07-7432-4a58-8930-095692f8baa4",
   "metadata": {},
   "outputs": [
    {
     "data": {
      "text/plain": [
       "0.33359375"
      ]
     },
     "execution_count": 441,
     "metadata": {},
     "output_type": "execute_result"
    }
   ],
   "source": [
    "vals[36108]"
   ]
  },
  {
   "cell_type": "code",
   "execution_count": null,
   "id": "681fefed-4256-4e60-abc4-2e8c0beb2942",
   "metadata": {},
   "outputs": [
    {
     "data": {
      "text/plain": [
       "29750"
      ]
     },
     "execution_count": 442,
     "metadata": {},
     "output_type": "execute_result"
    }
   ],
   "source": [
    "v[7376]"
   ]
  },
  {
   "cell_type": "code",
   "execution_count": null,
   "id": "e5aac560-8fb2-466a-800a-363f4ed3455f",
   "metadata": {},
   "outputs": [
    {
     "data": {
      "text/plain": [
       "4.0"
      ]
     },
     "execution_count": 443,
     "metadata": {},
     "output_type": "execute_result"
    }
   ],
   "source": [
    "res[v[7376]]"
   ]
  },
  {
   "cell_type": "code",
   "execution_count": 450,
   "id": "782f2ac6-9080-47d3-beb7-6963fcb8f0c8",
   "metadata": {},
   "outputs": [
    {
     "ename": "IndexError",
     "evalue": "index 7376 is out of bounds for axis 0 with size 322",
     "output_type": "error",
     "traceback": [
      "\u001b[1;31m---------------------------------------------------------------------------\u001b[0m",
      "\u001b[1;31mIndexError\u001b[0m                                Traceback (most recent call last)",
      "\u001b[1;32m~\\AppData\\Local\\Temp\\ipykernel_10972\\2850992350.py\u001b[0m in \u001b[0;36m<module>\u001b[1;34m\u001b[0m\n\u001b[1;32m----> 1\u001b[1;33m \u001b[0mlen\u001b[0m\u001b[1;33m(\u001b[0m\u001b[0mset\u001b[0m\u001b[1;33m(\u001b[0m\u001b[0mnp\u001b[0m\u001b[1;33m.\u001b[0m\u001b[0msort\u001b[0m\u001b[1;33m(\u001b[0m\u001b[0mv\u001b[0m\u001b[1;33m*\u001b[0m\u001b[0mv\u001b[0m\u001b[1;33m[\u001b[0m\u001b[1;36m7376\u001b[0m\u001b[1;33m]\u001b[0m \u001b[1;33m%\u001b[0m \u001b[0mn\u001b[0m\u001b[1;33m)\u001b[0m\u001b[1;33m)\u001b[0m\u001b[1;33m)\u001b[0m\u001b[1;33m\u001b[0m\u001b[1;33m\u001b[0m\u001b[0m\n\u001b[0m",
      "\u001b[1;31mIndexError\u001b[0m: index 7376 is out of bounds for axis 0 with size 322"
     ]
    }
   ],
   "source": [
    "len(set(np.sort(v*v[7376] % n)))"
   ]
  },
  {
   "cell_type": "code",
   "execution_count": 451,
   "id": "9f30db46-a181-4288-b5b7-6d92bdf26cea",
   "metadata": {},
   "outputs": [
    {
     "data": {
      "text/plain": [
       "322"
      ]
     },
     "execution_count": 572,
     "metadata": {},
     "output_type": "execute_result"
    }
   ],
   "source": [
    "len(v)"
   ]
  },
  {
   "cell_type": "code",
   "execution_count": null,
   "id": "ea9f2ed9-9550-4fa6-9a08-5e92cb38c7b5",
   "metadata": {},
   "outputs": [
    {
     "data": {
      "text/plain": [
       "{3854,\n",
       " 12717,\n",
       " 16571,\n",
       " 21118,\n",
       " 25434,\n",
       " 29519,\n",
       " 42236,\n",
       " 42467,\n",
       " 50637,\n",
       " 50868,\n",
       " 59038,\n",
       " 71986}"
      ]
     },
     "execution_count": 455,
     "metadata": {},
     "output_type": "execute_result"
    }
   ],
   "source": [
    "set(v) - set(np.sort(v*v[7376] % n)) "
   ]
  },
  {
   "cell_type": "code",
   "execution_count": null,
   "id": "9df8497e-7898-4476-a1a6-d05945b002e2",
   "metadata": {},
   "outputs": [
    {
     "data": {
      "text/plain": [
       "{7062, 15463, 19779, 23864, 36581, 44982, 45213, 66331, 70416}"
      ]
     },
     "execution_count": 457,
     "metadata": {},
     "output_type": "execute_result"
    }
   ],
   "source": [
    "set(np.sort(v*v[7376] % n)) - set(v) "
   ]
  },
  {
   "cell_type": "code",
   "execution_count": 461,
   "id": "7339e086-451f-4ae8-90f5-e0fd90551e1c",
   "metadata": {},
   "outputs": [
    {
     "data": {
      "text/plain": [
       "{7062, 15463, 19779, 23864, 36581, 44982, 45213, 66331, 70416}"
      ]
     },
     "execution_count": 461,
     "metadata": {},
     "output_type": "execute_result"
    }
   ],
   "source": [
    "# erroneous values? \n",
    "set(np.sort(v*v[7376] % n)) - set(v)"
   ]
  },
  {
   "cell_type": "code",
   "execution_count": 467,
   "id": "c38b2fa2-6b95-4f8c-964d-5b1bad6b4fd1",
   "metadata": {},
   "outputs": [],
   "source": [
    "for i in range(1, n):\n",
    "    if(i**2 % n == 7062):\n",
    "        print(i)"
   ]
  },
  {
   "cell_type": "code",
   "execution_count": 474,
   "id": "4aec7fed-484a-4b51-b882-591a615bb482",
   "metadata": {},
   "outputs": [
    {
     "name": "stdout",
     "output_type": "stream",
     "text": [
      "72215\n"
     ]
    },
    {
     "name": "stderr",
     "output_type": "stream",
     "text": [
      "C:\\Users\\irnam\\Anaconda3\\lib\\site-packages\\ipykernel_launcher.py:2: RuntimeWarning: overflow encountered in long_scalars\n",
      "  \n"
     ]
    }
   ],
   "source": [
    "for j in v:\n",
    "    if(j*v[7376] % n == 7062):\n",
    "        print(j)"
   ]
  },
  {
   "cell_type": "code",
   "execution_count": 495,
   "id": "c044e2f3-befa-49ce-9d49-439c6d828a41",
   "metadata": {},
   "outputs": [
    {
     "name": "stdout",
     "output_type": "stream",
     "text": [
      "(array([17917], dtype=int64),)\n",
      "(array([17912], dtype=int64),)\n",
      "(array([17915], dtype=int64),)\n",
      "(array([17910], dtype=int64),)\n",
      "(array([17911], dtype=int64),)\n",
      "(array([17918], dtype=int64),)\n",
      "(array([17914], dtype=int64),)\n",
      "(array([17913], dtype=int64),)\n",
      "(array([17916], dtype=int64),)\n"
     ]
    }
   ],
   "source": [
    "for i in set(np.sort(v*v[7376] % n)) - set(v): print(np.where(v*v[7376] % n == i))"
   ]
  },
  {
   "cell_type": "code",
   "execution_count": 497,
   "id": "d220aefc-b2db-4e3f-8839-19d88609d63b",
   "metadata": {},
   "outputs": [
    {
     "data": {
      "text/plain": [
       "(array([17918], dtype=int64),)"
      ]
     },
     "execution_count": 497,
     "metadata": {},
     "output_type": "execute_result"
    }
   ],
   "source": [
    "np.where(v*v[7376] % n == 7062)"
   ]
  },
  {
   "cell_type": "code",
   "execution_count": 503,
   "id": "b2060af5-266d-4ac8-abce-8cb400f05b1d",
   "metadata": {},
   "outputs": [
    {
     "name": "stderr",
     "output_type": "stream",
     "text": [
      "C:\\Users\\irnam\\Anaconda3\\lib\\site-packages\\ipykernel_launcher.py:1: RuntimeWarning: overflow encountered in long_scalars\n",
      "  \"\"\"Entry point for launching an IPython kernel.\n"
     ]
    },
    {
     "data": {
      "text/plain": [
       "7062"
      ]
     },
     "execution_count": 503,
     "metadata": {},
     "output_type": "execute_result"
    }
   ],
   "source": [
    "v[17918]*v[7376] % n"
   ]
  },
  {
   "cell_type": "code",
   "execution_count": 506,
   "id": "310f2622-0e6f-45ac-9a2d-4a2ac2c1eda5",
   "metadata": {},
   "outputs": [
    {
     "name": "stderr",
     "output_type": "stream",
     "text": [
      "C:\\Users\\irnam\\Anaconda3\\lib\\site-packages\\ipykernel_launcher.py:1: RuntimeWarning: overflow encountered in long_scalars\n",
      "  \"\"\"Entry point for launching an IPython kernel.\n"
     ]
    },
    {
     "data": {
      "text/plain": [
       "False"
      ]
     },
     "execution_count": 506,
     "metadata": {},
     "output_type": "execute_result"
    }
   ],
   "source": [
    "v[17918]*v[17917] % n in v"
   ]
  },
  {
   "cell_type": "code",
   "execution_count": 479,
   "id": "d0203c4f-cec9-4884-98cb-ff2de8f25d58",
   "metadata": {},
   "outputs": [
    {
     "name": "stderr",
     "output_type": "stream",
     "text": [
      "C:\\Users\\irnam\\Anaconda3\\lib\\site-packages\\ipykernel_launcher.py:1: RuntimeWarning: overflow encountered in long_scalars\n",
      "  \"\"\"Entry point for launching an IPython kernel.\n"
     ]
    },
    {
     "data": {
      "text/plain": [
       "-2146541296"
      ]
     },
     "execution_count": 479,
     "metadata": {},
     "output_type": "execute_result"
    }
   ],
   "source": [
    "v[7376]*j"
   ]
  },
  {
   "cell_type": "code",
   "execution_count": 472,
   "id": "8cbb26a1-427b-4526-9c8b-5553cca118ec",
   "metadata": {},
   "outputs": [
    {
     "ename": "KeyboardInterrupt",
     "evalue": "",
     "output_type": "error",
     "traceback": [
      "\u001b[1;31m---------------------------------------------------------------------------\u001b[0m",
      "\u001b[1;31mKeyboardInterrupt\u001b[0m                         Traceback (most recent call last)",
      "\u001b[1;32m~\\AppData\\Local\\Temp\\ipykernel_10972\\3190144362.py\u001b[0m in \u001b[0;36m<module>\u001b[1;34m\u001b[0m\n\u001b[0;32m      2\u001b[0m     \u001b[0mflag\u001b[0m \u001b[1;33m=\u001b[0m \u001b[1;36m0\u001b[0m\u001b[1;33m\u001b[0m\u001b[1;33m\u001b[0m\u001b[0m\n\u001b[0;32m      3\u001b[0m     \u001b[1;32mfor\u001b[0m \u001b[0mi\u001b[0m \u001b[1;32min\u001b[0m \u001b[0mrange\u001b[0m\u001b[1;33m(\u001b[0m\u001b[1;36m1\u001b[0m\u001b[1;33m,\u001b[0m \u001b[0mn\u001b[0m\u001b[1;33m)\u001b[0m\u001b[1;33m:\u001b[0m\u001b[1;33m\u001b[0m\u001b[1;33m\u001b[0m\u001b[0m\n\u001b[1;32m----> 4\u001b[1;33m         \u001b[1;32mif\u001b[0m\u001b[1;33m(\u001b[0m\u001b[0mi\u001b[0m\u001b[1;33m**\u001b[0m\u001b[1;36m2\u001b[0m \u001b[1;33m%\u001b[0m \u001b[0mn\u001b[0m \u001b[1;33m==\u001b[0m \u001b[0mj\u001b[0m\u001b[1;33m)\u001b[0m\u001b[1;33m:\u001b[0m\u001b[1;33m\u001b[0m\u001b[1;33m\u001b[0m\u001b[0m\n\u001b[0m\u001b[0;32m      5\u001b[0m             \u001b[0mflag\u001b[0m \u001b[1;33m=\u001b[0m \u001b[1;36m1\u001b[0m\u001b[1;33m\u001b[0m\u001b[1;33m\u001b[0m\u001b[0m\n\u001b[0;32m      6\u001b[0m     \u001b[1;32massert\u001b[0m\u001b[1;33m(\u001b[0m\u001b[0mflag\u001b[0m\u001b[1;33m)\u001b[0m\u001b[1;33m\u001b[0m\u001b[1;33m\u001b[0m\u001b[0m\n",
      "\u001b[1;31mKeyboardInterrupt\u001b[0m: "
     ]
    }
   ],
   "source": [
    "for j in v:\n",
    "    flag = 0\n",
    "    for i in range(1, n):\n",
    "        if(i**2 % n == j):\n",
    "            flag = 1\n",
    "    assert(flag)\n",
    "    "
   ]
  },
  {
   "cell_type": "code",
   "execution_count": 459,
   "id": "c0bccc90-d008-43dd-aea8-8562d2235986",
   "metadata": {},
   "outputs": [
    {
     "data": {
      "text/plain": [
       "17920"
      ]
     },
     "execution_count": 459,
     "metadata": {},
     "output_type": "execute_result"
    }
   ],
   "source": [
    "len(v)"
   ]
  },
  {
   "cell_type": "code",
   "execution_count": 550,
   "id": "bcbd78e0-a09d-487c-af93-e8b4338588fd",
   "metadata": {
    "jupyter": {
     "source_hidden": true
    },
    "tags": []
   },
   "outputs": [],
   "source": [
    "def coprimes(n):\n",
    "    cps = []\n",
    "    for i in range(n):\n",
    "        if(np.gcd(i,n)==1):\n",
    "            cps.append(i)\n",
    "    return cps\n",
    "\n",
    "def pol2cart(rho, phi):\n",
    "    y = rho * np.cos(phi)\n",
    "    x = rho * np.sin(phi)\n",
    "    return(x, y)\n",
    "\n",
    "def dlp(reses, n):\n",
    "    dlps = coprimes(n)\n",
    "    \n",
    "    dlps = [[dlp] + [\"green\"] if (dlp in reses) else [dlp] + [\"red\"] for dlp in dlps]\n",
    "\n",
    "    dlps_order,  _ = list(zip(*dlps))\n",
    "\n",
    "    coords_labels = [[pol2cart(1, (dlp[0]-1)*np.pi*2/(n-1)), dlp[1]] for dlp in dlps]\n",
    "    \n",
    "    coords, labels = list(zip(*coords_labels))    \n",
    "    \n",
    "    dlp_plot(coords, labels, title=r\"$\\mathbb{{Z}}^{{*}}_{{{p}}}$\".format(p=p))\n",
    "    \n",
    "def dlp_plot(coords, labels, diameter=None, title=None):\n",
    "    circle1 = plt.Circle((0, 0), 1, facecolor= 'none', edgecolor='black', linewidth=3, zorder=0)\n",
    "\n",
    "    \n",
    "    fig, ax = plt.subplots(figsize=(5,5)) \n",
    "\n",
    "    if(diameter):\n",
    "        plt.plot(*list(zip(*diameter)), color='black', linewidth=3)\n",
    "    \n",
    "    plt.xlim(-1.5,1.5)\n",
    "    plt.ylim(-1.5,1.5)\n",
    "\n",
    "    ax.add_patch(circle1)\n",
    "    \n",
    "    xs, ys = list(zip(*coords))\n",
    "\n",
    "    plt.scatter(xs, ys, color=labels, linewidth=3,zorder =5)\n",
    "    #[plt.annotate(str(i), xy=1.2*np.array(coords[i-1]), ha=\"center\", va=\"center\") for i in range(1,len(xs)+1)]\n",
    "    plt.axis('off')\n",
    "    \n",
    "    plt.title(title, fontsize=20, loc='left')\n",
    "    \n",
    "    #plt.savefig(\"./images/DLP/\" + ''.join(e for e in title if e.isalnum()) + \".pdf\",  bbox_inches='tight')\n",
    "    \n",
    "    plt.show()"
   ]
  },
  {
   "cell_type": "code",
   "execution_count": 541,
   "id": "61aa4f92-a5f6-4d1e-84b4-2801448f7b36",
   "metadata": {},
   "outputs": [
    {
     "data": {
      "text/plain": [
       "1363"
      ]
     },
     "execution_count": 541,
     "metadata": {},
     "output_type": "execute_result"
    }
   ],
   "source": [
    "n"
   ]
  },
  {
   "cell_type": "code",
   "execution_count": 542,
   "id": "ab8ba882-dfdb-42d5-8d94-53aa2d2bbc2d",
   "metadata": {},
   "outputs": [
    {
     "data": {
      "text/plain": [
       "1288"
      ]
     },
     "execution_count": 542,
     "metadata": {},
     "output_type": "execute_result"
    }
   ],
   "source": [
    "len(coprimes(n))"
   ]
  },
  {
   "cell_type": "code",
   "execution_count": 543,
   "id": "969b0cfd-b693-4c95-be0a-3e2f3959ee06",
   "metadata": {},
   "outputs": [
    {
     "data": {
      "text/plain": [
       "1363"
      ]
     },
     "execution_count": 543,
     "metadata": {},
     "output_type": "execute_result"
    }
   ],
   "source": [
    "n"
   ]
  },
  {
   "cell_type": "code",
   "execution_count": 545,
   "id": "55312fc7-b02a-47d7-bda2-7e29a4d5eb06",
   "metadata": {},
   "outputs": [
    {
     "data": {
      "text/plain": [
       "1363"
      ]
     },
     "execution_count": 545,
     "metadata": {},
     "output_type": "execute_result"
    }
   ],
   "source": [
    "n"
   ]
  },
  {
   "cell_type": "code",
   "execution_count": 546,
   "id": "f43bc994-9b27-4408-8dba-56589a10826b",
   "metadata": {},
   "outputs": [
    {
     "data": {
      "text/plain": [
       "1288"
      ]
     },
     "execution_count": 546,
     "metadata": {},
     "output_type": "execute_result"
    }
   ],
   "source": [
    "len(coprimes(n))"
   ]
  },
  {
   "cell_type": "code",
   "execution_count": 619,
   "id": "b2b1c65b-79ad-4663-a89d-b2964967435a",
   "metadata": {},
   "outputs": [
    {
     "data": {
      "text/plain": [
       "484"
      ]
     },
     "execution_count": 619,
     "metadata": {},
     "output_type": "execute_result"
    }
   ],
   "source": [
    "len(v)"
   ]
  },
  {
   "cell_type": "code",
   "execution_count": 646,
   "id": "b9a87d2f-59df-4c71-b3b3-b7cc01ef7032",
   "metadata": {},
   "outputs": [
    {
     "data": {
      "image/png": "[encoded data removed]",
      "text/plain": [
       "<Figure size 500x500 with 1 Axes>"
      ]
     },
     "metadata": {},
     "output_type": "display_data"
    }
   ],
   "source": [
    "dlp(v, n)"
   ]
  },
  {
   "cell_type": "markdown",
   "id": "61e57092-b904-4305-be7f-9064a1190bed",
   "metadata": {
    "tags": []
   },
   "source": [
    "# $n = p_5 \\times p_{10}$"
   ]
  },
  {
   "cell_type": "code",
   "execution_count": 621,
   "id": "fdbeab97-85d2-4621-a513-e114c82a384e",
   "metadata": {},
   "outputs": [],
   "source": [
    "res, v = residues(n)"
   ]
  },
  {
   "cell_type": "code",
   "execution_count": 622,
   "id": "ca4b2110-8bd0-4786-8342-dfdafe2ee484",
   "metadata": {},
   "outputs": [],
   "source": [
    "idx = []\n",
    "vals = [] \n",
    "for i in range(1,n):\n",
    "    idx.append(i)\n",
    "    vals.append(np.sum(np.abs(np.sign(np.sort(v*i % n) - v))))"
   ]
  },
  {
   "cell_type": "code",
   "execution_count": 623,
   "id": "03a5c47f-a6fc-4235-b6c3-353dfb3a3e30",
   "metadata": {},
   "outputs": [],
   "source": [
    "idx = np.array(idx)\n",
    "vals = np.array(vals)/nqrs"
   ]
  },
  {
   "cell_type": "code",
   "execution_count": 624,
   "id": "9410f70c-34b1-4300-966c-f1376fe08d4b",
   "metadata": {},
   "outputs": [
    {
     "data": {
      "text/plain": [
       "<matplotlib.collections.PathCollection at 0x1cc482756c8>"
      ]
     },
     "execution_count": 624,
     "metadata": {},
     "output_type": "execute_result"
    },
    {
     "data": {
      "image/png": "[encoded data removed]",
      "text/plain": [
       "<Figure size 640x480 with 1 Axes>"
      ]
     },
     "metadata": {},
     "output_type": "display_data"
    }
   ],
   "source": [
    "plt.scatter(idx,vals, c = res[1:])"
   ]
  },
  {
   "cell_type": "markdown",
   "id": "0e19c965-6252-49a8-8d19-b117a9d20387",
   "metadata": {},
   "source": [
    "# Brute Force: Proof of concept"
   ]
  },
  {
   "cell_type": "code",
   "execution_count": 76,
   "id": "0a917ed0-25b4-4ce7-a101-6e0333f8eeea",
   "metadata": {},
   "outputs": [],
   "source": [
    "from sklearn.model_selection import train_test_split"
   ]
  },
  {
   "cell_type": "code",
   "execution_count": 104,
   "id": "3a6ca8fd-dd12-43e5-8e82-863994fc16d1",
   "metadata": {},
   "outputs": [],
   "source": [
    "p = primes[5]\n",
    "q = primes[10]"
   ]
  },
  {
   "cell_type": "code",
   "execution_count": 105,
   "id": "8fbbe72d-a63d-4523-943a-2f1dbe1d4e36",
   "metadata": {},
   "outputs": [],
   "source": [
    "n = p*q"
   ]
  },
  {
   "cell_type": "code",
   "execution_count": 106,
   "id": "fe062bcf-4220-4105-8310-17084bbd506f",
   "metadata": {},
   "outputs": [],
   "source": [
    "_, res = residues(n)"
   ]
  },
  {
   "cell_type": "code",
   "execution_count": 107,
   "id": "4023b01b-7391-45ab-8b15-7a4f160468fe",
   "metadata": {},
   "outputs": [],
   "source": [
    "dataset = [(i, 1) if i in res else (i, -1) for i in coprimes(n)]"
   ]
  },
  {
   "cell_type": "code",
   "execution_count": 108,
   "id": "992c1d61-1365-4fbe-84a3-5bcfae42c12c",
   "metadata": {},
   "outputs": [],
   "source": [
    "dataset = np.array(list(zip(*dataset)))"
   ]
  },
  {
   "cell_type": "code",
   "execution_count": 109,
   "id": "4d590328-6cfb-4beb-ab98-38be3d74f068",
   "metadata": {},
   "outputs": [],
   "source": [
    "X, y = dataset[0], dataset[1]"
   ]
  },
  {
   "cell_type": "code",
   "execution_count": 110,
   "id": "f864c45f-a8a9-40c3-83df-fad2466de960",
   "metadata": {},
   "outputs": [],
   "source": [
    "X_train, X_test, y_train, y_test = train_test_split(X, y, test_size=0.33)"
   ]
  },
  {
   "cell_type": "code",
   "execution_count": 111,
   "id": "71159422-43d2-407a-97c0-a0dbf8645dc0",
   "metadata": {},
   "outputs": [
    {
     "data": {
      "text/plain": [
       "0.2470997679814385"
      ]
     },
     "execution_count": 111,
     "metadata": {},
     "output_type": "execute_result"
    }
   ],
   "source": [
    "sum(y_train == 1)/len(y_train)"
   ]
  },
  {
   "cell_type": "code",
   "execution_count": 112,
   "id": "7435942c-7c13-48c5-a215-c26d2affc148",
   "metadata": {},
   "outputs": [
    {
     "data": {
      "text/plain": [
       "0.25586854460093894"
      ]
     },
     "execution_count": 112,
     "metadata": {},
     "output_type": "execute_result"
    }
   ],
   "source": [
    "sum(y_test == 1)/len(y_test)"
   ]
  },
  {
   "cell_type": "code",
   "execution_count": 113,
   "id": "cf1400c2-f623-469a-bd2a-d3f5c9a61173",
   "metadata": {},
   "outputs": [
    {
     "data": {
      "text/plain": [
       "0.23624358033749082"
      ]
     },
     "execution_count": 113,
     "metadata": {},
     "output_type": "execute_result"
    }
   ],
   "source": [
    "((p-1)*(q-1)/4)/n"
   ]
  },
  {
   "cell_type": "code",
   "execution_count": 114,
   "id": "b5bccb01-5345-4fc5-ba63-23bc4d082d10",
   "metadata": {},
   "outputs": [
    {
     "data": {
      "image/png": "[encoded data removed]",
      "text/plain": [
       "<Figure size 500x500 with 1 Axes>"
      ]
     },
     "metadata": {},
     "output_type": "display_data"
    }
   ],
   "source": [
    "dlp(res, n)"
   ]
  },
  {
   "cell_type": "code",
   "execution_count": 115,
   "id": "837375c3-2374-437d-b68a-2e34bfae0f01",
   "metadata": {},
   "outputs": [],
   "source": [
    "from sklearn.svm import LinearSVC\n",
    "from sklearn.pipeline import make_pipeline\n",
    "from sklearn.preprocessing import StandardScaler\n",
    "from sklearn.datasets import make_classification\n",
    "from sklearn.linear_model import LogisticRegression\n",
    "from sklearn import svm"
   ]
  },
  {
   "cell_type": "code",
   "execution_count": 116,
   "id": "051c4c5f-b644-4e66-89bc-a35782211901",
   "metadata": {},
   "outputs": [],
   "source": [
    "X_train = X_train.reshape(-1,1)\n",
    "X_test = X_test.reshape(-1,1)"
   ]
  },
  {
   "cell_type": "code",
   "execution_count": 117,
   "id": "0c01abb5-695f-465f-a1c4-2f12147cad63",
   "metadata": {},
   "outputs": [
    {
     "data": {
      "text/plain": [
       "0.744131455399061"
      ]
     },
     "execution_count": 117,
     "metadata": {},
     "output_type": "execute_result"
    }
   ],
   "source": [
    "# Linear SVC\n",
    "clf = make_pipeline(StandardScaler(),\n",
    "                    LinearSVC(random_state=0, tol=1e-5))\n",
    "clf.fit(X_train, y_train)\n",
    "clf.score(X_test, y_test)"
   ]
  },
  {
   "cell_type": "code",
   "execution_count": 118,
   "id": "9909163f-a2a7-4257-b8b4-637aa2be384b",
   "metadata": {},
   "outputs": [],
   "source": [
    "# # Nonlinear SVC\n",
    "# clf = svm.NuSVC(gamma=\"auto\")\n",
    "# clf.fit(X_train, y_train)\n",
    "# clf.score(X_test, y_test)"
   ]
  },
  {
   "cell_type": "code",
   "execution_count": 119,
   "id": "eab1835b-316e-4f19-a329-36f71bf307e0",
   "metadata": {},
   "outputs": [
    {
     "data": {
      "text/plain": [
       "0.744131455399061"
      ]
     },
     "execution_count": 119,
     "metadata": {},
     "output_type": "execute_result"
    }
   ],
   "source": [
    "# Logistic Regression\n",
    "clf = LogisticRegression(random_state=0).fit(X_train, y_train)\n",
    "clf.score(X_test, y_test)"
   ]
  },
  {
   "cell_type": "code",
   "execution_count": 120,
   "id": "d7fcc202-b017-40bc-9c9b-ec6c8dff0fac",
   "metadata": {},
   "outputs": [
    {
     "data": {
      "text/plain": [
       "0.744131455399061"
      ]
     },
     "execution_count": 120,
     "metadata": {},
     "output_type": "execute_result"
    }
   ],
   "source": [
    "from sklearn.neural_network import MLPClassifier\n",
    "\n",
    "clf = MLPClassifier(hidden_layer_sizes=(100,), random_state=10, max_iter=3000000).fit(X_train, y_train)\n",
    "clf.score(X_test, y_test)"
   ]
  },
  {
   "cell_type": "code",
   "execution_count": 121,
   "id": "d5eaff64-233c-47d4-b00a-b440fd8198a3",
   "metadata": {},
   "outputs": [
    {
     "data": {
      "text/plain": [
       "0.5821596244131455"
      ]
     },
     "execution_count": 121,
     "metadata": {},
     "output_type": "execute_result"
    }
   ],
   "source": [
    "from sklearn.ensemble import RandomForestClassifier\n",
    "\n",
    "clf = RandomForestClassifier(max_depth=200, random_state=0)\n",
    "clf.fit(X_train, y_train)\n",
    "\n",
    "clf.score(X_test, y_test)"
   ]
  },
  {
   "cell_type": "code",
   "execution_count": 139,
   "id": "34fa3e8a-ba58-4bcf-bdfc-3985bda5bea8",
   "metadata": {},
   "outputs": [],
   "source": [
    "from sklearn.svm import SVC"
   ]
  },
  {
   "cell_type": "code",
   "execution_count": 142,
   "id": "876ff9ec-22ec-48a8-b214-3f9f20e91c1b",
   "metadata": {},
   "outputs": [],
   "source": [
    "def _brute_kernel(x1,x2):\n",
    "    if ((x1 in res) == (x2 in res)):\n",
    "        return 1\n",
    "    else:\n",
    "        return 0 \n",
    "    \n",
    "def brute_kernel(X, Y):\n",
    "    K = np.zeros((X.shape[0], Y.shape[0]))\n",
    "    for i in range(X.shape[0]):\n",
    "        for j in range(Y.shape[0]):\n",
    "            K[i][j] = _brute_kernel(X[i], Y[j])\n",
    "    \n",
    "    return K"
   ]
  },
  {
   "cell_type": "code",
   "execution_count": 143,
   "id": "05d0c3b2-3276-4cb3-8867-e2167aa7d38c",
   "metadata": {},
   "outputs": [
    {
     "data": {
      "text/plain": [
       "743044"
      ]
     },
     "execution_count": 143,
     "metadata": {},
     "output_type": "execute_result"
    }
   ],
   "source": [
    "len(X_train)*len(X_train)"
   ]
  },
  {
   "cell_type": "code",
   "execution_count": 145,
   "id": "71086965-8010-417f-91f4-bd679dd57659",
   "metadata": {},
   "outputs": [],
   "source": [
    "X_train_sorted = pd.DataFrame(X_train).reindex(pd.Series.sort_values(pd.Series(y_train)).index)"
   ]
  },
  {
   "cell_type": "code",
   "execution_count": 146,
   "id": "3d8adb75-6f2b-4d57-ad2b-1e231fc67861",
   "metadata": {},
   "outputs": [],
   "source": [
    "K = brute_kernel(X_train_sorted.to_numpy(), X_train_sorted.to_numpy())"
   ]
  },
  {
   "cell_type": "code",
   "execution_count": 147,
   "id": "a8cbf570-264a-4b8c-a0dc-ae40d275bbdf",
   "metadata": {},
   "outputs": [
    {
     "data": {
      "text/plain": [
       "<matplotlib.image.AxesImage at 0x2228371c288>"
      ]
     },
     "execution_count": 147,
     "metadata": {},
     "output_type": "execute_result"
    },
    {
     "data": {
      "image/png": "[encoded data removed]",
      "text/plain": [
       "<Figure size 640x480 with 1 Axes>"
      ]
     },
     "metadata": {},
     "output_type": "display_data"
    }
   ],
   "source": [
    "plt.title(\"Kernel matrix\") \n",
    "plt.imshow(K, cmap=\"Greys\",vmin=-0.2,vmax=1, )\n",
    "#plt.savefig(\"kernelmatrix_QRS.jpg\")"
   ]
  },
  {
   "cell_type": "code",
   "execution_count": 150,
   "id": "47571ff1-a2dc-4868-a4b4-1055a976f0b6",
   "metadata": {},
   "outputs": [
    {
     "data": {
      "text/plain": [
       "SVC(kernel=<function brute_kernel at 0x00000222825A6048>)"
      ]
     },
     "execution_count": 150,
     "metadata": {},
     "output_type": "execute_result"
    }
   ],
   "source": [
    "import numpy as np\n",
    "from sklearn.pipeline import make_pipeline\n",
    "from sklearn.svm import SVC\n",
    "clf = svm.SVC(kernel=brute_kernel)\n",
    "clf.fit(X_train, y_train)"
   ]
  },
  {
   "cell_type": "code",
   "execution_count": 152,
   "id": "cb4e6b39-8f47-4338-a179-e69fbd4000ac",
   "metadata": {},
   "outputs": [
    {
     "data": {
      "text/plain": [
       "1.0"
      ]
     },
     "execution_count": 152,
     "metadata": {},
     "output_type": "execute_result"
    }
   ],
   "source": [
    "clf.score(X_test, y_test)"
   ]
  },
  {
   "cell_type": "code",
   "execution_count": 167,
   "id": "67ae7b18-2abd-4804-ba5c-61326c79a038",
   "metadata": {},
   "outputs": [],
   "source": [
    "MAX = 0\n",
    "\n",
    "for i in range(164):\n",
    "    for j in range(164):\n",
    "        for k in range(164):\n",
    "            tmp = ((primes[i]-1)*(primes[j]-1)*(primes[k]-1)/8)/((primes[i])*(primes[j])*(primes[k]))\n",
    "            if (tmp > MAX): MAX = tmp"
   ]
  },
  {
   "cell_type": "code",
   "execution_count": 168,
   "id": "7419ddd6-d986-4f33-b0d5-b34d277c853c",
   "metadata": {},
   "outputs": [
    {
     "data": {
      "text/plain": [
       "0.1246242487488784"
      ]
     },
     "execution_count": 168,
     "metadata": {},
     "output_type": "execute_result"
    }
   ],
   "source": [
    "tmp"
   ]
  },
  {
   "cell_type": "code",
   "execution_count": 169,
   "id": "edb8915d-cc9a-4d21-bc1c-0a2b82809f58",
   "metadata": {},
   "outputs": [
    {
     "data": {
      "text/plain": [
       "322"
      ]
     },
     "execution_count": 169,
     "metadata": {},
     "output_type": "execute_result"
    }
   ],
   "source": [
    "len(res)"
   ]
  },
  {
   "cell_type": "code",
   "execution_count": 170,
   "id": "fb3f9673-097b-4688-b540-619c79af85af",
   "metadata": {},
   "outputs": [],
   "source": [
    "v, res = residues(n)"
   ]
  },
  {
   "cell_type": "code",
   "execution_count": 172,
   "id": "40c57325-fbd5-448f-afd1-5627bb796215",
   "metadata": {},
   "outputs": [
    {
     "data": {
      "text/plain": [
       "322"
      ]
     },
     "execution_count": 172,
     "metadata": {},
     "output_type": "execute_result"
    }
   ],
   "source": [
    "len(res)"
   ]
  },
  {
   "cell_type": "code",
   "execution_count": 177,
   "id": "e502d30e-c8d6-464c-96b3-391b5f236317",
   "metadata": {},
   "outputs": [
    {
     "data": {
      "text/plain": [
       "414736"
      ]
     },
     "execution_count": 177,
     "metadata": {},
     "output_type": "execute_result"
    }
   ],
   "source": [
    "len(res)*len(coprimes(n))"
   ]
  },
  {
   "cell_type": "code",
   "execution_count": 178,
   "id": "b51aa999-1d9e-4352-9733-d983433c9377",
   "metadata": {},
   "outputs": [
    {
     "data": {
      "text/plain": [
       "1288"
      ]
     },
     "execution_count": 178,
     "metadata": {},
     "output_type": "execute_result"
    }
   ],
   "source": [
    "len(coprimes(n))"
   ]
  },
  {
   "cell_type": "code",
   "execution_count": 181,
   "id": "db7a339c-aef7-4fe8-8206-69eeb0f8fbc9",
   "metadata": {},
   "outputs": [
    {
     "data": {
      "text/plain": [
       "1363"
      ]
     },
     "execution_count": 181,
     "metadata": {},
     "output_type": "execute_result"
    }
   ],
   "source": [
    "len(v)"
   ]
  },
  {
   "cell_type": "code",
   "execution_count": 183,
   "id": "1698a637-1bf0-4657-b76f-479e42509672",
   "metadata": {},
   "outputs": [
    {
     "data": {
      "text/plain": [
       "4.0"
      ]
     },
     "execution_count": 183,
     "metadata": {},
     "output_type": "execute_result"
    }
   ],
   "source": [
    "len(coprimes(n))/len(res)"
   ]
  },
  {
   "cell_type": "code",
   "execution_count": 184,
   "id": "8bca9724-0c1b-488a-86db-311605eee4b6",
   "metadata": {},
   "outputs": [
    {
     "data": {
      "text/plain": [
       "29"
      ]
     },
     "execution_count": 184,
     "metadata": {},
     "output_type": "execute_result"
    }
   ],
   "source": [
    "p"
   ]
  },
  {
   "cell_type": "code",
   "execution_count": 185,
   "id": "8a890eb7-c8fd-49c4-a555-2174e798d98c",
   "metadata": {},
   "outputs": [
    {
     "data": {
      "text/plain": [
       "47"
      ]
     },
     "execution_count": 185,
     "metadata": {},
     "output_type": "execute_result"
    }
   ],
   "source": [
    "q"
   ]
  },
  {
   "cell_type": "code",
   "execution_count": 188,
   "id": "47458ae8-f541-4415-8b53-19653a4c100a",
   "metadata": {},
   "outputs": [
    {
     "name": "stdout",
     "output_type": "stream",
     "text": [
      "1\n",
      "610\n",
      "753\n",
      "1362\n"
     ]
    }
   ],
   "source": [
    "for i in coprimes(n):\n",
    "    if(i**2 % n == 1):\n",
    "        print(i)"
   ]
  },
  {
   "cell_type": "code",
   "execution_count": 191,
   "id": "04d37c5e-4b81-4450-9428-96cca7806b84",
   "metadata": {},
   "outputs": [
    {
     "data": {
      "text/plain": [
       "29"
      ]
     },
     "execution_count": 191,
     "metadata": {},
     "output_type": "execute_result"
    }
   ],
   "source": [
    "np.gcd(610-1, n)"
   ]
  },
  {
   "cell_type": "code",
   "execution_count": 192,
   "id": "214c322d-14b3-4862-b47c-b29205291596",
   "metadata": {},
   "outputs": [
    {
     "data": {
      "text/plain": [
       "47"
      ]
     },
     "execution_count": 192,
     "metadata": {},
     "output_type": "execute_result"
    }
   ],
   "source": [
    "np.gcd(610+1, n)"
   ]
  },
  {
   "cell_type": "code",
   "execution_count": 193,
   "id": "beaac418-c724-47a4-bcf9-fc87ac6a1ef5",
   "metadata": {},
   "outputs": [
    {
     "data": {
      "text/plain": [
       "1363"
      ]
     },
     "execution_count": 193,
     "metadata": {},
     "output_type": "execute_result"
    }
   ],
   "source": [
    "n"
   ]
  },
  {
   "cell_type": "code",
   "execution_count": 197,
   "id": "00e2a528-2fcf-4926-8ce3-f7c539d85007",
   "metadata": {},
   "outputs": [
    {
     "data": {
      "text/plain": [
       "13.0"
      ]
     },
     "execution_count": 197,
     "metadata": {},
     "output_type": "execute_result"
    }
   ],
   "source": [
    "611/47"
   ]
  },
  {
   "cell_type": "code",
   "execution_count": 198,
   "id": "62d0c53d-b3c7-40c7-9d24-0b1bf7b87620",
   "metadata": {},
   "outputs": [
    {
     "data": {
      "text/plain": [
       "29.0"
      ]
     },
     "execution_count": 198,
     "metadata": {},
     "output_type": "execute_result"
    }
   ],
   "source": [
    "n/47"
   ]
  },
  {
   "cell_type": "code",
   "execution_count": null,
   "id": "ccfc874b-64a1-4b64-86cf-9c48cb9a8792",
   "metadata": {},
   "outputs": [],
   "source": []
  },
  {
   "cell_type": "code",
   "execution_count": 221,
   "id": "bfc5fbe6-8db9-4de5-8a28-ab4a3b5262a2",
   "metadata": {},
   "outputs": [],
   "source": [
    "lol = np.zeros(2)\n",
    "for i in set(coprimes(n)) - set(res):\n",
    "    if i%2 == 0:\n",
    "        lol[0] += 1\n",
    "    else: \n",
    "        lol[1]+=1 "
   ]
  },
  {
   "cell_type": "code",
   "execution_count": 223,
   "id": "c3adedd2-9dfb-4a2f-883b-22ca5d74dc14",
   "metadata": {},
   "outputs": [
    {
     "data": {
      "text/plain": [
       "array([485., 481.])"
      ]
     },
     "execution_count": 223,
     "metadata": {},
     "output_type": "execute_result"
    }
   ],
   "source": [
    "lol"
   ]
  },
  {
   "cell_type": "code",
   "execution_count": 220,
   "id": "a20e6800-12c4-4621-8518-bd3d89c6ad71",
   "metadata": {},
   "outputs": [
    {
     "data": {
      "text/plain": [
       "322"
      ]
     },
     "execution_count": 220,
     "metadata": {},
     "output_type": "execute_result"
    }
   ],
   "source": [
    "len(coprimes(n))-966"
   ]
  },
  {
   "cell_type": "code",
   "execution_count": 211,
   "id": "ed498b4e-bb2b-4e85-853d-d4e97c3d1d77",
   "metadata": {},
   "outputs": [
    {
     "data": {
      "text/plain": [
       "322"
      ]
     },
     "execution_count": 211,
     "metadata": {},
     "output_type": "execute_result"
    }
   ],
   "source": [
    "len(res)"
   ]
  },
  {
   "cell_type": "code",
   "execution_count": null,
   "id": "650f09b0-5fb7-4f9e-80cb-5be56d532b82",
   "metadata": {},
   "outputs": [],
   "source": []
  }
 ],
 "metadata": {
  "kernelspec": {
   "display_name": "Python 3 (ipykernel)",
   "language": "python",
   "name": "python3"
  },
  "language_info": {
   "codemirror_mode": {
    "name": "ipython",
    "version": 3
   },
   "file_extension": ".py",
   "mimetype": "text/x-python",
   "name": "python",
   "nbconvert_exporter": "python",
   "pygments_lexer": "ipython3",
   "version": "3.7.11"
  }
 },
 "nbformat": 4,
 "nbformat_minor": 5
}
