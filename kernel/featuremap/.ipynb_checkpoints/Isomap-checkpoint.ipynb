{
 "cells": [
  {
   "cell_type": "markdown",
   "id": "b033311f-9edf-493f-ac2d-efca8c2db616",
   "metadata": {},
   "source": [
    "# Isomap"
   ]
  },
  {
   "cell_type": "code",
   "execution_count": 3,
   "id": "6c1f09af-d163-4d0e-a55a-14957b21f61f",
   "metadata": {},
   "outputs": [],
   "source": [
    "import setup\n",
    "from circuits import * "
   ]
  },
  {
   "cell_type": "code",
   "execution_count": 158,
   "id": "d9e73c4c-7ece-46d1-82ac-79900a658c3c",
   "metadata": {},
   "outputs": [],
   "source": [
    "from sklearn.utils.graph import single_source_shortest_path_length"
   ]
  },
  {
   "cell_type": "code",
   "execution_count": 139,
   "id": "2654140c-0794-4e6a-bb07-cb32f9b19212",
   "metadata": {},
   "outputs": [
    {
     "data": {
      "text/plain": [
       "(100, 64)"
      ]
     },
     "execution_count": 139,
     "metadata": {},
     "output_type": "execute_result"
    }
   ],
   "source": [
    "from sklearn.datasets import load_digits\n",
    "from sklearn.manifold import Isomap\n",
    "X, _ = load_digits(return_X_y=True)\n",
    "X = X[:100]\n",
    "X.shape"
   ]
  },
  {
   "cell_type": "code",
   "execution_count": 140,
   "id": "7842ebbc-5c85-45f5-a154-8245550a3bc3",
   "metadata": {},
   "outputs": [
    {
     "data": {
      "text/plain": [
       "(50, 2)"
      ]
     },
     "execution_count": 140,
     "metadata": {},
     "output_type": "execute_result"
    }
   ],
   "source": [
    "embedding = Isomap(n_components=2)\n",
    "X_transformed = embedding.fit_transform(X[:50])\n",
    "X_transformed.shape"
   ]
  },
  {
   "cell_type": "code",
   "execution_count": 143,
   "id": "826871d8-c740-4c19-9078-a5a362e2a240",
   "metadata": {},
   "outputs": [],
   "source": [
    "X = pd.DataFrame(X)"
   ]
  },
  {
   "cell_type": "code",
   "execution_count": 165,
   "id": "1066ef2a-c992-449c-b2e3-9356507d1c86",
   "metadata": {},
   "outputs": [],
   "source": [
    "def kNN(x,X, k=10):\n",
    "    dists = X.apply(lambda y: np.linalg.norm(x-y), axis=1)\n",
    "    dists = dists.sort_values()\n",
    "    dists[set(dists.index) - set(dists.head(k+1).index)] = 0 \n",
    "    return dists.sort_index()\n",
    "    \n",
    "    "
   ]
  },
  {
   "cell_type": "code",
   "execution_count": 200,
   "id": "5533dc5f-54fa-4221-b1ed-043503365ab5",
   "metadata": {},
   "outputs": [],
   "source": [
    "cols = []\n",
    "for i,x in X.iterrows():\n",
    "    cols.append(np.array(kNN(x,X,k=9)))"
   ]
  },
  {
   "cell_type": "code",
   "execution_count": 201,
   "id": "74daccfe-2d5e-4e52-8485-e6735ee46d97",
   "metadata": {},
   "outputs": [],
   "source": [
    "dij_N = np.column_stack(cols)\n"
   ]
  },
  {
   "cell_type": "code",
   "execution_count": 202,
   "id": "2a298735-1809-44f1-ac15-f2cd7b676c51",
   "metadata": {},
   "outputs": [],
   "source": [
    "dists_geodesic = []\n",
    "for i in range(dij_N.shape[0]):\n",
    "    dists_geodesic.append(np.array(pd.Series(single_source_shortest_path_length(dij_N, i)).sort_index()))"
   ]
  },
  {
   "cell_type": "code",
   "execution_count": 203,
   "id": "10283ffd-ced8-4ce4-bbef-26249ad957a2",
   "metadata": {},
   "outputs": [],
   "source": [
    "dij_geo = np.column_stack(dists_geodesic)\n"
   ]
  },
  {
   "cell_type": "code",
   "execution_count": 206,
   "id": "b3d0e56e-438e-4312-a1e2-e0f058f06884",
   "metadata": {},
   "outputs": [
    {
     "data": {
      "text/plain": [
       "array([[ 0,  8,  8, ...,  7,  4,  8],\n",
       "       [ 5,  0,  4, ...,  3,  5,  1],\n",
       "       [ 4,  3,  0, ...,  4,  3,  2],\n",
       "       ...,\n",
       "       [ 3,  3,  5, ...,  0,  4,  3],\n",
       "       [ 6, 10,  9, ...,  9,  0,  9],\n",
       "       [ 4,  1,  3, ...,  2,  4,  0]], dtype=int64)"
      ]
     },
     "execution_count": 206,
     "metadata": {},
     "output_type": "execute_result"
    }
   ],
   "source": [
    "dij_geo"
   ]
  },
  {
   "cell_type": "code",
   "execution_count": 207,
   "id": "294d86ae-209a-4e01-a3f7-431ece4bc1a3",
   "metadata": {},
   "outputs": [],
   "source": [
    "from sklearn.decomposition import KernelPCA"
   ]
  },
  {
   "cell_type": "code",
   "execution_count": 209,
   "id": "d6228cb8-f646-4536-9ad3-9d054c4ba333",
   "metadata": {},
   "outputs": [],
   "source": [
    "from sklearn.metrics.pairwise import linear_kernel\n",
    "from sklearn.metrics.pairwise import pairwise_kernels\n",
    "\n",
    "from sklearn.preprocessing import KernelCenterer"
   ]
  },
  {
   "cell_type": "code",
   "execution_count": 233,
   "id": "7159b028-6526-4236-b94e-4da6a00c676f",
   "metadata": {},
   "outputs": [],
   "source": [
    "K = dij_geo**2"
   ]
  },
  {
   "cell_type": "code",
   "execution_count": 234,
   "id": "1e66a837-ca46-4c69-a2dd-ae3eba14d76b",
   "metadata": {},
   "outputs": [],
   "source": [
    "\n",
    "K_transformer = KernelCenterer().fit(K)\n",
    "K_transformer\n",
    "K = K_transformer.transform(K)"
   ]
  },
  {
   "cell_type": "code",
   "execution_count": 235,
   "id": "67824433-a6ba-48d3-b272-35f7d7884956",
   "metadata": {},
   "outputs": [],
   "source": [
    "evals, evecs = np.linalg.eig(K)"
   ]
  },
  {
   "cell_type": "code",
   "execution_count": null,
   "id": "ffc497a1-0841-4dab-ba88-173561b9ea70",
   "metadata": {},
   "outputs": [],
   "source": []
  },
  {
   "cell_type": "code",
   "execution_count": 236,
   "id": "cff7b883-a985-4586-acfe-c6905b54cede",
   "metadata": {},
   "outputs": [],
   "source": [
    "d= len(X.columns)"
   ]
  },
  {
   "cell_type": "code",
   "execution_count": 237,
   "id": "cd131075-5ab4-454c-9a2f-4117729dd0cf",
   "metadata": {},
   "outputs": [],
   "source": [
    "from sklearn.utils.extmath import svd_flip\n",
    "\n",
    "# Flips evecs sign if its largest element by absolute value is negative (for uniqueness?) \n",
    "evecs, _ = svd_flip(\n",
    "   evecs, np.zeros_like(evecs).T\n",
    ")"
   ]
  },
  {
   "cell_type": "code",
   "execution_count": 238,
   "id": "99c425cc-172d-4d54-90c5-b94dccbfa137",
   "metadata": {},
   "outputs": [],
   "source": [
    "Z = []\n",
    "for n in range(len(evecs)):\n",
    "    zn = np.asarray([np.sqrt(evals[i])*evecs[n][i] for i in range(d)])\n",
    "    Z.append(zn)\n",
    "Z = np.asarray(Z)"
   ]
  },
  {
   "cell_type": "code",
   "execution_count": 239,
   "id": "34bb1b06-cf06-48da-aaf7-0d1153b4f7d1",
   "metadata": {
    "tags": []
   },
   "outputs": [
    {
     "data": {
      "text/plain": [
       "<Figure size 432x288 with 0 Axes>"
      ]
     },
     "metadata": {},
     "output_type": "display_data"
    },
    {
     "data": {
      "image/png": "[encoded data removed]",
      "text/plain": [
       "<Figure size 360x360 with 2 Axes>"
      ]
     },
     "metadata": {
      "needs_background": "light"
     },
     "output_type": "display_data"
    },
    {
     "data": {
      "text/plain": [
       "<Figure size 432x288 with 0 Axes>"
      ]
     },
     "metadata": {},
     "output_type": "display_data"
    },
    {
     "data": {
      "image/png": "[encoded data removed]",
      "text/plain": [
       "<Figure size 360x360 with 2 Axes>"
      ]
     },
     "metadata": {
      "needs_background": "light"
     },
     "output_type": "display_data"
    },
    {
     "data": {
      "text/plain": [
       "<Figure size 432x288 with 0 Axes>"
      ]
     },
     "metadata": {},
     "output_type": "display_data"
    },
    {
     "data": {
      "image/png": "[encoded data removed]",
      "text/plain": [
       "<Figure size 360x360 with 2 Axes>"
      ]
     },
     "metadata": {
      "needs_background": "light"
     },
     "output_type": "display_data"
    }
   ],
   "source": [
    "# Fading out for large components indicates less informative\n",
    "\n",
    "for i in range(3):\n",
    "    plt.gray()\n",
    "    fig, axes = plt.subplots(nrows=1, ncols=2, figsize=(5, 5))\n",
    "\n",
    "    axes[0].matshow(np.array(X.iloc[i]).reshape(8,8))\n",
    "    axes[1].matshow(Z[i].real.reshape(8,8))\n",
    "\n",
    "    plt.show()"
   ]
  }
 ],
 "metadata": {
  "kernelspec": {
   "display_name": "Python 3 (ipykernel)",
   "language": "python",
   "name": "python3"
  },
  "language_info": {
   "codemirror_mode": {
    "name": "ipython",
    "version": 3
   },
   "file_extension": ".py",
   "mimetype": "text/x-python",
   "name": "python",
   "nbconvert_exporter": "python",
   "pygments_lexer": "ipython3",
   "version": "3.7.11"
  }
 },
 "nbformat": 4,
 "nbformat_minor": 5
}
