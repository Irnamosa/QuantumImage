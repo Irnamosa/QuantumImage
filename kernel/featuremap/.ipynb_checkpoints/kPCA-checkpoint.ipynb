{
 "cells": [
  {
   "cell_type": "markdown",
   "id": "09ca4086-056f-43bc-a9ee-08f514dbe1dc",
   "metadata": {
    "tags": []
   },
   "source": [
    "# kPCA"
   ]
  },
  {
   "cell_type": "markdown",
   "id": "27b5d37e-3858-4746-b040-3470908ea5d0",
   "metadata": {},
   "source": [
    "## Classical"
   ]
  },
  {
   "cell_type": "code",
   "execution_count": 66,
   "id": "d4e77f7f-614e-46fe-9d7f-6442c59a64a3",
   "metadata": {},
   "outputs": [],
   "source": [
    "import setup\n",
    "from circuits import * \n",
    "from sklearn.datasets import load_digits\n",
    "from sklearn.decomposition import KernelPCA"
   ]
  },
  {
   "cell_type": "code",
   "execution_count": 4,
   "id": "021a6ec1-aef2-423f-8ddd-848992f78747",
   "metadata": {},
   "outputs": [],
   "source": [
    "N = 100\n",
    "d = 64\n",
    "digits, _ = load_digits(return_X_y=True)\n",
    "digits_trunc = digits[:N]"
   ]
  },
  {
   "cell_type": "code",
   "execution_count": 5,
   "id": "998caa49-cdf8-442a-ac1c-f3b4a4e7aed9",
   "metadata": {},
   "outputs": [
    {
     "data": {
      "text/plain": [
       "(100, 64)"
      ]
     },
     "execution_count": 5,
     "metadata": {},
     "output_type": "execute_result"
    }
   ],
   "source": [
    "\n",
    "transformer = KernelPCA(n_components=d, kernel='linear')\n",
    "X_transformed = transformer.fit_transform(digits_trunc)\n",
    "X_transformed.shape"
   ]
  },
  {
   "cell_type": "code",
   "execution_count": 7,
   "id": "8013dda6-7427-4cba-85d4-790b8b586c00",
   "metadata": {
    "tags": []
   },
   "outputs": [
    {
     "data": {
      "text/plain": [
       "<Figure size 432x288 with 0 Axes>"
      ]
     },
     "metadata": {},
     "output_type": "display_data"
    },
    {
     "data": {
      "image/png": "[encoded data removed]",
      "text/plain": [
       "<Figure size 360x360 with 2 Axes>"
      ]
     },
     "metadata": {
      "needs_background": "light"
     },
     "output_type": "display_data"
    },
    {
     "data": {
      "text/plain": [
       "<Figure size 432x288 with 0 Axes>"
      ]
     },
     "metadata": {},
     "output_type": "display_data"
    },
    {
     "data": {
      "image/png": "[encoded data removed]",
      "text/plain": [
       "<Figure size 360x360 with 2 Axes>"
      ]
     },
     "metadata": {
      "needs_background": "light"
     },
     "output_type": "display_data"
    },
    {
     "data": {
      "text/plain": [
       "<Figure size 432x288 with 0 Axes>"
      ]
     },
     "metadata": {},
     "output_type": "display_data"
    },
    {
     "data": {
      "image/png": "[encoded data removed]",
      "text/plain": [
       "<Figure size 360x360 with 2 Axes>"
      ]
     },
     "metadata": {
      "needs_background": "light"
     },
     "output_type": "display_data"
    }
   ],
   "source": [
    "# Fading out for large components indicates less informative\n",
    "\n",
    "for i in range(3):\n",
    "    plt.gray()\n",
    "    \n",
    "    fig, axes = plt.subplots(nrows=1, ncols=2, figsize=(5, 5))\n",
    "\n",
    "    axes[0].matshow(digits_trunc[i].reshape(8,8))\n",
    "    axes[1].matshow(X_transformed[i].reshape(8,8))\n",
    "\n",
    "    plt.show()"
   ]
  },
  {
   "cell_type": "code",
   "execution_count": 51,
   "id": "746747dd-d84e-4629-b8f4-227ace67d000",
   "metadata": {},
   "outputs": [],
   "source": [
    "evals, evecs = transformer.eigenvalues_, transformer.eigenvectors_"
   ]
  },
  {
   "cell_type": "code",
   "execution_count": 44,
   "id": "995da6b4-8243-4f62-9213-5fb90a67f268",
   "metadata": {},
   "outputs": [],
   "source": [
    "from sklearn.metrics.pairwise import linear_kernel\n",
    "from sklearn.metrics.pairwise import pairwise_kernels\n",
    "\n",
    "from sklearn.preprocessing import KernelCenterer"
   ]
  },
  {
   "cell_type": "code",
   "execution_count": 109,
   "id": "2dfbf3f3-cc4a-4735-be67-91ea1a9ad858",
   "metadata": {},
   "outputs": [
    {
     "data": {
      "text/plain": [
       "(100, 100)"
      ]
     },
     "execution_count": 118,
     "metadata": {},
     "output_type": "execute_result"
    }
   ],
   "source": [
    "K = pairwise_kernels(digits_trunc)\n",
    "K.shape"
   ]
  },
  {
   "cell_type": "code",
   "execution_count": null,
   "id": "b7829c8f-40a3-4ee7-ac95-c77a3e44075d",
   "metadata": {},
   "outputs": [
    {
     "data": {
      "text/plain": [
       "1.0000000000000002"
      ]
     },
     "execution_count": 215,
     "metadata": {},
     "output_type": "execute_result"
    }
   ],
   "source": [
    "np.linalg.norm(evecs[:,4])"
   ]
  },
  {
   "cell_type": "code",
   "execution_count": 124,
   "id": "cb78268c-c337-4520-a20b-9e6b4668c493",
   "metadata": {},
   "outputs": [],
   "source": [
    "\n",
    "K_transformer = KernelCenterer().fit(K)\n",
    "K_transformer\n",
    "K = K_transformer.transform(K)"
   ]
  },
  {
   "cell_type": "code",
   "execution_count": 203,
   "id": "22ec53b2-d76b-4489-9d97-5c17c19f024f",
   "metadata": {},
   "outputs": [],
   "source": [
    "evals, evecs = np.linalg.eig(K)"
   ]
  },
  {
   "cell_type": "code",
   "execution_count": 225,
   "id": "f14a9fa2-0aad-4ea8-8653-82290e8295c7",
   "metadata": {},
   "outputs": [],
   "source": [
    "from sklearn.utils.extmath import svd_flip\n",
    "\n",
    "# Flips evecs sign if its largest element by absolute value is negative (for uniqueness?) \n",
    "evecs, _ = svd_flip(\n",
    "   evecs, np.zeros_like(evecs).T\n",
    ")"
   ]
  },
  {
   "cell_type": "code",
   "execution_count": 226,
   "id": "2b82f602-bfd6-448d-8eb7-ac071ded903f",
   "metadata": {},
   "outputs": [],
   "source": [
    "Z = []\n",
    "for n in range(len(evecs)):\n",
    "    zn = np.asarray([np.sqrt(evals[i])*evecs[n][i] for i in range(d)])\n",
    "    Z.append(zn)\n",
    "Z = np.asarray(Z)"
   ]
  },
  {
   "cell_type": "code",
   "execution_count": 227,
   "id": "06ca625c-4e93-49fc-bd13-8660f3b4e0ad",
   "metadata": {},
   "outputs": [
    {
     "data": {
      "image/png": "[encoded data removed]",
      "text/plain": [
       "<Figure size 360x360 with 2 Axes>"
      ]
     },
     "metadata": {
      "needs_background": "light"
     },
     "output_type": "display_data"
    },
    {
     "data": {
      "image/png": "[encoded data removed]",
      "text/plain": [
       "<Figure size 360x360 with 2 Axes>"
      ]
     },
     "metadata": {
      "needs_background": "light"
     },
     "output_type": "display_data"
    },
    {
     "data": {
      "image/png": "[encoded data removed]",
      "text/plain": [
       "<Figure size 360x360 with 2 Axes>"
      ]
     },
     "metadata": {
      "needs_background": "light"
     },
     "output_type": "display_data"
    }
   ],
   "source": [
    "# Fading out for large components indicates less informative\n",
    "\n",
    "for i in range(3):\n",
    "    fig, axes = plt.subplots(nrows=1, ncols=2, figsize=(5, 5))\n",
    "\n",
    "    axes[0].matshow(digits_trunc[i].reshape(8,8))\n",
    "    axes[1].matshow(Z[i].real.reshape(8,8))\n",
    "\n",
    "    plt.show()"
   ]
  },
  {
   "cell_type": "code",
   "execution_count": 44,
   "id": "42d5264a-9818-4b41-9086-aef7733692cc",
   "metadata": {},
   "outputs": [],
   "source": [
    "from sklearn.metrics.pairwise import linear_kernel\n",
    "from sklearn.metrics.pairwise import pairwise_kernels\n",
    "\n",
    "from sklearn.preprocessing import KernelCenterer"
   ]
  },
  {
   "cell_type": "code",
   "execution_count": 109,
   "id": "a7d53dab-6831-4ff0-86c9-d0093d509820",
   "metadata": {},
   "outputs": [
    {
     "data": {
      "text/plain": [
       "(100, 100)"
      ]
     },
     "execution_count": 118,
     "metadata": {},
     "output_type": "execute_result"
    }
   ],
   "source": [
    "K = pairwise_kernels(digits_trunc)\n",
    "K.shape"
   ]
  },
  {
   "cell_type": "code",
   "execution_count": null,
   "id": "0c48e03b-481e-4dc6-a58e-f80dbb29a094",
   "metadata": {},
   "outputs": [
    {
     "data": {
      "text/plain": [
       "1.0000000000000002"
      ]
     },
     "execution_count": 215,
     "metadata": {},
     "output_type": "execute_result"
    }
   ],
   "source": [
    "np.linalg.norm(evecs[:,4])"
   ]
  },
  {
   "cell_type": "code",
   "execution_count": 124,
   "id": "44becbbb-6045-4079-b913-6354f9d88127",
   "metadata": {},
   "outputs": [],
   "source": [
    "\n",
    "K_transformer = KernelCenterer().fit(K)\n",
    "K_transformer\n",
    "K = K_transformer.transform(K)"
   ]
  },
  {
   "cell_type": "code",
   "execution_count": 203,
   "id": "15aa3970-55bf-4bea-a1f7-f9a2790018de",
   "metadata": {},
   "outputs": [],
   "source": [
    "evals, evecs = np.linalg.eig(K)"
   ]
  },
  {
   "cell_type": "code",
   "execution_count": 225,
   "id": "35b15be8-8974-4ea9-ab60-937289ee28ef",
   "metadata": {},
   "outputs": [],
   "source": [
    "from sklearn.utils.extmath import svd_flip\n",
    "\n",
    "# Flips evecs sign if its largest element by absolute value is negative (for uniqueness?) \n",
    "evecs, _ = svd_flip(\n",
    "   evecs, np.zeros_like(evecs).T\n",
    ")"
   ]
  },
  {
   "cell_type": "code",
   "execution_count": 226,
   "id": "3251d454-d9a9-480b-9f27-023d27cf8618",
   "metadata": {},
   "outputs": [],
   "source": [
    "Z = []\n",
    "for n in range(len(evecs)):\n",
    "    zn = np.asarray([np.sqrt(evals[i])*evecs[n][i] for i in range(d)])\n",
    "    Z.append(zn)\n",
    "Z = np.asarray(Z)"
   ]
  },
  {
   "cell_type": "code",
   "execution_count": 227,
   "id": "043a616f-ae4d-4b8e-996c-0ceec632ea7d",
   "metadata": {},
   "outputs": [
    {
     "data": {
      "image/png": "[encoded data removed]",
      "text/plain": [
       "<Figure size 360x360 with 2 Axes>"
      ]
     },
     "metadata": {
      "needs_background": "light"
     },
     "output_type": "display_data"
    },
    {
     "data": {
      "image/png": "[encoded data removed]",
      "text/plain": [
       "<Figure size 360x360 with 2 Axes>"
      ]
     },
     "metadata": {
      "needs_background": "light"
     },
     "output_type": "display_data"
    },
    {
     "data": {
      "image/png": "[encoded data removed]",
      "text/plain": [
       "<Figure size 360x360 with 2 Axes>"
      ]
     },
     "metadata": {
      "needs_background": "light"
     },
     "output_type": "display_data"
    }
   ],
   "source": [
    "# Fading out for large components indicates less informative\n",
    "\n",
    "for i in range(3):\n",
    "    fig, axes = plt.subplots(nrows=1, ncols=2, figsize=(5, 5))\n",
    "\n",
    "    axes[0].matshow(digits_trunc[i].reshape(8,8))\n",
    "    axes[1].matshow(Z[i].real.reshape(8,8))\n",
    "\n",
    "    plt.show()"
   ]
  },
  {
   "cell_type": "code",
   "execution_count": 228,
   "id": "12bd917c-3ff7-4e16-a864-27ff1674b3da",
   "metadata": {},
   "outputs": [
    {
     "data": {
      "text/plain": [
       "-725.6755000000012"
      ]
     },
     "execution_count": 228,
     "metadata": {},
     "output_type": "execute_result"
    }
   ],
   "source": [
    "np.dot(Z[0],Z[1]).real"
   ]
  },
  {
   "cell_type": "code",
   "execution_count": 223,
   "id": "633c652e-a164-4482-b8b0-673d862f044f",
   "metadata": {},
   "outputs": [
    {
     "data": {
      "text/plain": [
       "-725.6754999999998"
      ]
     },
     "execution_count": 223,
     "metadata": {},
     "output_type": "execute_result"
    }
   ],
   "source": [
    "K[0][1]"
   ]
  }
 ],
 "metadata": {
  "kernelspec": {
   "display_name": "Python 3 (ipykernel)",
   "language": "python",
   "name": "python3"
  },
  "language_info": {
   "codemirror_mode": {
    "name": "ipython",
    "version": 3
   },
   "file_extension": ".py",
   "mimetype": "text/x-python",
   "name": "python",
   "nbconvert_exporter": "python",
   "pygments_lexer": "ipython3",
   "version": "3.7.11"
  }
 },
 "nbformat": 4,
 "nbformat_minor": 5
}
