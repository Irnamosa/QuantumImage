{
 "cells": [
  {
   "cell_type": "code",
   "execution_count": 1,
   "id": "cffa9ab2-5087-4823-9dde-36efce1c0232",
   "metadata": {},
   "outputs": [],
   "source": [
    "import setup\n",
    "from circuits import * \n",
    "from number import *\n",
    "import math\n",
    "import pandas as pd\n",
    "import sympy as sp\n",
    "from sklearn.metrics.pairwise import pairwise_kernels\n",
    "from sklearn import svm\n",
    "import numpy as np\n",
    "from tqdm.notebook import tqdm"
   ]
  },
  {
   "cell_type": "code",
   "execution_count": 2,
   "id": "9ad0ec0c-de10-4f12-b4d3-a391ab2cc9ba",
   "metadata": {},
   "outputs": [],
   "source": [
    "def prime_factors(n):\n",
    "    i = 2\n",
    "    factors = []\n",
    "    while i * i <= n:\n",
    "        if n % i:\n",
    "            i += 1\n",
    "        else:\n",
    "            n //= i\n",
    "            factors.append(i)\n",
    "    if n > 1:\n",
    "        factors.append(n)\n",
    "    return factors\n",
    "\n",
    "def get_factors(n):\n",
    "    factors = []\n",
    "    phi_n = n#sp.totient(n)\n",
    "    for i in range(1, phi_n+1):\n",
    "        if(phi_n%i==0):\n",
    "            factors.append(i)\n",
    "    return factors\n",
    "\n",
    "\n",
    "def parity_2(x):\n",
    "    if   (x==0 or x==-1):\n",
    "        return 0\n",
    "    x = int(np.abs(x))\n",
    "    if ((x) % 2 == 1):\n",
    "        return -1\n",
    "    else:\n",
    "        return 1\n",
    "\n",
    "def order_slow(x,N):\n",
    "    assert(N+1>x)\n",
    "    if(math.gcd(x,N)!=1):\n",
    "        return -1\n",
    "    for i in range(1,N+1):\n",
    "        a = x\n",
    "        for j in range(1,i):\n",
    "            a = x*a % N\n",
    "        if(a==1):\n",
    "            return i\n",
    "\n",
    "        \n",
    "\n",
    "def order_fast(x,N):\n",
    "    assert(N+1>x)\n",
    "    if(math.gcd(x,N)!=1):\n",
    "        return -1\n",
    "    for i in range(1,N+1):\n",
    "        if((x**i % N) == 1):\n",
    "            return i\n",
    "\n",
    "def coprime_density(x):\n",
    "    return sp.totient(x)/x"
   ]
  },
  {
   "cell_type": "code",
   "execution_count": 4,
   "id": "5d8ac4a5-f9aa-48b5-be6d-32b222b15ae6",
   "metadata": {},
   "outputs": [],
   "source": [
    "ords = pd.read_csv(\"./data_OF/ords100.csv\")"
   ]
  },
  {
   "cell_type": "code",
   "execution_count": 5,
   "id": "99aba120-6dc0-4260-9b57-4624d6f9ba5e",
   "metadata": {},
   "outputs": [
    {
     "data": {
      "text/plain": [
       "RangeIndex(start=0, stop=300, step=1)"
      ]
     },
     "execution_count": 5,
     "metadata": {},
     "output_type": "execute_result"
    }
   ],
   "source": [
    "ords.index"
   ]
  },
  {
   "cell_type": "code",
   "execution_count": 6,
   "id": "03e50a12-7caf-4c66-8c78-a178131cc161",
   "metadata": {},
   "outputs": [],
   "source": [
    "ords = ords.set_index(\"Unnamed: 0\")"
   ]
  },
  {
   "cell_type": "markdown",
   "id": "0be5d7c7-0381-47ff-a436-554bdcfb1641",
   "metadata": {
    "tags": []
   },
   "source": [
    "# Order statistics"
   ]
  },
  {
   "cell_type": "code",
   "execution_count": 7,
   "id": "c018f525-0989-4654-9148-ddbf90d3b02e",
   "metadata": {},
   "outputs": [],
   "source": [
    "def order_stats_formula(x):\n",
    "    ps = prime_factors(sp.totient(x))\n",
    "    a = ps.count(2)\n",
    "    ps_odd_only = [p for p in ps if p!=2]\n",
    "    m = 1\n",
    "    for i in ps_odd_only:\n",
    "        m*=i\n",
    "    counts = np.array([ m,(x-m*(2**a)), m*(2**a - 1)])\n",
    "    counts = counts/sum(counts)\n",
    "    return dict(zip([-1,0,1], counts))"
   ]
  },
  {
   "cell_type": "code",
   "execution_count": 8,
   "id": "1f64a41e-7a74-4d67-b4a2-c40ecd3d77c1",
   "metadata": {},
   "outputs": [],
   "source": [
    "def order_stats_brute(x):\n",
    "    if(isinstance(x,int) or isinstance(x,np.int64)):\n",
    "        x = orders_single_number(x)\n",
    "    labels, counts = np.unique([parity_2(i) for i in x], return_counts=True)\n",
    "    counts = counts/sum(counts)\n",
    "    return dict(zip(labels, counts))\n"
   ]
  },
  {
   "cell_type": "code",
   "execution_count": 9,
   "id": "aa1b537a-b828-4d70-87c8-28a3abc60e63",
   "metadata": {},
   "outputs": [],
   "source": [
    "def orders_single_number(x, method=order_fast):\n",
    "    N = x\n",
    "    orders_single_number = []\n",
    "    for i in tqdm(range(1,N+1)):\n",
    "        #print(i)\n",
    "        orders_single_number.append(method(i,N))\n",
    "    x = orders_single_number \n",
    "    return np.array(x)\n"
   ]
  },
  {
   "cell_type": "code",
   "execution_count": 59,
   "id": "71e0a235-4b52-47c6-a218-c1e4cfa941cd",
   "metadata": {},
   "outputs": [],
   "source": [
    "# Fermat calculations\n",
    "F2 = 17\n",
    "F3 = 257 \n",
    "F4 = 65537"
   ]
  },
  {
   "cell_type": "code",
   "execution_count": 60,
   "id": "af068551-ed94-4808-8890-ae3d4819f474",
   "metadata": {},
   "outputs": [],
   "source": [
    "N_fermat = F3*F4"
   ]
  },
  {
   "cell_type": "code",
   "execution_count": 61,
   "id": "7a39d464-4e59-4368-973f-80b96fdef49d",
   "metadata": {},
   "outputs": [],
   "source": [
    "fermat_coprimes = coprimes(F3*F4)"
   ]
  },
  {
   "cell_type": "code",
   "execution_count": 62,
   "id": "94049fa8-5368-4f64-9cad-21504b9ded67",
   "metadata": {},
   "outputs": [],
   "source": [
    "orders_fermat_list = np.zeros(N_fermat)"
   ]
  },
  {
   "cell_type": "code",
   "execution_count": 63,
   "id": "461ca2a6-3a9f-42c3-85d0-9506f506ec5d",
   "metadata": {},
   "outputs": [],
   "source": [
    "for i in fermat_coprimes:\n",
    "    if(i==1):\n",
    "        orders_fermat_list[i-1] = -1\n",
    "    else:\n",
    "        orders_fermat_list[i-1] = 1\n",
    "        "
   ]
  },
  {
   "cell_type": "code",
   "execution_count": 15,
   "id": "236b3780-d6ac-4046-aa39-17cb080749e7",
   "metadata": {},
   "outputs": [],
   "source": [
    "# Semiprime \n",
    "N = ords.index[1]"
   ]
  },
  {
   "cell_type": "code",
   "execution_count": 11,
   "id": "7afe02aa-ad54-4587-a1c7-07cf38a227cb",
   "metadata": {},
   "outputs": [
    {
     "data": {
      "application/vnd.jupyter.widget-view+json": {
       "model_id": "f06b89e3a1c244b6baeefe77f2591516",
       "version_major": 2,
       "version_minor": 0
      },
      "text/plain": [
       "  0%|          | 0/247 [00:00<?, ?it/s]"
      ]
     },
     "metadata": {},
     "output_type": "display_data"
    },
    {
     "data": {
      "text/plain": [
       "array([0.10526316, 0.12550607, 0.76923077])"
      ]
     },
     "execution_count": 11,
     "metadata": {},
     "output_type": "execute_result"
    }
   ],
   "source": [
    "np.array(list(order_stats_brute(N).values()))"
   ]
  },
  {
   "cell_type": "code",
   "execution_count": 12,
   "id": "415152a0-1859-404b-b85b-dea11336c7f6",
   "metadata": {},
   "outputs": [
    {
     "data": {
      "text/plain": [
       "array([0.10931174, 0.12550607, 0.76518219])"
      ]
     },
     "execution_count": 12,
     "metadata": {},
     "output_type": "execute_result"
    }
   ],
   "source": [
    "np.array(list(order_stats_formula(N).values()))"
   ]
  },
  {
   "cell_type": "code",
   "execution_count": 230,
   "id": "8f7e636b-7dcb-4ee1-8a6e-e7a767491174",
   "metadata": {},
   "outputs": [
    {
     "name": "stdout",
     "output_type": "stream",
     "text": [
      "0.0\n",
      "0.0\n",
      "0.0\n",
      "0.0\n",
      "0.0\n",
      "0.0\n",
      "0.0\n",
      "0.0\n",
      "0.0\n",
      "0.0\n",
      "0.0\n",
      "0.0\n",
      "0.0\n",
      "0.0\n",
      "0.0\n",
      "0.0\n",
      "0.0\n",
      "0.0\n",
      "0.0\n",
      "0.0\n"
     ]
    }
   ],
   "source": [
    "# Verifying order stats formula with brute force calculations\n",
    "for i in range(20):\n",
    "    N = ords.index[i]\n",
    "    a,b = np.array(list(order_stats_brute(N).values())), np.array(list(order_stats_formula(N).values()))\n",
    "    print(np.linalg.norm(a-b))\n",
    "    "
   ]
  },
  {
   "cell_type": "code",
   "execution_count": 318,
   "id": "4fe19a8a-b895-41c9-90a3-e2e9145e0946",
   "metadata": {},
   "outputs": [],
   "source": [
    "N = ords.index[40]\n",
    "orders_single_number_list = orders_single_number(N)"
   ]
  },
  {
   "cell_type": "code",
   "execution_count": 319,
   "id": "a0e651af-527b-4b4a-a021-224a81577e43",
   "metadata": {},
   "outputs": [
    {
     "name": "stdout",
     "output_type": "stream",
     "text": [
      "{-1: 0.2, 1: 0.8}\n",
      "{-1: 0.13636363636363635, 0: 0.05454545454545454, 1: 0.8090909090909091}\n",
      "{-1: 0.14285714285714285, 0: 0.06190476190476191, 1: 0.7952380952380952}\n",
      "{-1: 0.14516129032258066, 0: 0.04838709677419355, 1: 0.8064516129032258}\n",
      "{-1: 0.12439024390243902, 0: 0.07560975609756097, 1: 0.8}\n",
      "{-1: 0.13725490196078433, 0: 0.054901960784313725, 1: 0.807843137254902}\n",
      "{-1: 0.12786885245901639, 0: 0.05245901639344262, 1: 0.819672131147541}\n",
      "{-1: 0.12535211267605634, 0: 0.057746478873239436, 1: 0.8169014084507042}\n",
      "{-1: 0.11728395061728394, 0: 0.05308641975308642, 1: 0.8296296296296296}\n",
      "{-1: 0.11758241758241758, 0: 0.06593406593406594, 1: 0.8164835164835165}\n",
      "{-1: 0.11584158415841585, 0: 0.05841584158415842, 1: 0.8257425742574257}\n",
      "{-1: 0.11801801801801802, 0: 0.055855855855855854, 1: 0.8261261261261261}\n",
      "{-1: 0.1206611570247934, 0: 0.05371900826446281, 1: 0.8256198347107438}\n",
      "{-1: 0.11450381679389313, 0: 0.05419847328244275, 1: 0.8312977099236641}\n"
     ]
    }
   ],
   "source": [
    "order_stats_iterations = []\n",
    "\n",
    "for k in range(10,N, 100):\n",
    "    orders_single_number_sample = np.random.choice(orders_single_number_list, (k), replace=False)\n",
    "    order_stats_iterations.append(order_stats_brute(orders_single_number_sample))\n",
    "    print(order_stats_iterations[-1])"
   ]
  },
  {
   "cell_type": "code",
   "execution_count": 320,
   "id": "ad71f05b-f654-4fff-9520-15276602337e",
   "metadata": {},
   "outputs": [
    {
     "data": {
      "text/plain": [
       "1310"
      ]
     },
     "execution_count": 320,
     "metadata": {},
     "output_type": "execute_result"
    }
   ],
   "source": [
    "k"
   ]
  },
  {
   "cell_type": "code",
   "execution_count": 321,
   "id": "d7f050b7-7ae1-4cda-a96a-e19eed79b2f9",
   "metadata": {},
   "outputs": [
    {
     "data": {
      "text/plain": [
       "{-1: 0.11812179016874541, 0: 0.055025678650036686, 1: 0.8268525311812179}"
      ]
     },
     "execution_count": 321,
     "metadata": {},
     "output_type": "execute_result"
    }
   ],
   "source": [
    "# slight error only due to k < N still on final iteratoin\n",
    "order_stats_formula(N)"
   ]
  },
  {
   "cell_type": "code",
   "execution_count": 322,
   "id": "9e526582-b134-4c55-8ffe-a36a4a229a7d",
   "metadata": {},
   "outputs": [],
   "source": [
    "num_evens_iterations = [o[1] for o in order_stats_iterations]"
   ]
  },
  {
   "cell_type": "code",
   "execution_count": 324,
   "id": "48201574-7219-42ea-beab-4925dcb4f470",
   "metadata": {},
   "outputs": [
    {
     "data": {
      "image/png": "[encoded data removed]",
      "text/plain": [
       "<Figure size 640x480 with 1 Axes>"
      ]
     },
     "metadata": {},
     "output_type": "display_data"
    }
   ],
   "source": [
    "plt.ylim(0,1)\n",
    "\n",
    "plt.axhline(y=order_stats_formula(N)[1], color=\"C1\", linestyle=\":\", label=\"True proportion\")\n",
    "plt.plot(np.asarray(range(10,N,100))/N, num_evens_iterations, label= \"Sample proportion\")\n",
    "plt.legend()\n",
    "plt.title(\"Sample proportion of even orders \\nwith increasing sample size (random)\")\n",
    "plt.show()"
   ]
  },
  {
   "cell_type": "code",
   "execution_count": 331,
   "id": "56942caa-30b0-465b-a6e9-bb2e60f33a79",
   "metadata": {},
   "outputs": [
    {
     "name": "stdout",
     "output_type": "stream",
     "text": [
      "{-1: 0.2, 1: 0.8}\n",
      "{-1: 0.14545454545454545, 0: 0.045454545454545456, 1: 0.8090909090909091}\n",
      "{-1: 0.12857142857142856, 0: 0.05238095238095238, 1: 0.819047619047619}\n",
      "{-1: 0.12258064516129032, 0: 0.05161290322580645, 1: 0.8258064516129032}\n",
      "{-1: 0.11707317073170732, 0: 0.05365853658536585, 1: 0.8292682926829268}\n",
      "{-1: 0.12352941176470589, 0: 0.052941176470588235, 1: 0.8235294117647058}\n",
      "{-1: 0.12295081967213115, 0: 0.054098360655737705, 1: 0.8229508196721311}\n",
      "{-1: 0.12112676056338029, 0: 0.054929577464788736, 1: 0.823943661971831}\n",
      "{-1: 0.1259259259259259, 0: 0.05432098765432099, 1: 0.8197530864197531}\n",
      "{-1: 0.12197802197802197, 0: 0.054945054945054944, 1: 0.823076923076923}\n",
      "{-1: 0.1198019801980198, 0: 0.054455445544554455, 1: 0.8257425742574257}\n",
      "{-1: 0.11891891891891893, 0: 0.054954954954954956, 1: 0.8261261261261261}\n",
      "{-1: 0.11652892561983472, 0: 0.05454545454545454, 1: 0.8289256198347107}\n",
      "{-1: 0.1183206106870229, 0: 0.0549618320610687, 1: 0.8267175572519084}\n"
     ]
    }
   ],
   "source": [
    "order_stats_iterations = []\n",
    "\n",
    "for k in range(10,N, 100):\n",
    "    orders_single_number_sample = orders_single_number_list[:k]\n",
    "    order_stats_iterations.append(order_stats_brute(orders_single_number_sample))\n",
    "    print(order_stats_iterations[-1])\n",
    "    \n",
    "num_evens_iterations = [o[1] for o in order_stats_iterations]"
   ]
  },
  {
   "cell_type": "code",
   "execution_count": 333,
   "id": "46c69a60-d4ba-4bbe-9937-3278a0a16d74",
   "metadata": {},
   "outputs": [
    {
     "data": {
      "image/png": "[encoded data removed]",
      "text/plain": [
       "<Figure size 640x480 with 1 Axes>"
      ]
     },
     "metadata": {},
     "output_type": "display_data"
    }
   ],
   "source": [
    "plt.ylim(0,1)\n",
    "\n",
    "plt.axhline(y=order_stats_formula(N)[1], color=\"C1\", linestyle=\":\", label=\"True proportion\")\n",
    "plt.plot(np.asarray(range(10,N,100))/N, num_evens_iterations, label= \"Sample proportion\")\n",
    "plt.legend()\n",
    "plt.title(\"Sample proportion of even orders \\nwith increasing sample size (slice)\")\n",
    "plt.show()"
   ]
  },
  {
   "cell_type": "markdown",
   "id": "d5549881-55e7-4433-b951-5c36b0690da6",
   "metadata": {
    "tags": []
   },
   "source": [
    "## Statistical Difference Calculations"
   ]
  },
  {
   "cell_type": "code",
   "execution_count": 46,
   "id": "837f618b-e808-46f9-b2b4-4d6d53f4052b",
   "metadata": {},
   "outputs": [],
   "source": [
    "N = 2021\n",
    "orders_single_number_list = orders_single_number(N)"
   ]
  },
  {
   "cell_type": "code",
   "execution_count": 47,
   "id": "9871eb17-c7a1-4d26-9282-f4be20db5309",
   "metadata": {},
   "outputs": [],
   "source": [
    "orders_single_number_list_processed = np.vectorize(parity_2)(orders_single_number_list)"
   ]
  },
  {
   "cell_type": "code",
   "execution_count": 48,
   "id": "3d0b3509-2170-45aa-9d21-68c1154202e6",
   "metadata": {},
   "outputs": [
    {
     "data": {
      "text/plain": [
       "(2021,)"
      ]
     },
     "execution_count": 48,
     "metadata": {},
     "output_type": "execute_result"
    }
   ],
   "source": [
    "orders_single_number_list_processed.shape"
   ]
  },
  {
   "cell_type": "code",
   "execution_count": 49,
   "id": "1e355fa7-509c-4866-b332-836f2a90ca10",
   "metadata": {},
   "outputs": [
    {
     "data": {
      "text/plain": [
       "(16843009,)"
      ]
     },
     "execution_count": 49,
     "metadata": {},
     "output_type": "execute_result"
    }
   ],
   "source": [
    "orders_fermat_list.shape"
   ]
  },
  {
   "cell_type": "code",
   "execution_count": 50,
   "id": "322c1bbf-6e07-4f8e-847a-9500e4162041",
   "metadata": {},
   "outputs": [
    {
     "data": {
      "text/plain": [
       "(array([False,  True]), array([1444,  577], dtype=int64))"
      ]
     },
     "execution_count": 50,
     "metadata": {},
     "output_type": "execute_result"
    }
   ],
   "source": [
    "np.unique(orders_single_number_list_processed[:N] != orders_fermat_list[:N], return_counts=True)"
   ]
  },
  {
   "cell_type": "code",
   "execution_count": 472,
   "id": "65a52072-200b-4d9a-b293-453a4521569f",
   "metadata": {},
   "outputs": [
    {
     "data": {
      "text/plain": [
       "(array([False,  True]), array([1444,  577], dtype=int64))"
      ]
     },
     "execution_count": 472,
     "metadata": {},
     "output_type": "execute_result"
    }
   ],
   "source": [
    "np.unique(orders_single_number_list_processed[:N] != orders_fermat_list[:N], return_counts=True)"
   ]
  },
  {
   "cell_type": "code",
   "execution_count": 51,
   "id": "642c77e0-23c8-496a-93a7-d55d8be51239",
   "metadata": {},
   "outputs": [
    {
     "data": {
      "text/plain": [
       "0.2855022266204849"
      ]
     },
     "execution_count": 51,
     "metadata": {},
     "output_type": "execute_result"
    }
   ],
   "source": [
    "np.sum(np.abs(orders_single_number_list_processed[:N] != orders_fermat_list[:N]))/N"
   ]
  },
  {
   "cell_type": "code",
   "execution_count": 473,
   "id": "c9938b72-87f5-46b3-aab7-70ae5ac943a8",
   "metadata": {},
   "outputs": [
    {
     "data": {
      "text/plain": [
       "0.2855022266204849"
      ]
     },
     "execution_count": 473,
     "metadata": {},
     "output_type": "execute_result"
    }
   ],
   "source": [
    "np.sum(np.abs(orders_single_number_list_processed[:N] != orders_fermat_list[:N]))/N"
   ]
  },
  {
   "cell_type": "code",
   "execution_count": 474,
   "id": "aa771278-bdfd-4b50-ac08-c5876e2f38ac",
   "metadata": {},
   "outputs": [
    {
     "data": {
      "text/plain": [
       "0.254"
      ]
     },
     "execution_count": 474,
     "metadata": {},
     "output_type": "execute_result"
    }
   ],
   "source": [
    "0.25 + 0.004"
   ]
  },
  {
   "cell_type": "code",
   "execution_count": null,
   "id": "e08acabb-bbdd-4191-bfa2-8bef650a4978",
   "metadata": {},
   "outputs": [],
   "source": [
    "for i in ords.index:\n",
    "    if(prime_factors(sp.totient(i)).count(2)==2):\n",
    "        N = i\n",
    "        orders_single_number_list = orders_single_number(N)\n",
    "\n",
    "        orders_single_number_list_processed = np.vectorize(parity_2)(orders_single_number_list)\n",
    "\n",
    "        np.unique(orders_single_number_list_processed[:N] != orders_fermat_list[:N], return_counts=True)\n",
    "\n",
    "        print(np.sum(np.abs(orders_single_number_list_processed[:N] != orders_fermat_list[:N]))/N)\n"
   ]
  },
  {
   "cell_type": "code",
   "execution_count": 483,
   "id": "9c54f017-5a62-497d-b7ba-b32126e23c5f",
   "metadata": {},
   "outputs": [
    {
     "data": {
      "text/plain": [
       "{437: 0.32036613272311215,\n",
       " 589: 0.31239388794567063,\n",
       " 713: 0.30434782608695654,\n",
       " 817: 0.30599755201958384,\n",
       " 989: 0.2992922143579373,\n",
       " 1333: 0.29257314328582146,\n",
       " 893: 0.3068309070548712,\n",
       " 1081: 0.30064754856614245,\n",
       " 1457: 0.2916952642415923,\n",
       " 2021: 0.2855022266204849,\n",
       " 1121: 0.3033006244424621,\n",
       " 1357: 0.2955047899778924,\n",
       " 1829: 0.2875888463641334,\n",
       " 2537: 0.28182893180922347,\n",
       " 2773: 0.281283808150018,\n",
       " 1273: 0.30243519245875883,\n",
       " 1541: 0.2946138870863076,\n",
       " 2077: 0.2874337987481945,\n",
       " 2881: 0.2818465810482471,\n",
       " 3149: 0.28008891711654493,\n",
       " 3953: 0.2762458891980774,\n",
       " 1349: 0.30244625648628615,\n",
       " 1633: 0.29577464788732394,\n",
       " 2201: 0.28714220808723306,\n",
       " 3053: 0.2807075008188667,\n",
       " 3337: 0.27929277794426133}"
      ]
     },
     "execution_count": 483,
     "metadata": {},
     "output_type": "execute_result"
    }
   ],
   "source": [
    "dict(zip(b,a))"
   ]
  },
  {
   "cell_type": "code",
   "execution_count": 576,
   "id": "f1122f92-dd7a-4d70-b849-bc07504e59c3",
   "metadata": {},
   "outputs": [
    {
     "data": {
      "text/plain": [
       "12317"
      ]
     },
     "execution_count": 576,
     "metadata": {},
     "output_type": "execute_result"
    }
   ],
   "source": [
    "ords.index.max()"
   ]
  },
  {
   "cell_type": "code",
   "execution_count": 52,
   "id": "c2ce63be-1570-4580-a97e-69f34ed93a64",
   "metadata": {},
   "outputs": [
    {
     "name": "stdout",
     "output_type": "stream",
     "text": [
      "697 7\n"
     ]
    },
    {
     "ename": "NameError",
     "evalue": "name 'coprime_density' is not defined",
     "output_type": "error",
     "traceback": [
      "\u001b[1;31m---------------------------------------------------------------------------\u001b[0m",
      "\u001b[1;31mNameError\u001b[0m                                 Traceback (most recent call last)",
      "\u001b[1;32m~\\AppData\\Local\\Temp\\ipykernel_20052\\1038908577.py\u001b[0m in \u001b[0;36m<module>\u001b[1;34m\u001b[0m\n\u001b[0;32m      3\u001b[0m         \u001b[0ma\u001b[0m \u001b[1;33m=\u001b[0m \u001b[0mprime_factors\u001b[0m\u001b[1;33m(\u001b[0m\u001b[0msp\u001b[0m\u001b[1;33m.\u001b[0m\u001b[0mtotient\u001b[0m\u001b[1;33m(\u001b[0m\u001b[0mi\u001b[0m\u001b[1;33m)\u001b[0m\u001b[1;33m)\u001b[0m\u001b[1;33m.\u001b[0m\u001b[0mcount\u001b[0m\u001b[1;33m(\u001b[0m\u001b[1;36m2\u001b[0m\u001b[1;33m)\u001b[0m\u001b[1;33m\u001b[0m\u001b[1;33m\u001b[0m\u001b[0m\n\u001b[0;32m      4\u001b[0m         \u001b[0mprint\u001b[0m\u001b[1;33m(\u001b[0m\u001b[0mi\u001b[0m\u001b[1;33m,\u001b[0m \u001b[0ma\u001b[0m\u001b[1;33m)\u001b[0m\u001b[1;33m\u001b[0m\u001b[1;33m\u001b[0m\u001b[0m\n\u001b[1;32m----> 5\u001b[1;33m         \u001b[0mprint\u001b[0m\u001b[1;33m(\u001b[0m\u001b[0mcoprime_density\u001b[0m\u001b[1;33m(\u001b[0m\u001b[0mi\u001b[0m\u001b[1;33m)\u001b[0m\u001b[1;33m)\u001b[0m\u001b[1;33m\u001b[0m\u001b[1;33m\u001b[0m\u001b[0m\n\u001b[0m\u001b[0;32m      6\u001b[0m         \u001b[0mN\u001b[0m \u001b[1;33m=\u001b[0m \u001b[0mi\u001b[0m\u001b[1;33m\u001b[0m\u001b[1;33m\u001b[0m\u001b[0m\n\u001b[0;32m      7\u001b[0m         \u001b[0morders_single_number_list\u001b[0m \u001b[1;33m=\u001b[0m \u001b[0morders_single_number\u001b[0m\u001b[1;33m(\u001b[0m\u001b[0mN\u001b[0m\u001b[1;33m)\u001b[0m\u001b[1;33m\u001b[0m\u001b[1;33m\u001b[0m\u001b[0m\n",
      "\u001b[1;31mNameError\u001b[0m: name 'coprime_density' is not defined"
     ]
    }
   ],
   "source": [
    "for i in ords.index:\n",
    "    if(prime_factors(sp.totient(i)).count(2)>=7):\n",
    "        a = prime_factors(sp.totient(i)).count(2)\n",
    "        print(i, a)\n",
    "        print(coprime_density(i))\n",
    "        N = i\n",
    "        orders_single_number_list = orders_single_number(N)\n",
    "\n",
    "        orders_single_number_list_processed = np.vectorize(parity_2)(orders_single_number_list)\n",
    "\n",
    "        np.unique(orders_single_number_list_processed[:N] != orders_fermat_list[:N], return_counts=True)\n",
    "\n",
    "        print(np.sum(np.abs(orders_single_number_list_processed[:N] != orders_fermat_list[:N]))/N <= (2 - np.abs(coprime_density(N) + coprime_density(N_fermat))) + 1/(2**a) + 1/N)"
   ]
  },
  {
   "cell_type": "code",
   "execution_count": 55,
   "id": "4a723a40-4f6c-428b-a69f-bc213d15bace",
   "metadata": {},
   "outputs": [],
   "source": [
    "N = 697"
   ]
  },
  {
   "cell_type": "code",
   "execution_count": null,
   "id": "882b0c4c-7aed-42e8-a418-1a3020c94ae6",
   "metadata": {},
   "outputs": [],
   "source": []
  },
  {
   "cell_type": "code",
   "execution_count": 57,
   "id": "addf5a5c-4c7e-40f2-b242-a34946c9b735",
   "metadata": {},
   "outputs": [],
   "source": [
    "a1 = prime_factors(sp.totient(N)).count(2)\n",
    "a2 = prime_factors(sp.totient(N_fermat)).count(2)"
   ]
  },
  {
   "cell_type": "code",
   "execution_count": 61,
   "id": "2d3beb3a-4077-4ec1-accd-3b2145968db4",
   "metadata": {},
   "outputs": [
    {
     "data": {
      "text/plain": [
       "0.09219203697301648"
      ]
     },
     "execution_count": 61,
     "metadata": {},
     "output_type": "execute_result"
    }
   ],
   "source": [
    "print(coprime_density(N) + coprime_density(N_fermat) - coprime_density(N)*coprime_density(N_fermat)*(2 - 1/(2**a1) - 1/(2**a2) + 1/(2**(a1+a2-1))))"
   ]
  },
  {
   "cell_type": "code",
   "execution_count": 70,
   "id": "3a8e75d3-145c-4be4-8a2e-d3c5565424eb",
   "metadata": {
    "tags": []
   },
   "outputs": [
    {
     "name": "stdout",
     "output_type": "stream",
     "text": [
      "1649 9\n",
      "0.9314736203759855\n",
      "0.07370950000578991\n",
      "0.07337780473013948\n",
      "10961 9\n",
      "0.9809323966791351\n",
      "0.02473334512652614\n",
      "0.024632788979107745\n"
     ]
    }
   ],
   "source": [
    "for i in ords.index:\n",
    "    if(prime_factors(sp.totient(i)).count(2)==9):\n",
    "        a2 = prime_factors(sp.totient(N_fermat)).count(2)\n",
    "        a = prime_factors(sp.totient(i)).count(2)\n",
    "        print(i, a)\n",
    "        print(coprime_density(i))\n",
    "        N = i\n",
    "        orders_single_number_list = orders_single_number(N)\n",
    "\n",
    "        orders_single_number_list_processed = np.vectorize(parity_2)(orders_single_number_list)\n",
    "\n",
    "        np.unique(orders_single_number_list_processed[:N] != orders_fermat_list[:N], return_counts=True)\n",
    "        \n",
    "        #print(1/(2**a) + 1/(2**a2) - 1/(2**(a1+a2-1)))\n",
    "        print(coprime_density(N) + coprime_density(N_fermat) - coprime_density(N)*coprime_density(N_fermat)*(2 - 1/(2**a) - 1/(2**a2) + 1/(2**(a+a2-1))))\n",
    "        print(np.sum(np.abs(orders_single_number_list_processed[:N] != orders_fermat_list[:N]))/N) #<= (2 - np.abs(coprime_density(N) + coprime_density(N_fermat))) + 1/(2**a) + 1/N)"
   ]
  },
  {
   "cell_type": "code",
   "execution_count": 652,
   "id": "9b121724-aab1-4a6b-a203-f57834cd8c90",
   "metadata": {},
   "outputs": [],
   "source": [
    "N = 1649"
   ]
  },
  {
   "cell_type": "code",
   "execution_count": 653,
   "id": "73c2d2c6-21a6-495e-92a2-e59e39911c17",
   "metadata": {},
   "outputs": [
    {
     "data": {
      "text/plain": [
       "0.074992182530359"
      ]
     },
     "execution_count": 653,
     "metadata": {},
     "output_type": "execute_result"
    }
   ],
   "source": [
    "(2 - np.abs(coprime_density(N) + coprime_density(N_fermat))) + 1/(2**9) + 1/N"
   ]
  },
  {
   "cell_type": "code",
   "execution_count": 641,
   "id": "93770911-e1ca-4fd5-a737-ac255b565da6",
   "metadata": {
    "collapsed": true,
    "jupyter": {
     "outputs_hidden": true
    },
    "tags": []
   },
   "outputs": [
    {
     "name": "stdout",
     "output_type": "stream",
     "text": [
      "1649\n",
      "10961\n",
      "7913\n",
      "14089\n",
      "17177\n",
      "26441\n",
      "44969\n",
      "23377\n",
      "771\n",
      "1799\n",
      "2827\n",
      "4883\n",
      "5911\n",
      "7967\n",
      "11051\n",
      "12079\n",
      "15163\n",
      "17219\n",
      "18247\n",
      "20303\n",
      "21331\n",
      "26471\n",
      "27499\n",
      "32639\n",
      "33667\n",
      "35723\n",
      "38807\n",
      "41891\n",
      "42919\n",
      "46003\n",
      "49087\n",
      "51143\n",
      "54227\n",
      "57311\n",
      "58339\n",
      "61423\n",
      "64507\n",
      "67591\n",
      "69647\n",
      "54233\n",
      "72731\n",
      "78899\n",
      "79927\n",
      "60409\n",
      "85067\n",
      "32689\n",
      "89179\n",
      "6001\n",
      "39889\n",
      "85073\n",
      "118961\n",
      "92263\n",
      "94319\n",
      "97403\n",
      "98431\n",
      "38897\n",
      "141553\n",
      "78937\n",
      "107683\n",
      "110767\n",
      "42001\n",
      "152849\n",
      "112823\n",
      "113851\n",
      "18409\n",
      "32777\n",
      "39961\n",
      "61513\n",
      "104617\n",
      "126169\n",
      "140537\n",
      "183641\n",
      "88201\n",
      "205193\n",
      "118991\n",
      "120019\n",
      "123103\n",
      "125159\n",
      "126187\n",
      "128243\n",
      "129271\n",
      "100553\n",
      "233929\n",
      "134411\n",
      "140579\n",
      "144691\n",
      "109817\n",
      "255481\n",
      "146747\n",
      "23657\n",
      "42121\n",
      "51353\n",
      "79049\n",
      "134441\n",
      "162137\n",
      "180601\n",
      "235993\n",
      "263689\n",
      "300617\n",
      "328313\n",
      "150859\n",
      "57521\n",
      "209329\n",
      "153943\n",
      "115993\n",
      "269849\n",
      "346777\n",
      "155999\n",
      "119081\n",
      "277033\n",
      "356009\n",
      "159083\n",
      "162167\n",
      "3205\n",
      "8333\n",
      "18589\n",
      "23717\n",
      "33973\n",
      "39101\n",
      "64741\n",
      "69869\n",
      "95509\n",
      "100637\n",
      "110893\n",
      "116021\n",
      "126277\n",
      "146789\n",
      "172429\n",
      "177557\n",
      "187813\n",
      "203197\n",
      "223709\n",
      "239093\n",
      "249349\n",
      "254477\n",
      "269861\n",
      "295501\n",
      "326269\n",
      "346781\n",
      "357037\n",
      "392933\n",
      "165251\n",
      "166279\n",
      "418573\n",
      "169363\n",
      "423701\n",
      "11441\n",
      "76049\n",
      "162193\n",
      "226801\n",
      "269873\n",
      "291409\n",
      "399089\n",
      "433957\n",
      "175531\n",
      "177587\n",
      "449341\n",
      "454469\n",
      "184783\n",
      "186839\n",
      "469853\n",
      "189923\n",
      "190951\n",
      "193007\n",
      "485237\n",
      "146873\n",
      "341689\n",
      "439097\n",
      "2307\n",
      "5383\n",
      "8459\n",
      "14611\n",
      "17687\n",
      "23839\n",
      "33067\n",
      "36143\n",
      "45371\n",
      "51523\n",
      "54599\n",
      "60751\n",
      "63827\n",
      "79207\n",
      "82283\n",
      "97663\n",
      "100739\n",
      "106891\n",
      "116119\n",
      "125347\n",
      "128423\n",
      "137651\n",
      "146879\n",
      "153031\n",
      "162259\n",
      "171487\n",
      "174563\n",
      "183791\n",
      "193019\n",
      "202247\n",
      "208399\n",
      "217627\n",
      "236083\n",
      "239159\n",
      "254539\n",
      "266843\n",
      "276071\n",
      "282223\n",
      "291451\n",
      "294527\n",
      "322211\n",
      "331439\n",
      "337591\n",
      "340667\n",
      "356047\n",
      "359123\n",
      "368351\n",
      "374503\n",
      "377579\n",
      "383731\n",
      "386807\n",
      "402187\n",
      "420643\n",
      "432947\n",
      "439099\n",
      "451403\n",
      "460631\n",
      "466783\n",
      "476011\n",
      "485239\n",
      "494467\n",
      "497543\n",
      "506771\n",
      "525227\n",
      "531379\n",
      "552911\n",
      "559063\n",
      "568291\n",
      "571367\n",
      "577519\n",
      "495493\n",
      "202259\n",
      "605203\n",
      "510877\n",
      "156137\n",
      "363241\n",
      "466793\n",
      "208427\n",
      "623659\n",
      "526261\n",
      "211511\n",
      "632887\n",
      "212539\n",
      "635963\n",
      "531389\n",
      "215623\n",
      "645191\n",
      "546773\n",
      "165401\n",
      "384793\n",
      "494489\n",
      "220763\n",
      "660571\n",
      "221791\n",
      "663647\n",
      "562157\n",
      "85457\n",
      "310993\n",
      "592913\n",
      "226931\n",
      "679027\n",
      "227959\n",
      "682103\n",
      "233099\n",
      "697483\n",
      "234127\n",
      "700559\n",
      "236183\n",
      "706711\n",
      "15793\n",
      "104977\n",
      "223889\n",
      "313073\n",
      "372529\n",
      "402257\n",
      "550897\n",
      "818449\n",
      "180841\n",
      "420713\n",
      "540649\n",
      "603181\n",
      "243379\n",
      "728243\n",
      "183929\n",
      "427897\n",
      "549881\n",
      "248519\n",
      "743623\n",
      "249547\n",
      "746699\n",
      "94769\n",
      "344881\n",
      "657521\n",
      "907633\n",
      "252631\n",
      "755927\n",
      "254687\n",
      "762079\n",
      "639077\n",
      "97873\n",
      "356177\n",
      "679057\n",
      "937361\n",
      "649333\n",
      "261883\n",
      "783611\n",
      "654461\n",
      "264967\n",
      "792839\n",
      "199369\n",
      "463817\n",
      "596041\n",
      "267023\n",
      "798991\n",
      "202457\n",
      "471001\n",
      "605273\n",
      "270107\n",
      "808219\n",
      "680101\n",
      "273191\n",
      "817447\n",
      "685229\n",
      "279359\n",
      "835903\n",
      "280387\n",
      "838979\n",
      "700613\n",
      "211721\n",
      "492553\n",
      "632969\n",
      "283471\n",
      "848207\n",
      "710869\n",
      "715997\n"
     ]
    },
    {
     "ename": "KeyboardInterrupt",
     "evalue": "",
     "output_type": "error",
     "traceback": [
      "\u001b[1;31m---------------------------------------------------------------------------\u001b[0m",
      "\u001b[1;31mKeyboardInterrupt\u001b[0m                         Traceback (most recent call last)",
      "\u001b[1;32m~\\AppData\\Local\\Temp\\ipykernel_17672\\250458693.py\u001b[0m in \u001b[0;36m<module>\u001b[1;34m\u001b[0m\n\u001b[0;32m      1\u001b[0m \u001b[1;32mfor\u001b[0m \u001b[0mi\u001b[0m \u001b[1;32min\u001b[0m \u001b[0mrange\u001b[0m\u001b[1;33m(\u001b[0m\u001b[1;36m1000\u001b[0m\u001b[1;33m)\u001b[0m\u001b[1;33m:\u001b[0m\u001b[1;33m\u001b[0m\u001b[1;33m\u001b[0m\u001b[0m\n\u001b[0;32m      2\u001b[0m     \u001b[1;32mfor\u001b[0m \u001b[0mj\u001b[0m \u001b[1;32min\u001b[0m \u001b[0mrange\u001b[0m\u001b[1;33m(\u001b[0m\u001b[0mi\u001b[0m\u001b[1;33m)\u001b[0m\u001b[1;33m:\u001b[0m\u001b[1;33m\u001b[0m\u001b[1;33m\u001b[0m\u001b[0m\n\u001b[1;32m----> 3\u001b[1;33m         \u001b[1;32mif\u001b[0m\u001b[1;33m(\u001b[0m\u001b[0mprime_factors\u001b[0m\u001b[1;33m(\u001b[0m\u001b[0msp\u001b[0m\u001b[1;33m.\u001b[0m\u001b[0mtotient\u001b[0m\u001b[1;33m(\u001b[0m\u001b[0mprimes\u001b[0m\u001b[1;33m[\u001b[0m\u001b[1;33m:\u001b[0m\u001b[1;36m200\u001b[0m\u001b[1;33m]\u001b[0m\u001b[1;33m[\u001b[0m\u001b[0mi\u001b[0m\u001b[1;33m]\u001b[0m\u001b[1;33m*\u001b[0m\u001b[0mprimes\u001b[0m\u001b[1;33m[\u001b[0m\u001b[1;33m:\u001b[0m\u001b[1;36m200\u001b[0m\u001b[1;33m]\u001b[0m\u001b[1;33m[\u001b[0m\u001b[0mj\u001b[0m\u001b[1;33m]\u001b[0m\u001b[1;33m)\u001b[0m\u001b[1;33m)\u001b[0m\u001b[1;33m.\u001b[0m\u001b[0mcount\u001b[0m\u001b[1;33m(\u001b[0m\u001b[1;36m2\u001b[0m\u001b[1;33m)\u001b[0m\u001b[1;33m==\u001b[0m\u001b[1;36m9\u001b[0m\u001b[1;33m)\u001b[0m\u001b[1;33m:\u001b[0m\u001b[1;33m\u001b[0m\u001b[1;33m\u001b[0m\u001b[0m\n\u001b[0m\u001b[0;32m      4\u001b[0m             \u001b[0mprint\u001b[0m\u001b[1;33m(\u001b[0m\u001b[0mprimes\u001b[0m\u001b[1;33m[\u001b[0m\u001b[1;33m:\u001b[0m\u001b[1;36m200\u001b[0m\u001b[1;33m]\u001b[0m\u001b[1;33m[\u001b[0m\u001b[0mi\u001b[0m\u001b[1;33m]\u001b[0m\u001b[1;33m*\u001b[0m\u001b[0mprimes\u001b[0m\u001b[1;33m[\u001b[0m\u001b[1;33m:\u001b[0m\u001b[1;36m200\u001b[0m\u001b[1;33m]\u001b[0m\u001b[1;33m[\u001b[0m\u001b[0mj\u001b[0m\u001b[1;33m]\u001b[0m\u001b[1;33m)\u001b[0m\u001b[1;33m\u001b[0m\u001b[1;33m\u001b[0m\u001b[0m\n",
      "\u001b[1;32m~\\Anaconda3\\lib\\site-packages\\sympy\\core\\cache.py\u001b[0m in \u001b[0;36mwrapper\u001b[1;34m(*args, **kwargs)\u001b[0m\n\u001b[0;32m     68\u001b[0m         \u001b[1;32mdef\u001b[0m \u001b[0mwrapper\u001b[0m\u001b[1;33m(\u001b[0m\u001b[1;33m*\u001b[0m\u001b[0margs\u001b[0m\u001b[1;33m,\u001b[0m \u001b[1;33m**\u001b[0m\u001b[0mkwargs\u001b[0m\u001b[1;33m)\u001b[0m\u001b[1;33m:\u001b[0m\u001b[1;33m\u001b[0m\u001b[1;33m\u001b[0m\u001b[0m\n\u001b[0;32m     69\u001b[0m             \u001b[1;32mtry\u001b[0m\u001b[1;33m:\u001b[0m\u001b[1;33m\u001b[0m\u001b[1;33m\u001b[0m\u001b[0m\n\u001b[1;32m---> 70\u001b[1;33m                 \u001b[0mretval\u001b[0m \u001b[1;33m=\u001b[0m \u001b[0mcfunc\u001b[0m\u001b[1;33m(\u001b[0m\u001b[1;33m*\u001b[0m\u001b[0margs\u001b[0m\u001b[1;33m,\u001b[0m \u001b[1;33m**\u001b[0m\u001b[0mkwargs\u001b[0m\u001b[1;33m)\u001b[0m\u001b[1;33m\u001b[0m\u001b[1;33m\u001b[0m\u001b[0m\n\u001b[0m\u001b[0;32m     71\u001b[0m             \u001b[1;32mexcept\u001b[0m \u001b[0mTypeError\u001b[0m \u001b[1;32mas\u001b[0m \u001b[0me\u001b[0m\u001b[1;33m:\u001b[0m\u001b[1;33m\u001b[0m\u001b[1;33m\u001b[0m\u001b[0m\n\u001b[0;32m     72\u001b[0m                 \u001b[1;32mif\u001b[0m \u001b[1;32mnot\u001b[0m \u001b[0me\u001b[0m\u001b[1;33m.\u001b[0m\u001b[0margs\u001b[0m \u001b[1;32mor\u001b[0m \u001b[1;32mnot\u001b[0m \u001b[0me\u001b[0m\u001b[1;33m.\u001b[0m\u001b[0margs\u001b[0m\u001b[1;33m[\u001b[0m\u001b[1;36m0\u001b[0m\u001b[1;33m]\u001b[0m\u001b[1;33m.\u001b[0m\u001b[0mstartswith\u001b[0m\u001b[1;33m(\u001b[0m\u001b[1;34m'unhashable type:'\u001b[0m\u001b[1;33m)\u001b[0m\u001b[1;33m:\u001b[0m\u001b[1;33m\u001b[0m\u001b[1;33m\u001b[0m\u001b[0m\n",
      "\u001b[1;32m~\\Anaconda3\\lib\\site-packages\\sympy\\core\\function.py\u001b[0m in \u001b[0;36m__new__\u001b[1;34m(cls, *args, **options)\u001b[0m\n\u001b[0;32m    474\u001b[0m \u001b[1;33m\u001b[0m\u001b[0m\n\u001b[0;32m    475\u001b[0m         \u001b[0mevaluate\u001b[0m \u001b[1;33m=\u001b[0m \u001b[0moptions\u001b[0m\u001b[1;33m.\u001b[0m\u001b[0mget\u001b[0m\u001b[1;33m(\u001b[0m\u001b[1;34m'evaluate'\u001b[0m\u001b[1;33m,\u001b[0m \u001b[0mglobal_parameters\u001b[0m\u001b[1;33m.\u001b[0m\u001b[0mevaluate\u001b[0m\u001b[1;33m)\u001b[0m\u001b[1;33m\u001b[0m\u001b[1;33m\u001b[0m\u001b[0m\n\u001b[1;32m--> 476\u001b[1;33m         \u001b[0mresult\u001b[0m \u001b[1;33m=\u001b[0m \u001b[0msuper\u001b[0m\u001b[1;33m(\u001b[0m\u001b[1;33m)\u001b[0m\u001b[1;33m.\u001b[0m\u001b[0m__new__\u001b[0m\u001b[1;33m(\u001b[0m\u001b[0mcls\u001b[0m\u001b[1;33m,\u001b[0m \u001b[1;33m*\u001b[0m\u001b[0margs\u001b[0m\u001b[1;33m,\u001b[0m \u001b[1;33m**\u001b[0m\u001b[0moptions\u001b[0m\u001b[1;33m)\u001b[0m\u001b[1;33m\u001b[0m\u001b[1;33m\u001b[0m\u001b[0m\n\u001b[0m\u001b[0;32m    477\u001b[0m         \u001b[1;32mif\u001b[0m \u001b[0mevaluate\u001b[0m \u001b[1;32mand\u001b[0m \u001b[0misinstance\u001b[0m\u001b[1;33m(\u001b[0m\u001b[0mresult\u001b[0m\u001b[1;33m,\u001b[0m \u001b[0mcls\u001b[0m\u001b[1;33m)\u001b[0m \u001b[1;32mand\u001b[0m \u001b[0mresult\u001b[0m\u001b[1;33m.\u001b[0m\u001b[0margs\u001b[0m\u001b[1;33m:\u001b[0m\u001b[1;33m\u001b[0m\u001b[1;33m\u001b[0m\u001b[0m\n\u001b[0;32m    478\u001b[0m             \u001b[0mpr2\u001b[0m \u001b[1;33m=\u001b[0m \u001b[0mmin\u001b[0m\u001b[1;33m(\u001b[0m\u001b[0mcls\u001b[0m\u001b[1;33m.\u001b[0m\u001b[0m_should_evalf\u001b[0m\u001b[1;33m(\u001b[0m\u001b[0ma\u001b[0m\u001b[1;33m)\u001b[0m \u001b[1;32mfor\u001b[0m \u001b[0ma\u001b[0m \u001b[1;32min\u001b[0m \u001b[0mresult\u001b[0m\u001b[1;33m.\u001b[0m\u001b[0margs\u001b[0m\u001b[1;33m)\u001b[0m\u001b[1;33m\u001b[0m\u001b[1;33m\u001b[0m\u001b[0m\n",
      "\u001b[1;32m~\\Anaconda3\\lib\\site-packages\\sympy\\core\\cache.py\u001b[0m in \u001b[0;36mwrapper\u001b[1;34m(*args, **kwargs)\u001b[0m\n\u001b[0;32m     68\u001b[0m         \u001b[1;32mdef\u001b[0m \u001b[0mwrapper\u001b[0m\u001b[1;33m(\u001b[0m\u001b[1;33m*\u001b[0m\u001b[0margs\u001b[0m\u001b[1;33m,\u001b[0m \u001b[1;33m**\u001b[0m\u001b[0mkwargs\u001b[0m\u001b[1;33m)\u001b[0m\u001b[1;33m:\u001b[0m\u001b[1;33m\u001b[0m\u001b[1;33m\u001b[0m\u001b[0m\n\u001b[0;32m     69\u001b[0m             \u001b[1;32mtry\u001b[0m\u001b[1;33m:\u001b[0m\u001b[1;33m\u001b[0m\u001b[1;33m\u001b[0m\u001b[0m\n\u001b[1;32m---> 70\u001b[1;33m                 \u001b[0mretval\u001b[0m \u001b[1;33m=\u001b[0m \u001b[0mcfunc\u001b[0m\u001b[1;33m(\u001b[0m\u001b[1;33m*\u001b[0m\u001b[0margs\u001b[0m\u001b[1;33m,\u001b[0m \u001b[1;33m**\u001b[0m\u001b[0mkwargs\u001b[0m\u001b[1;33m)\u001b[0m\u001b[1;33m\u001b[0m\u001b[1;33m\u001b[0m\u001b[0m\n\u001b[0m\u001b[0;32m     71\u001b[0m             \u001b[1;32mexcept\u001b[0m \u001b[0mTypeError\u001b[0m \u001b[1;32mas\u001b[0m \u001b[0me\u001b[0m\u001b[1;33m:\u001b[0m\u001b[1;33m\u001b[0m\u001b[1;33m\u001b[0m\u001b[0m\n\u001b[0;32m     72\u001b[0m                 \u001b[1;32mif\u001b[0m \u001b[1;32mnot\u001b[0m \u001b[0me\u001b[0m\u001b[1;33m.\u001b[0m\u001b[0margs\u001b[0m \u001b[1;32mor\u001b[0m \u001b[1;32mnot\u001b[0m \u001b[0me\u001b[0m\u001b[1;33m.\u001b[0m\u001b[0margs\u001b[0m\u001b[1;33m[\u001b[0m\u001b[1;36m0\u001b[0m\u001b[1;33m]\u001b[0m\u001b[1;33m.\u001b[0m\u001b[0mstartswith\u001b[0m\u001b[1;33m(\u001b[0m\u001b[1;34m'unhashable type:'\u001b[0m\u001b[1;33m)\u001b[0m\u001b[1;33m:\u001b[0m\u001b[1;33m\u001b[0m\u001b[1;33m\u001b[0m\u001b[0m\n",
      "\u001b[1;32m~\\Anaconda3\\lib\\site-packages\\sympy\\core\\function.py\u001b[0m in \u001b[0;36m__new__\u001b[1;34m(cls, *args, **options)\u001b[0m\n\u001b[0;32m    286\u001b[0m \u001b[1;33m\u001b[0m\u001b[0m\n\u001b[0;32m    287\u001b[0m         \u001b[1;32mif\u001b[0m \u001b[0mevaluate\u001b[0m\u001b[1;33m:\u001b[0m\u001b[1;33m\u001b[0m\u001b[1;33m\u001b[0m\u001b[0m\n\u001b[1;32m--> 288\u001b[1;33m             \u001b[0mevaluated\u001b[0m \u001b[1;33m=\u001b[0m \u001b[0mcls\u001b[0m\u001b[1;33m.\u001b[0m\u001b[0meval\u001b[0m\u001b[1;33m(\u001b[0m\u001b[1;33m*\u001b[0m\u001b[0margs\u001b[0m\u001b[1;33m)\u001b[0m\u001b[1;33m\u001b[0m\u001b[1;33m\u001b[0m\u001b[0m\n\u001b[0m\u001b[0;32m    289\u001b[0m             \u001b[1;32mif\u001b[0m \u001b[0mevaluated\u001b[0m \u001b[1;32mis\u001b[0m \u001b[1;32mnot\u001b[0m \u001b[1;32mNone\u001b[0m\u001b[1;33m:\u001b[0m\u001b[1;33m\u001b[0m\u001b[1;33m\u001b[0m\u001b[0m\n\u001b[0;32m    290\u001b[0m                 \u001b[1;32mreturn\u001b[0m \u001b[0mevaluated\u001b[0m\u001b[1;33m\u001b[0m\u001b[1;33m\u001b[0m\u001b[0m\n",
      "\u001b[1;32m~\\Anaconda3\\lib\\site-packages\\sympy\\ntheory\\factor_.py\u001b[0m in \u001b[0;36meval\u001b[1;34m(cls, n)\u001b[0m\n\u001b[0;32m   1944\u001b[0m             \u001b[1;32mif\u001b[0m \u001b[0mn\u001b[0m \u001b[1;33m<\u001b[0m \u001b[1;36m1\u001b[0m\u001b[1;33m:\u001b[0m\u001b[1;33m\u001b[0m\u001b[1;33m\u001b[0m\u001b[0m\n\u001b[0;32m   1945\u001b[0m                 \u001b[1;32mraise\u001b[0m \u001b[0mValueError\u001b[0m\u001b[1;33m(\u001b[0m\u001b[1;34m\"n must be a positive integer\"\u001b[0m\u001b[1;33m)\u001b[0m\u001b[1;33m\u001b[0m\u001b[1;33m\u001b[0m\u001b[0m\n\u001b[1;32m-> 1946\u001b[1;33m             \u001b[0mfactors\u001b[0m \u001b[1;33m=\u001b[0m \u001b[0mfactorint\u001b[0m\u001b[1;33m(\u001b[0m\u001b[0mn\u001b[0m\u001b[1;33m)\u001b[0m\u001b[1;33m\u001b[0m\u001b[1;33m\u001b[0m\u001b[0m\n\u001b[0m\u001b[0;32m   1947\u001b[0m             \u001b[1;32mreturn\u001b[0m \u001b[0mcls\u001b[0m\u001b[1;33m.\u001b[0m\u001b[0m_from_factors\u001b[0m\u001b[1;33m(\u001b[0m\u001b[0mfactors\u001b[0m\u001b[1;33m)\u001b[0m\u001b[1;33m\u001b[0m\u001b[1;33m\u001b[0m\u001b[0m\n\u001b[0;32m   1948\u001b[0m         \u001b[1;32melif\u001b[0m \u001b[1;32mnot\u001b[0m \u001b[0misinstance\u001b[0m\u001b[1;33m(\u001b[0m\u001b[0mn\u001b[0m\u001b[1;33m,\u001b[0m \u001b[0mExpr\u001b[0m\u001b[1;33m)\u001b[0m \u001b[1;32mor\u001b[0m \u001b[1;33m(\u001b[0m\u001b[0mn\u001b[0m\u001b[1;33m.\u001b[0m\u001b[0mis_integer\u001b[0m \u001b[1;32mis\u001b[0m \u001b[1;32mFalse\u001b[0m\u001b[1;33m)\u001b[0m \u001b[1;32mor\u001b[0m \u001b[1;33m(\u001b[0m\u001b[0mn\u001b[0m\u001b[1;33m.\u001b[0m\u001b[0mis_positive\u001b[0m \u001b[1;32mis\u001b[0m \u001b[1;32mFalse\u001b[0m\u001b[1;33m)\u001b[0m\u001b[1;33m:\u001b[0m\u001b[1;33m\u001b[0m\u001b[1;33m\u001b[0m\u001b[0m\n",
      "\u001b[1;32m~\\Anaconda3\\lib\\site-packages\\sympy\\ntheory\\factor_.py\u001b[0m in \u001b[0;36mfactorint\u001b[1;34m(n, limit, use_trial, use_rho, use_pm1, use_ecm, verbose, visual, multiple)\u001b[0m\n\u001b[0;32m   1274\u001b[0m         \u001b[1;32mif\u001b[0m \u001b[0mverbose\u001b[0m\u001b[1;33m:\u001b[0m\u001b[1;33m\u001b[0m\u001b[1;33m\u001b[0m\u001b[0m\n\u001b[0;32m   1275\u001b[0m             \u001b[0mprint\u001b[0m\u001b[1;33m(\u001b[0m\u001b[0mtrial_int_msg\u001b[0m \u001b[1;33m%\u001b[0m \u001b[1;33m(\u001b[0m\u001b[1;36m2\u001b[0m\u001b[1;33m,\u001b[0m \u001b[0msmall\u001b[0m\u001b[1;33m,\u001b[0m \u001b[0mfail_max\u001b[0m\u001b[1;33m)\u001b[0m\u001b[1;33m)\u001b[0m\u001b[1;33m\u001b[0m\u001b[1;33m\u001b[0m\u001b[0m\n\u001b[1;32m-> 1276\u001b[1;33m         \u001b[0mn\u001b[0m\u001b[1;33m,\u001b[0m \u001b[0mnext_p\u001b[0m \u001b[1;33m=\u001b[0m \u001b[0m_factorint_small\u001b[0m\u001b[1;33m(\u001b[0m\u001b[0mfactors\u001b[0m\u001b[1;33m,\u001b[0m \u001b[0mn\u001b[0m\u001b[1;33m,\u001b[0m \u001b[0msmall\u001b[0m\u001b[1;33m,\u001b[0m \u001b[0mfail_max\u001b[0m\u001b[1;33m)\u001b[0m\u001b[1;33m\u001b[0m\u001b[1;33m\u001b[0m\u001b[0m\n\u001b[0m\u001b[0;32m   1277\u001b[0m     \u001b[1;32melse\u001b[0m\u001b[1;33m:\u001b[0m\u001b[1;33m\u001b[0m\u001b[1;33m\u001b[0m\u001b[0m\n\u001b[0;32m   1278\u001b[0m         \u001b[0mnext_p\u001b[0m \u001b[1;33m=\u001b[0m \u001b[1;36m2\u001b[0m\u001b[1;33m\u001b[0m\u001b[1;33m\u001b[0m\u001b[0m\n",
      "\u001b[1;32m~\\Anaconda3\\lib\\site-packages\\sympy\\ntheory\\factor_.py\u001b[0m in \u001b[0;36m_factorint_small\u001b[1;34m(factors, n, limit, fail_max)\u001b[0m\n\u001b[0;32m    969\u001b[0m         \u001b[1;31m# reduce\u001b[0m\u001b[1;33m\u001b[0m\u001b[1;33m\u001b[0m\u001b[1;33m\u001b[0m\u001b[0m\n\u001b[0;32m    970\u001b[0m         \u001b[0mm\u001b[0m \u001b[1;33m=\u001b[0m \u001b[1;36m0\u001b[0m\u001b[1;33m\u001b[0m\u001b[1;33m\u001b[0m\u001b[0m\n\u001b[1;32m--> 971\u001b[1;33m         \u001b[1;32mwhile\u001b[0m \u001b[0mn\u001b[0m \u001b[1;33m%\u001b[0m \u001b[0md\u001b[0m \u001b[1;33m==\u001b[0m \u001b[1;36m0\u001b[0m\u001b[1;33m:\u001b[0m\u001b[1;33m\u001b[0m\u001b[1;33m\u001b[0m\u001b[0m\n\u001b[0m\u001b[0;32m    972\u001b[0m             \u001b[0mn\u001b[0m \u001b[1;33m//=\u001b[0m \u001b[0md\u001b[0m\u001b[1;33m\u001b[0m\u001b[1;33m\u001b[0m\u001b[0m\n\u001b[0;32m    973\u001b[0m             \u001b[0mm\u001b[0m \u001b[1;33m+=\u001b[0m \u001b[1;36m1\u001b[0m\u001b[1;33m\u001b[0m\u001b[1;33m\u001b[0m\u001b[0m\n",
      "\u001b[1;31mKeyboardInterrupt\u001b[0m: "
     ]
    }
   ],
   "source": [
    "for i in range(1000):\n",
    "    for j in range(i):\n",
    "        if(prime_factors(sp.totient(primes[:200][i]*primes[:200][j])).count(2)==9):\n",
    "            print(primes[:200][i]*primes[:200][j])"
   ]
  },
  {
   "cell_type": "code",
   "execution_count": 639,
   "id": "1cad9c47-6d90-447c-ba09-056fe0b70977",
   "metadata": {},
   "outputs": [
    {
     "data": {
      "text/plain": [
       "0.9966474062912247"
      ]
     },
     "execution_count": 639,
     "metadata": {},
     "output_type": "execute_result"
    }
   ],
   "source": [
    "coprime_density(357037)"
   ]
  },
  {
   "cell_type": "code",
   "execution_count": 637,
   "id": "757781d2-2b52-4ad4-aa89-316f3f5bf0a7",
   "metadata": {},
   "outputs": [
    {
     "data": {
      "text/plain": [
       "303"
      ]
     },
     "execution_count": 637,
     "metadata": {},
     "output_type": "execute_result"
    }
   ],
   "source": [
    "len(primes)"
   ]
  },
  {
   "cell_type": "code",
   "execution_count": 562,
   "id": "f2c14427-8dbb-41b8-b3ef-982b0ca66993",
   "metadata": {},
   "outputs": [
    {
     "data": {
      "text/plain": [
       "0.00390625"
      ]
     },
     "execution_count": 562,
     "metadata": {},
     "output_type": "execute_result"
    }
   ],
   "source": [
    "1/(2**8)"
   ]
  },
  {
   "cell_type": "code",
   "execution_count": 539,
   "id": "87726bb3-8c95-4549-a237-5deb8fdf4e72",
   "metadata": {},
   "outputs": [
    {
     "data": {
      "text/plain": [
       "(array([-1.,  0.,  1.]), array([   1,   13, 3575], dtype=int64))"
      ]
     },
     "execution_count": 539,
     "metadata": {},
     "output_type": "execute_result"
    }
   ],
   "source": [
    "np.unique(orders_fermat_list[:N], return_counts=True)"
   ]
  },
  {
   "cell_type": "code",
   "execution_count": 540,
   "id": "f75b6055-ab4d-40f9-a3f4-7ae7fc6aaa68",
   "metadata": {},
   "outputs": [
    {
     "data": {
      "text/plain": [
       "0.9963778211200892"
      ]
     },
     "execution_count": 540,
     "metadata": {},
     "output_type": "execute_result"
    }
   ],
   "source": [
    "1- 13/N"
   ]
  },
  {
   "cell_type": "code",
   "execution_count": 536,
   "id": "38b4adcb-cc93-435e-b3a2-772608b93812",
   "metadata": {},
   "outputs": [
    {
     "data": {
      "text/plain": [
       "0.9960937502319211"
      ]
     },
     "execution_count": 536,
     "metadata": {},
     "output_type": "execute_result"
    }
   ],
   "source": [
    "coprime_density(N_fermat)"
   ]
  },
  {
   "cell_type": "code",
   "execution_count": 516,
   "id": "299a3fa4-07f7-465b-9f3f-494897dbee5a",
   "metadata": {},
   "outputs": [
    {
     "data": {
      "text/plain": [
       "{-1: 0.0037716872014080965, 0: 0.034448076439527284, 1: 0.9617802363590646}"
      ]
     },
     "execution_count": 516,
     "metadata": {},
     "output_type": "execute_result"
    }
   ],
   "source": [
    "order_stats_formula(N)"
   ]
  },
  {
   "cell_type": "code",
   "execution_count": 571,
   "id": "c8d046c1-e960-4605-a3fc-1f99e9732527",
   "metadata": {},
   "outputs": [
    {
     "data": {
      "text/plain": [
       "(array([False,  True]), array([10691,   270], dtype=int64))"
      ]
     },
     "execution_count": 571,
     "metadata": {},
     "output_type": "execute_result"
    }
   ],
   "source": [
    "np.unique(orders_single_number_list_processed[:N] != orders_fermat_list[:N], return_counts=True)"
   ]
  },
  {
   "cell_type": "code",
   "execution_count": 621,
   "id": "5f2b2298-17e2-456a-b219-e531a0d550e5",
   "metadata": {},
   "outputs": [],
   "source": [
    "N = 3811+166"
   ]
  },
  {
   "cell_type": "code",
   "execution_count": 548,
   "id": "0595092b-3421-45b7-9de2-3dcabd0931f5",
   "metadata": {},
   "outputs": [
    {
     "data": {
      "text/plain": [
       "0.9806109902582049"
      ]
     },
     "execution_count": 548,
     "metadata": {},
     "output_type": "execute_result"
    }
   ],
   "source": [
    "coprime_density(10573)"
   ]
  },
  {
   "cell_type": "code",
   "execution_count": 559,
   "id": "c2390b19-53df-4e0a-abcf-9a4ace07cbd8",
   "metadata": {},
   "outputs": [
    {
     "data": {
      "text/plain": [
       "0.008297711843097813"
      ]
     },
     "execution_count": 559,
     "metadata": {},
     "output_type": "execute_result"
    }
   ],
   "source": [
    "(166-133)/3977"
   ]
  },
  {
   "cell_type": "code",
   "execution_count": 570,
   "id": "e2f53167-72ce-4f86-8966-78ecaf853be3",
   "metadata": {},
   "outputs": [
    {
     "data": {
      "text/plain": [
       "209"
      ]
     },
     "execution_count": 570,
     "metadata": {},
     "output_type": "execute_result"
    }
   ],
   "source": [
    "count"
   ]
  },
  {
   "cell_type": "code",
   "execution_count": 569,
   "id": "aec1b826-3087-46e1-97ab-0ea58e4127f4",
   "metadata": {
    "collapsed": true,
    "jupyter": {
     "outputs_hidden": true
    },
    "tags": []
   },
   "outputs": [
    {
     "name": "stdout",
     "output_type": "stream",
     "text": [
      "0 1.0\n",
      "0 1.0\n",
      "0 1.0\n",
      "0 1.0\n",
      "1 0.0\n",
      "0 1.0\n",
      "0 1.0\n",
      "0 1.0\n",
      "0 1.0\n",
      "0 1.0\n",
      "1 0.0\n",
      "0 1.0\n",
      "0 1.0\n",
      "0 1.0\n",
      "0 1.0\n",
      "1 0.0\n",
      "0 1.0\n",
      "0 1.0\n",
      "0 1.0\n",
      "0 1.0\n",
      "-1 1.0\n",
      "0 1.0\n",
      "0 1.0\n",
      "1 0.0\n",
      "0 1.0\n",
      "0 1.0\n",
      "0 1.0\n",
      "0 1.0\n",
      "0 1.0\n",
      "1 0.0\n",
      "0 1.0\n",
      "0 1.0\n",
      "0 1.0\n",
      "0 1.0\n",
      "1 0.0\n",
      "0 1.0\n",
      "0 1.0\n",
      "0 1.0\n",
      "0 1.0\n",
      "0 1.0\n",
      "1 0.0\n",
      "0 1.0\n",
      "0 1.0\n",
      "0 1.0\n",
      "0 1.0\n",
      "0 1.0\n",
      "0 1.0\n",
      "1 0.0\n",
      "0 1.0\n",
      "0 1.0\n",
      "0 1.0\n",
      "0 1.0\n",
      "1 0.0\n",
      "0 1.0\n",
      "0 1.0\n",
      "-1 1.0\n",
      "0 1.0\n",
      "0 1.0\n",
      "0 1.0\n",
      "1 0.0\n",
      "0 1.0\n",
      "0 1.0\n",
      "0 1.0\n",
      "0 1.0\n",
      "0 1.0\n",
      "0 1.0\n",
      "1 0.0\n",
      "-1 1.0\n",
      "0 1.0\n",
      "0 1.0\n",
      "0 1.0\n",
      "0 1.0\n",
      "1 0.0\n",
      "0 1.0\n",
      "0 1.0\n",
      "-1 1.0\n",
      "0 1.0\n",
      "0 1.0\n",
      "0 1.0\n",
      "1 0.0\n",
      "0 1.0\n",
      "0 1.0\n",
      "0 1.0\n",
      "0 1.0\n",
      "0 1.0\n",
      "1 0.0\n",
      "0 1.0\n",
      "0 1.0\n",
      "0 1.0\n",
      "0 1.0\n",
      "0 1.0\n",
      "1 0.0\n",
      "0 1.0\n",
      "0 1.0\n",
      "0 1.0\n",
      "0 1.0\n",
      "0 1.0\n",
      "1 0.0\n",
      "0 1.0\n",
      "0 1.0\n",
      "0 1.0\n",
      "0 1.0\n",
      "0 1.0\n",
      "1 0.0\n",
      "-1 1.0\n",
      "0 1.0\n",
      "0 1.0\n",
      "0 1.0\n",
      "0 1.0\n",
      "1 0.0\n",
      "0 1.0\n",
      "0 1.0\n",
      "0 1.0\n",
      "0 1.0\n",
      "0 1.0\n",
      "0 1.0\n",
      "1 0.0\n",
      "0 1.0\n",
      "0 1.0\n",
      "0 1.0\n",
      "0 1.0\n",
      "1 0.0\n",
      "0 1.0\n",
      "0 1.0\n",
      "0 1.0\n",
      "0 1.0\n",
      "0 1.0\n",
      "1 0.0\n",
      "0 1.0\n",
      "0 1.0\n",
      "0 1.0\n",
      "-1 1.0\n",
      "0 1.0\n",
      "0 1.0\n",
      "0 1.0\n",
      "1 0.0\n",
      "0 1.0\n",
      "0 1.0\n",
      "0 1.0\n",
      "0 1.0\n",
      "1 0.0\n",
      "0 1.0\n",
      "0 1.0\n",
      "0 1.0\n",
      "0 1.0\n",
      "0 1.0\n",
      "1 0.0\n",
      "0 1.0\n",
      "0 1.0\n",
      "-1 1.0\n",
      "0 1.0\n",
      "0 1.0\n",
      "0 1.0\n",
      "1 0.0\n",
      "-1 1.0\n",
      "0 1.0\n",
      "0 1.0\n",
      "0 1.0\n",
      "0 1.0\n",
      "0 1.0\n",
      "1 0.0\n",
      "0 1.0\n",
      "0 1.0\n",
      "0 1.0\n",
      "0 1.0\n",
      "0 1.0\n",
      "1 0.0\n",
      "0 1.0\n",
      "0 1.0\n",
      "0 1.0\n",
      "0 1.0\n",
      "0 1.0\n",
      "1 0.0\n",
      "0 1.0\n",
      "0 1.0\n",
      "0 1.0\n",
      "0 1.0\n",
      "-1 1.0\n",
      "1 0.0\n",
      "0 1.0\n",
      "0 1.0\n",
      "0 1.0\n",
      "-1 1.0\n",
      "0 1.0\n",
      "-1 1.0\n",
      "0 1.0\n",
      "0 1.0\n",
      "1 0.0\n",
      "0 1.0\n",
      "0 1.0\n",
      "0 1.0\n",
      "0 1.0\n",
      "0 1.0\n",
      "1 0.0\n",
      "0 1.0\n",
      "0 1.0\n",
      "0 1.0\n",
      "0 1.0\n",
      "1 0.0\n",
      "0 1.0\n",
      "0 1.0\n",
      "0 1.0\n",
      "0 1.0\n",
      "0 1.0\n",
      "0 1.0\n",
      "1 0.0\n",
      "0 1.0\n",
      "0 1.0\n",
      "0 1.0\n",
      "-1 1.0\n",
      "0 1.0\n",
      "0 1.0\n",
      "-1 1.0\n",
      "1 0.0\n",
      "0 1.0\n",
      "0 1.0\n",
      "0 1.0\n",
      "0 1.0\n",
      "1 0.0\n",
      "0 1.0\n",
      "0 1.0\n",
      "-1 1.0\n",
      "0 1.0\n",
      "0 1.0\n",
      "0 1.0\n",
      "1 0.0\n",
      "0 1.0\n",
      "0 1.0\n",
      "0 1.0\n",
      "0 1.0\n",
      "0 1.0\n",
      "0 1.0\n",
      "1 0.0\n",
      "-1 1.0\n",
      "0 1.0\n",
      "0 1.0\n",
      "0 1.0\n",
      "0 1.0\n",
      "1 0.0\n",
      "0 1.0\n",
      "0 1.0\n",
      "-1 1.0\n",
      "0 1.0\n",
      "0 1.0\n",
      "0 1.0\n",
      "1 0.0\n",
      "0 1.0\n",
      "0 1.0\n",
      "0 1.0\n",
      "0 1.0\n",
      "-1 1.0\n",
      "1 0.0\n",
      "0 1.0\n",
      "0 1.0\n",
      "0 1.0\n",
      "0 1.0\n",
      "0 1.0\n",
      "0 1.0\n",
      "-1 0.0\n",
      "0 1.0\n",
      "0 1.0\n",
      "0 1.0\n",
      "-1 1.0\n",
      "-1 1.0\n",
      "0 1.0\n",
      "0 1.0\n",
      "1 0.0\n",
      "0 1.0\n",
      "0 1.0\n",
      "0 1.0\n"
     ]
    }
   ],
   "source": [
    "\n",
    "count = 0 \n",
    "for i in range(N):\n",
    "    a = orders_single_number_list_processed[i]\n",
    "    b = orders_fermat_list[:N][i]\n",
    "    if(a!=b):\n",
    "        if(a==0 and b==1.0):\n",
    "            count+=1\n",
    "        print(a,b)"
   ]
  },
  {
   "cell_type": "markdown",
   "id": "ce1b3096-d9aa-49d1-8b8b-4506d511f03b",
   "metadata": {
    "tags": []
   },
   "source": [
    "# Toss Statistics"
   ]
  },
  {
   "cell_type": "code",
   "execution_count": 9,
   "id": "037ff24f-3dd1-4758-96b8-05f33dc1a770",
   "metadata": {},
   "outputs": [],
   "source": [
    "def bit_strings(n,k):\n",
    "    assert(n>=k)\n",
    "    if k==0:\n",
    "        return ['0'*n]\n",
    "    elif n==k:\n",
    "        return ['1'*n]\n",
    "    else: \n",
    "        return [s + '0' for s in bit_strings(n-1,k)] + [s + '1' for s in bit_strings(n-1,k-1)]\n",
    "    "
   ]
  },
  {
   "cell_type": "code",
   "execution_count": 10,
   "id": "e854cc02-6959-4377-a875-18201b9a21d4",
   "metadata": {},
   "outputs": [],
   "source": [
    "from itertools import product\n",
    "def cart_product(l1, l2):\n",
    "    return list(product(l1, l2))"
   ]
  },
  {
   "cell_type": "code",
   "execution_count": 16,
   "id": "8126025d-0eaa-414f-9482-6828b447c10e",
   "metadata": {},
   "outputs": [],
   "source": [
    "def analytic_collision(m,n,k):\n",
    "    return m + n - 2*m*n/k"
   ]
  },
  {
   "cell_type": "code",
   "execution_count": 11,
   "id": "5564a0b4-e87f-48fe-a276-76905637c4a7",
   "metadata": {},
   "outputs": [],
   "source": [
    "def collisions(l):\n",
    "    return [sum([m!=n for m,n in zip(i,j)]) for i,j in l]"
   ]
  },
  {
   "cell_type": "code",
   "execution_count": 27,
   "id": "5830ca33-38a4-4b9f-b50e-22defc305b84",
   "metadata": {},
   "outputs": [],
   "source": [
    "k = 10\n",
    "m = 1\n",
    "n = 7"
   ]
  },
  {
   "cell_type": "code",
   "execution_count": 28,
   "id": "a697e282-3c2e-44c3-bd1f-418cd7c5837a",
   "metadata": {},
   "outputs": [],
   "source": [
    "n3131 = cart_product(bit_strings(k,m),bit_strings(k,n))"
   ]
  },
  {
   "cell_type": "code",
   "execution_count": 29,
   "id": "8c57dfdf-4c5e-4b85-99ed-4684af66de25",
   "metadata": {},
   "outputs": [
    {
     "data": {
      "text/plain": [
       "6.6"
      ]
     },
     "execution_count": 29,
     "metadata": {},
     "output_type": "execute_result"
    }
   ],
   "source": [
    "np.mean(collisions(n3131))"
   ]
  },
  {
   "cell_type": "code",
   "execution_count": 30,
   "id": "75536dc6-9d21-43d6-bb90-dd362a54de9f",
   "metadata": {},
   "outputs": [
    {
     "data": {
      "text/plain": [
       "6.6"
      ]
     },
     "execution_count": 30,
     "metadata": {},
     "output_type": "execute_result"
    }
   ],
   "source": [
    "analytic_collision(m,n,k)"
   ]
  },
  {
   "cell_type": "code",
   "execution_count": 22,
   "id": "e32773c9-a551-49c1-89bd-6f98cd1950fe",
   "metadata": {},
   "outputs": [
    {
     "data": {
      "text/plain": [
       "(array([0, 2]), array([10, 90], dtype=int64))"
      ]
     },
     "execution_count": 22,
     "metadata": {},
     "output_type": "execute_result"
    }
   ],
   "source": [
    "np.unique(collisions(n3131), return_counts=True)"
   ]
  },
  {
   "cell_type": "code",
   "execution_count": 2,
   "id": "91db6d7d-b2fa-4a25-97c1-ee560b10e3a5",
   "metadata": {},
   "outputs": [],
   "source": [
    "import sympy as sp"
   ]
  },
  {
   "cell_type": "markdown",
   "id": "aff5b269-4da5-4530-9c70-532eabf32d89",
   "metadata": {
    "tags": []
   },
   "source": [
    "## Variance calculations"
   ]
  },
  {
   "cell_type": "code",
   "execution_count": 3,
   "id": "9a0b4859-fae4-4301-a75e-c8a771a8452a",
   "metadata": {},
   "outputs": [],
   "source": [
    "import sympy as sp"
   ]
  },
  {
   "cell_type": "code",
   "execution_count": 4,
   "id": "90081463-e0f7-4be1-bff9-95b7918e3e76",
   "metadata": {},
   "outputs": [],
   "source": [
    "B1, B2, R1, R2, G1, G2 = sp.symbols(\"B_1 B_2 R_1 R_2 G_1 G_2\")"
   ]
  },
  {
   "cell_type": "code",
   "execution_count": 5,
   "id": "86cf8adb-98f6-4296-95b2-b6ec004af645",
   "metadata": {},
   "outputs": [],
   "source": [
    "k, N, N_bar, S, S_bar = sp.symbols(\"k N \\overline{N} S \\overline{S}\")"
   ]
  },
  {
   "cell_type": "code",
   "execution_count": 6,
   "id": "ac882ca2-7d72-481c-adfe-4a9d98b596c6",
   "metadata": {},
   "outputs": [],
   "source": [
    "# R1 = N - B1 - G1\n",
    "# R2 = N - B2 - G2\n",
    "# N_bar = N-1\n",
    "# E_BG = sp.expand(B2*G2*(R1*N_bar + B1*G1) + B1*G1*(R2*N_bar + B2*G2) + G1*B2*(N_bar - B1)*(N_bar - G2) + G2*B1*(N_bar - B2)*(N_bar - G1))\n",
    "# E_XY.subs({N_bar : N - 1}).expand() - E_XY_simplify.subs({N_bar : N - 1}).expand()"
   ]
  },
  {
   "cell_type": "code",
   "execution_count": 7,
   "id": "601431ef-79fb-4c0d-94fc-99d72e493ed1",
   "metadata": {},
   "outputs": [],
   "source": [
    "E_BG_simplify = sp.Mul(((k*(k-1))/(N*S*N_bar*S_bar)),(4*G1*G2*B1*B2 - sp.Rational(1/2)*N_bar*((G1 + G2)*(4*B1*B2 - N*(B1 + B2)) + 2*G1*B2 + 2*G2*B1 + (B1 + B2)*(4*G1*G2 - N*(G1 + G2)))), evaluate=False) + sp.Mul((k/(N*S)),(B1*G2 + B2*G1), evaluate=False)"
   ]
  },
  {
   "cell_type": "code",
   "execution_count": 8,
   "id": "0e9dd540-8d86-4e8f-9d76-551b7dd9aa11",
   "metadata": {},
   "outputs": [
    {
     "data": {
      "text/latex": [
       "$\\displaystyle \\frac{k}{N S} \\left(B_{1} G_{2} + B_{2} G_{1}\\right) + \\frac{k \\left(k - 1\\right)}{N S \\overline{N} \\overline{S}} \\left(4 B_{1} B_{2} G_{1} G_{2} - \\frac{\\overline{N} \\left(2 B_{1} G_{2} + 2 B_{2} G_{1} + \\left(B_{1} + B_{2}\\right) \\left(4 G_{1} G_{2} - N \\left(G_{1} + G_{2}\\right)\\right) + \\left(G_{1} + G_{2}\\right) \\left(4 B_{1} B_{2} - N \\left(B_{1} + B_{2}\\right)\\right)\\right)}{2}\\right)$"
      ],
      "text/plain": [
       "(k/(N*S))*(B_1*G_2 + B_2*G_1) + (k*(k - 1)/(N*S*\\overline{N}*\\overline{S}))*(4*B_1*B_2*G_1*G_2 - \\overline{N}*(2*B_1*G_2 + 2*B_2*G_1 + (B_1 + B_2)*(4*G_1*G_2 - N*(G_1 + G_2)) + (G_1 + G_2)*(4*B_1*B_2 - N*(B_1 + B_2)))/2)"
      ]
     },
     "execution_count": 8,
     "metadata": {},
     "output_type": "execute_result"
    }
   ],
   "source": [
    "E_BG_simplify"
   ]
  },
  {
   "cell_type": "code",
   "execution_count": 9,
   "id": "8eff6bec-16f4-4747-a421-d9f4bf2c2c7b",
   "metadata": {},
   "outputs": [],
   "source": [
    "E_BR_simplify = E_BG_simplify.subs(dict(zip([G1, G2], [R1, R2]))).copy()"
   ]
  },
  {
   "cell_type": "code",
   "execution_count": 10,
   "id": "07a2331f-db3f-4858-b525-018791c8004c",
   "metadata": {},
   "outputs": [],
   "source": [
    "E_RG_simplify = E_BG_simplify.subs(dict(zip([B1, B2], [R1, R2]))).copy()"
   ]
  },
  {
   "cell_type": "code",
   "execution_count": 11,
   "id": "3f91a63c-a2f3-4107-a59c-37fe287f62fb",
   "metadata": {},
   "outputs": [
    {
     "data": {
      "text/latex": [
       "$\\displaystyle \\frac{k \\left(G_{1} R_{2} + G_{2} R_{1}\\right)}{N S} + \\frac{k \\left(k - 1\\right) \\left(4 G_{1} G_{2} R_{1} R_{2} - \\frac{\\overline{N} \\left(2 G_{1} R_{2} + 2 G_{2} R_{1} + \\left(G_{1} + G_{2}\\right) \\left(- N \\left(R_{1} + R_{2}\\right) + 4 R_{1} R_{2}\\right) + \\left(R_{1} + R_{2}\\right) \\left(4 G_{1} G_{2} - N \\left(G_{1} + G_{2}\\right)\\right)\\right)}{2}\\right)}{N S \\overline{N} \\overline{S}}$"
      ],
      "text/plain": [
       "k*(G_1*R_2 + G_2*R_1)/(N*S) + k*(k - 1)*(4*G_1*G_2*R_1*R_2 - \\overline{N}*(2*G_1*R_2 + 2*G_2*R_1 + (G_1 + G_2)*(-N*(R_1 + R_2) + 4*R_1*R_2) + (R_1 + R_2)*(4*G_1*G_2 - N*(G_1 + G_2)))/2)/(N*S*\\overline{N}*\\overline{S})"
      ]
     },
     "execution_count": 11,
     "metadata": {},
     "output_type": "execute_result"
    }
   ],
   "source": [
    "E_RG_simplify"
   ]
  },
  {
   "cell_type": "code",
   "execution_count": 12,
   "id": "9d9c9742-c31f-411e-8e87-691e061cf2f1",
   "metadata": {},
   "outputs": [],
   "source": [
    "E_B = k*(B1/N + B2/S - 2*B1*B2/(N*S))"
   ]
  },
  {
   "cell_type": "code",
   "execution_count": 13,
   "id": "425cf2ac-1b94-408d-b7da-87fa6cffb792",
   "metadata": {},
   "outputs": [
    {
     "data": {
      "text/latex": [
       "$\\displaystyle k \\left(- \\frac{2 B_{1} B_{2}}{N S} + \\frac{B_{1}}{N} + \\frac{B_{2}}{S}\\right)$"
      ],
      "text/plain": [
       "k*(-2*B_1*B_2/(N*S) + B_1/N + B_2/S)"
      ]
     },
     "execution_count": 13,
     "metadata": {},
     "output_type": "execute_result"
    }
   ],
   "source": [
    "E_B"
   ]
  },
  {
   "cell_type": "code",
   "execution_count": 14,
   "id": "3905c0ff-cc56-425e-bc38-f1e94d02e63c",
   "metadata": {},
   "outputs": [],
   "source": [
    "E_R = E_B.subs(dict(zip([B1, B2], [R1, R2]))).copy()"
   ]
  },
  {
   "cell_type": "code",
   "execution_count": 15,
   "id": "5e5ad782-fa42-476e-80f8-2649a8023ac1",
   "metadata": {},
   "outputs": [],
   "source": [
    "E_G = E_B.subs(dict(zip([B1, B2], [G1, G2]))).copy()"
   ]
  },
  {
   "cell_type": "code",
   "execution_count": 16,
   "id": "46017cfb-2675-43a7-a41b-b5dd51b8f937",
   "metadata": {},
   "outputs": [],
   "source": [
    "E_GG = G1*(S-G2)*(G1-1)*(S_bar - G2) + G2*(N-G1)*(G2-1)*(N_bar - G1) + 2*G1*G2*(S-G2)*(N-G1)"
   ]
  },
  {
   "cell_type": "code",
   "execution_count": 17,
   "id": "efc64611-7f48-4050-9f98-4daf90b381c8",
   "metadata": {},
   "outputs": [
    {
     "data": {
      "text/latex": [
       "$\\displaystyle 4 G_{1}^{2} G_{2}^{2} - 3 G_{1}^{2} G_{2} S - G_{1}^{2} G_{2} \\overline{S} - G_{1}^{2} G_{2} + G_{1}^{2} S \\overline{S} - 3 G_{1} G_{2}^{2} N - G_{1} G_{2}^{2} \\overline{N} - G_{1} G_{2}^{2} + 2 G_{1} G_{2} N S + G_{1} G_{2} N + G_{1} G_{2} S + G_{1} G_{2} \\overline{N} + G_{1} G_{2} \\overline{S} - G_{1} S \\overline{S} + G_{2}^{2} N \\overline{N} - G_{2} N \\overline{N}$"
      ],
      "text/plain": [
       "4*G_1**2*G_2**2 - 3*G_1**2*G_2*S - G_1**2*G_2*\\overline{S} - G_1**2*G_2 + G_1**2*S*\\overline{S} - 3*G_1*G_2**2*N - G_1*G_2**2*\\overline{N} - G_1*G_2**2 + 2*G_1*G_2*N*S + G_1*G_2*N + G_1*G_2*S + G_1*G_2*\\overline{N} + G_1*G_2*\\overline{S} - G_1*S*\\overline{S} + G_2**2*N*\\overline{N} - G_2*N*\\overline{N}"
      ]
     },
     "execution_count": 17,
     "metadata": {},
     "output_type": "execute_result"
    }
   ],
   "source": [
    "E_GG.expand()"
   ]
  },
  {
   "cell_type": "code",
   "execution_count": 18,
   "id": "f396872c-2311-4d63-aa76-684ee540f5e6",
   "metadata": {},
   "outputs": [],
   "source": [
    "E_GG_simplify = sp.Mul(((k*(k-1))/(N*S*N_bar*S_bar)),G1*(S-G2)*(S_bar*(G1 -1) + G2*(N+1) - 2*G1*G2) +  G2*(N-G1)*(N_bar*(G2 -1) + G1*(S+1) - 2*G1*G2), evaluate=False) + E_G"
   ]
  },
  {
   "cell_type": "code",
   "execution_count": 19,
   "id": "20092846-47fb-4ad6-be10-92147349157b",
   "metadata": {},
   "outputs": [
    {
     "data": {
      "text/latex": [
       "$\\displaystyle k \\left(- \\frac{2 G_{1} G_{2}}{N S} + \\frac{G_{1}}{N} + \\frac{G_{2}}{S}\\right) + \\frac{k \\left(k - 1\\right)}{N S \\overline{N} \\overline{S}} \\left(G_{1} \\left(- G_{2} + S\\right) \\left(- 2 G_{1} G_{2} + G_{2} \\left(N + 1\\right) + \\overline{S} \\left(G_{1} - 1\\right)\\right) + G_{2} \\left(- G_{1} + N\\right) \\left(- 2 G_{1} G_{2} + G_{1} \\left(S + 1\\right) + \\overline{N} \\left(G_{2} - 1\\right)\\right)\\right)$"
      ],
      "text/plain": [
       "k*(-2*G_1*G_2/(N*S) + G_1/N + G_2/S) + (k*(k - 1)/(N*S*\\overline{N}*\\overline{S}))*(G_1*(-G_2 + S)*(-2*G_1*G_2 + G_2*(N + 1) + \\overline{S}*(G_1 - 1)) + G_2*(-G_1 + N)*(-2*G_1*G_2 + G_1*(S + 1) + \\overline{N}*(G_2 - 1)))"
      ]
     },
     "execution_count": 19,
     "metadata": {},
     "output_type": "execute_result"
    }
   ],
   "source": [
    "E_GG_simplify"
   ]
  },
  {
   "cell_type": "code",
   "execution_count": 21,
   "id": "54465b67-f38d-44ff-a897-5b410ce820ef",
   "metadata": {},
   "outputs": [
    {
     "data": {
      "text/latex": [
       "$\\displaystyle k \\left(- \\frac{2 G_{1} G_{2}}{N^{2}} + \\frac{G_{1}}{N} + \\frac{G_{2}}{N}\\right) + \\frac{k \\left(k - 1\\right) \\left(G_{1} \\left(- G_{2} + N\\right) \\left(- 2 G_{1} G_{2} + G_{2} \\left(N + 1\\right) + \\overline{N} \\left(G_{1} - 1\\right)\\right) + G_{2} \\left(- G_{1} + N\\right) \\left(- 2 G_{1} G_{2} + G_{1} \\left(N + 1\\right) + \\overline{N} \\left(G_{2} - 1\\right)\\right)\\right)}{N^{2} \\overline{N}^{2}}$"
      ],
      "text/plain": [
       "k*(-2*G_1*G_2/N**2 + G_1/N + G_2/N) + k*(k - 1)*(G_1*(-G_2 + N)*(-2*G_1*G_2 + G_2*(N + 1) + \\overline{N}*(G_1 - 1)) + G_2*(-G_1 + N)*(-2*G_1*G_2 + G_1*(N + 1) + \\overline{N}*(G_2 - 1)))/(N**2*\\overline{N}**2)"
      ]
     },
     "execution_count": 21,
     "metadata": {},
     "output_type": "execute_result"
    }
   ],
   "source": [
    "E_GG_simplify.subs({S:N, S_bar: N_bar})"
   ]
  },
  {
   "cell_type": "code",
   "execution_count": 22,
   "id": "0445c0ee-f910-4aaa-bcd4-9ad12ad175a4",
   "metadata": {},
   "outputs": [
    {
     "name": "stdout",
     "output_type": "stream",
     "text": [
      "k \\left(- \\frac{2 G_{1} G_{2}}{N^{2}} + \\frac{G_{1}}{N} + \\frac{G_{2}}{N}\\right) + \\frac{k \\left(k - 1\\right) \\left(G_{1} \\left(- G_{2} + N\\right) \\left(- 2 G_{1} G_{2} + G_{2} \\left(N + 1\\right) + \\overline{N} \\left(G_{1} - 1\\right)\\right) + G_{2} \\left(- G_{1} + N\\right) \\left(- 2 G_{1} G_{2} + G_{1} \\left(N + 1\\right) + \\overline{N} \\left(G_{2} - 1\\right)\\right)\\right)}{N^{2} \\overline{N}^{2}}\n"
     ]
    }
   ],
   "source": [
    "print(sp.latex(E_GG_simplify.subs({S:N, S_bar: N_bar})))"
   ]
  },
  {
   "cell_type": "code",
   "execution_count": 23,
   "id": "d1327e23-7b59-427b-8d14-c9e48a112745",
   "metadata": {},
   "outputs": [],
   "source": [
    "M, M_bar, R1_prime, R2_prime = sp.symbols(\"M \\overline{M} R'_1 R'_2\")"
   ]
  },
  {
   "cell_type": "code",
   "execution_count": 25,
   "id": "40082f52-9635-45a8-93f2-f5f029d3c223",
   "metadata": {},
   "outputs": [
    {
     "name": "stdout",
     "output_type": "stream",
     "text": [
      "k \\left(\\frac{R'_{1}}{M} + \\frac{R'_{2}}{M} - \\frac{2 R'_{1} R'_{2}}{M^{2}}\\right) + \\frac{k \\left(k - 1\\right) \\left(R'_{1} \\left(M - R'_{2}\\right) \\left(- 2 R'_{1} R'_{2} + R'_{2} \\left(M + 1\\right) + \\overline{M} \\left(R'_{1} - 1\\right)\\right) + R'_{2} \\left(M - R'_{1}\\right) \\left(- 2 R'_{1} R'_{2} + R'_{1} \\left(M + 1\\right) + \\overline{M} \\left(R'_{2} - 1\\right)\\right)\\right)}{M^{2} \\overline{M}^{2}}\n"
     ]
    }
   ],
   "source": [
    "print(sp.latex(E_GG_simplify.subs({S:M, S_bar: M_bar, N: M, N_bar: M_bar, G1: R1_prime, G2: R2_prime})))"
   ]
  },
  {
   "cell_type": "code",
   "execution_count": 675,
   "id": "87f7a55b-23ee-465a-a161-31370acc2fd7",
   "metadata": {},
   "outputs": [],
   "source": [
    "E_BB_simplify = E_GG_simplify.subs(dict(zip([G1, G2], [B1, B2]))).copy()"
   ]
  },
  {
   "cell_type": "code",
   "execution_count": 676,
   "id": "f0f46a73-923c-46ab-8be9-34ce8838e2dc",
   "metadata": {},
   "outputs": [],
   "source": [
    "E_RR_simplify = E_GG_simplify.subs(dict(zip([G1, G2], [R1, R2]))).copy()"
   ]
  },
  {
   "cell_type": "code",
   "execution_count": 679,
   "id": "d70ac34b-ea3a-4352-8b0e-eea3c96d0460",
   "metadata": {},
   "outputs": [
    {
     "data": {
      "text/latex": [
       "$\\displaystyle k \\left(- \\frac{2 G_{1} G_{2}}{N S} + \\frac{G_{1}}{N} + \\frac{G_{2}}{S}\\right)$"
      ],
      "text/plain": [
       "k*(-2*G_1*G_2/(N*S) + G_1/N + G_2/S)"
      ]
     },
     "execution_count": 679,
     "metadata": {},
     "output_type": "execute_result"
    }
   ],
   "source": [
    "E_G"
   ]
  },
  {
   "cell_type": "code",
   "execution_count": 680,
   "id": "1fdcead9-dfb5-4fe4-93fc-c8017f3d42d6",
   "metadata": {},
   "outputs": [
    {
     "data": {
      "text/latex": [
       "$\\displaystyle k \\left(- \\frac{2 B_{1} B_{2}}{N S} + \\frac{B_{1}}{N} + \\frac{B_{2}}{S}\\right)$"
      ],
      "text/plain": [
       "k*(-2*B_1*B_2/(N*S) + B_1/N + B_2/S)"
      ]
     },
     "execution_count": 680,
     "metadata": {},
     "output_type": "execute_result"
    }
   ],
   "source": [
    "E_B"
   ]
  },
  {
   "cell_type": "code",
   "execution_count": 681,
   "id": "7908a92c-6cce-4597-a554-d8568514cdea",
   "metadata": {},
   "outputs": [
    {
     "data": {
      "text/latex": [
       "$\\displaystyle k \\left(- \\frac{2 G_{1} G_{2}}{N S} + \\frac{G_{1}}{N} + \\frac{G_{2}}{S}\\right)$"
      ],
      "text/plain": [
       "k*(-2*G_1*G_2/(N*S) + G_1/N + G_2/S)"
      ]
     },
     "execution_count": 681,
     "metadata": {},
     "output_type": "execute_result"
    }
   ],
   "source": [
    "E_G"
   ]
  },
  {
   "cell_type": "code",
   "execution_count": 682,
   "id": "6c3d5f07-ccbd-46a6-a37e-e6ec5f75fdb8",
   "metadata": {},
   "outputs": [],
   "source": [
    "E_RGB = (E_R + E_G + E_B)/(2*k)"
   ]
  },
  {
   "cell_type": "code",
   "execution_count": 684,
   "id": "cf68da0a-84ee-4405-9626-4d84935b201b",
   "metadata": {},
   "outputs": [],
   "source": [
    "V_G = E_GG_simplify - (E_G)**2"
   ]
  },
  {
   "cell_type": "code",
   "execution_count": 685,
   "id": "134422c4-1d5d-46b7-b815-7fdc09135c8f",
   "metadata": {},
   "outputs": [],
   "source": [
    "V_B = V_G.subs(dict(zip([G1, G2], [B1, B2]))).copy()"
   ]
  },
  {
   "cell_type": "code",
   "execution_count": 686,
   "id": "298b4b42-3b42-48b3-a463-47ed3e0a65ca",
   "metadata": {},
   "outputs": [],
   "source": [
    "V_R = V_G.subs(dict(zip([G1, G2], [R1, R2]))).copy()"
   ]
  },
  {
   "cell_type": "code",
   "execution_count": 687,
   "id": "b43e50ad-3fd7-4ee2-b269-7afef727a243",
   "metadata": {},
   "outputs": [],
   "source": [
    "V_BG = E_BG_simplify - E_B*E_G"
   ]
  },
  {
   "cell_type": "code",
   "execution_count": 688,
   "id": "856cd8e1-70e4-41f0-a6ee-be91205682e3",
   "metadata": {},
   "outputs": [],
   "source": [
    "V_BR = V_BG.subs(dict(zip([G1, G2], [R1, R2]))).copy()"
   ]
  },
  {
   "cell_type": "code",
   "execution_count": 689,
   "id": "0efab0bf-bc2c-4a9b-a572-bef5fd506f7a",
   "metadata": {},
   "outputs": [],
   "source": [
    "V_RG = V_BG.subs(dict(zip([B1, B2], [R1, R2]))).copy()"
   ]
  },
  {
   "cell_type": "code",
   "execution_count": 690,
   "id": "be24bbfa-eab0-4323-a1a2-a3bf801bd8e3",
   "metadata": {},
   "outputs": [],
   "source": [
    "V_RGB = V_G + V_B + V_R + 2*V_BG + 2*V_BR + 2*V_RG"
   ]
  },
  {
   "cell_type": "code",
   "execution_count": 691,
   "id": "9eb52199-6a61-4ec0-bb8c-18676f5848c3",
   "metadata": {},
   "outputs": [],
   "source": [
    "V_RGB = V_RGB/(4*k**2)"
   ]
  },
  {
   "cell_type": "code",
   "execution_count": 693,
   "id": "0cff5b5f-3426-4f94-9c3c-95cf9950a9d1",
   "metadata": {},
   "outputs": [],
   "source": [
    "n = 17065157#11021 #small_evenness[-1]\n",
    "s = N_fermat\n",
    "m = max([n,s])\n",
    "counts = {(k,i): int(m*v) for i in [n,s] for k,v in order_stats_formula(i).items()}"
   ]
  },
  {
   "cell_type": "code",
   "execution_count": 694,
   "id": "dc91e1bb-d3d7-48fd-a1be-8d7246e9518a",
   "metadata": {},
   "outputs": [],
   "source": [
    "marbles = dict(zip([G1, R1, B1, G2, R2, B2], list(counts.values())))"
   ]
  },
  {
   "cell_type": "code",
   "execution_count": 695,
   "id": "6007624b-efb2-46e7-936a-a6f19c7086e5",
   "metadata": {},
   "outputs": [],
   "source": [
    "values = {**marbles, **{N: m, N_bar : m - 1, S: m, S_bar : m-1, k: 100}}"
   ]
  },
  {
   "cell_type": "code",
   "execution_count": 518,
   "id": "2ae470f7-5e79-4ecb-8b80-7a6ab53d46ef",
   "metadata": {},
   "outputs": [
    {
     "data": {
      "text/plain": [
       "0.010962091107953055"
      ]
     },
     "execution_count": 518,
     "metadata": {},
     "output_type": "execute_result"
    }
   ],
   "source": [
    "math.sqrt(V_RGB.subs(values).evalf())"
   ]
  },
  {
   "cell_type": "code",
   "execution_count": 697,
   "id": "f617ec69-1c92-4a1e-9e50-cec95d53f049",
   "metadata": {},
   "outputs": [
    {
     "data": {
      "text/latex": [
       "$\\displaystyle 0.0121648109150719$"
      ],
      "text/plain": [
       "0.0121648109150719"
      ]
     },
     "execution_count": 697,
     "metadata": {},
     "output_type": "execute_result"
    }
   ],
   "source": [
    "E_RGB.subs(values).evalf()"
   ]
  },
  {
   "cell_type": "code",
   "execution_count": 80,
   "id": "9125ff8e-3c99-4e37-b98a-48aeb0251101",
   "metadata": {},
   "outputs": [
    {
     "data": {
      "text/latex": [
       "$\\displaystyle 0.0121648109150719$"
      ],
      "text/plain": [
       "0.0121648109150719"
      ]
     },
     "execution_count": 80,
     "metadata": {},
     "output_type": "execute_result"
    }
   ],
   "source": [
    "E_RGB.subs(values).evalf()"
   ]
  },
  {
   "cell_type": "code",
   "execution_count": 699,
   "id": "0651a173-04a5-4cef-b45a-93a2f6b1dd8c",
   "metadata": {},
   "outputs": [
    {
     "data": {
      "text/latex": [
       "$\\displaystyle \\frac{k \\left(\\frac{R_{2}}{S} - \\frac{2 R_{1} R_{2}}{N S} + \\frac{R_{1}}{N}\\right) + k \\left(- \\frac{2 B_{1} B_{2}}{N S} + \\frac{B_{1}}{N} + \\frac{B_{2}}{S}\\right) + k \\left(- \\frac{2 G_{1} G_{2}}{N S} + \\frac{G_{1}}{N} + \\frac{G_{2}}{S}\\right)}{2 k}$"
      ],
      "text/plain": [
       "(k*(R_2/S - 2*R_1*R_2/(N*S) + R_1/N) + k*(-2*B_1*B_2/(N*S) + B_1/N + B_2/S) + k*(-2*G_1*G_2/(N*S) + G_1/N + G_2/S))/(2*k)"
      ]
     },
     "execution_count": 699,
     "metadata": {},
     "output_type": "execute_result"
    }
   ],
   "source": [
    "E_RGB"
   ]
  },
  {
   "cell_type": "code",
   "execution_count": 698,
   "id": "17895eba-7eee-4ad2-8a1d-ed316917c39b",
   "metadata": {},
   "outputs": [
    {
     "data": {
      "text/latex": [
       "$\\displaystyle \\frac{- k^{2} \\left(\\frac{R_{2}}{S} - \\frac{2 R_{1} R_{2}}{N S} + \\frac{R_{1}}{N}\\right)^{2} - 2 k^{2} \\left(\\frac{R_{2}}{S} - \\frac{2 R_{1} R_{2}}{N S} + \\frac{R_{1}}{N}\\right) \\left(- \\frac{2 B_{1} B_{2}}{N S} + \\frac{B_{1}}{N} + \\frac{B_{2}}{S}\\right) - 2 k^{2} \\left(\\frac{R_{2}}{S} - \\frac{2 R_{1} R_{2}}{N S} + \\frac{R_{1}}{N}\\right) \\left(- \\frac{2 G_{1} G_{2}}{N S} + \\frac{G_{1}}{N} + \\frac{G_{2}}{S}\\right) - k^{2} \\left(- \\frac{2 B_{1} B_{2}}{N S} + \\frac{B_{1}}{N} + \\frac{B_{2}}{S}\\right)^{2} - 2 k^{2} \\left(- \\frac{2 B_{1} B_{2}}{N S} + \\frac{B_{1}}{N} + \\frac{B_{2}}{S}\\right) \\left(- \\frac{2 G_{1} G_{2}}{N S} + \\frac{G_{1}}{N} + \\frac{G_{2}}{S}\\right) - k^{2} \\left(- \\frac{2 G_{1} G_{2}}{N S} + \\frac{G_{1}}{N} + \\frac{G_{2}}{S}\\right)^{2} + k \\left(\\frac{R_{2}}{S} - \\frac{2 R_{1} R_{2}}{N S} + \\frac{R_{1}}{N}\\right) + k \\left(- \\frac{2 B_{1} B_{2}}{N S} + \\frac{B_{1}}{N} + \\frac{B_{2}}{S}\\right) + k \\left(- \\frac{2 G_{1} G_{2}}{N S} + \\frac{G_{1}}{N} + \\frac{G_{2}}{S}\\right) + 2 \\frac{k}{N S} \\left(B_{1} G_{2} + B_{2} G_{1}\\right) + \\frac{k \\left(k - 1\\right)}{N S \\overline{N} \\overline{S}} \\left(G_{1} \\left(- G_{2} + S\\right) \\left(- 2 G_{1} G_{2} + G_{2} \\left(N + 1\\right) + \\overline{S} \\left(G_{1} - 1\\right)\\right) + G_{2} \\left(- G_{1} + N\\right) \\left(- 2 G_{1} G_{2} + G_{1} \\left(S + 1\\right) + \\overline{N} \\left(G_{2} - 1\\right)\\right)\\right) + 2 \\frac{k \\left(k - 1\\right)}{N S \\overline{N} \\overline{S}} \\left(4 B_{1} B_{2} G_{1} G_{2} - \\frac{\\overline{N} \\left(2 B_{1} G_{2} + 2 B_{2} G_{1} + \\left(B_{1} + B_{2}\\right) \\left(4 G_{1} G_{2} - N \\left(G_{1} + G_{2}\\right)\\right) + \\left(G_{1} + G_{2}\\right) \\left(4 B_{1} B_{2} - N \\left(B_{1} + B_{2}\\right)\\right)\\right)}{2}\\right) + \\frac{2 k \\left(B_{1} R_{2} + B_{2} R_{1}\\right)}{N S} + \\frac{2 k \\left(G_{1} R_{2} + G_{2} R_{1}\\right)}{N S} + \\frac{k \\left(k - 1\\right) \\left(B_{1} \\left(- B_{2} + S\\right) \\left(- 2 B_{1} B_{2} + B_{2} \\left(N + 1\\right) + \\overline{S} \\left(B_{1} - 1\\right)\\right) + B_{2} \\left(- B_{1} + N\\right) \\left(- 2 B_{1} B_{2} + B_{1} \\left(S + 1\\right) + \\overline{N} \\left(B_{2} - 1\\right)\\right)\\right)}{N S \\overline{N} \\overline{S}} + \\frac{k \\left(k - 1\\right) \\left(R_{1} \\left(- R_{2} + S\\right) \\left(- 2 R_{1} R_{2} + R_{2} \\left(N + 1\\right) + \\overline{S} \\left(R_{1} - 1\\right)\\right) + R_{2} \\left(N - R_{1}\\right) \\left(- 2 R_{1} R_{2} + R_{1} \\left(S + 1\\right) + \\overline{N} \\left(R_{2} - 1\\right)\\right)\\right)}{N S \\overline{N} \\overline{S}} + \\frac{2 k \\left(k - 1\\right) \\left(4 B_{1} B_{2} R_{1} R_{2} - \\frac{\\overline{N} \\left(2 B_{1} R_{2} + 2 B_{2} R_{1} + \\left(B_{1} + B_{2}\\right) \\left(- N \\left(R_{1} + R_{2}\\right) + 4 R_{1} R_{2}\\right) + \\left(R_{1} + R_{2}\\right) \\left(4 B_{1} B_{2} - N \\left(B_{1} + B_{2}\\right)\\right)\\right)}{2}\\right)}{N S \\overline{N} \\overline{S}} + \\frac{2 k \\left(k - 1\\right) \\left(4 G_{1} G_{2} R_{1} R_{2} - \\frac{\\overline{N} \\left(2 G_{1} R_{2} + 2 G_{2} R_{1} + \\left(G_{1} + G_{2}\\right) \\left(- N \\left(R_{1} + R_{2}\\right) + 4 R_{1} R_{2}\\right) + \\left(R_{1} + R_{2}\\right) \\left(4 G_{1} G_{2} - N \\left(G_{1} + G_{2}\\right)\\right)\\right)}{2}\\right)}{N S \\overline{N} \\overline{S}}}{4 k^{2}}$"
      ],
      "text/plain": [
       "(-k**2*(R_2/S - 2*R_1*R_2/(N*S) + R_1/N)**2 - 2*k**2*(R_2/S - 2*R_1*R_2/(N*S) + R_1/N)*(-2*B_1*B_2/(N*S) + B_1/N + B_2/S) - 2*k**2*(R_2/S - 2*R_1*R_2/(N*S) + R_1/N)*(-2*G_1*G_2/(N*S) + G_1/N + G_2/S) - k**2*(-2*B_1*B_2/(N*S) + B_1/N + B_2/S)**2 - 2*k**2*(-2*B_1*B_2/(N*S) + B_1/N + B_2/S)*(-2*G_1*G_2/(N*S) + G_1/N + G_2/S) - k**2*(-2*G_1*G_2/(N*S) + G_1/N + G_2/S)**2 + k*(R_2/S - 2*R_1*R_2/(N*S) + R_1/N) + k*(-2*B_1*B_2/(N*S) + B_1/N + B_2/S) + k*(-2*G_1*G_2/(N*S) + G_1/N + G_2/S) + 2*(k/(N*S))*(B_1*G_2 + B_2*G_1) + (k*(k - 1)/(N*S*\\overline{N}*\\overline{S}))*(G_1*(-G_2 + S)*(-2*G_1*G_2 + G_2*(N + 1) + \\overline{S}*(G_1 - 1)) + G_2*(-G_1 + N)*(-2*G_1*G_2 + G_1*(S + 1) + \\overline{N}*(G_2 - 1))) + 2*(k*(k - 1)/(N*S*\\overline{N}*\\overline{S}))*(4*B_1*B_2*G_1*G_2 - \\overline{N}*(2*B_1*G_2 + 2*B_2*G_1 + (B_1 + B_2)*(4*G_1*G_2 - N*(G_1 + G_2)) + (G_1 + G_2)*(4*B_1*B_2 - N*(B_1 + B_2)))/2) + 2*k*(B_1*R_2 + B_2*R_1)/(N*S) + 2*k*(G_1*R_2 + G_2*R_1)/(N*S) + k*(k - 1)*(B_1*(-B_2 + S)*(-2*B_1*B_2 + B_2*(N + 1) + \\overline{S}*(B_1 - 1)) + B_2*(-B_1 + N)*(-2*B_1*B_2 + B_1*(S + 1) + \\overline{N}*(B_2 - 1)))/(N*S*\\overline{N}*\\overline{S}) + k*(k - 1)*(R_1*(-R_2 + S)*(-2*R_1*R_2 + R_2*(N + 1) + \\overline{S}*(R_1 - 1)) + R_2*(N - R_1)*(-2*R_1*R_2 + R_1*(S + 1) + \\overline{N}*(R_2 - 1)))/(N*S*\\overline{N}*\\overline{S}) + 2*k*(k - 1)*(4*B_1*B_2*R_1*R_2 - \\overline{N}*(2*B_1*R_2 + 2*B_2*R_1 + (B_1 + B_2)*(-N*(R_1 + R_2) + 4*R_1*R_2) + (R_1 + R_2)*(4*B_1*B_2 - N*(B_1 + B_2)))/2)/(N*S*\\overline{N}*\\overline{S}) + 2*k*(k - 1)*(4*G_1*G_2*R_1*R_2 - \\overline{N}*(2*G_1*R_2 + 2*G_2*R_1 + (G_1 + G_2)*(-N*(R_1 + R_2) + 4*R_1*R_2) + (R_1 + R_2)*(4*G_1*G_2 - N*(G_1 + G_2)))/2)/(N*S*\\overline{N}*\\overline{S}))/(4*k**2)"
      ]
     },
     "execution_count": 698,
     "metadata": {},
     "output_type": "execute_result"
    }
   ],
   "source": [
    "V_RGB"
   ]
  },
  {
   "cell_type": "code",
   "execution_count": 700,
   "id": "5dd8cebc-b7ce-497d-acbe-c6bded98f009",
   "metadata": {},
   "outputs": [
    {
     "name": "stdout",
     "output_type": "stream",
     "text": [
      "0.012164827330033212\n"
     ]
    }
   ],
   "source": [
    "a2 = prime_factors(sp.totient(s)).count(2)\n",
    "a = prime_factors(sp.totient(n)).count(2)\n",
    "print(coprime_density(n) + coprime_density(s) - coprime_density(n)*coprime_density(s)*(2 - 1/(2**a) - 1/(2**a2) + 1/(2**(a+a2-1))))"
   ]
  },
  {
   "cell_type": "code",
   "execution_count": 86,
   "id": "69eaf751-f40f-44af-b13d-191989f7b4ca",
   "metadata": {},
   "outputs": [],
   "source": [
    "def get_stats(n, k1):\n",
    "    s = N_fermat\n",
    "    m = max([n,s])\n",
    "    counts = {(k,i): int(m*v) for i in [n,s] for k,v in order_stats_formula(i).items()}\n",
    "    \n",
    "    marbles = dict(zip([G1, R1, B1, G2, R2, B2], list(counts.values())))\n",
    "    \n",
    "    values = {**marbles, **{N: m, N_bar : m - 1, k: k1}}\n",
    "    \n",
    "    return {\"Exp\": E_RGB.subs(values).evalf(), \"Var\": V_RGB.subs(values).evalf()}\n",
    "\n"
   ]
  },
  {
   "cell_type": "code",
   "execution_count": 181,
   "id": "c3da384d-e057-4e16-9fea-5d855a4ed699",
   "metadata": {},
   "outputs": [],
   "source": [
    "small_evenness = []\n",
    "large_evenness = []\n",
    "for i in ords.index:\n",
    "    if(prime_factors(sp.totient(i)).count(2)==2):\n",
    "        small_evenness.append(i)\n",
    "    elif(prime_factors(sp.totient(i)).count(2)==7):\n",
    "        large_evenness.append(i)\n",
    "    "
   ]
  },
  {
   "cell_type": "code",
   "execution_count": 412,
   "id": "01270a94-981b-42b7-b526-927d63f9da3e",
   "metadata": {},
   "outputs": [],
   "source": [
    "small_exps = []\n",
    "small_vars = []\n",
    "for i in small_evenness:\n",
    "    e,v = list(get_stats(i,100).values())\n",
    "    small_exps.append(e)\n",
    "    small_vars.append(v)"
   ]
  },
  {
   "cell_type": "code",
   "execution_count": 414,
   "id": "2d48612a-597c-4ac3-9004-01d38123dda6",
   "metadata": {},
   "outputs": [],
   "source": [
    "large_exps = []\n",
    "large_vars = []\n",
    "for i in large_evenness:\n",
    "    e,v = list(get_stats(i,100).values())\n",
    "    large_exps.append(e)\n",
    "    large_vars.append(v)"
   ]
  },
  {
   "cell_type": "code",
   "execution_count": null,
   "id": "84582cf7-e6c2-42ab-aa5c-9284328d5c07",
   "metadata": {},
   "outputs": [],
   "source": [
    "import collections\n",
    "od = collections.OrderedDict(sorted(d.items()))"
   ]
  },
  {
   "cell_type": "code",
   "execution_count": 430,
   "id": "d2d00a16-2817-49b1-b9e4-19a74a7afcb8",
   "metadata": {},
   "outputs": [
    {
     "data": {
      "text/plain": [
       "24"
      ]
     },
     "execution_count": 430,
     "metadata": {},
     "output_type": "execute_result"
    }
   ],
   "source": [
    "prime_factors(sp.totient(s)).count(2)"
   ]
  },
  {
   "cell_type": "code",
   "execution_count": 431,
   "id": "81b2a4e3",
   "metadata": {},
   "outputs": [],
   "source": [
    "def exp_formula(a):\n",
    "    a2 = prime_factors(sp.totient(s)).count(2)\n",
    "    return 1/(2**a) + 1/(2**a2) - 1/(2**(a+a2-1))"
   ]
  },
  {
   "cell_type": "code",
   "execution_count": 448,
   "id": "a4580eb0-686e-445a-bce9-f501c34bc214",
   "metadata": {},
   "outputs": [],
   "source": [
    "exp_formula = np.vectorize(exp_formula)"
   ]
  },
  {
   "cell_type": "code",
   "execution_count": 454,
   "id": "11f8bfbf-664f-4bc4-9c7f-ea0b19956f2a",
   "metadata": {},
   "outputs": [
    {
     "data": {
      "text/plain": [
       "0.9806109902582049"
      ]
     },
     "execution_count": 454,
     "metadata": {},
     "output_type": "execute_result"
    }
   ],
   "source": [
    "coprime_density(10573)"
   ]
  },
  {
   "cell_type": "code",
   "execution_count": 421,
   "id": "5f137f66-23c2-4f8a-897e-4f4822505a0e",
   "metadata": {},
   "outputs": [],
   "source": [
    "d_small = dict(zip(small_evenness, small_exps))\n",
    "d_large = dict(zip(large_evenness, large_exps))\n"
   ]
  },
  {
   "cell_type": "code",
   "execution_count": 422,
   "id": "7cd23460-44bc-4007-bff7-cb7c6f6f7a93",
   "metadata": {},
   "outputs": [],
   "source": [
    "import collections\n",
    "d_small = dict(collections.OrderedDict(sorted(d_small.items())                ))\n",
    "d_large = dict(collections.OrderedDict(sorted(d_large.items())))"
   ]
  },
  {
   "cell_type": "code",
   "execution_count": 449,
   "id": "74eedbeb-a003-4d47-85df-b05df3b95be8",
   "metadata": {},
   "outputs": [
    {
     "data": {
      "text/plain": [
       "<matplotlib.legend.Legend at 0x25d6595d7c8>"
      ]
     },
     "execution_count": 449,
     "metadata": {},
     "output_type": "execute_result"
    },
    {
     "data": {
      "image/png": "[encoded data removed]",
      "text/plain": [
       "<Figure size 640x480 with 1 Axes>"
      ]
     },
     "metadata": {},
     "output_type": "display_data"
    }
   ],
   "source": [
    "plt.plot(d_small.keys(), d_small.values(), label=\"Evenness: 2\")\n",
    "plt.plot(d_small.keys(),exp_formula(list(d_small.keys())), color=\"C0\", linestyle=\":\")\n",
    "\n",
    "plt.plot(d_large.keys(), d_large.values(), label=\"Evenness: 7\")\n",
    "plt.plot(d_large.keys(),exp_formula(list(d_large.keys())), color=\"C1\", linestyle=\":\")\n",
    "\n",
    "plt.title(\"Average statistical difference for semiprimes \\n of different evenness\")\n",
    "\n",
    "# plt.axhline(y=exp_formula(2), color=\"C0\", linestyle=\":\")\n",
    "# plt.axhline(y=exp_formula(7), color=\"C1\", linestyle=\":\")\n",
    "plt.legend()"
   ]
  },
  {
   "cell_type": "code",
   "execution_count": 455,
   "id": "05a40938-438e-4548-b114-a2a3fb7c92f7",
   "metadata": {},
   "outputs": [
    {
     "data": {
      "text/plain": [
       "<matplotlib.legend.Legend at 0x25d65927b08>"
      ]
     },
     "execution_count": 455,
     "metadata": {},
     "output_type": "execute_result"
    },
    {
     "data": {
      "image/png": "[encoded data removed]",
      "text/plain": [
       "<Figure size 640x480 with 1 Axes>"
      ]
     },
     "metadata": {},
     "output_type": "display_data"
    }
   ],
   "source": [
    "# As n increases, variance decreases; increasing k decreases variance with factor O(1/k).\n",
    "\n",
    "d_small_vars = dict(zip(small_evenness, small_vars))\n",
    "d_large_vars = dict(zip(large_evenness, large_vars))\n",
    "\n",
    "import collections\n",
    "d_small_vars = dict(collections.OrderedDict(sorted(d_small_vars.items())))\n",
    "d_large_vars = dict(collections.OrderedDict(sorted(d_large_vars.items())))\n",
    "\n",
    "plt.plot(d_small_vars.keys(), d_small_vars.values(), label=\"Evenness: 2\")\n",
    "\n",
    "plt.plot(d_large_vars.keys(), d_large_vars.values(), label=\"Evenness: 7\")\n",
    "\n",
    "plt.title(\"Variance of statistical difference for semiprimes \\n of different evenness\")\n",
    "\n",
    "# plt.axhline(y=exp_formula(2), color=\"C0\", linestyle=\":\")\n",
    "# plt.axhline(y=exp_formula(7), color=\"C1\", linestyle=\":\")\n",
    "plt.legend()"
   ]
  },
  {
   "cell_type": "code",
   "execution_count": 481,
   "id": "5b6c20eb-b65f-4e3e-a180-c8dc250f17d5",
   "metadata": {},
   "outputs": [],
   "source": [
    "n = primes[-3]*primes[-2]"
   ]
  },
  {
   "cell_type": "markdown",
   "id": "cd65ebb9-1fa6-4d4b-88e3-7f9aa798dcf2",
   "metadata": {
    "jp-MarkdownHeadingCollapsed": true,
    "tags": []
   },
   "source": [
    "## Conditional independence"
   ]
  },
  {
   "cell_type": "code",
   "execution_count": 571,
   "id": "ddd25e1d-80e2-49ff-be73-584f31db8c49",
   "metadata": {},
   "outputs": [],
   "source": [
    "#indices = np.random.choice(np.arange(1,s), 100, replace=False)"
   ]
  },
  {
   "cell_type": "code",
   "execution_count": 721,
   "id": "16a33afa-1563-4024-8c57-876ffe03b4c8",
   "metadata": {},
   "outputs": [
    {
     "name": "stdout",
     "output_type": "stream",
     "text": [
      "1363\n"
     ]
    }
   ],
   "source": [
    "print(\"{}\".format(n))"
   ]
  },
  {
   "cell_type": "code",
   "execution_count": 728,
   "id": "0f2f93af-b4eb-49ff-8958-e2549d1b4a72",
   "metadata": {
    "collapsed": true,
    "jupyter": {
     "outputs_hidden": true
    },
    "tags": []
   },
   "outputs": [
    {
     "name": "stdout",
     "output_type": "stream",
     "text": [
      "Chosen semiprime: 323\n",
      "Evenness: 5\n",
      "\n",
      "P(-1 | 1)\n",
      "0.025\n",
      "P(0 | 1)\n",
      "0.10625\n",
      "P(1 | 1)\n",
      "0.86875 \n",
      "\n",
      "P(-1 | 0)\n",
      "0.0\n",
      "P(0 | 0)\n",
      "0.0\n",
      "P(1 | 0)\n",
      "1.0 \n",
      "\n",
      "P(-1)\n",
      "0.02786377708978328\n",
      "P(0)\n",
      "0.10835913312693499\n",
      "P(1)\n",
      "0.8637770897832817 \n",
      "\n",
      "|P(not_even) - P(not_even | even)|\n",
      "0.0049729102167182515\n",
      "|P(even) - P(even | not_even)|\n",
      "0.13622291021671828\n",
      "\n",
      "\n",
      "Chosen semiprime: 299\n",
      "Evenness: 3\n",
      "\n",
      "P(-1 | 1)\n",
      "0.10810810810810811\n",
      "P(0 | 1)\n",
      "0.11486486486486487\n",
      "P(1 | 1)\n",
      "0.777027027027027 \n",
      "\n",
      "P(-1 | 0)\n",
      "0.0\n",
      "P(0 | 0)\n",
      "0.0\n",
      "P(1 | 0)\n",
      "1.0 \n",
      "\n",
      "P(-1)\n",
      "0.11036789297658862\n",
      "P(0)\n",
      "0.11705685618729098\n",
      "P(1)\n",
      "0.7725752508361204 \n",
      "\n",
      "|P(not_even) - P(not_even | even)|\n",
      "0.004451776190906642\n",
      "|P(even) - P(even | not_even)|\n",
      "0.22742474916387956\n",
      "\n",
      "\n",
      "Chosen semiprime: 391\n",
      "Evenness: 5\n",
      "\n",
      "P(-1 | 1)\n",
      "0.028350515463917526\n",
      "P(0 | 1)\n",
      "0.0979381443298969\n",
      "P(1 | 1)\n",
      "0.8737113402061856 \n",
      "\n",
      "P(-1 | 0)\n",
      "0.0\n",
      "P(0 | 0)\n",
      "0.0\n",
      "P(1 | 0)\n",
      "1.0 \n",
      "\n",
      "P(-1)\n",
      "0.030690537084398978\n",
      "P(0)\n",
      "0.09974424552429667\n",
      "P(1)\n",
      "0.8695652173913043 \n",
      "\n",
      "|P(not_even) - P(not_even | even)|\n",
      "0.00414612281488122\n",
      "|P(even) - P(even | not_even)|\n",
      "0.13043478260869568\n",
      "\n",
      "\n",
      "Chosen semiprime: 437\n",
      "Evenness: 2\n",
      "\n",
      "P(-1 | 1)\n",
      "0.22580645161290322\n",
      "P(0 | 1)\n",
      "0.09216589861751152\n",
      "P(1 | 1)\n",
      "0.6820276497695853 \n",
      "\n",
      "P(-1 | 0)\n",
      "0.0\n",
      "P(0 | 0)\n",
      "0.0\n",
      "P(1 | 0)\n",
      "1.0 \n",
      "\n",
      "P(-1)\n",
      "0.22654462242562928\n",
      "P(0)\n",
      "0.09382151029748284\n",
      "P(1)\n",
      "0.6796338672768879 \n",
      "\n",
      "|P(not_even) - P(not_even | even)|\n",
      "0.0023937824926973383\n",
      "|P(even) - P(even | not_even)|\n",
      "0.3203661327231121\n",
      "\n",
      "\n",
      "Chosen semiprime: 377\n",
      "Evenness: 4\n",
      "\n",
      "P(-1 | 1)\n",
      "0.053475935828877004\n",
      "P(0 | 1)\n",
      "0.10695187165775401\n",
      "P(1 | 1)\n",
      "0.839572192513369 \n",
      "\n",
      "P(-1 | 0)\n",
      "0.0\n",
      "P(0 | 0)\n",
      "0.0\n",
      "P(1 | 0)\n",
      "1.0 \n",
      "\n",
      "P(-1)\n",
      "0.05570291777188329\n",
      "P(0)\n",
      "0.10875331564986737\n",
      "P(1)\n",
      "0.8355437665782494 \n",
      "\n",
      "|P(not_even) - P(not_even | even)|\n",
      "0.0040284259351196505\n",
      "|P(even) - P(even | not_even)|\n",
      "0.16445623342175064\n",
      "\n",
      "\n",
      "Chosen semiprime: 493\n",
      "Evenness: 6\n",
      "\n",
      "P(-1 | 1)\n",
      "0.014285714285714285\n",
      "P(0 | 1)\n",
      "0.08979591836734693\n",
      "P(1 | 1)\n",
      "0.8959183673469387 \n",
      "\n",
      "P(-1 | 0)\n",
      "0.0\n",
      "P(0 | 0)\n",
      "0.0\n",
      "P(1 | 0)\n",
      "1.0 \n",
      "\n",
      "P(-1)\n",
      "0.016227180527383367\n",
      "P(0)\n",
      "0.09127789046653144\n",
      "P(1)\n",
      "0.8924949290060852 \n",
      "\n",
      "|P(not_even) - P(not_even | even)|\n",
      "0.0034234383408535823\n",
      "|P(even) - P(even | not_even)|\n",
      "0.10750507099391482\n",
      "\n",
      "\n",
      "Chosen semiprime: 551\n",
      "Evenness: 3\n",
      "\n",
      "P(-1 | 1)\n",
      "0.11517367458866545\n",
      "P(0 | 1)\n",
      "0.08409506398537477\n",
      "P(1 | 1)\n",
      "0.8007312614259597 \n",
      "\n",
      "P(-1 | 0)\n",
      "0.0\n",
      "P(0 | 0)\n",
      "0.0\n",
      "P(1 | 0)\n",
      "1.0 \n",
      "\n",
      "P(-1)\n",
      "0.1161524500907441\n",
      "P(0)\n",
      "0.0852994555353902\n",
      "P(1)\n",
      "0.7985480943738656 \n",
      "\n",
      "|P(not_even) - P(not_even | even)|\n",
      "0.0021831670520940927\n",
      "|P(even) - P(even | not_even)|\n",
      "0.20145190562613435\n",
      "\n",
      "\n",
      "Chosen semiprime: 667\n",
      "Evenness: 3\n",
      "\n",
      "P(-1 | 1)\n",
      "0.11312217194570136\n",
      "P(0 | 1)\n",
      "0.07541478129713423\n",
      "P(1 | 1)\n",
      "0.8114630467571644 \n",
      "\n",
      "P(-1 | 0)\n",
      "0.5\n",
      "P(0 | 0)\n",
      "0.0\n",
      "P(1 | 0)\n",
      "0.5 \n",
      "\n",
      "P(-1)\n",
      "0.11544227886056972\n",
      "P(0)\n",
      "0.07646176911544228\n",
      "P(1)\n",
      "0.808095952023988 \n",
      "\n",
      "|P(not_even) - P(not_even | even)|\n",
      "0.0033670947331764234\n",
      "|P(even) - P(even | not_even)|\n",
      "0.308095952023988\n",
      "\n",
      "\n",
      "Chosen semiprime: 403\n",
      "Evenness: 3\n",
      "\n",
      "P(-1 | 1)\n",
      "0.11\n",
      "P(0 | 1)\n",
      "0.105\n",
      "P(1 | 1)\n",
      "0.785 \n",
      "\n",
      "P(-1 | 0)\n",
      "0.0\n",
      "P(0 | 0)\n",
      "0.0\n",
      "P(1 | 0)\n",
      "1.0 \n",
      "\n",
      "P(-1)\n",
      "0.11166253101736973\n",
      "P(0)\n",
      "0.10669975186104218\n",
      "P(1)\n",
      "0.7816377171215881 \n",
      "\n",
      "|P(not_even) - P(not_even | even)|\n",
      "0.0033622828784119208\n",
      "|P(even) - P(even | not_even)|\n",
      "0.21836228287841186\n",
      "\n",
      "\n",
      "Chosen semiprime: 527\n",
      "Evenness: 5\n",
      "\n",
      "P(-1 | 1)\n",
      "0.02676864244741874\n",
      "P(0 | 1)\n",
      "0.08795411089866156\n",
      "P(1 | 1)\n",
      "0.8852772466539197 \n",
      "\n",
      "P(-1 | 0)\n",
      "0.0\n",
      "P(0 | 0)\n",
      "0.0\n",
      "P(1 | 0)\n",
      "1.0 \n",
      "\n",
      "P(-1)\n",
      "0.028462998102466792\n",
      "P(0)\n",
      "0.08918406072106262\n",
      "P(1)\n",
      "0.8823529411764706 \n",
      "\n",
      "|P(not_even) - P(not_even | even)|\n",
      "0.00292430547744911\n",
      "|P(even) - P(even | not_even)|\n",
      "0.11764705882352944\n",
      "\n",
      "\n",
      "Chosen semiprime: 589\n",
      "Evenness: 2\n",
      "\n",
      "P(-1 | 1)\n",
      "0.22735042735042735\n",
      "P(0 | 1)\n",
      "0.08205128205128205\n",
      "P(1 | 1)\n",
      "0.6905982905982906 \n",
      "\n",
      "P(-1 | 0)\n",
      "0.5\n",
      "P(0 | 0)\n",
      "0.0\n",
      "P(1 | 0)\n",
      "0.5 \n",
      "\n",
      "P(-1)\n",
      "0.22920203735144312\n",
      "P(0)\n",
      "0.0831918505942275\n",
      "P(1)\n",
      "0.6876061120543294 \n",
      "\n",
      "|P(not_even) - P(not_even | even)|\n",
      "0.0029921785439612214\n",
      "|P(even) - P(even | not_even)|\n",
      "0.18760611205432942\n",
      "\n",
      "\n",
      "Chosen semiprime: 713\n",
      "Evenness: 2\n",
      "\n",
      "P(-1 | 1)\n",
      "0.22849083215796898\n",
      "P(0 | 1)\n",
      "0.07334273624823695\n",
      "P(1 | 1)\n",
      "0.6981664315937941 \n",
      "\n",
      "P(-1 | 0)\n",
      "1.0\n",
      "P(0 | 0)\n",
      "0.0\n",
      "P(1 | 0)\n",
      "0.0 \n",
      "\n",
      "P(-1)\n",
      "0.2314165497896213\n",
      "P(0)\n",
      "0.07433380084151472\n",
      "P(1)\n",
      "0.6942496493688639 \n",
      "\n",
      "|P(not_even) - P(not_even | even)|\n",
      "0.003916782224930138\n",
      "|P(even) - P(even | not_even)|\n",
      "0.6942496493688639\n",
      "\n",
      "\n",
      "Chosen semiprime: 899\n",
      "Evenness: 3\n",
      "\n",
      "P(-1 | 1)\n",
      "0.11521252796420582\n",
      "P(0 | 1)\n",
      "0.06487695749440715\n",
      "P(1 | 1)\n",
      "0.819910514541387 \n",
      "\n",
      "P(-1 | 0)\n",
      "0.3333333333333333\n",
      "P(0 | 0)\n",
      "0.0\n",
      "P(1 | 0)\n",
      "0.6666666666666666 \n",
      "\n",
      "P(-1)\n",
      "0.1167964404894327\n",
      "P(0)\n",
      "0.06562847608453838\n",
      "P(1)\n",
      "0.8175750834260289 \n",
      "\n",
      "|P(not_even) - P(not_even | even)|\n",
      "0.002335431115358111\n",
      "|P(even) - P(even | not_even)|\n",
      "0.15090841675936228\n",
      "\n",
      "\n",
      "Chosen semiprime: 481\n",
      "Evenness: 4\n",
      "\n",
      "P(-1 | 1)\n",
      "0.05439330543933055\n",
      "P(0 | 1)\n",
      "0.100418410041841\n",
      "P(1 | 1)\n",
      "0.8451882845188284 \n",
      "\n",
      "P(-1 | 0)\n",
      "0.0\n",
      "P(0 | 0)\n",
      "0.0\n",
      "P(1 | 0)\n",
      "1.0 \n",
      "\n",
      "P(-1)\n",
      "0.056133056133056136\n",
      "P(0)\n",
      "0.10187110187110188\n",
      "P(1)\n",
      "0.841995841995842 \n",
      "\n",
      "|P(not_even) - P(not_even | even)|\n",
      "0.0031924425229864495\n",
      "|P(even) - P(even | not_even)|\n",
      "0.158004158004158\n",
      "\n",
      "\n",
      "Chosen semiprime: 629\n",
      "Evenness: 6\n",
      "\n",
      "P(-1 | 1)\n",
      "0.0128\n",
      "P(0 | 1)\n",
      "0.0832\n",
      "P(1 | 1)\n",
      "0.904 \n",
      "\n",
      "P(-1 | 0)\n",
      "0.0\n",
      "P(0 | 0)\n",
      "0.0\n",
      "P(1 | 0)\n",
      "1.0 \n",
      "\n",
      "P(-1)\n",
      "0.014308426073131956\n",
      "P(0)\n",
      "0.08426073131955485\n",
      "P(1)\n",
      "0.9014308426073132 \n",
      "\n",
      "|P(not_even) - P(not_even | even)|\n",
      "0.002569157392686802\n",
      "|P(even) - P(even | not_even)|\n",
      "0.09856915739268679\n",
      "\n",
      "\n",
      "Chosen semiprime: 703\n",
      "Evenness: 3\n",
      "\n",
      "P(-1 | 1)\n",
      "0.11158798283261803\n",
      "P(0 | 1)\n",
      "0.07725321888412018\n",
      "P(1 | 1)\n",
      "0.8111587982832618 \n",
      "\n",
      "P(-1 | 0)\n",
      "0.5\n",
      "P(0 | 0)\n",
      "0.0\n",
      "P(1 | 0)\n",
      "0.5 \n",
      "\n",
      "P(-1)\n",
      "0.11379800853485064\n",
      "P(0)\n",
      "0.07823613086770982\n",
      "P(1)\n",
      "0.8079658605974396 \n",
      "\n",
      "|P(not_even) - P(not_even | even)|\n",
      "0.003192937685822267\n",
      "|P(even) - P(even | not_even)|\n",
      "0.3079658605974396\n",
      "\n",
      "\n",
      "Chosen semiprime: 851\n",
      "Evenness: 3\n",
      "\n",
      "P(-1 | 1)\n",
      "0.11465721040189125\n",
      "P(0 | 1)\n",
      "0.06855791962174941\n",
      "P(1 | 1)\n",
      "0.8167848699763594 \n",
      "\n",
      "P(-1 | 0)\n",
      "0.3333333333333333\n",
      "P(0 | 0)\n",
      "0.0\n",
      "P(1 | 0)\n",
      "0.6666666666666666 \n",
      "\n",
      "P(-1)\n",
      "0.11633372502937721\n",
      "P(0)\n",
      "0.06933019976498238\n",
      "P(1)\n",
      "0.8143360752056404 \n",
      "\n",
      "|P(not_even) - P(not_even | even)|\n",
      "0.0024487947707189373\n",
      "|P(even) - P(even | not_even)|\n",
      "0.1476694085389738\n",
      "\n",
      "\n",
      "Chosen semiprime: 1073\n",
      "Evenness: 4\n",
      "\n",
      "P(-1 | 1)\n",
      "0.05810684161199625\n",
      "P(0 | 1)\n",
      "0.05998125585754452\n",
      "P(1 | 1)\n",
      "0.8819119025304593 \n",
      "\n",
      "P(-1 | 0)\n",
      "0.0\n",
      "P(0 | 0)\n",
      "0.0\n",
      "P(1 | 0)\n",
      "1.0 \n",
      "\n",
      "P(-1)\n",
      "0.05871388630009319\n",
      "P(0)\n",
      "0.06057781919850885\n",
      "P(1)\n",
      "0.880708294501398 \n",
      "\n",
      "|P(not_even) - P(not_even | even)|\n",
      "0.001203608029061276\n",
      "|P(even) - P(even | not_even)|\n",
      "0.11929170549860202\n",
      "\n",
      "\n",
      "Chosen semiprime: 1147\n",
      "Evenness: 3\n",
      "\n",
      "P(-1 | 1)\n",
      "0.1165644171779141\n",
      "P(0 | 1)\n",
      "0.057843996494303246\n",
      "P(1 | 1)\n",
      "0.8255915863277826 \n",
      "\n",
      "P(-1 | 0)\n",
      "0.25\n",
      "P(0 | 0)\n",
      "0.0\n",
      "P(1 | 0)\n",
      "0.75 \n",
      "\n",
      "P(-1)\n",
      "0.11769834350479512\n",
      "P(0)\n",
      "0.05841325196163906\n",
      "P(1)\n",
      "0.8238884045335658 \n",
      "\n",
      "|P(not_even) - P(not_even | even)|\n",
      "0.0017031817942168292\n",
      "|P(even) - P(even | not_even)|\n",
      "0.07388840453356582\n",
      "\n",
      "\n",
      "Chosen semiprime: 533\n",
      "Evenness: 5\n",
      "\n",
      "P(-1 | 1)\n",
      "0.026465028355387523\n",
      "P(0 | 1)\n",
      "0.09829867674858223\n",
      "P(1 | 1)\n",
      "0.8752362948960303 \n",
      "\n",
      "P(-1 | 0)\n",
      "0.0\n",
      "P(0 | 0)\n",
      "0.0\n",
      "P(1 | 0)\n",
      "1.0 \n",
      "\n",
      "P(-1)\n",
      "0.028142589118198873\n",
      "P(0)\n",
      "0.09943714821763602\n",
      "P(1)\n",
      "0.8724202626641651 \n",
      "\n",
      "|P(not_even) - P(not_even | even)|\n",
      "0.0028160322318651343\n",
      "|P(even) - P(even | not_even)|\n",
      "0.12757973733583494\n",
      "\n",
      "\n",
      "Chosen semiprime: 697\n",
      "Evenness: 7\n",
      "\n",
      "P(-1 | 1)\n",
      "0.005772005772005772\n",
      "P(0 | 1)\n",
      "0.08080808080808081\n",
      "P(1 | 1)\n",
      "0.9134199134199135 \n",
      "\n",
      "P(-1 | 0)\n",
      "0.0\n",
      "P(0 | 0)\n",
      "0.0\n",
      "P(1 | 0)\n",
      "1.0 \n",
      "\n",
      "P(-1)\n",
      "0.007173601147776184\n",
      "P(0)\n",
      "0.08177905308464849\n",
      "P(1)\n",
      "0.9110473457675753 \n",
      "\n",
      "|P(not_even) - P(not_even | even)|\n",
      "0.0023725676523380784\n",
      "|P(even) - P(even | not_even)|\n",
      "0.08895265423242471\n",
      "\n",
      "\n",
      "Chosen semiprime: 779\n",
      "Evenness: 4\n",
      "\n",
      "P(-1 | 1)\n",
      "0.05813953488372093\n",
      "P(0 | 1)\n",
      "0.07493540051679587\n",
      "P(1 | 1)\n",
      "0.8669250645994832 \n",
      "\n",
      "P(-1 | 0)\n",
      "0.0\n",
      "P(0 | 0)\n",
      "0.0\n",
      "P(1 | 0)\n",
      "1.0 \n",
      "\n",
      "P(-1)\n",
      "0.059050064184852376\n",
      "P(0)\n",
      "0.07573812580231065\n",
      "P(1)\n",
      "0.865211810012837 \n",
      "\n",
      "|P(not_even) - P(not_even | even)|\n",
      "0.001713254586646229\n",
      "|P(even) - P(even | not_even)|\n",
      "0.13478818998716302\n",
      "\n",
      "\n",
      "Chosen semiprime: 943\n",
      "Evenness: 4\n",
      "\n",
      "P(-1 | 1)\n",
      "0.057569296375266525\n",
      "P(0 | 1)\n",
      "0.06609808102345416\n",
      "P(1 | 1)\n",
      "0.8763326226012793 \n",
      "\n",
      "P(-1 | 0)\n",
      "0.0\n",
      "P(0 | 0)\n",
      "0.0\n",
      "P(1 | 0)\n",
      "1.0 \n",
      "\n",
      "P(-1)\n",
      "0.05832449628844114\n",
      "P(0)\n",
      "0.06680805938494168\n",
      "P(1)\n",
      "0.8748674443266172 \n",
      "\n",
      "|P(not_even) - P(not_even | even)|\n",
      "0.0014651782746621378\n",
      "|P(even) - P(even | not_even)|\n",
      "0.12513255567338277\n",
      "\n",
      "\n",
      "Chosen semiprime: 1189\n",
      "Evenness: 5\n",
      "\n",
      "P(-1 | 1)\n",
      "0.028740490278951817\n",
      "P(0 | 1)\n",
      "0.057480980557903634\n",
      "P(1 | 1)\n",
      "0.9137785291631445 \n",
      "\n",
      "P(-1 | 0)\n",
      "0.0\n",
      "P(0 | 0)\n",
      "0.0\n",
      "P(1 | 0)\n",
      "1.0 \n",
      "\n",
      "P(-1)\n",
      "0.02943650126156434\n",
      "P(0)\n",
      "0.05803195962994113\n",
      "P(1)\n",
      "0.9125315391084945 \n",
      "\n",
      "|P(not_even) - P(not_even | even)|\n",
      "0.0012469900546500101\n",
      "|P(even) - P(even | not_even)|\n",
      "0.0874684608915055\n",
      "\n",
      "\n",
      "Chosen semiprime: 1271\n",
      "Evenness: 4\n",
      "\n",
      "P(-1 | 1)\n",
      "0.05849802371541502\n",
      "P(0 | 1)\n",
      "0.05533596837944664\n",
      "P(1 | 1)\n",
      "0.8861660079051383 \n",
      "\n",
      "P(-1 | 0)\n",
      "0.0\n",
      "P(0 | 0)\n",
      "0.0\n",
      "P(1 | 0)\n",
      "1.0 \n",
      "\n",
      "P(-1)\n",
      "0.059008654602675056\n",
      "P(0)\n",
      "0.05586152635719906\n",
      "P(1)\n",
      "0.8851298190401259 \n",
      "\n",
      "|P(not_even) - P(not_even | even)|\n",
      "0.001036188865012444\n",
      "|P(even) - P(even | not_even)|\n",
      "0.11487018095987411\n",
      "\n",
      "\n",
      "Chosen semiprime: 1517\n",
      "Evenness: 5\n",
      "\n",
      "P(-1 | 1)\n",
      "0.02913907284768212\n",
      "P(0 | 1)\n",
      "0.05033112582781457\n",
      "P(1 | 1)\n",
      "0.9205298013245033 \n",
      "\n",
      "P(-1 | 0)\n",
      "0.0\n",
      "P(0 | 0)\n",
      "0.0\n",
      "P(1 | 0)\n",
      "1.0 \n",
      "\n",
      "P(-1)\n",
      "0.02966381015161503\n",
      "P(0)\n",
      "0.05075807514831905\n",
      "P(1)\n",
      "0.9195781147000659 \n",
      "\n",
      "|P(not_even) - P(not_even | even)|\n",
      "0.0009516866244373839\n",
      "|P(even) - P(even | not_even)|\n",
      "0.0804218852999341\n",
      "\n",
      "\n",
      "Chosen semiprime: 559\n",
      "Evenness: 3\n",
      "\n",
      "P(-1 | 1)\n",
      "0.11171171171171171\n",
      "P(0 | 1)\n",
      "0.0972972972972973\n",
      "P(1 | 1)\n",
      "0.790990990990991 \n",
      "\n",
      "P(-1 | 0)\n",
      "0.0\n",
      "P(0 | 0)\n",
      "0.0\n",
      "P(1 | 0)\n",
      "1.0 \n",
      "\n",
      "P(-1)\n",
      "0.11270125223613596\n",
      "P(0)\n",
      "0.09838998211091235\n",
      "P(1)\n",
      "0.7889087656529516 \n",
      "\n",
      "|P(not_even) - P(not_even | even)|\n",
      "0.002082225338039284\n",
      "|P(even) - P(even | not_even)|\n",
      "0.21109123434704835\n",
      "\n",
      "\n",
      "Chosen semiprime: 731\n",
      "Evenness: 5\n",
      "\n",
      "P(-1 | 1)\n",
      "0.027510316368638238\n",
      "P(0 | 1)\n",
      "0.07977991746905089\n",
      "P(1 | 1)\n",
      "0.8927097661623109 \n",
      "\n",
      "P(-1 | 0)\n",
      "0.0\n",
      "P(0 | 0)\n",
      "0.0\n",
      "P(1 | 0)\n",
      "1.0 \n",
      "\n",
      "P(-1)\n",
      "0.028727770177838577\n",
      "P(0)\n",
      "0.08071135430916553\n",
      "P(1)\n",
      "0.8905608755129959 \n",
      "\n",
      "|P(not_even) - P(not_even | even)|\n",
      "0.0021488906493149773\n",
      "|P(even) - P(even | not_even)|\n",
      "0.1094391244870041\n",
      "\n",
      "\n",
      "Chosen semiprime: 817\n",
      "Evenness: 2\n",
      "\n",
      "P(-1 | 1)\n",
      "0.22783251231527094\n",
      "P(0 | 1)\n",
      "0.07389162561576355\n",
      "P(1 | 1)\n",
      "0.6982758620689655 \n",
      "\n",
      "P(-1 | 0)\n",
      "0.3333333333333333\n",
      "P(0 | 0)\n",
      "0.0\n",
      "P(1 | 0)\n",
      "0.6666666666666666 \n",
      "\n",
      "P(-1)\n",
      "0.22888616891064872\n",
      "P(0)\n",
      "0.07466340269277846\n",
      "P(1)\n",
      "0.6964504283965728 \n",
      "\n",
      "|P(not_even) - P(not_even | even)|\n",
      "0.00182543367239274\n",
      "|P(even) - P(even | not_even)|\n",
      "0.029783761729906155\n",
      "\n",
      "\n",
      "Chosen semiprime: 989\n",
      "Evenness: 2\n",
      "\n",
      "P(-1 | 1)\n",
      "0.23170731707317074\n",
      "P(0 | 1)\n",
      "0.06504065040650407\n",
      "P(1 | 1)\n",
      "0.7032520325203252 \n",
      "\n",
      "P(-1 | 0)\n",
      "0.6666666666666666\n",
      "P(0 | 0)\n",
      "0.0\n",
      "P(1 | 0)\n",
      "0.3333333333333333 \n",
      "\n",
      "P(-1)\n",
      "0.23356926188068755\n",
      "P(0)\n",
      "0.06572295247724974\n",
      "P(1)\n",
      "0.7007077856420627 \n",
      "\n",
      "|P(not_even) - P(not_even | even)|\n",
      "0.0025442468782624905\n",
      "|P(even) - P(even | not_even)|\n",
      "0.3673744523087294\n",
      "\n",
      "\n",
      "Chosen semiprime: 1247\n",
      "Evenness: 3\n",
      "\n",
      "P(-1 | 1)\n",
      "0.1168412570507655\n",
      "P(0 | 1)\n",
      "0.05640612409347301\n",
      "P(1 | 1)\n",
      "0.8267526188557615 \n",
      "\n",
      "P(-1 | 0)\n",
      "0.0\n",
      "P(0 | 0)\n",
      "0.0\n",
      "P(1 | 0)\n",
      "1.0 \n",
      "\n",
      "P(-1)\n",
      "0.11708099438652766\n",
      "P(0)\n",
      "0.05693664795509222\n",
      "P(1)\n",
      "0.8259823576583801 \n",
      "\n",
      "|P(not_even) - P(not_even | even)|\n",
      "0.0007702611973813556\n",
      "|P(even) - P(even | not_even)|\n",
      "0.17401764234161987\n",
      "\n",
      "\n",
      "Chosen semiprime: 1333\n",
      "Evenness: 2\n",
      "\n",
      "P(-1 | 1)\n",
      "0.23529411764705882\n",
      "P(0 | 1)\n",
      "0.05429864253393665\n",
      "P(1 | 1)\n",
      "0.7104072398190046 \n",
      "\n",
      "P(-1 | 0)\n",
      "0.4\n",
      "P(0 | 0)\n",
      "0.0\n",
      "P(1 | 0)\n",
      "0.6 \n",
      "\n",
      "P(-1)\n",
      "0.23630907726931732\n",
      "P(0)\n",
      "0.05476369092273068\n",
      "P(1)\n",
      "0.708927231807952 \n",
      "\n",
      "|P(not_even) - P(not_even | even)|\n",
      "0.0014800080110525804\n",
      "|P(even) - P(even | not_even)|\n",
      "0.10892723180795205\n",
      "\n",
      "\n",
      "Chosen semiprime: 1591\n",
      "Evenness: 3\n",
      "\n",
      "P(-1 | 1)\n",
      "0.11813013265950727\n",
      "P(0 | 1)\n",
      "0.049273531269740996\n",
      "P(1 | 1)\n",
      "0.8325963360707518 \n",
      "\n",
      "P(-1 | 0)\n",
      "0.16666666666666666\n",
      "P(0 | 0)\n",
      "0.0\n",
      "P(1 | 0)\n",
      "0.8333333333333334 \n",
      "\n",
      "P(-1)\n",
      "0.11879321181646763\n",
      "P(0)\n",
      "0.049654305468258955\n",
      "P(1)\n",
      "0.8315524827152734 \n",
      "\n",
      "|P(not_even) - P(not_even | even)|\n",
      "0.001043853355478297\n",
      "|P(even) - P(even | not_even)|\n",
      "0.0017808506180599926\n",
      "\n",
      "\n",
      "Chosen semiprime: 1763\n",
      "Evenness: 4\n",
      "\n",
      "P(-1 | 1)\n",
      "0.05925925925925926\n",
      "P(0 | 1)\n",
      "0.046723646723646726\n",
      "P(1 | 1)\n",
      "0.8940170940170941 \n",
      "\n",
      "P(-1 | 0)\n",
      "0.0\n",
      "P(0 | 0)\n",
      "0.0\n",
      "P(1 | 0)\n",
      "1.0 \n",
      "\n",
      "P(-1)\n",
      "0.05955757231990925\n",
      "P(0)\n",
      "0.047078842881452074\n",
      "P(1)\n",
      "0.8933635847986386 \n",
      "\n",
      "|P(not_even) - P(not_even | even)|\n",
      "0.0006535092184553337\n",
      "|P(even) - P(even | not_even)|\n",
      "0.10663641520136136\n",
      "\n",
      "\n",
      "Chosen semiprime: 611\n",
      "Evenness: 3\n",
      "\n",
      "P(-1 | 1)\n",
      "0.11202635914332784\n",
      "P(0 | 1)\n",
      "0.09555189456342669\n",
      "P(1 | 1)\n",
      "0.7924217462932455 \n",
      "\n",
      "P(-1 | 0)\n",
      "0.0\n",
      "P(0 | 0)\n",
      "0.0\n",
      "P(1 | 0)\n",
      "1.0 \n",
      "\n",
      "P(-1)\n",
      "0.11292962356792144\n",
      "P(0)\n",
      "0.09656301145662848\n",
      "P(1)\n",
      "0.79050736497545 \n",
      "\n",
      "|P(not_even) - P(not_even | even)|\n",
      "0.0019143813177953661\n",
      "|P(even) - P(even | not_even)|\n",
      "0.20949263502454996\n",
      "\n",
      "\n",
      "Chosen semiprime: 799\n",
      "Evenness: 5\n",
      "\n",
      "P(-1 | 1)\n",
      "0.027707808564231738\n",
      "P(0 | 1)\n",
      "0.07808564231738035\n",
      "P(1 | 1)\n",
      "0.8942065491183879 \n",
      "\n",
      "P(-1 | 0)\n",
      "0.0\n",
      "P(0 | 0)\n",
      "0.0\n",
      "P(1 | 0)\n",
      "1.0 \n",
      "\n",
      "P(-1)\n",
      "0.028785982478097622\n",
      "P(0)\n",
      "0.07884856070087609\n",
      "P(1)\n",
      "0.8923654568210263 \n",
      "\n",
      "|P(not_even) - P(not_even | even)|\n",
      "0.00184109229736161\n",
      "|P(even) - P(even | not_even)|\n",
      "0.1076345431789737\n",
      "\n",
      "\n",
      "Chosen semiprime: 893\n",
      "Evenness: 2\n",
      "\n",
      "P(-1 | 1)\n",
      "0.23198198198198197\n",
      "P(0 | 1)\n",
      "0.07207207207207207\n",
      "P(1 | 1)\n",
      "0.6959459459459459 \n",
      "\n",
      "P(-1 | 0)\n",
      "0.0\n",
      "P(0 | 0)\n",
      "0.0\n",
      "P(1 | 0)\n",
      "1.0 \n",
      "\n",
      "P(-1)\n",
      "0.23180291153415453\n",
      "P(0)\n",
      "0.07278835386338185\n",
      "P(1)\n",
      "0.6954087346024636 \n",
      "\n",
      "|P(not_even) - P(not_even | even)|\n",
      "0.0005372113434823356\n",
      "|P(even) - P(even | not_even)|\n",
      "0.30459126539753645\n",
      "\n",
      "\n",
      "Chosen semiprime: 1081\n",
      "Evenness: 2\n",
      "\n",
      "P(-1 | 1)\n",
      "0.2344186046511628\n",
      "P(0 | 1)\n",
      "0.06325581395348837\n",
      "P(1 | 1)\n",
      "0.7023255813953488 \n",
      "\n",
      "P(-1 | 0)\n",
      "0.0\n",
      "P(0 | 0)\n",
      "0.0\n",
      "P(1 | 0)\n",
      "1.0 \n",
      "\n",
      "P(-1)\n",
      "0.23404255319148937\n",
      "P(0)\n",
      "0.06382978723404255\n",
      "P(1)\n",
      "0.7021276595744681 \n",
      "\n",
      "|P(not_even) - P(not_even | even)|\n",
      "0.00019792182088074206\n",
      "|P(even) - P(even | not_even)|\n",
      "0.2978723404255319\n",
      "\n",
      "\n",
      "Chosen semiprime: 1363\n",
      "Evenness: 3\n",
      "\n",
      "P(-1 | 1)\n",
      "0.1172566371681416\n",
      "P(0 | 1)\n",
      "0.05457227138643068\n",
      "P(1 | 1)\n",
      "0.8281710914454278 \n",
      "\n",
      "P(-1 | 0)\n",
      "0.0\n",
      "P(0 | 0)\n",
      "0.0\n",
      "P(1 | 0)\n",
      "1.0 \n",
      "\n",
      "P(-1)\n",
      "0.11738811445341159\n",
      "P(0)\n",
      "0.055025678650036686\n",
      "P(1)\n",
      "0.8275862068965517 \n",
      "\n",
      "|P(not_even) - P(not_even | even)|\n",
      "0.0005848845488760079\n",
      "|P(even) - P(even | not_even)|\n",
      "0.1724137931034483\n",
      "\n",
      "\n",
      "Chosen semiprime: 1457\n",
      "Evenness: 2\n",
      "\n",
      "P(-1 | 1)\n",
      "0.23655172413793105\n",
      "P(0 | 1)\n",
      "0.05241379310344828\n",
      "P(1 | 1)\n",
      "0.7110344827586207 \n",
      "\n",
      "P(-1 | 0)\n",
      "0.2\n",
      "P(0 | 0)\n",
      "0.0\n",
      "P(1 | 0)\n",
      "0.8 \n",
      "\n",
      "P(-1)\n",
      "0.2367879203843514\n",
      "P(0)\n",
      "0.05284831846259437\n",
      "P(1)\n",
      "0.7103637611530542 \n",
      "\n",
      "|P(not_even) - P(not_even | even)|\n",
      "0.0006707216055664711\n",
      "|P(even) - P(even | not_even)|\n",
      "0.08963623884694583\n",
      "\n",
      "\n",
      "Chosen semiprime: 1739\n",
      "Evenness: 3\n",
      "\n",
      "P(-1 | 1)\n",
      "0.11900635470826113\n",
      "P(0 | 1)\n",
      "0.04737146158290006\n",
      "P(1 | 1)\n",
      "0.8336221837088388 \n",
      "\n",
      "P(-1 | 0)\n",
      "0.0\n",
      "P(0 | 0)\n",
      "0.0\n",
      "P(1 | 0)\n",
      "1.0 \n",
      "\n",
      "P(-1)\n",
      "0.11903392754456585\n",
      "P(0)\n",
      "0.04772857964347326\n",
      "P(1)\n",
      "0.8332374928119609 \n",
      "\n",
      "|P(not_even) - P(not_even | even)|\n",
      "0.0003846908968779261\n",
      "|P(even) - P(even | not_even)|\n",
      "0.1667625071880391\n",
      "\n",
      "\n",
      "Chosen semiprime: 1927\n",
      "Evenness: 4\n",
      "\n",
      "P(-1 | 1)\n",
      "0.05943691345151199\n",
      "P(0 | 1)\n",
      "0.04483837330552659\n",
      "P(1 | 1)\n",
      "0.8957247132429614 \n",
      "\n",
      "P(-1 | 0)\n",
      "0.0\n",
      "P(0 | 0)\n",
      "0.0\n",
      "P(1 | 0)\n",
      "1.0 \n",
      "\n",
      "P(-1)\n",
      "0.05967825635703165\n",
      "P(0)\n",
      "0.045147898287493514\n",
      "P(1)\n",
      "0.8951738453554748 \n",
      "\n",
      "|P(not_even) - P(not_even | even)|\n",
      "0.0005508678874865808\n",
      "|P(even) - P(even | not_even)|\n",
      "0.10482615464452516\n",
      "\n",
      "\n",
      "Chosen semiprime: 2021\n",
      "Evenness: 2\n",
      "\n",
      "P(-1 | 1)\n",
      "0.23906560636182903\n",
      "P(0 | 1)\n",
      "0.0437375745526839\n",
      "P(1 | 1)\n",
      "0.717196819085487 \n",
      "\n",
      "P(-1 | 0)\n",
      "0.14285714285714285\n",
      "P(0 | 0)\n",
      "0.0\n",
      "P(1 | 0)\n",
      "0.8571428571428571 \n",
      "\n",
      "P(-1)\n",
      "0.23899059871350817\n",
      "P(0)\n",
      "0.04403760514596734\n",
      "P(1)\n",
      "0.7169717961405245 \n",
      "\n",
      "|P(not_even) - P(not_even | even)|\n",
      "0.0002250229449625718\n",
      "|P(even) - P(even | not_even)|\n",
      "0.14017106100233256\n",
      "\n",
      "\n",
      "Chosen semiprime: 689\n",
      "Evenness: 4\n",
      "\n",
      "P(-1 | 1)\n",
      "0.05547445255474453\n",
      "P(0 | 1)\n",
      "0.09343065693430656\n",
      "P(1 | 1)\n",
      "0.8510948905109489 \n",
      "\n",
      "P(-1 | 0)\n",
      "0.0\n",
      "P(0 | 0)\n",
      "0.0\n",
      "P(1 | 0)\n",
      "1.0 \n",
      "\n",
      "P(-1)\n",
      "0.05660377358490566\n",
      "P(0)\n",
      "0.09433962264150944\n",
      "P(1)\n",
      "0.8490566037735849 \n",
      "\n",
      "|P(not_even) - P(not_even | even)|\n",
      "0.002038286737364031\n",
      "|P(even) - P(even | not_even)|\n",
      "0.15094339622641506\n",
      "\n",
      "\n",
      "Chosen semiprime: 901\n",
      "Evenness: 6\n",
      "\n",
      "P(-1 | 1)\n",
      "0.013392857142857142\n",
      "P(0 | 1)\n",
      "0.07589285714285714\n",
      "P(1 | 1)\n",
      "0.9107142857142857 \n",
      "\n",
      "P(-1 | 0)\n",
      "0.0\n",
      "P(0 | 0)\n",
      "0.0\n",
      "P(1 | 0)\n",
      "1.0 \n",
      "\n",
      "P(-1)\n",
      "0.014428412874583796\n",
      "P(0)\n",
      "0.07658157602663707\n",
      "P(1)\n",
      "0.9089900110987791 \n",
      "\n",
      "|P(not_even) - P(not_even | even)|\n",
      "0.001724274615506588\n",
      "|P(even) - P(even | not_even)|\n",
      "0.09100998890122092\n",
      "\n",
      "\n",
      "Chosen semiprime: 1007\n",
      "Evenness: 3\n",
      "\n",
      "P(-1 | 1)\n",
      "0.1157684630738523\n",
      "P(0 | 1)\n",
      "0.06986027944111776\n",
      "P(1 | 1)\n",
      "0.8143712574850299 \n",
      "\n",
      "P(-1 | 0)\n",
      "0.0\n",
      "P(0 | 0)\n",
      "0.0\n",
      "P(1 | 0)\n",
      "1.0 \n",
      "\n",
      "P(-1)\n",
      "0.11618669314796425\n",
      "P(0)\n",
      "0.070506454816286\n",
      "P(1)\n",
      "0.8133068520357497 \n",
      "\n",
      "|P(not_even) - P(not_even | even)|\n",
      "0.0010644054492801591\n",
      "|P(even) - P(even | not_even)|\n",
      "0.1866931479642503\n",
      "\n",
      "\n",
      "Chosen semiprime: 1219\n",
      "Evenness: 3\n",
      "\n",
      "P(-1 | 1)\n",
      "0.11788953009068426\n",
      "P(0 | 1)\n",
      "0.06100577081615829\n",
      "P(1 | 1)\n",
      "0.8211046990931574 \n",
      "\n",
      "P(-1 | 0)\n",
      "0.0\n",
      "P(0 | 0)\n",
      "0.0\n",
      "P(1 | 0)\n",
      "1.0 \n",
      "\n",
      "P(-1)\n",
      "0.11812961443806398\n",
      "P(0)\n",
      "0.06152584085315833\n",
      "P(1)\n",
      "0.8203445447087777 \n",
      "\n",
      "|P(not_even) - P(not_even | even)|\n",
      "0.0007601543843797631\n",
      "|P(even) - P(even | not_even)|\n",
      "0.1796554552912223\n",
      "\n",
      "\n",
      "Chosen semiprime: 1537\n",
      "Evenness: 4\n",
      "\n",
      "P(-1 | 1)\n",
      "0.058823529411764705\n",
      "P(0 | 1)\n",
      "0.05228758169934641\n",
      "P(1 | 1)\n",
      "0.8888888888888888 \n",
      "\n",
      "P(-1 | 0)\n",
      "0.0\n",
      "P(0 | 0)\n",
      "0.0\n",
      "P(1 | 0)\n",
      "1.0 \n",
      "\n",
      "P(-1)\n",
      "0.05920624593363696\n",
      "P(0)\n",
      "0.052700065061808715\n",
      "P(1)\n",
      "0.8880936890045543 \n",
      "\n",
      "|P(not_even) - P(not_even | even)|\n",
      "0.0007951998843345742\n",
      "|P(even) - P(even | not_even)|\n",
      "0.11190631099544568\n",
      "\n",
      "\n"
     ]
    }
   ],
   "source": [
    "for i in range(2,50):\n",
    "    n = ords.index[i]\n",
    "    print(\"Chosen semiprime: {}\".format(n))\n",
    "    print(\"Evenness: {}\\n\".format(prime_factors(sp.totient(n)).count(2)))\n",
    "    np.unique(np.vectorize(parity_2)(orders_single_number(n)), return_counts=True)\n",
    "\n",
    "    orders_single_number_list_processed = np.vectorize(parity_2)(orders_single_number(n))\n",
    "\n",
    "    pairs = np.array([(i,int(j)) for i,j in zip(orders_fermat_list[1:n-1], orders_single_number_list_processed[1:n-1])], dtype='i,i')\n",
    "\n",
    "    pair_stats = np.unique(pairs, return_counts=True)\n",
    "\n",
    "    pair_stats = {tuple(k):v for k,v in zip(list(pair_stats[0]),list(pair_stats[1]))}\n",
    "\n",
    "    for i in [0,1]:\n",
    "        for j in [-1,0,1]:\n",
    "            if (i,j) not in list(pair_stats.keys()):\n",
    "                pair_stats[(i,j)] = 0\n",
    "\n",
    "    pair_stats_whole = np.unique(orders_single_number_list_processed, return_counts=True)\n",
    "\n",
    "    pair_stats_whole = {k:v for k,v in zip(list(pair_stats_whole[0]),list(pair_stats_whole[1]))}\n",
    "\n",
    "    print(\"P(-1 | 1)\")\n",
    "    p_o_e = pair_stats[(1,-1)]/(pair_stats[(1,-1)]+pair_stats[(1, 0)] + pair_stats[(1, 1)])\n",
    "    print(p_o_e)\n",
    "\n",
    "    print(\"P(0 | 1)\")\n",
    "    p_n_e = pair_stats[(1,0)]/(pair_stats[(1,-1)]+pair_stats[(1, 0)] + pair_stats[(1, 1)])\n",
    "    print(p_n_e)\n",
    "\n",
    "    print(\"P(1 | 1)\")\n",
    "    p_e_e = pair_stats[(1,1)]/(pair_stats[(1,-1)]+pair_stats[(1, 0)] + pair_stats[(1, 1)])\n",
    "    print(p_e_e,'\\n')\n",
    "\n",
    "    print(\"P(-1 | 0)\")\n",
    "    p_o_n = pair_stats[(0,-1)]/(pair_stats[(0,1)]+pair_stats[(0,-1)] + pair_stats[(0,0)])\n",
    "    print(p_o_n)\n",
    "\n",
    "    print(\"P(0 | 0)\")\n",
    "    p_n_n = pair_stats[(0,0)]/(pair_stats[(0,1)]+pair_stats[(0,-1)] + pair_stats[(0,0)])\n",
    "    print(p_n_n)\n",
    "\n",
    "    print(\"P(1 | 0)\")\n",
    "    p_e_n = pair_stats[(0,1)]/(pair_stats[(0,1)]+pair_stats[(0,-1)] + pair_stats[(0,0)])\n",
    "    print(p_e_n,'\\n')\n",
    "    \n",
    "    print(\"P(-1)\")\n",
    "    p_o = pair_stats_whole[-1]/(sum(list(pair_stats_whole.values())))\n",
    "    print(p_o)\n",
    "\n",
    "    print(\"P(0)\")\n",
    "    p_n = pair_stats_whole[0]/(sum(list(pair_stats_whole.values())))\n",
    "    print(p_n)\n",
    "\n",
    "    print(\"P(1)\")\n",
    "    p_e = pair_stats_whole[1]/(sum(list(pair_stats_whole.values())))\n",
    "    print(p_e,'\\n')\n",
    "\n",
    "    p_ne_e = p_o_e + p_n_e\n",
    "\n",
    "    p_e_ne = p_e_n\n",
    "\n",
    "    p_ne = p_o + p_n\n",
    "    \n",
    "    print(\"|P(not_even) - P(not_even | even)|\") \n",
    "    print(np.abs(p_ne - p_ne_e))\n",
    "    \n",
    "    print(\"|P(even) - P(even | not_even)|\")\n",
    "    print(np.abs(p_e - p_e_ne))\n",
    "    print(\"\\n\")"
   ]
  },
  {
   "cell_type": "code",
   "execution_count": 736,
   "id": "f35d7335-9314-4522-b051-ec062b93a42a",
   "metadata": {},
   "outputs": [],
   "source": [
    "n = ords.index[-1]"
   ]
  },
  {
   "cell_type": "code",
   "execution_count": null,
   "id": "bc5707dc-b871-4baf-8e26-80fecc232b55",
   "metadata": {
    "tags": []
   },
   "outputs": [],
   "source": [
    "print(\"Chosen semiprime: {}\".format(n))\n",
    "print(\"Evenness: {}\\n\".format(prime_factors(sp.totient(n)).count(2)))\n",
    "np.unique(np.vectorize(parity_2)(orders_single_number(n)), return_counts=True)\n",
    "\n",
    "orders_single_number_list_processed = np.vectorize(parity_2)(orders_single_number(n))\n",
    "\n",
    "pairs = np.array([(i,int(j)) for i,j in zip(orders_fermat_list[1:n-1], orders_single_number_list_processed[1:n-1])], dtype='i,i')\n",
    "\n",
    "pair_stats = np.unique(pairs, return_counts=True)\n",
    "\n",
    "pair_stats = {tuple(k):v for k,v in zip(list(pair_stats[0]),list(pair_stats[1]))}\n",
    "\n",
    "for i in [0,1]:\n",
    "    for j in [-1,0,1]:\n",
    "        if (i,j) not in list(pair_stats.keys()):\n",
    "            pair_stats[(i,j)] = 0\n",
    "\n",
    "pair_stats_whole = np.unique(orders_single_number_list_processed, return_counts=True)\n",
    "\n",
    "pair_stats_whole = {k:v for k,v in zip(list(pair_stats_whole[0]),list(pair_stats_whole[1]))}\n",
    "\n",
    "print(\"P(-1 | 1)\")\n",
    "p_o_e = pair_stats[(1,-1)]/(pair_stats[(1,-1)]+pair_stats[(1, 0)] + pair_stats[(1, 1)])\n",
    "print(p_o_e)\n",
    "\n",
    "print(\"P(0 | 1)\")\n",
    "p_n_e = pair_stats[(1,0)]/(pair_stats[(1,-1)]+pair_stats[(1, 0)] + pair_stats[(1, 1)])\n",
    "print(p_n_e)\n",
    "\n",
    "print(\"P(1 | 1)\")\n",
    "p_e_e = pair_stats[(1,1)]/(pair_stats[(1,-1)]+pair_stats[(1, 0)] + pair_stats[(1, 1)])\n",
    "print(p_e_e,'\\n')\n",
    "\n",
    "print(\"P(-1 | 0)\")\n",
    "p_o_n = pair_stats[(0,-1)]/(pair_stats[(0,1)]+pair_stats[(0,-1)] + pair_stats[(0,0)])\n",
    "print(p_o_n)\n",
    "\n",
    "print(\"P(0 | 0)\")\n",
    "p_n_n = pair_stats[(0,0)]/(pair_stats[(0,1)]+pair_stats[(0,-1)] + pair_stats[(0,0)])\n",
    "print(p_n_n)\n",
    "\n",
    "print(\"P(1 | 0)\")\n",
    "p_e_n = pair_stats[(0,1)]/(pair_stats[(0,1)]+pair_stats[(0,-1)] + pair_stats[(0,0)])\n",
    "print(p_e_n,'\\n')\n",
    "\n",
    "print(\"P(-1)\")\n",
    "p_o = pair_stats_whole[-1]/(sum(list(pair_stats_whole.values())))\n",
    "print(p_o)\n",
    "\n",
    "print(\"P(0)\")\n",
    "p_n = pair_stats_whole[0]/(sum(list(pair_stats_whole.values())))\n",
    "print(p_n)\n",
    "\n",
    "print(\"P(1)\")\n",
    "p_e = pair_stats_whole[1]/(sum(list(pair_stats_whole.values())))\n",
    "print(p_e,'\\n')\n",
    "\n",
    "p_ne_e = p_o_e + p_n_e\n",
    "\n",
    "p_e_ne = p_e_n\n",
    "\n",
    "p_ne = p_o + p_n\n",
    "\n",
    "print(\"|P(not_even) - P(not_even | even)|\") \n",
    "print(np.abs(p_ne - p_ne_e))\n",
    "\n",
    "print(\"|P(even) - P(even | not_even)|\")\n",
    "print(np.abs(p_e - p_e_ne))\n",
    "print(\"\\n\")"
   ]
  },
  {
   "cell_type": "code",
   "execution_count": 738,
   "id": "262f0146-7cd0-465d-8d1c-9c36e1526dd7",
   "metadata": {},
   "outputs": [
    {
     "data": {
      "text/plain": [
       "[2, 2, 2, 2, 2, 2, 3, 3, 3, 7]"
      ]
     },
     "execution_count": 738,
     "metadata": {},
     "output_type": "execute_result"
    }
   ],
   "source": [
    "prime_factors(sp.totient(n))"
   ]
  },
  {
   "cell_type": "code",
   "execution_count": 743,
   "id": "2191accc-0ffb-4871-a310-d0ce66e8e9ea",
   "metadata": {},
   "outputs": [
    {
     "data": {
      "text/plain": [
       "array([-1,  1,  1, ...,  1,  1,  0])"
      ]
     },
     "execution_count": 743,
     "metadata": {},
     "output_type": "execute_result"
    }
   ],
   "source": [
    "np.unique(orders_single_number_list_processed"
   ]
  },
  {
   "cell_type": "code",
   "execution_count": 745,
   "id": "3f5f6e25-00b6-414a-8073-8cf0f4468fa4",
   "metadata": {},
   "outputs": [],
   "source": [
    "import pandas as pd"
   ]
  },
  {
   "cell_type": "code",
   "execution_count": 746,
   "id": "c98f542a-77d2-4527-8869-239889a2cd9f",
   "metadata": {},
   "outputs": [],
   "source": [
    "pd.Series(orders_single_number_list_processed).to_csv(\"orders_12317.csv\")"
   ]
  },
  {
   "cell_type": "code",
   "execution_count": 747,
   "id": "30b14e71-a4d6-4a3d-8400-792db8f686a8",
   "metadata": {},
   "outputs": [
    {
     "data": {
      "text/plain": [
       "'\\nChosen semiprime: 12317\\nEvenness: 6\\n\\nP(-1 | 1)\\n0.015161395500489077\\nP(0 | 1)\\n0.01793283338767525\\nP(1 | 1)\\n0.9669057711118356 \\n\\nP(-1 | 0)\\n0.0425531914893617\\nP(0 | 0)\\n0.0\\nP(1 | 0)\\n0.9574468085106383 \\n\\nP(-1)\\n0.01534464561175611\\nP(0)\\n0.017942680847608996\\nP(1)\\n0.966712673540635 \\n\\n|P(not_even) - P(not_even | even)|\\n0.00019309757120077736\\n|P(even) - P(even | not_even)|\\n0.0092658650299966\\n'"
      ]
     },
     "execution_count": 747,
     "metadata": {},
     "output_type": "execute_result"
    }
   ],
   "source": [
    "'''\n",
    "Chosen semiprime: 12317\n",
    "Evenness: 6\n",
    "\n",
    "P(-1 | 1)\n",
    "0.015161395500489077\n",
    "P(0 | 1)\n",
    "0.01793283338767525\n",
    "P(1 | 1)\n",
    "0.9669057711118356 \n",
    "\n",
    "P(-1 | 0)\n",
    "0.0425531914893617\n",
    "P(0 | 0)\n",
    "0.0\n",
    "P(1 | 0)\n",
    "0.9574468085106383 \n",
    "\n",
    "P(-1)\n",
    "0.01534464561175611\n",
    "P(0)\n",
    "0.017942680847608996\n",
    "P(1)\n",
    "0.966712673540635 \n",
    "\n",
    "|P(not_even) - P(not_even | even)|\n",
    "0.00019309757120077736\n",
    "|P(even) - P(even | not_even)|\n",
    "0.0092658650299966\n",
    "'''"
   ]
  },
  {
   "cell_type": "code",
   "execution_count": 749,
   "id": "77022892-51a9-4998-95b5-e8768c7711b8",
   "metadata": {},
   "outputs": [
    {
     "data": {
      "text/plain": [
       "{-1: 0.01534464561175611, 0: 0.017942680847608996, 1: 0.966712673540635}"
      ]
     },
     "execution_count": 749,
     "metadata": {},
     "output_type": "execute_result"
    }
   ],
   "source": [
    "labels, counts = np.unique(orders_single_number_list_processed, return_counts=True)\n",
    "counts = counts/sum(counts)\n",
    "dict(zip(labels, counts))"
   ]
  },
  {
   "cell_type": "code",
   "execution_count": 750,
   "id": "b49fabea-c2b7-4953-ad1f-6487006ebb9a",
   "metadata": {},
   "outputs": [
    {
     "data": {
      "text/plain": [
       "{-1: 0.01534464561175611, 0: 0.017942680847608996, 1: 0.966712673540635}"
      ]
     },
     "execution_count": 750,
     "metadata": {},
     "output_type": "execute_result"
    }
   ],
   "source": [
    "order_stats_formula(n)"
   ]
  },
  {
   "cell_type": "code",
   "execution_count": 753,
   "id": "dfa3f29a-ad1e-40b8-9468-95a9ec1f5232",
   "metadata": {},
   "outputs": [
    {
     "data": {
      "text/plain": [
       "7967"
      ]
     },
     "execution_count": 753,
     "metadata": {},
     "output_type": "execute_result"
    }
   ],
   "source": [
    "primes[10]*F3"
   ]
  },
  {
   "cell_type": "code",
   "execution_count": 762,
   "id": "ecabe9d7-7213-401a-b7b6-531fd45475d4",
   "metadata": {},
   "outputs": [
    {
     "data": {
      "text/plain": [
       "16843009"
      ]
     },
     "execution_count": 762,
     "metadata": {},
     "output_type": "execute_result"
    }
   ],
   "source": [
    "F3*F4"
   ]
  },
  {
   "cell_type": "code",
   "execution_count": 764,
   "id": "f0b93c75-c700-44ff-85d4-a362321a115f",
   "metadata": {},
   "outputs": [],
   "source": [
    "# Modulus method\n",
    "# Argument why for N_Fermat << N conditional would still hold "
   ]
  },
  {
   "cell_type": "markdown",
   "id": "20fae172-437d-456c-870e-5ca244d6345e",
   "metadata": {
    "jp-MarkdownHeadingCollapsed": true,
    "tags": []
   },
   "source": [
    "## Verifying some theorems about order distribution"
   ]
  },
  {
   "cell_type": "code",
   "execution_count": 11,
   "id": "974c3ab3-7af7-47c6-8994-d6437b46495d",
   "metadata": {},
   "outputs": [],
   "source": [
    "from itertools import chain, combinations\n",
    "\n",
    "def get_all_subsets(lst):\n",
    "    \"\"\"\n",
    "    Returns all unique subsets of the input list.\n",
    "    \"\"\"\n",
    "    # Convert list to set to remove duplicates\n",
    "    lst_set = lst#set(lst)\n",
    "    \n",
    "    # Get all combinations of elements in the set\n",
    "    subsets = chain.from_iterable(combinations(lst_set, r) for r in range(len(lst_set)+1))\n",
    "    \n",
    "    # Convert subsets from tuples to lists\n",
    "    subsets = [tuple(s) for s in subsets]\n",
    "    \n",
    "    subsets = set(subsets)\n",
    "    return list(subsets)"
   ]
  },
  {
   "cell_type": "code",
   "execution_count": 12,
   "id": "7d1ada35-fae0-4085-b6d0-8378d29e0cb3",
   "metadata": {},
   "outputs": [],
   "source": [
    "def get_divisors(n):\n",
    "    subsets = get_all_subsets(prime_factors(n))\n",
    "    \n",
    "    return list(np.sort([int(np.prod(i)) for i in subsets]))"
   ]
  },
  {
   "cell_type": "code",
   "execution_count": 191,
   "id": "2ce638bc-bed5-409a-98db-a4dc212c5fc8",
   "metadata": {},
   "outputs": [],
   "source": [
    "N = large_evenness[-1]"
   ]
  },
  {
   "cell_type": "code",
   "execution_count": 192,
   "id": "4da8293e-7a75-4564-9837-902772af6b35",
   "metadata": {},
   "outputs": [],
   "source": [
    "p,q = prime_factors(N)"
   ]
  },
  {
   "cell_type": "code",
   "execution_count": 193,
   "id": "ec4c7388-07aa-423b-98d2-2eddb5c3b3b7",
   "metadata": {},
   "outputs": [],
   "source": [
    "ords_histogram = {}\n",
    "for i in get_divisors(sp.totient(p)):\n",
    "    for j in get_divisors(sp.totient(q)):\n",
    "        l = np.lcm(i,j)\n",
    "        try:\n",
    "            ords_histogram[l] += sp.totient(i)*sp.totient(j)\n",
    "        except: \n",
    "            ords_histogram[l] = sp.totient(i)*sp.totient(j)\n",
    "        \n",
    "        \n",
    "    "
   ]
  },
  {
   "cell_type": "code",
   "execution_count": 194,
   "id": "2baf3b92-83b9-44dc-98cd-172a75f144ea",
   "metadata": {},
   "outputs": [
    {
     "data": {
      "text/plain": [
       "{1: 1,\n",
       " 2: 3,\n",
       " 4: 12,\n",
       " 7: 6,\n",
       " 8: 48,\n",
       " 14: 18,\n",
       " 16: 64,\n",
       " 28: 72,\n",
       " 56: 288,\n",
       " 112: 384,\n",
       " 11: 10,\n",
       " 22: 30,\n",
       " 44: 120,\n",
       " 77: 60,\n",
       " 88: 480,\n",
       " 154: 180,\n",
       " 176: 640,\n",
       " 308: 720,\n",
       " 616: 2880,\n",
       " 1232: 3840}"
      ]
     },
     "execution_count": 194,
     "metadata": {},
     "output_type": "execute_result"
    }
   ],
   "source": [
    "ords_histogram"
   ]
  },
  {
   "cell_type": "code",
   "execution_count": 195,
   "id": "edfd44e2-f5bc-43f8-8807-4f8d3d28f50c",
   "metadata": {},
   "outputs": [
    {
     "data": {
      "text/plain": [
       "0.38182360544894106"
      ]
     },
     "execution_count": 195,
     "metadata": {},
     "output_type": "execute_result"
    }
   ],
   "source": [
    "3840/N"
   ]
  },
  {
   "cell_type": "code",
   "execution_count": 180,
   "id": "1d2125d0-bdbc-499d-912c-fff2114fd705",
   "metadata": {},
   "outputs": [
    {
     "data": {
      "text/plain": [
       "126"
      ]
     },
     "execution_count": 180,
     "metadata": {},
     "output_type": "execute_result"
    }
   ],
   "source": [
    "np.lcm((p-1), (q-1))"
   ]
  },
  {
   "cell_type": "code",
   "execution_count": 178,
   "id": "b4f8c7f4-5ae9-45af-97ee-7b482c594ee8",
   "metadata": {},
   "outputs": [
    {
     "data": {
      "text/plain": [
       "756"
      ]
     },
     "execution_count": 178,
     "metadata": {},
     "output_type": "execute_result"
    }
   ],
   "source": [
    "np.sum(list(ords_histogram.values()))"
   ]
  },
  {
   "cell_type": "code",
   "execution_count": 96,
   "id": "54923a1c-a9b3-4ed4-839e-d1bcb0c2cb1f",
   "metadata": {},
   "outputs": [
    {
     "data": {
      "text/plain": [
       "3369671"
      ]
     },
     "execution_count": 96,
     "metadata": {},
     "output_type": "execute_result"
    }
   ],
   "source": [
    "1801*1871"
   ]
  },
  {
   "cell_type": "code",
   "execution_count": 97,
   "id": "aaca4deb-c6b5-4ee5-83c9-de2a5ab8fd47",
   "metadata": {},
   "outputs": [
    {
     "data": {
      "text/plain": [
       "3366000"
      ]
     },
     "execution_count": 97,
     "metadata": {},
     "output_type": "execute_result"
    }
   ],
   "source": [
    "sp.totient(1801*1871)"
   ]
  },
  {
   "cell_type": "code",
   "execution_count": null,
   "id": "64770e07-f43f-4b1d-b0e2-67490f4727f9",
   "metadata": {},
   "outputs": [],
   "source": [
    "# n - f = p*q - (p-1)*(q-1) = p*q - p*q + p + q - 1 = p + q - 1 = O(sqrt(N)). So can't just iterate all possible totients. \n",
    "# This is just the brute force O(sqrt(N)) method of factorising N. No\n",
    "n = N\n",
    "for i in range(2,int(np.sqrt(N))+1):\n",
    "    for j in range(2,int(np.sqrt(N))+1):\n",
    "        f = (i-1)*(j-1)     \n",
    "        ps = (1/2 *(np.sqrt((-f + n + 1)**2 - 4*n) - f + n + 1), 1/2 *(-np.sqrt((-f + n + 1)**2 - 4*n) - f + n + 1))\n",
    "        ps = [p for p in ps if p.is_integer()]\n",
    "        qs = [N/p for p in ps]\n",
    "        \n",
    "        if(len(qs)!= 0):\n",
    "            print(p[0], q[0])"
   ]
  },
  {
   "cell_type": "code",
   "execution_count": 199,
   "id": "0a5e9417-27b3-48d4-b8b9-5fd2707257f8",
   "metadata": {},
   "outputs": [
    {
     "data": {
      "text/plain": [
       "4369"
      ]
     },
     "execution_count": 199,
     "metadata": {},
     "output_type": "execute_result"
    }
   ],
   "source": [
    "F2*F3"
   ]
  },
  {
   "cell_type": "markdown",
   "id": "41d0c020-b36a-4e2c-998b-61be0e54edd6",
   "metadata": {
    "jp-MarkdownHeadingCollapsed": true,
    "tags": []
   },
   "source": [
    "## Efficient order computation"
   ]
  },
  {
   "cell_type": "code",
   "execution_count": 103,
   "id": "24c4387e-f44e-4142-9ad4-c89927ad895f",
   "metadata": {},
   "outputs": [],
   "source": [
    "from sympy.ntheory import n_order\n",
    "\n",
    "def order_fastest(x,N, divisors=None):\n",
    "    assert(N+1>x)\n",
    "    if(math.gcd(x,N)!=1):\n",
    "        return -1\n",
    "    \n",
    "    if(not divisors):\n",
    "        divisors = get_divisors(sp.totient(N))\n",
    "    \n",
    "    for d in divisors:\n",
    "        a = x\n",
    "        for j in range(1,d):\n",
    "            a = x*a % N\n",
    "        if(a==1):\n",
    "            return d\n"
   ]
  },
  {
   "cell_type": "code",
   "execution_count": 104,
   "id": "2a9ea7bf-004d-48dd-9c48-8826298ad84e",
   "metadata": {},
   "outputs": [],
   "source": [
    "N = 12317\n",
    "divisors = {}"
   ]
  },
  {
   "cell_type": "code",
   "execution_count": 105,
   "id": "143756a7-8b78-4aa0-b21e-08df9c443782",
   "metadata": {},
   "outputs": [],
   "source": [
    "divisors[N] = get_divisors(sp.totient(N))"
   ]
  },
  {
   "cell_type": "code",
   "execution_count": 106,
   "id": "32e54eca-ae19-4db1-91b0-939771df302c",
   "metadata": {},
   "outputs": [],
   "source": [
    "a = coprimes(N)[5]"
   ]
  },
  {
   "cell_type": "code",
   "execution_count": 107,
   "id": "64d64022-d5a4-4bb5-86b6-4357f61b9e20",
   "metadata": {},
   "outputs": [
    {
     "name": "stdout",
     "output_type": "stream",
     "text": [
      "Fastest: 0.0019979476928710938\n",
      "Fast: 0.025960206985473633\n",
      "Slow: 0.49033093452453613\n",
      "Sympy: 0.0009646415710449219\n"
     ]
    }
   ],
   "source": [
    "import time\n",
    "\n",
    "t1 = time.time()\n",
    "order_fastest(a, N, divisors[N])\n",
    "t2 = time.time()\n",
    "\n",
    "print(\"Fastest: {}\".format(t2 - t1))\n",
    "\n",
    "\n",
    "t1 = time.time()\n",
    "order_fast(a, N)\n",
    "t2 = time.time()\n",
    "\n",
    "print(\"Fast: {}\".format(t2 - t1))\n",
    "\n",
    "\n",
    "t1 = time.time()\n",
    "order_slow(a, N)\n",
    "t2 = time.time()\n",
    "\n",
    "print(\"Slow: {}\".format(t2 - t1))\n",
    "\n",
    "t1 = time.time()\n",
    "n_order(a, N)\n",
    "t2 = time.time()\n",
    "\n",
    "print(\"Sympy: {}\".format(t2 - t1))\n"
   ]
  },
  {
   "cell_type": "code",
   "execution_count": 109,
   "id": "61c61c9b-87a6-4a6d-8eca-1de2802d3fb3",
   "metadata": {},
   "outputs": [
    {
     "data": {
      "text/plain": [
       "65537"
      ]
     },
     "execution_count": 109,
     "metadata": {},
     "output_type": "execute_result"
    }
   ],
   "source": [
    "F4"
   ]
  },
  {
   "cell_type": "code",
   "execution_count": 558,
   "id": "c4b4cfce-b492-4498-81d5-3f89a2abae83",
   "metadata": {},
   "outputs": [],
   "source": [
    "def my_n_order(a,N):\n",
    "    try:\n",
    "        return n_order(a,N)\n",
    "    except:\n",
    "        return -1"
   ]
  },
  {
   "cell_type": "code",
   "execution_count": 634,
   "id": "f58b9812-23ad-4c9f-b636-9ba4d99cedcc",
   "metadata": {},
   "outputs": [],
   "source": [
    "primes = primes + [i for i in range(10**5 + 1,10**6) if is_prime(i)]\n"
   ]
  },
  {
   "cell_type": "code",
   "execution_count": 560,
   "id": "adca2268-937a-4cdc-b2c9-8cd78c569c21",
   "metadata": {},
   "outputs": [],
   "source": [
    "def evenness(x):\n",
    "    return prime_factors(sp.totient(x)).count(2)"
   ]
  },
  {
   "cell_type": "code",
   "execution_count": 627,
   "id": "807faa4c-465f-442b-bbe1-4bc3881548db",
   "metadata": {},
   "outputs": [],
   "source": [
    "# Finding first semiprime above cutoff with some desired evenness\n",
    "\n",
    "def generate_semiprime(cutoff, a):\n",
    "    threshold = np.sqrt(cutoff)\n",
    "    for t,p in enumerate(primes):\n",
    "        if p > threshold:\n",
    "            break\n",
    "    \n",
    "    x = 1\n",
    "    i = 1\n",
    "    while(evenness(x)!=a):\n",
    "        i+= 1\n",
    "        for j in range(1,i):\n",
    "            x = primes[:t][-i]*primes[:t][-j]\n",
    "\n",
    "    return (x, (primes[-i], primes[-j]))"
   ]
  },
  {
   "cell_type": "code",
   "execution_count": 210,
   "id": "1edd254d-33ff-4e1a-918c-75c8e7f6de9f",
   "metadata": {},
   "outputs": [],
   "source": [
    "n, (p1, p2) = generate_semiprime(1.03*s, 7)"
   ]
  },
  {
   "cell_type": "code",
   "execution_count": 211,
   "id": "22ea8a4f-a793-4c15-8b80-b07e0a2d1329",
   "metadata": {},
   "outputs": [
    {
     "data": {
      "text/plain": [
       "17065157"
      ]
     },
     "execution_count": 211,
     "metadata": {},
     "output_type": "execute_result"
    }
   ],
   "source": [
    "n"
   ]
  },
  {
   "cell_type": "code",
   "execution_count": 212,
   "id": "20649cf5-4881-46ef-b799-ef3c51f0f43e",
   "metadata": {},
   "outputs": [
    {
     "data": {
      "text/plain": [
       "16843009"
      ]
     },
     "execution_count": 212,
     "metadata": {},
     "output_type": "execute_result"
    }
   ],
   "source": [
    "s"
   ]
  },
  {
   "cell_type": "code",
   "execution_count": 214,
   "id": "5c38f941-7b80-436a-bef3-15af2c3bfc02",
   "metadata": {},
   "outputs": [
    {
     "data": {
      "application/vnd.jupyter.widget-view+json": {
       "model_id": "9fc5795132aa489ca3e589a8bf7b60a0",
       "version_major": 2,
       "version_minor": 0
      },
      "text/plain": [
       "  0%|          | 0/17065157 [00:00<?, ?it/s]"
      ]
     },
     "metadata": {},
     "output_type": "display_data"
    }
   ],
   "source": [
    "orders_single_number_list = orders_single_number(n, method=my_n_order)"
   ]
  },
  {
   "cell_type": "code",
   "execution_count": 71,
   "id": "74bbeb9a-8462-4eec-938e-994ad6854ca6",
   "metadata": {},
   "outputs": [
    {
     "data": {
      "text/plain": [
       "16843009"
      ]
     },
     "execution_count": 71,
     "metadata": {},
     "output_type": "execute_result"
    }
   ],
   "source": [
    "F3*F4"
   ]
  },
  {
   "cell_type": "code",
   "execution_count": 215,
   "id": "29744d14-c869-4cfd-92b3-5d77eb413c2b",
   "metadata": {},
   "outputs": [],
   "source": [
    "pd.Series(orders_single_number_list).to_csv(\"orders_{}.csv\".format(n))"
   ]
  },
  {
   "cell_type": "code",
   "execution_count": 216,
   "id": "fa3e5fdd-a265-4302-84a7-a1540860d486",
   "metadata": {},
   "outputs": [],
   "source": [
    "orders_series = pd.Series(orders_single_number_list)"
   ]
  },
  {
   "cell_type": "code",
   "execution_count": 217,
   "id": "735adda6-d3e3-4001-9e84-b91264eaf5ad",
   "metadata": {},
   "outputs": [
    {
     "data": {
      "text/plain": [
       "0                 1\n",
       "1            710704\n",
       "2            533028\n",
       "3            355352\n",
       "4           1066056\n",
       "             ...   \n",
       "17065152     355352\n",
       "17065153     533028\n",
       "17065154     710704\n",
       "17065155          2\n",
       "17065156         -1\n",
       "Length: 17065157, dtype: int32"
      ]
     },
     "execution_count": 217,
     "metadata": {},
     "output_type": "execute_result"
    }
   ],
   "source": [
    "orders_series"
   ]
  },
  {
   "cell_type": "code",
   "execution_count": 94,
   "id": "be506e23-490e-4f4b-9fcd-32e896fbe9a7",
   "metadata": {},
   "outputs": [],
   "source": [
    "orders_single_number_list = pd.read_csv(\"orders_17065157.csv\")"
   ]
  },
  {
   "cell_type": "code",
   "execution_count": 95,
   "id": "681d86b0-ce83-4145-99f7-617a4212cb35",
   "metadata": {},
   "outputs": [],
   "source": [
    "orders_single_number_list = orders_single_number_list.set_index(\"Unnamed: 0\")"
   ]
  },
  {
   "cell_type": "code",
   "execution_count": 96,
   "id": "16f97feb-5188-41ff-970b-ffe957530317",
   "metadata": {},
   "outputs": [
    {
     "data": {
      "text/html": [
       "<div>\n",
       "<style scoped>\n",
       "    .dataframe tbody tr th:only-of-type {\n",
       "        vertical-align: middle;\n",
       "    }\n",
       "\n",
       "    .dataframe tbody tr th {\n",
       "        vertical-align: top;\n",
       "    }\n",
       "\n",
       "    .dataframe thead th {\n",
       "        text-align: right;\n",
       "    }\n",
       "</style>\n",
       "<table border=\"1\" class=\"dataframe\">\n",
       "  <thead>\n",
       "    <tr style=\"text-align: right;\">\n",
       "      <th></th>\n",
       "      <th>0</th>\n",
       "    </tr>\n",
       "    <tr>\n",
       "      <th>Unnamed: 0</th>\n",
       "      <th></th>\n",
       "    </tr>\n",
       "  </thead>\n",
       "  <tbody>\n",
       "    <tr>\n",
       "      <th>0</th>\n",
       "      <td>1</td>\n",
       "    </tr>\n",
       "    <tr>\n",
       "      <th>1</th>\n",
       "      <td>710704</td>\n",
       "    </tr>\n",
       "    <tr>\n",
       "      <th>2</th>\n",
       "      <td>533028</td>\n",
       "    </tr>\n",
       "    <tr>\n",
       "      <th>3</th>\n",
       "      <td>355352</td>\n",
       "    </tr>\n",
       "    <tr>\n",
       "      <th>4</th>\n",
       "      <td>1066056</td>\n",
       "    </tr>\n",
       "    <tr>\n",
       "      <th>...</th>\n",
       "      <td>...</td>\n",
       "    </tr>\n",
       "    <tr>\n",
       "      <th>17065152</th>\n",
       "      <td>355352</td>\n",
       "    </tr>\n",
       "    <tr>\n",
       "      <th>17065153</th>\n",
       "      <td>533028</td>\n",
       "    </tr>\n",
       "    <tr>\n",
       "      <th>17065154</th>\n",
       "      <td>710704</td>\n",
       "    </tr>\n",
       "    <tr>\n",
       "      <th>17065155</th>\n",
       "      <td>2</td>\n",
       "    </tr>\n",
       "    <tr>\n",
       "      <th>17065156</th>\n",
       "      <td>-1</td>\n",
       "    </tr>\n",
       "  </tbody>\n",
       "</table>\n",
       "<p>17065157 rows × 1 columns</p>\n",
       "</div>"
      ],
      "text/plain": [
       "                  0\n",
       "Unnamed: 0         \n",
       "0                 1\n",
       "1            710704\n",
       "2            533028\n",
       "3            355352\n",
       "4           1066056\n",
       "...             ...\n",
       "17065152     355352\n",
       "17065153     533028\n",
       "17065154     710704\n",
       "17065155          2\n",
       "17065156         -1\n",
       "\n",
       "[17065157 rows x 1 columns]"
      ]
     },
     "execution_count": 96,
     "metadata": {},
     "output_type": "execute_result"
    }
   ],
   "source": [
    "orders_single_number_list"
   ]
  },
  {
   "cell_type": "code",
   "execution_count": 97,
   "id": "48ddf6fc-fab9-4345-9454-ec77ca0fc9bb",
   "metadata": {},
   "outputs": [],
   "source": [
    "orders_single_number_list_processed = np.vectorize(parity_2)(orders_single_number_list)"
   ]
  },
  {
   "cell_type": "code",
   "execution_count": 102,
   "id": "7a9fdf0e-f73c-4902-9151-d3edd43f32cc",
   "metadata": {},
   "outputs": [],
   "source": [
    "orders_single_number_list_processed = orders_single_number_list_processed.reshape(len(orders_single_number_list_processed), )"
   ]
  },
  {
   "cell_type": "code",
   "execution_count": 103,
   "id": "18dc48c7-fe21-4fa4-a444-c12ac8d56b1e",
   "metadata": {},
   "outputs": [],
   "source": [
    "pairs = np.array([(i,int(j)) for i,j in zip(orders_fermat_list[1:s-1], orders_single_number_list_processed[1:s-1])], dtype='i,i')"
   ]
  },
  {
   "cell_type": "code",
   "execution_count": 108,
   "id": "b59f53de-4d8f-48c6-ba00-750c0414aa3d",
   "metadata": {},
   "outputs": [],
   "source": [
    "pair_stats = np.unique(pairs, return_counts=True)\n",
    "\n",
    "pair_stats = {tuple(k):v for k,v in zip(list(pair_stats[0]),list(pair_stats[1]))}\n",
    "\n",
    "for i in [0,1]:\n",
    "    for j in [-1,0,1]:\n",
    "        if (i,j) not in list(pair_stats.keys()):\n",
    "            pair_stats[(i,j)] = 0"
   ]
  },
  {
   "cell_type": "code",
   "execution_count": 105,
   "id": "b6d6e907-0ae5-494d-a0d6-5a51fa0f8f09",
   "metadata": {},
   "outputs": [
    {
     "data": {
      "text/plain": [
       "array([(1, 1), (1, 1), (1, 1), ..., (1, 1), (1, 1), (1, 1)],\n",
       "      dtype=[('f0', '<i4'), ('f1', '<i4')])"
      ]
     },
     "execution_count": 105,
     "metadata": {},
     "output_type": "execute_result"
    }
   ],
   "source": [
    "pairs"
   ]
  },
  {
   "cell_type": "code",
   "execution_count": 230,
   "id": "e955933c-43c3-4b24-a476-8abe91a6845f",
   "metadata": {},
   "outputs": [
    {
     "name": "stdout",
     "output_type": "stream",
     "text": [
      "Chosen semiprime: 17065157\n",
      "Evenness: 7\n",
      "\n",
      "P(-1 | 1)\n",
      "0.007811189163398097\n",
      "P(0 | 1)\n",
      "0.0004842281630175211\n",
      "P(1 | 1)\n",
      "0.9917045826735844 \n",
      "\n",
      "P(-1 | 0)\n",
      "0.007204523346303502\n",
      "P(0 | 0)\n",
      "0.00045598249027237355\n",
      "P(1 | 0)\n",
      "0.9923394941634242 \n",
      "\n",
      "P(-1)\n",
      "0.007808718079769204\n",
      "P(0)\n",
      "0.0004840857895418132\n",
      "P(1)\n",
      "0.991707196130689 \n",
      "\n",
      "|P(not_even) - P(not_even | even)|\n",
      "2.6134571046009664e-06\n",
      "|P(even) - P(even | not_even)|\n",
      "0.0006322980327351235\n",
      "\n",
      "\n"
     ]
    }
   ],
   "source": [
    "print(\"Chosen semiprime: {}\".format(n))\n",
    "print(\"Evenness: {}\\n\".format(7))\n",
    "\n",
    "pairs = np.array([(i,int(j)) for i,j in zip(orders_fermat_list[1:s-1], orders_single_number_list_processed[1:s-1])], dtype='i,i')\n",
    "\n",
    "pair_stats = np.unique(pairs, return_counts=True)\n",
    "\n",
    "pair_stats = {tuple(k):v for k,v in zip(list(pair_stats[0]),list(pair_stats[1]))}\n",
    "\n",
    "for i in [0,1]:\n",
    "    for j in [-1,0,1]:\n",
    "        if (i,j) not in list(pair_stats.keys()):\n",
    "            pair_stats[(i,j)] = 0\n",
    "\n",
    "pair_stats_whole = np.unique(orders_single_number_list_processed, return_counts=True)\n",
    "\n",
    "pair_stats_whole = {k:v for k,v in zip(list(pair_stats_whole[0]),list(pair_stats_whole[1]))}\n",
    "\n",
    "print(\"P(-1 | 1)\")\n",
    "p_o_e = pair_stats[(1,-1)]/(pair_stats[(1,-1)]+pair_stats[(1, 0)] + pair_stats[(1, 1)])\n",
    "print(p_o_e)\n",
    "\n",
    "print(\"P(0 | 1)\")\n",
    "p_n_e = pair_stats[(1,0)]/(pair_stats[(1,-1)]+pair_stats[(1, 0)] + pair_stats[(1, 1)])\n",
    "print(p_n_e)\n",
    "\n",
    "print(\"P(1 | 1)\")\n",
    "p_e_e = pair_stats[(1,1)]/(pair_stats[(1,-1)]+pair_stats[(1, 0)] + pair_stats[(1, 1)])\n",
    "print(p_e_e,'\\n')\n",
    "\n",
    "print(\"P(-1 | 0)\")\n",
    "p_o_n = pair_stats[(0,-1)]/(pair_stats[(0,1)]+pair_stats[(0,-1)] + pair_stats[(0,0)])\n",
    "print(p_o_n)\n",
    "\n",
    "print(\"P(0 | 0)\")\n",
    "p_n_n = pair_stats[(0,0)]/(pair_stats[(0,1)]+pair_stats[(0,-1)] + pair_stats[(0,0)])\n",
    "print(p_n_n)\n",
    "\n",
    "print(\"P(1 | 0)\")\n",
    "p_e_n = pair_stats[(0,1)]/(pair_stats[(0,1)]+pair_stats[(0,-1)] + pair_stats[(0,0)])\n",
    "print(p_e_n,'\\n')\n",
    "\n",
    "print(\"P(-1)\")\n",
    "p_o = pair_stats_whole[-1]/(sum(list(pair_stats_whole.values())))\n",
    "print(p_o)\n",
    "\n",
    "print(\"P(0)\")\n",
    "p_n = pair_stats_whole[0]/(sum(list(pair_stats_whole.values())))\n",
    "print(p_n)\n",
    "\n",
    "print(\"P(1)\")\n",
    "p_e = pair_stats_whole[1]/(sum(list(pair_stats_whole.values())))\n",
    "print(p_e,'\\n')\n",
    "\n",
    "p_ne_e = p_o_e + p_n_e\n",
    "\n",
    "p_e_ne = p_e_n\n",
    "\n",
    "p_ne = p_o + p_n\n",
    "\n",
    "print(\"|P(not_even) - P(not_even | even)|\") \n",
    "print(np.abs(p_ne - p_ne_e))\n",
    "\n",
    "print(\"|P(even) - P(even | not_even)|\")\n",
    "print(np.abs(p_e - p_e_ne))\n",
    "print(\"\\n\")"
   ]
  },
  {
   "cell_type": "code",
   "execution_count": 232,
   "id": "e20aff5f-77bd-4368-9664-f8ddce3d579c",
   "metadata": {},
   "outputs": [],
   "source": [
    "a = 7\n",
    "a2 = evenness(s)"
   ]
  },
  {
   "cell_type": "code",
   "execution_count": 302,
   "id": "d72fa220-a5d4-4207-aa1e-3dd86081f30e",
   "metadata": {},
   "outputs": [],
   "source": [
    "k = s"
   ]
  },
  {
   "cell_type": "code",
   "execution_count": 303,
   "id": "1a3f4adf-11e0-40dd-9015-a341ffed99eb",
   "metadata": {},
   "outputs": [],
   "source": [
    "idxs = np.random.choice(s, (k), replace=False)"
   ]
  },
  {
   "cell_type": "code",
   "execution_count": 304,
   "id": "274ff118-941d-439c-a73a-2516cebb8322",
   "metadata": {},
   "outputs": [
    {
     "name": "stdout",
     "output_type": "stream",
     "text": [
      "0.012167481475548698\n"
     ]
    }
   ],
   "source": [
    "print(np.sum(np.abs(orders_single_number_list_processed[idxs] != orders_fermat_list[idxs]))/len(idxs))"
   ]
  },
  {
   "cell_type": "code",
   "execution_count": 301,
   "id": "5c59869f-b53f-4a29-b874-a8e3a9957b10",
   "metadata": {},
   "outputs": [
    {
     "name": "stdout",
     "output_type": "stream",
     "text": [
      "0.012164827330033212\n"
     ]
    }
   ],
   "source": [
    " print(coprime_density(n) + coprime_density(s) - coprime_density(n)*coprime_density(s)*(2 - 1/(2**a) - 1/(2**a2) + 1/(2**(a+a2-1))))"
   ]
  },
  {
   "cell_type": "code",
   "execution_count": 368,
   "id": "b6e13b36-cb50-4b4d-9e1d-7354137a7ffa",
   "metadata": {},
   "outputs": [
    {
     "data": {
      "text/latex": [
       "$\\displaystyle 0.0121648109150719$"
      ],
      "text/plain": [
       "0.0121648109150719"
      ]
     },
     "execution_count": 368,
     "metadata": {},
     "output_type": "execute_result"
    }
   ],
   "source": [
    "E_RGB.subs(values).evalf()"
   ]
  },
  {
   "cell_type": "code",
   "execution_count": 369,
   "id": "926ced16-d27b-4fa9-872e-077df7f418ee",
   "metadata": {},
   "outputs": [],
   "source": [
    "# Testing sdev calcs"
   ]
  },
  {
   "cell_type": "code",
   "execution_count": 348,
   "id": "8ae32983-2384-485b-b55d-3201d984b90f",
   "metadata": {},
   "outputs": [],
   "source": [
    "n = 17065157 #11021 #small_evenness[-1]\n",
    "s = N_fermat\n",
    "m = max([n,s])\n",
    "counts = {(k,i): int(m*v) for i in [n,s] for k,v in order_stats_formula(i).items()}"
   ]
  },
  {
   "cell_type": "code",
   "execution_count": 349,
   "id": "360691a0-11fa-4f7b-b937-a4fbcca912b1",
   "metadata": {},
   "outputs": [],
   "source": [
    "marbles = dict(zip([G1, R1, B1, G2, R2, B2], list(counts.values())))"
   ]
  },
  {
   "cell_type": "code",
   "execution_count": 400,
   "id": "6aab24eb-6bed-45f6-af36-d3d02435c84c",
   "metadata": {},
   "outputs": [],
   "source": [
    "values = {**marbles, **{N: m, N_bar : m - 1, k: 1000}}"
   ]
  },
  {
   "cell_type": "code",
   "execution_count": 401,
   "id": "bf510eb1-220b-4fd1-8529-63c6371bcc21",
   "metadata": {},
   "outputs": [
    {
     "data": {
      "text/plain": [
       "0.0030034398557209417"
      ]
     },
     "execution_count": 401,
     "metadata": {},
     "output_type": "execute_result"
    }
   ],
   "source": [
    "math.sqrt(V_RGB.subs(values).evalf())"
   ]
  },
  {
   "cell_type": "code",
   "execution_count": 539,
   "id": "f39ffdc3-3fb5-4b30-aba6-a433f29574ac",
   "metadata": {},
   "outputs": [
    {
     "data": {
      "application/vnd.jupyter.widget-view+json": {
       "model_id": "2612ccad8f9442658fab7f134232c89e",
       "version_major": 2,
       "version_minor": 0
      },
      "text/plain": [
       "  0%|          | 0/10000 [00:00<?, ?it/s]"
      ]
     },
     "metadata": {},
     "output_type": "display_data"
    },
    {
     "name": "stdout",
     "output_type": "stream",
     "text": [
      "Std for 100 samples \n",
      "- Brute: 0.010978365588738609\n",
      "- Formula: 0.010962091107953055\n"
     ]
    },
    {
     "data": {
      "application/vnd.jupyter.widget-view+json": {
       "model_id": "1e61650a2ce34f5f85e5ba9f01bf1d73",
       "version_major": 2,
       "version_minor": 0
      },
      "text/plain": [
       "  0%|          | 0/10000 [00:00<?, ?it/s]"
      ]
     },
     "metadata": {},
     "output_type": "display_data"
    },
    {
     "name": "stdout",
     "output_type": "stream",
     "text": [
      "Std for 1000 samples \n",
      "- Brute: 0.0034751089062071134\n",
      "- Formula: 0.003466426455977394\n"
     ]
    },
    {
     "data": {
      "application/vnd.jupyter.widget-view+json": {
       "model_id": "cfe2f80f40254ac3b6f13edc94369b8e",
       "version_major": 2,
       "version_minor": 0
      },
      "text/plain": [
       "  0%|          | 0/10000 [00:00<?, ?it/s]"
      ]
     },
     "metadata": {},
     "output_type": "display_data"
    },
    {
     "name": "stdout",
     "output_type": "stream",
     "text": [
      "Std for 10000 samples \n",
      "- Brute: 0.0010769192158653312\n",
      "- Formula: 0.0010958920869609617\n"
     ]
    },
    {
     "data": {
      "application/vnd.jupyter.widget-view+json": {
       "model_id": "f9a7f214d330441096f3dd9b0c0de036",
       "version_major": 2,
       "version_minor": 0
      },
      "text/plain": [
       "  0%|          | 0/10000 [00:00<?, ?it/s]"
      ]
     },
     "metadata": {},
     "output_type": "display_data"
    },
    {
     "name": "stdout",
     "output_type": "stream",
     "text": [
      "Std for 100000 samples \n",
      "- Brute: 0.0003486874472934178\n",
      "- Formula: 0.0003456387932799466\n"
     ]
    }
   ],
   "source": [
    "\n",
    "for K in [int(i) for i in [1e2, 1e3, 1e4, 1e5]]:\n",
    "    stat_diffs = []\n",
    "    for i in tqdm(range(10000)):\n",
    "        idxs = np.random.choice(s, (K), replace=True)\n",
    "        stat_diffs.append(np.sum(np.abs(orders_single_number_list_processed[idxs] != orders_fermat_list[idxs]))/len(idxs))\n",
    "\n",
    "    values = {**marbles, **{N: m, N_bar : m - 1, k: K}}\n",
    "    print(\"Std for {} samples \\n- Brute: {}\\n- Formula: {}\".format(K, np.std(stat_diffs), math.sqrt(V_RGB.subs(values).evalf())))"
   ]
  },
  {
   "cell_type": "code",
   "execution_count": null,
   "id": "4b092704-3ef1-4acd-aa77-5ec6589e96f8",
   "metadata": {},
   "outputs": [],
   "source": [
    "# Can I just get away with the fact that the formula nad brute STD have the same order?\n",
    "# Why is it that the brute and formula E[X] are so close, but not the variances?\n",
    "# Variance: P(even ith | odd in the jth) .... and so on. \n",
    "P(even ith [first box]| even ith row [second box]) ----- INDEPENDENT \n",
    "P(even ith [first box]| even jth row [first box]) ----- IT MIGHT NOT\n"
   ]
  },
  {
   "cell_type": "markdown",
   "id": "827441fd-6d5a-4cc0-9d2a-24e8f8d2bb09",
   "metadata": {
    "jp-MarkdownHeadingCollapsed": true,
    "tags": []
   },
   "source": [
    "## Pairs"
   ]
  },
  {
   "cell_type": "code",
   "execution_count": 110,
   "id": "54ded746-1b15-4ee3-ac25-67fe3b2476bc",
   "metadata": {
    "collapsed": true,
    "jupyter": {
     "outputs_hidden": true
    },
    "tags": []
   },
   "outputs": [
    {
     "ename": "KeyboardInterrupt",
     "evalue": "",
     "output_type": "error",
     "traceback": [
      "\u001b[1;31m---------------------------------------------------------------------------\u001b[0m",
      "\u001b[1;31mKeyboardInterrupt\u001b[0m                         Traceback (most recent call last)",
      "\u001b[1;32m~\\AppData\\Local\\Temp\\ipykernel_2032\\1816950557.py\u001b[0m in \u001b[0;36m<module>\u001b[1;34m\u001b[0m\n\u001b[1;32m----> 1\u001b[1;33m \u001b[0mpairs\u001b[0m \u001b[1;33m=\u001b[0m \u001b[0mnp\u001b[0m\u001b[1;33m.\u001b[0m\u001b[0marray\u001b[0m\u001b[1;33m(\u001b[0m\u001b[1;33m[\u001b[0m\u001b[1;33m(\u001b[0m\u001b[0mi\u001b[0m\u001b[1;33m,\u001b[0m\u001b[0mint\u001b[0m\u001b[1;33m(\u001b[0m\u001b[0mj\u001b[0m\u001b[1;33m)\u001b[0m\u001b[1;33m)\u001b[0m \u001b[1;32mfor\u001b[0m \u001b[0mi\u001b[0m\u001b[1;33m,\u001b[0m\u001b[0mj\u001b[0m \u001b[1;32min\u001b[0m \u001b[0mzip\u001b[0m\u001b[1;33m(\u001b[0m\u001b[0morders_fermat_list\u001b[0m\u001b[1;33m[\u001b[0m\u001b[1;36m1\u001b[0m\u001b[1;33m:\u001b[0m\u001b[0ms\u001b[0m\u001b[1;33m-\u001b[0m\u001b[1;36m1\u001b[0m\u001b[1;33m]\u001b[0m\u001b[1;33m,\u001b[0m \u001b[0morders_single_number_list_processed\u001b[0m\u001b[1;33m[\u001b[0m\u001b[1;36m1\u001b[0m\u001b[1;33m:\u001b[0m\u001b[0ms\u001b[0m\u001b[1;33m-\u001b[0m\u001b[1;36m1\u001b[0m\u001b[1;33m]\u001b[0m\u001b[1;33m)\u001b[0m\u001b[1;33m]\u001b[0m\u001b[1;33m,\u001b[0m \u001b[0mdtype\u001b[0m\u001b[1;33m=\u001b[0m\u001b[1;34m'i,i'\u001b[0m\u001b[1;33m)\u001b[0m\u001b[1;33m\u001b[0m\u001b[1;33m\u001b[0m\u001b[0m\n\u001b[0m\u001b[0;32m      2\u001b[0m \u001b[1;33m\u001b[0m\u001b[0m\n\u001b[0;32m      3\u001b[0m \u001b[0mpair_stats\u001b[0m \u001b[1;33m=\u001b[0m \u001b[0mnp\u001b[0m\u001b[1;33m.\u001b[0m\u001b[0munique\u001b[0m\u001b[1;33m(\u001b[0m\u001b[0mpairs\u001b[0m\u001b[1;33m,\u001b[0m \u001b[0mreturn_counts\u001b[0m\u001b[1;33m=\u001b[0m\u001b[1;32mTrue\u001b[0m\u001b[1;33m)\u001b[0m\u001b[1;33m\u001b[0m\u001b[1;33m\u001b[0m\u001b[0m\n\u001b[0;32m      4\u001b[0m \u001b[1;33m\u001b[0m\u001b[0m\n\u001b[0;32m      5\u001b[0m \u001b[0mpair_stats\u001b[0m \u001b[1;33m=\u001b[0m \u001b[1;33m{\u001b[0m\u001b[0mtuple\u001b[0m\u001b[1;33m(\u001b[0m\u001b[0mk\u001b[0m\u001b[1;33m)\u001b[0m\u001b[1;33m:\u001b[0m\u001b[0mv\u001b[0m \u001b[1;32mfor\u001b[0m \u001b[0mk\u001b[0m\u001b[1;33m,\u001b[0m\u001b[0mv\u001b[0m \u001b[1;32min\u001b[0m \u001b[0mzip\u001b[0m\u001b[1;33m(\u001b[0m\u001b[0mlist\u001b[0m\u001b[1;33m(\u001b[0m\u001b[0mpair_stats\u001b[0m\u001b[1;33m[\u001b[0m\u001b[1;36m0\u001b[0m\u001b[1;33m]\u001b[0m\u001b[1;33m)\u001b[0m\u001b[1;33m,\u001b[0m\u001b[0mlist\u001b[0m\u001b[1;33m(\u001b[0m\u001b[0mpair_stats\u001b[0m\u001b[1;33m[\u001b[0m\u001b[1;36m1\u001b[0m\u001b[1;33m]\u001b[0m\u001b[1;33m)\u001b[0m\u001b[1;33m)\u001b[0m\u001b[1;33m}\u001b[0m\u001b[1;33m\u001b[0m\u001b[1;33m\u001b[0m\u001b[0m\n",
      "\u001b[1;32m~\\AppData\\Local\\Temp\\ipykernel_2032\\1816950557.py\u001b[0m in \u001b[0;36m<listcomp>\u001b[1;34m(.0)\u001b[0m\n\u001b[1;32m----> 1\u001b[1;33m \u001b[0mpairs\u001b[0m \u001b[1;33m=\u001b[0m \u001b[0mnp\u001b[0m\u001b[1;33m.\u001b[0m\u001b[0marray\u001b[0m\u001b[1;33m(\u001b[0m\u001b[1;33m[\u001b[0m\u001b[1;33m(\u001b[0m\u001b[0mi\u001b[0m\u001b[1;33m,\u001b[0m\u001b[0mint\u001b[0m\u001b[1;33m(\u001b[0m\u001b[0mj\u001b[0m\u001b[1;33m)\u001b[0m\u001b[1;33m)\u001b[0m \u001b[1;32mfor\u001b[0m \u001b[0mi\u001b[0m\u001b[1;33m,\u001b[0m\u001b[0mj\u001b[0m \u001b[1;32min\u001b[0m \u001b[0mzip\u001b[0m\u001b[1;33m(\u001b[0m\u001b[0morders_fermat_list\u001b[0m\u001b[1;33m[\u001b[0m\u001b[1;36m1\u001b[0m\u001b[1;33m:\u001b[0m\u001b[0ms\u001b[0m\u001b[1;33m-\u001b[0m\u001b[1;36m1\u001b[0m\u001b[1;33m]\u001b[0m\u001b[1;33m,\u001b[0m \u001b[0morders_single_number_list_processed\u001b[0m\u001b[1;33m[\u001b[0m\u001b[1;36m1\u001b[0m\u001b[1;33m:\u001b[0m\u001b[0ms\u001b[0m\u001b[1;33m-\u001b[0m\u001b[1;36m1\u001b[0m\u001b[1;33m]\u001b[0m\u001b[1;33m)\u001b[0m\u001b[1;33m]\u001b[0m\u001b[1;33m,\u001b[0m \u001b[0mdtype\u001b[0m\u001b[1;33m=\u001b[0m\u001b[1;34m'i,i'\u001b[0m\u001b[1;33m)\u001b[0m\u001b[1;33m\u001b[0m\u001b[1;33m\u001b[0m\u001b[0m\n\u001b[0m\u001b[0;32m      2\u001b[0m \u001b[1;33m\u001b[0m\u001b[0m\n\u001b[0;32m      3\u001b[0m \u001b[0mpair_stats\u001b[0m \u001b[1;33m=\u001b[0m \u001b[0mnp\u001b[0m\u001b[1;33m.\u001b[0m\u001b[0munique\u001b[0m\u001b[1;33m(\u001b[0m\u001b[0mpairs\u001b[0m\u001b[1;33m,\u001b[0m \u001b[0mreturn_counts\u001b[0m\u001b[1;33m=\u001b[0m\u001b[1;32mTrue\u001b[0m\u001b[1;33m)\u001b[0m\u001b[1;33m\u001b[0m\u001b[1;33m\u001b[0m\u001b[0m\n\u001b[0;32m      4\u001b[0m \u001b[1;33m\u001b[0m\u001b[0m\n\u001b[0;32m      5\u001b[0m \u001b[0mpair_stats\u001b[0m \u001b[1;33m=\u001b[0m \u001b[1;33m{\u001b[0m\u001b[0mtuple\u001b[0m\u001b[1;33m(\u001b[0m\u001b[0mk\u001b[0m\u001b[1;33m)\u001b[0m\u001b[1;33m:\u001b[0m\u001b[0mv\u001b[0m \u001b[1;32mfor\u001b[0m \u001b[0mk\u001b[0m\u001b[1;33m,\u001b[0m\u001b[0mv\u001b[0m \u001b[1;32min\u001b[0m \u001b[0mzip\u001b[0m\u001b[1;33m(\u001b[0m\u001b[0mlist\u001b[0m\u001b[1;33m(\u001b[0m\u001b[0mpair_stats\u001b[0m\u001b[1;33m[\u001b[0m\u001b[1;36m0\u001b[0m\u001b[1;33m]\u001b[0m\u001b[1;33m)\u001b[0m\u001b[1;33m,\u001b[0m\u001b[0mlist\u001b[0m\u001b[1;33m(\u001b[0m\u001b[0mpair_stats\u001b[0m\u001b[1;33m[\u001b[0m\u001b[1;36m1\u001b[0m\u001b[1;33m]\u001b[0m\u001b[1;33m)\u001b[0m\u001b[1;33m)\u001b[0m\u001b[1;33m}\u001b[0m\u001b[1;33m\u001b[0m\u001b[1;33m\u001b[0m\u001b[0m\n",
      "\u001b[1;31mKeyboardInterrupt\u001b[0m: "
     ]
    }
   ],
   "source": [
    "pairs = np.array([(i,int(j)) for i,j in zip(orders_fermat_list[1:s-1], orders_single_number_list_processed[1:s-1])], dtype='i,i')\n",
    "\n",
    "pair_stats = np.unique(pairs, return_counts=True)\n",
    "\n",
    "pair_stats = {tuple(k):v for k,v in zip(list(pair_stats[0]),list(pair_stats[1]))}"
   ]
  },
  {
   "cell_type": "code",
   "execution_count": 135,
   "id": "0f58d15e-2bda-43f8-b298-0bf781cb07a4",
   "metadata": {},
   "outputs": [],
   "source": [
    "for i in [-1,0,1]:\n",
    "    for j in [-1,0,1]:\n",
    "        if (i,j) not in list(pair_stats.keys()):\n",
    "            pair_stats[(i,j)] = 0"
   ]
  },
  {
   "cell_type": "code",
   "execution_count": 124,
   "id": "27c789de-c8c6-467a-99f8-3dfcba003386",
   "metadata": {},
   "outputs": [],
   "source": [
    "total_pairs = sum(pair_stats.values())"
   ]
  },
  {
   "cell_type": "code",
   "execution_count": 136,
   "id": "59a2cab8-2faa-4299-9a87-3feb98038de8",
   "metadata": {},
   "outputs": [
    {
     "data": {
      "text/plain": [
       "{(0, -1): 474,\n",
       " (0, 0): 30,\n",
       " (0, 1): 65288,\n",
       " (1, -1): 131050,\n",
       " (1, 0): 8124,\n",
       " (1, 1): 16638041,\n",
       " (-1, -1): 0,\n",
       " (-1, 0): 0,\n",
       " (-1, 1): 0}"
      ]
     },
     "execution_count": 136,
     "metadata": {},
     "output_type": "execute_result"
    }
   ],
   "source": [
    "pair_stats"
   ]
  },
  {
   "cell_type": "code",
   "execution_count": 115,
   "id": "17b24bbe-969a-4849-bda9-c8b9f44d3dec",
   "metadata": {},
   "outputs": [],
   "source": [
    "def indicate(label, pair_stats):\n",
    "    \n",
    "    count_true = 0\n",
    "    count_false = 0\n",
    "    for k,v in pair_stats.items():\n",
    "        if ((k[0] != k[1]) and (label in k)):\n",
    "            count_true += v\n",
    "        else:\n",
    "            count_false += v\n",
    "    \n",
    "    return {\"mismatch_wrt_{}\".format(str(label)): count_true, \"matching_wrt_{}\".format(str(label)): count_false}"
   ]
  },
  {
   "cell_type": "code",
   "execution_count": 229,
   "id": "3a76b0c4-a78a-43d2-a88e-635266eadc96",
   "metadata": {},
   "outputs": [],
   "source": [
    "def indicate_double(label1, label2, pair_stats):\n",
    "    \n",
    "    keys = list(pair_stats.keys())\n",
    "    keys_label1 = set([k for k in keys  if ((k[0] != k[1]) and (label1 in k))])\n",
    "    keys_label2 = set([k for k in keys  if ((k[0] != k[1]) and (label2 in k))])\n",
    "    keys_intersection = keys_label1 and keys_label2\n",
    "    \n",
    "    prob_double = 0 \n",
    "    prob_single = 0\n",
    "    \n",
    "    for k in list(keys_intersection):\n",
    "        prob_single += pair_stats[k]\n",
    "\n",
    "    \n",
    "    for k1 in list(keys_label1):\n",
    "        if k1 not in keys_intersection:\n",
    "            for k2 in list(keys_label2): \n",
    "                prob_double+= pair_stats[k1]*pair_stats[k2]\n",
    "        else:\n",
    "            for k2 in list(keys_label2 - {k1}):\n",
    "                prob_double += pair_stats[k1]*pair_stats[k2]\n",
    "            prob_double += pair_stats[k1]*(pair_stats[k1]-1)\n",
    "    \n",
    "    return (prob_double/((total_pairs)*(total_pairs-1)), prob_single/total_pairs)\n"
   ]
  },
  {
   "cell_type": "code",
   "execution_count": 157,
   "id": "5218a9ba-3ecb-443c-ad4d-02f6d3b691b2",
   "metadata": {},
   "outputs": [],
   "source": [
    "K = 100"
   ]
  },
  {
   "cell_type": "markdown",
   "id": "f6e66e6b-a799-4b4e-aea5-8fb355034379",
   "metadata": {
    "tags": []
   },
   "source": [
    "### Expenses"
   ]
  },
  {
   "cell_type": "code",
   "execution_count": 171,
   "id": "5dae9934-3c8c-46d7-8e36-05ea7d9fe225",
   "metadata": {},
   "outputs": [],
   "source": [
    "weeks_remaining = 21\n",
    "\n",
    "salary = 1250\n",
    "\n",
    "rent = 800\n",
    "\n",
    "rent_alt = 550\n",
    "\n",
    "flights = 200\n",
    "\n",
    "groceries = 100\n",
    "\n",
    "other = 140\n",
    "\n",
    "other_alt = 160 \n",
    "\n",
    "savings_current = 11552 + 200\n",
    "\n",
    "quad = 50000\n",
    "\n",
    "ucla_fee = 55916 + 350\n",
    "\n",
    "ucla_accom = 1464\n",
    "\n",
    "ucla_food = 3732\n",
    "\n"
   ]
  },
  {
   "cell_type": "code",
   "execution_count": 172,
   "id": "7f569fc9-f084-4eec-b6a6-6dd35882f448",
   "metadata": {},
   "outputs": [],
   "source": [
    "apr = 2*(salary - other)\n",
    "may = 4*(salary - other) - (flights + rent + groceries) - abs(other-other_alt)\n",
    "jun = 4*(salary - other) - (flights/2 + rent + groceries) - abs(other-other_alt)\n",
    "jul = 4*(salary - other) - (flights + rent + groceries) - abs(other-other_alt)\n",
    "aug = 4*(salary - other) - (flights + rent + groceries) - abs(other-other_alt)\n",
    "sept = 3*(salary - other)\n",
    "\n",
    "apr_alt = 2*(salary - other_alt - groceries - rent_alt) \n",
    "may_alt = 4*(salary - other_alt - groceries - rent_alt)\n",
    "jun_alt = 4*(salary - other_alt - groceries - rent_alt)\n",
    "jul_alt = 4*(salary - other_alt - groceries - rent_alt)\n",
    "aug_alt = 4*(salary - other_alt - groceries - rent_alt)\n",
    "sept_alt = 2*(salary - other_alt - groceries - rent_alt) + (salary - other)\n",
    "\n"
   ]
  },
  {
   "cell_type": "code",
   "execution_count": 173,
   "id": "4976f630-f758-4625-bb57-709a5f99828e",
   "metadata": {},
   "outputs": [],
   "source": [
    "may_to_sept = apr + may + jun + jul + aug + sept\n",
    "may_to_sept_alt = apr_alt + may_alt + jun_alt + jul_alt + aug_alt + sept_alt"
   ]
  },
  {
   "cell_type": "code",
   "execution_count": 174,
   "id": "f92f45c3-e180-4f22-accc-8d69210bb798",
   "metadata": {},
   "outputs": [],
   "source": [
    "savings_final = savings_current + may_to_sept"
   ]
  },
  {
   "cell_type": "code",
   "execution_count": 175,
   "id": "c4f68711-1451-4549-8b0f-9f17aa306039",
   "metadata": {},
   "outputs": [],
   "source": [
    "savings_final_alt = savings_current + may_to_sept_alt"
   ]
  },
  {
   "cell_type": "code",
   "execution_count": 176,
   "id": "a204dc18-2693-4c2b-8e0c-f556583abed0",
   "metadata": {},
   "outputs": [],
   "source": [
    "savings_USD = 0.67*(savings_final)"
   ]
  },
  {
   "cell_type": "code",
   "execution_count": 177,
   "id": "c8ec9fbf-917c-4ab8-ae17-542149770a50",
   "metadata": {},
   "outputs": [],
   "source": [
    "savings_USD_alt = 0.67*(savings_final_alt)"
   ]
  },
  {
   "cell_type": "code",
   "execution_count": 178,
   "id": "c63b65d6-4bcb-49ad-b731-4961c65c7eb6",
   "metadata": {},
   "outputs": [
    {
     "data": {
      "text/plain": [
       "20556.940000000002"
      ]
     },
     "execution_count": 178,
     "metadata": {},
     "output_type": "execute_result"
    }
   ],
   "source": [
    "savings_USD"
   ]
  },
  {
   "cell_type": "code",
   "execution_count": 179,
   "id": "e4e18327-4ad9-4ccc-94c0-7f70e2309096",
   "metadata": {},
   "outputs": [
    {
     "data": {
      "text/plain": [
       "14513.54"
      ]
     },
     "execution_count": 179,
     "metadata": {},
     "output_type": "execute_result"
    }
   ],
   "source": [
    "savings_USD_alt"
   ]
  },
  {
   "cell_type": "code",
   "execution_count": 180,
   "id": "8826a740-cd1f-4673-aeb2-4cf32c2ef49d",
   "metadata": {},
   "outputs": [
    {
     "data": {
      "text/plain": [
       "6043.4000000000015"
      ]
     },
     "execution_count": 180,
     "metadata": {},
     "output_type": "execute_result"
    }
   ],
   "source": [
    "savings_USD - savings_USD_alt"
   ]
  },
  {
   "cell_type": "code",
   "execution_count": 144,
   "id": "f8311e43-c442-43ce-ac91-549418f06a78",
   "metadata": {},
   "outputs": [],
   "source": [
    "income_USD = ((4*(21 * 7))*12)"
   ]
  },
  {
   "cell_type": "code",
   "execution_count": 145,
   "id": "9a4afbee-3193-4544-bb3b-41b9fa4fbede",
   "metadata": {},
   "outputs": [
    {
     "data": {
      "text/plain": [
       "117.29000000000815"
      ]
     },
     "execution_count": 145,
     "metadata": {},
     "output_type": "execute_result"
    }
   ],
   "source": [
    "((income_USD + savings_USD + quad) - ucla_fee - 12*ucla_accom - ucla_food)"
   ]
  },
  {
   "cell_type": "markdown",
   "id": "6c1823f1-fecb-4678-9944-17a5ba1478e0",
   "metadata": {
    "tags": []
   },
   "source": [
    "### Double Expectancies"
   ]
  },
  {
   "cell_type": "code",
   "execution_count": 244,
   "id": "86856fa2-9bb5-46fd-bb63-cf35c0652a9c",
   "metadata": {},
   "outputs": [],
   "source": [
    "p_11_double = {}\n",
    "p_1_double = {}\n",
    "\n",
    "for l1,l2 in zip([0,1,1],[-1,0,-1]):\n",
    "    label = (l1,l2)\n",
    "\n",
    "    p_11_double[label], p_1_double[label] = indicate_double(*label, pair_stats)\n"
   ]
  },
  {
   "cell_type": "code",
   "execution_count": 245,
   "id": "1f9f5db5-96c6-424c-a559-459b87b4049e",
   "metadata": {},
   "outputs": [],
   "source": [
    "E_RG_numerical = (K*(K-1)/2)*p_11_double[(0,-1)] + K*p_1_double[(0,-1)] "
   ]
  },
  {
   "cell_type": "code",
   "execution_count": 246,
   "id": "b9bd3955-249a-4a73-8da6-db501bbb332c",
   "metadata": {},
   "outputs": [],
   "source": [
    "E_BR_numerical = (K*(K-1)/2)*p_11_double[(1,0)] + K*p_1_double[(1,0)] "
   ]
  },
  {
   "cell_type": "code",
   "execution_count": 247,
   "id": "b005d341-2920-4685-b30e-401f7e667240",
   "metadata": {},
   "outputs": [],
   "source": [
    "E_BG_numerical = (K*(K-1)/2)*p_11_double[(1,-1)] + K*p_1_double[(1,-1)] "
   ]
  },
  {
   "cell_type": "code",
   "execution_count": 252,
   "id": "0d8bb0fe-76df-4ab2-976d-0efa562822ad",
   "metadata": {},
   "outputs": [
    {
     "name": "stdout",
     "output_type": "stream",
     "text": [
      "0.728547205813336\n",
      "0.729594430429145\n",
      "2.77780132855809\n"
     ]
    }
   ],
   "source": [
    "print(E_BG_numerical/E_BG_simplify.subs(values).evalf())\n",
    "print(E_BR_numerical/E_BR_simplify.subs(values).evalf())\n",
    "print(E_RG_numerical/E_RG_simplify.subs(values).evalf())"
   ]
  },
  {
   "cell_type": "markdown",
   "id": "c9452355-a949-476f-aad7-cfb156c034b3",
   "metadata": {
    "tags": []
   },
   "source": [
    "### Single Expectancies"
   ]
  },
  {
   "cell_type": "code",
   "execution_count": 233,
   "id": "37251e1f-6637-4a43-abaf-7834c17058d0",
   "metadata": {},
   "outputs": [],
   "source": [
    "mismatch_counts = {}\n",
    "mismatches = {}\n",
    "p_11_wrt = {}\n",
    "p_1_wrt = {}\n",
    "\n",
    "for label in [-1,0,1]:\n",
    "    mismatch_counts[label] = indicate(label, pair_stats)\n",
    "\n",
    "    mismatches[label] = mismatch_counts[label][\"mismatch_wrt_{}\".format(str(label))]\n",
    "\n",
    "    p_11_wrt[label] = (mismatches[label]*(mismatches[label]-1))/(total_pairs*(total_pairs-1))\n",
    "    \n",
    "    p_1_wrt[label] = (mismatches[label])/(total_pairs)\n",
    "\n"
   ]
  },
  {
   "cell_type": "code",
   "execution_count": 253,
   "id": "33cea201-f156-42a3-9766-b10dcc0a1acb",
   "metadata": {},
   "outputs": [
    {
     "name": "stdout",
     "output_type": "stream",
     "text": [
      "1.00005415732828\n",
      "0.848666294083109\n"
     ]
    }
   ],
   "source": [
    "E_RR_numerical = (K*(K-1)/2)*p_11_wrt[0] + K*p_1_wrt[0]\n",
    "\n",
    "E_R_numerical = K*p_1_wrt[0]\n",
    "\n",
    "print(E_R_numerical/E_R.subs(values).evalf())\n",
    "\n",
    "print(E_RR_numerical/E_RR_simplify.subs(values).evalf())"
   ]
  },
  {
   "cell_type": "code",
   "execution_count": 255,
   "id": "3409bd83-2223-4115-9414-97ecc99aed50",
   "metadata": {},
   "outputs": [
    {
     "name": "stdout",
     "output_type": "stream",
     "text": [
      "1.00000558953054\n",
      "0.782003437036084\n"
     ]
    }
   ],
   "source": [
    "E_GG_numerical = (K*(K-1)/2)*p_11_wrt[-1] + K*p_1_wrt[-1]\n",
    "\n",
    "E_G_numerical = K*p_1_wrt[-1]\n",
    "\n",
    "print(E_G_numerical/E_G.subs(values).evalf())\n",
    "\n",
    "print(E_GG_numerical/E_GG_simplify.subs(values).evalf())"
   ]
  },
  {
   "cell_type": "code",
   "execution_count": 256,
   "id": "9ae68eb9-befb-4742-8c44-abba07a8af63",
   "metadata": {},
   "outputs": [
    {
     "name": "stdout",
     "output_type": "stream",
     "text": [
      "1.00040744359118\n",
      "0.727546615626610\n"
     ]
    }
   ],
   "source": [
    "E_BB_numerical = (K*(K-1)/2)*p_11_wrt[1] + K*p_1_wrt[1]\n",
    "\n",
    "E_B_numerical = K*p_1_wrt[1]\n",
    "\n",
    "print(E_B_numerical/E_B.subs(values).evalf())\n",
    "\n",
    "print(E_BB_numerical/E_BB_simplify.subs(values).evalf())"
   ]
  },
  {
   "cell_type": "code",
   "execution_count": 179,
   "id": "50a595a3-9fc8-4134-8f5c-c8a5c5800034",
   "metadata": {},
   "outputs": [
    {
     "data": {
      "text/latex": [
       "$\\displaystyle 0.0121648109150719$"
      ],
      "text/plain": [
       "0.0121648109150719"
      ]
     },
     "execution_count": 179,
     "metadata": {},
     "output_type": "execute_result"
    }
   ],
   "source": [
    "E_RGB.subs(values).evalf()"
   ]
  },
  {
   "cell_type": "code",
   "execution_count": 201,
   "id": "2e5cdbe0-acd0-4e7f-b235-e26b25e38884",
   "metadata": {},
   "outputs": [
    {
     "data": {
      "text/plain": [
       "0.012167423548538572"
      ]
     },
     "execution_count": 201,
     "metadata": {},
     "output_type": "execute_result"
    }
   ],
   "source": [
    "(E_B_numerical + E_G_numerical + E_R_numerical)/(2*K)"
   ]
  },
  {
   "cell_type": "code",
   "execution_count": 259,
   "id": "b4d62df7-ed67-436b-899e-ed7b54029658",
   "metadata": {},
   "outputs": [],
   "source": [
    "V_R_numerical =  E_RR_numerical - (E_R_numerical)**2"
   ]
  },
  {
   "cell_type": "code",
   "execution_count": 289,
   "id": "93e6ad7d-d6f3-4655-ab8f-306a6c8e3138",
   "metadata": {},
   "outputs": [
    {
     "data": {
      "text/plain": [
       "0.7808819410928227"
      ]
     },
     "execution_count": 289,
     "metadata": {},
     "output_type": "execute_result"
    }
   ],
   "source": [
    "E_G_numerical"
   ]
  },
  {
   "cell_type": "code",
   "execution_count": 290,
   "id": "e99eb9c2-02d0-4330-81ac-a92f763dc26d",
   "metadata": {},
   "outputs": [
    {
     "data": {
      "text/latex": [
       "$\\displaystyle 0.780877576353759$"
      ],
      "text/plain": [
       "0.780877576353759"
      ]
     },
     "execution_count": 290,
     "metadata": {},
     "output_type": "execute_result"
    }
   ],
   "source": [
    "E_G.subs(values).evalf()"
   ]
  },
  {
   "cell_type": "code",
   "execution_count": 260,
   "id": "7ef6b98e-1fd4-454b-9565-2c9cfce0c657",
   "metadata": {},
   "outputs": [],
   "source": [
    "V_G_numerical =  E_GG_numerical - (E_G_numerical)**2"
   ]
  },
  {
   "cell_type": "code",
   "execution_count": 261,
   "id": "4c1caf78-9a7f-4e5f-9410-9ed193735653",
   "metadata": {},
   "outputs": [],
   "source": [
    "V_B_numerical =  E_BB_numerical - (E_B_numerical)**2"
   ]
  },
  {
   "cell_type": "code",
   "execution_count": 269,
   "id": "a081df36-c09d-484b-b770-db3c3f02b789",
   "metadata": {},
   "outputs": [],
   "source": [
    "V_BR_numerical = E_BR_numerical - E_B_numerical*E_R_numerical"
   ]
  },
  {
   "cell_type": "code",
   "execution_count": 270,
   "id": "8740190f-019d-483f-afae-ba0cd2831fdf",
   "metadata": {},
   "outputs": [],
   "source": [
    "V_BG_numerical = E_BG_numerical - E_B_numerical*E_G_numerical"
   ]
  },
  {
   "cell_type": "code",
   "execution_count": 271,
   "id": "2a988469-f53c-4244-a2d6-55a635f73b59",
   "metadata": {},
   "outputs": [],
   "source": [
    "V_RG_numerical = E_RG_numerical - E_R_numerical*E_G_numerical"
   ]
  },
  {
   "cell_type": "code",
   "execution_count": 272,
   "id": "f267823a-9590-4b01-9fb7-e5d67b17a2e3",
   "metadata": {},
   "outputs": [],
   "source": [
    "V_RGB_numerical = V_G_numerical + V_B_numerical + V_R_numerical + V_BG_numerical + V_BR_numerical + V_RG_numerical"
   ]
  },
  {
   "cell_type": "code",
   "execution_count": 279,
   "id": "bd280533-4d0e-4fa5-8302-4e1a7cb202d0",
   "metadata": {},
   "outputs": [],
   "source": [
    "V_RGB_numerical = V_RGB_numerical/(4*K**2)"
   ]
  },
  {
   "cell_type": "code",
   "execution_count": 281,
   "id": "df760ffa-4971-47dd-8e6e-59a909333722",
   "metadata": {},
   "outputs": [
    {
     "data": {
      "text/plain": [
       "0.00038438246526800615"
      ]
     },
     "execution_count": 281,
     "metadata": {},
     "output_type": "execute_result"
    }
   ],
   "source": [
    "np.sqrt(V_RGB_numerical)"
   ]
  },
  {
   "cell_type": "code",
   "execution_count": 503,
   "id": "43b7dc67-77f6-4cc7-94ec-bc107e05fe30",
   "metadata": {},
   "outputs": [
    {
     "data": {
      "text/plain": [
       "0.009497960228209337"
      ]
     },
     "execution_count": 503,
     "metadata": {},
     "output_type": "execute_result"
    }
   ],
   "source": [
    "math.sqrt(float(V_RGB.subs(values).evalf()))"
   ]
  },
  {
   "cell_type": "code",
   "execution_count": 504,
   "id": "274d4449-2b70-47f4-8fff-ef2e0cb354c2",
   "metadata": {},
   "outputs": [
    {
     "data": {
      "text/plain": [
       "0.010901376059929316"
      ]
     },
     "execution_count": 504,
     "metadata": {},
     "output_type": "execute_result"
    }
   ],
   "source": [
    "np.std(stat_diffs)"
   ]
  },
  {
   "cell_type": "code",
   "execution_count": 505,
   "id": "580de49e-392b-4f3c-97e4-a108d7caa018",
   "metadata": {},
   "outputs": [
    {
     "data": {
      "application/vnd.jupyter.widget-view+json": {
       "model_id": "64070afcb4fa41aea1807e2042dc6d07",
       "version_major": 2,
       "version_minor": 0
      },
      "text/plain": [
       "  0%|          | 0/1000 [00:00<?, ?it/s]"
      ]
     },
     "metadata": {},
     "output_type": "display_data"
    }
   ],
   "source": [
    "stat_diffs_squared = []\n",
    "for i in tqdm(range(1000)):\n",
    "    idxs = np.random.choice(s, (K), replace=True)\n",
    "    stat_diffs_squared.append((np.sum(np.abs(orders_single_number_list_processed[idxs] != orders_fermat_list[idxs]))/len(idxs))**2)"
   ]
  },
  {
   "cell_type": "code",
   "execution_count": 511,
   "id": "5d2a9e3e-1744-4437-9673-b289077b42e7",
   "metadata": {},
   "outputs": [
    {
     "data": {
      "text/plain": [
       "0.0002818000000000001"
      ]
     },
     "execution_count": 511,
     "metadata": {},
     "output_type": "execute_result"
    }
   ],
   "source": [
    "np.mean(stat_diffs_squared)"
   ]
  },
  {
   "cell_type": "markdown",
   "id": "26bbbaf6-8588-48ed-bedf-b3999ba29fa5",
   "metadata": {
    "jp-MarkdownHeadingCollapsed": true,
    "tags": []
   },
   "source": [
    "# Bounds on Variance"
   ]
  },
  {
   "cell_type": "code",
   "execution_count": 542,
   "id": "b500e4de-0f09-4076-b4aa-f2833ed04754",
   "metadata": {},
   "outputs": [
    {
     "data": {
      "text/latex": [
       "$\\displaystyle \\overline{N}$"
      ],
      "text/plain": [
       "\\overline{N}"
      ]
     },
     "execution_count": 542,
     "metadata": {},
     "output_type": "execute_result"
    }
   ],
   "source": [
    "N_bar"
   ]
  },
  {
   "cell_type": "code",
   "execution_count": 557,
   "id": "17e1a1cf-7a7b-4598-9452-71626b93eb3c",
   "metadata": {},
   "outputs": [
    {
     "data": {
      "text/latex": [
       "$\\displaystyle 2.20449734938852 \\cdot 10^{-12}$"
      ],
      "text/plain": [
       "2.20449734938852e-12"
      ]
     },
     "execution_count": 557,
     "metadata": {},
     "output_type": "execute_result"
    }
   ],
   "source": [
    "V_RGB.expand().subs({N_bar: N-1, k:N}).subs(values).evalf()"
   ]
  },
  {
   "cell_type": "code",
   "execution_count": 553,
   "id": "5e835459-ce88-4285-a410-23453fe4accd",
   "metadata": {},
   "outputs": [
    {
     "data": {
      "text/plain": [
       "{G_1: 133257,\n",
       " R_1: 8261,\n",
       " B_1: 16923639,\n",
       " G_2: 1,\n",
       " R_2: 66660,\n",
       " B_2: 16998495,\n",
       " N: 17065157,\n",
       " \\overline{N}: 17065156,\n",
       " k: 100000}"
      ]
     },
     "execution_count": 553,
     "metadata": {},
     "output_type": "execute_result"
    }
   ],
   "source": [
    "values"
   ]
  },
  {
   "cell_type": "code",
   "execution_count": null,
   "id": "1ed9730a-acaa-493b-b9e9-79268f19ce6f",
   "metadata": {},
   "outputs": [],
   "source": []
  },
  {
   "cell_type": "code",
   "execution_count": 611,
   "id": "21e08621-a1aa-4b45-a777-e38ac4886fd0",
   "metadata": {},
   "outputs": [
    {
     "data": {
      "text/plain": [
       "array([1.e+02, 1.e+03, 1.e+04, 1.e+05, 1.e+06, 1.e+07])"
      ]
     },
     "execution_count": 611,
     "metadata": {},
     "output_type": "execute_result"
    }
   ],
   "source": [
    "np.logspace(2,7,6)"
   ]
  },
  {
   "cell_type": "code",
   "execution_count": 635,
   "id": "ee17f860-f9fc-4663-a1dc-1fb94ca40a32",
   "metadata": {
    "tags": []
   },
   "outputs": [
    {
     "data": {
      "application/vnd.jupyter.widget-view+json": {
       "model_id": "3d3e670296084823b126a8cc1c12294e",
       "version_major": 2,
       "version_minor": 0
      },
      "text/plain": [
       "  0%|          | 0/6 [00:00<?, ?it/s]"
      ]
     },
     "metadata": {},
     "output_type": "display_data"
    },
    {
     "name": "stdout",
     "output_type": "stream",
     "text": [
      "998812807\n",
      "2504001551\n",
      "6295311613\n",
      "15708611531\n",
      "39769532893\n",
      "99986866813\n"
     ]
    }
   ],
   "source": [
    "\n",
    "xs = np.logspace(9, 11, 6)\n",
    "\n",
    "\n",
    "ys = []\n",
    "for i in tqdm(xs):\n",
    "    n, _ = generate_semiprime(int(i), 5)#11021 #small_evenness[-1]\n",
    "    print(n)\n",
    "    s = N_fermat\n",
    "    m = max([n,s])\n",
    "    counts = {(k,i): int(m*v) for i in [n,s] for k,v in order_stats_formula(i).items()}\n",
    "    \n",
    "    marbles = dict(zip([G1, R1, B1, G2, R2, B2], list(counts.values())))\n",
    "    \n",
    "    values = {**marbles, **{N: m, N_bar : m - 1, k: m}}\n",
    "    ys.append(V_RGB.expand().subs(values).evalf())\n",
    "    \n"
   ]
  },
  {
   "cell_type": "code",
   "execution_count": 636,
   "id": "63a35ecb-1aa0-4e0b-a370-411815855656",
   "metadata": {},
   "outputs": [
    {
     "data": {
      "text/plain": [
       "[<matplotlib.lines.Line2D at 0x1e780254b48>]"
      ]
     },
     "execution_count": 636,
     "metadata": {},
     "output_type": "execute_result"
    },
    {
     "data": {
      "image/png": "[encoded data removed]",
      "text/plain": [
       "<Figure size 640x480 with 1 Axes>"
      ]
     },
     "metadata": {},
     "output_type": "display_data"
    }
   ],
   "source": [
    "plt.plot(xs,ys)"
   ]
  },
  {
   "cell_type": "code",
   "execution_count": 637,
   "id": "6e65ea80-2c37-40fc-b2d3-7e14fae40234",
   "metadata": {},
   "outputs": [
    {
     "data": {
      "text/latex": [
       "$\\displaystyle 1.17910962769769 \\cdot 10^{-15}$"
      ],
      "text/plain": [
       "1.17910962769769e-15"
      ]
     },
     "execution_count": 637,
     "metadata": {},
     "output_type": "execute_result"
    }
   ],
   "source": [
    "ys[-1]"
   ]
  },
  {
   "cell_type": "code",
   "execution_count": 638,
   "id": "de84c0fb-ddad-4f6e-b8e6-baaea2d89350",
   "metadata": {},
   "outputs": [
    {
     "data": {
      "text/latex": [
       "$\\displaystyle 1.18888833222333 \\cdot 10^{-13}$"
      ],
      "text/plain": [
       "1.18888833222333e-13"
      ]
     },
     "execution_count": 638,
     "metadata": {},
     "output_type": "execute_result"
    }
   ],
   "source": [
    "ys[0]"
   ]
  },
  {
   "cell_type": "code",
   "execution_count": 643,
   "id": "638de623-1955-4220-b4ed-491c19cba03a",
   "metadata": {},
   "outputs": [
    {
     "data": {
      "text/latex": [
       "$\\displaystyle 1.17910962769769 \\cdot 10^{-15}$"
      ],
      "text/plain": [
       "1.17910962769769e-15"
      ]
     },
     "execution_count": 643,
     "metadata": {},
     "output_type": "execute_result"
    }
   ],
   "source": [
    "V_RGB.expand().subs({k: m}).subs(values).evalf()"
   ]
  },
  {
   "cell_type": "code",
   "execution_count": 644,
   "id": "074863f0-386a-4686-8ff7-3944e244e87e",
   "metadata": {},
   "outputs": [
    {
     "data": {
      "text/latex": [
       "$\\displaystyle 1.17910962769769 \\cdot 10^{-15}$"
      ],
      "text/plain": [
       "1.17910962769769e-15"
      ]
     },
     "execution_count": 644,
     "metadata": {},
     "output_type": "execute_result"
    }
   ],
   "source": [
    "V_RGB.expand().subs({k: m}).subs(values).evalf()"
   ]
  },
  {
   "cell_type": "code",
   "execution_count": 656,
   "id": "27b8f9c3-35ef-46e3-9fab-601ef5b4360a",
   "metadata": {
    "tags": []
   },
   "outputs": [
    {
     "data": {
      "text/latex": [
       "$\\displaystyle - \\frac{B_{1}^{2} B_{2}^{2}}{N^{5}} + \\frac{3 B_{1}^{2} B_{2}}{4 N^{4}} + \\frac{B_{1}^{2} B_{2}}{4 N^{5}} - \\frac{B_{1}^{2}}{4 N^{3}} + \\frac{3 B_{1} B_{2}^{2}}{4 N^{4}} + \\frac{B_{1} B_{2}^{2}}{4 N^{5}} - \\frac{2 B_{1} B_{2} G_{1} G_{2}}{N^{5}} + \\frac{B_{1} B_{2} G_{1}}{N^{4}} + \\frac{B_{1} B_{2} G_{2}}{N^{4}} - \\frac{B_{1} B_{2}}{N^{4}} + \\frac{B_{1} G_{1} G_{2}}{N^{4}} - \\frac{B_{1} G_{1}}{2 N^{3}} - \\frac{B_{1} G_{2}}{2 N^{3}} + \\frac{B_{1} G_{2}}{2 N^{4}} + \\frac{B_{1}}{4 N^{3}} - \\frac{B_{2}^{2}}{4 N^{3}} + \\frac{B_{2} G_{1} G_{2}}{N^{4}} - \\frac{B_{2} G_{1}}{2 N^{3}} + \\frac{B_{2} G_{1}}{2 N^{4}} - \\frac{B_{2} G_{2}}{2 N^{3}} + \\frac{B_{2}}{4 N^{3}} - \\frac{G_{1}^{2} G_{2}^{2}}{N^{5}} + \\frac{3 G_{1}^{2} G_{2}}{4 N^{4}} + \\frac{G_{1}^{2} G_{2}}{4 N^{5}} - \\frac{G_{1}^{2}}{4 N^{3}} + \\frac{3 G_{1} G_{2}^{2}}{4 N^{4}} + \\frac{G_{1} G_{2}^{2}}{4 N^{5}} - \\frac{G_{1} G_{2}}{N^{4}} + \\frac{G_{1}}{4 N^{3}} - \\frac{G_{2}^{2}}{4 N^{3}} + \\frac{G_{2}}{4 N^{3}}$"
      ],
      "text/plain": [
       "-B_1**2*B_2**2/N**5 + 3*B_1**2*B_2/(4*N**4) + B_1**2*B_2/(4*N**5) - B_1**2/(4*N**3) + 3*B_1*B_2**2/(4*N**4) + B_1*B_2**2/(4*N**5) - 2*B_1*B_2*G_1*G_2/N**5 + B_1*B_2*G_1/N**4 + B_1*B_2*G_2/N**4 - B_1*B_2/N**4 + B_1*G_1*G_2/N**4 - B_1*G_1/(2*N**3) - B_1*G_2/(2*N**3) + B_1*G_2/(2*N**4) + B_1/(4*N**3) - B_2**2/(4*N**3) + B_2*G_1*G_2/N**4 - B_2*G_1/(2*N**3) + B_2*G_1/(2*N**4) - B_2*G_2/(2*N**3) + B_2/(4*N**3) - G_1**2*G_2**2/N**5 + 3*G_1**2*G_2/(4*N**4) + G_1**2*G_2/(4*N**5) - G_1**2/(4*N**3) + 3*G_1*G_2**2/(4*N**4) + G_1*G_2**2/(4*N**5) - G_1*G_2/N**4 + G_1/(4*N**3) - G_2**2/(4*N**3) + G_2/(4*N**3)"
      ]
     },
     "execution_count": 656,
     "metadata": {},
     "output_type": "execute_result"
    }
   ],
   "source": [
    "V_RGB.expand().subs({R1:0, R2:0,k:N, N_bar:N})"
   ]
  },
  {
   "cell_type": "code",
   "execution_count": 705,
   "id": "2e2a207c-dcb2-4158-9c4c-67368da20373",
   "metadata": {},
   "outputs": [
    {
     "data": {
      "text/latex": [
       "$\\displaystyle - \\frac{0.25 B_{1}^{2} B_{2}}{N^{2} S^{2}} - \\frac{0.25 B_{1} B_{2}^{2}}{N^{2} S^{2}} - \\frac{B_{1} B_{2} G_{1}}{N S^{2}} + \\frac{B_{1} B_{2} G_{1}}{N^{2} S} - \\frac{B_{1} B_{2} R_{1}}{N S^{2}} + \\frac{0.5 B_{1} B_{2}}{N S^{2}} + \\frac{B_{1} B_{2} R_{1}}{N^{2} S} + \\frac{0.5 B_{1} B_{2}}{N^{2} S} - \\frac{B_{1} G_{1} G_{2}}{N S^{2}} + \\frac{B_{1} G_{1} G_{2}}{N^{2} S} + \\frac{0.5 B_{1} G_{1}}{S^{2}} - \\frac{0.5 B_{1} G_{1}}{N^{2}} + \\frac{0.5 B_{1} G_{2}}{S^{2}} - \\frac{0.5 B_{1} G_{2}}{N S} - \\frac{0.5 B_{1} G_{2}}{N S^{2}} + \\frac{0.5 B_{1} R_{1}}{S^{2}} + \\frac{0.5 B_{1} R_{2}}{S^{2}} - \\frac{B_{1} R_{1} R_{2}}{N S^{2}} - \\frac{0.5 B_{1} R_{2}}{N S} - \\frac{0.5 B_{1} R_{2}}{N S^{2}} + \\frac{B_{1} R_{1} R_{2}}{N^{2} S} - \\frac{0.5 B_{1} R_{1}}{N^{2}} - \\frac{0.25 B_{1}}{N^{2}} + \\frac{0.5 B_{2} G_{1}}{S^{2}} - \\frac{0.5 B_{2} G_{1}}{N S} - \\frac{0.5 B_{2} G_{1}}{N S^{2}} + \\frac{0.5 B_{2} R_{1}}{S^{2}} - \\frac{0.25 B_{2}}{S^{2}} - \\frac{0.5 B_{2} R_{1}}{N S} - \\frac{0.5 B_{2} R_{1}}{N S^{2}} - \\frac{0.25 G_{1}^{2} G_{2}}{N^{2} S^{2}} - \\frac{0.25 G_{1} G_{2}^{2}}{N^{2} S^{2}} - \\frac{G_{1} G_{2} R_{1}}{N S^{2}} + \\frac{0.5 G_{1} G_{2}}{N S^{2}} + \\frac{G_{1} G_{2} R_{1}}{N^{2} S} + \\frac{0.5 G_{1} G_{2}}{N^{2} S} + \\frac{0.5 G_{1} R_{1}}{S^{2}} + \\frac{0.5 G_{1} R_{2}}{S^{2}} - \\frac{G_{1} R_{1} R_{2}}{N S^{2}} - \\frac{0.5 G_{1} R_{2}}{N S} - \\frac{0.5 G_{1} R_{2}}{N S^{2}} + \\frac{G_{1} R_{1} R_{2}}{N^{2} S} - \\frac{0.5 G_{1} R_{1}}{N^{2}} - \\frac{0.25 G_{1}}{N^{2}} + \\frac{0.5 G_{2} R_{1}}{S^{2}} - \\frac{0.25 G_{2}}{S^{2}} - \\frac{0.5 G_{2} R_{1}}{N S} - \\frac{0.5 G_{2} R_{1}}{N S^{2}} - \\frac{0.25 R_{2}}{S^{2}} + \\frac{0.5 R_{1} R_{2}}{N S^{2}} - \\frac{0.25 R_{1}^{2} R_{2}}{N^{2} S^{2}} - \\frac{0.25 R_{1} R_{2}^{2}}{N^{2} S^{2}} + \\frac{0.5 R_{1} R_{2}}{N^{2} S} - \\frac{0.25 R_{1}}{N^{2}}$"
      ],
      "text/plain": [
       "-0.25*B_1**2*B_2/(N**2*S**2) - 0.25*B_1*B_2**2/(N**2*S**2) - B_1*B_2*G_1/(N*S**2) + B_1*B_2*G_1/(N**2*S) - B_1*B_2*R_1/(N*S**2) + 0.5*B_1*B_2/(N*S**2) + B_1*B_2*R_1/(N**2*S) + 0.5*B_1*B_2/(N**2*S) - B_1*G_1*G_2/(N*S**2) + B_1*G_1*G_2/(N**2*S) + 0.5*B_1*G_1/S**2 - 0.5*B_1*G_1/N**2 + 0.5*B_1*G_2/S**2 - 0.5*B_1*G_2/(N*S) - 0.5*B_1*G_2/(N*S**2) + 0.5*B_1*R_1/S**2 + 0.5*B_1*R_2/S**2 - B_1*R_1*R_2/(N*S**2) - 0.5*B_1*R_2/(N*S) - 0.5*B_1*R_2/(N*S**2) + B_1*R_1*R_2/(N**2*S) - 0.5*B_1*R_1/N**2 - 0.25*B_1/N**2 + 0.5*B_2*G_1/S**2 - 0.5*B_2*G_1/(N*S) - 0.5*B_2*G_1/(N*S**2) + 0.5*B_2*R_1/S**2 - 0.25*B_2/S**2 - 0.5*B_2*R_1/(N*S) - 0.5*B_2*R_1/(N*S**2) - 0.25*G_1**2*G_2/(N**2*S**2) - 0.25*G_1*G_2**2/(N**2*S**2) - G_1*G_2*R_1/(N*S**2) + 0.5*G_1*G_2/(N*S**2) + G_1*G_2*R_1/(N**2*S) + 0.5*G_1*G_2/(N**2*S) + 0.5*G_1*R_1/S**2 + 0.5*G_1*R_2/S**2 - G_1*R_1*R_2/(N*S**2) - 0.5*G_1*R_2/(N*S) - 0.5*G_1*R_2/(N*S**2) + G_1*R_1*R_2/(N**2*S) - 0.5*G_1*R_1/N**2 - 0.25*G_1/N**2 + 0.5*G_2*R_1/S**2 - 0.25*G_2/S**2 - 0.5*G_2*R_1/(N*S) - 0.5*G_2*R_1/(N*S**2) - 0.25*R_2/S**2 + 0.5*R_1*R_2/(N*S**2) - 0.25*R_1**2*R_2/(N**2*S**2) - 0.25*R_1*R_2**2/(N**2*S**2) + 0.5*R_1*R_2/(N**2*S) - 0.25*R_1/N**2"
      ]
     },
     "execution_count": 705,
     "metadata": {},
     "output_type": "execute_result"
    }
   ],
   "source": [
    "V_RGB.expand().subs({N_bar:N, S_bar: S, k:np.inf}).evalf()"
   ]
  },
  {
   "cell_type": "code",
   "execution_count": 1007,
   "id": "84bd14a6-9b0b-4f5a-8065-ac16f1ef79a3",
   "metadata": {},
   "outputs": [
    {
     "data": {
      "text/latex": [
       "$\\displaystyle - \\frac{B_{1}^{2} B_{2}^{2}}{N^{5}} + \\frac{3 B_{1}^{2} B_{2}}{4 N^{4}} + \\frac{B_{1}^{2} B_{2}}{4 N^{5}} - \\frac{B_{1}^{2}}{4 N^{3}} + \\frac{3 B_{1} B_{2}^{2}}{4 N^{4}} + \\frac{B_{1} B_{2}^{2}}{4 N^{5}} - \\frac{2 B_{1} B_{2} G_{1} G_{2}}{N^{5}} + \\frac{B_{1} B_{2} G_{1}}{N^{4}} + \\frac{B_{1} B_{2} G_{2}}{N^{4}} + \\frac{B_{1} B_{2} R_{1}}{N^{4}} + \\frac{B_{1} B_{2} R_{2}}{N^{4}} - \\frac{B_{1} B_{2}}{N^{4}} - \\frac{2 B_{1} B_{2} R_{1} R_{2}}{N^{5}} + \\frac{B_{1} G_{1} G_{2}}{N^{4}} - \\frac{B_{1} G_{1}}{2 N^{3}} - \\frac{B_{1} G_{2}}{2 N^{3}} + \\frac{B_{1} G_{2}}{2 N^{4}} - \\frac{B_{1} R_{1}}{2 N^{3}} - \\frac{B_{1} R_{2}}{2 N^{3}} + \\frac{B_{1}}{4 N^{3}} + \\frac{B_{1} R_{1} R_{2}}{N^{4}} + \\frac{B_{1} R_{2}}{2 N^{4}} - \\frac{B_{2}^{2}}{4 N^{3}} + \\frac{B_{2} G_{1} G_{2}}{N^{4}} - \\frac{B_{2} G_{1}}{2 N^{3}} + \\frac{B_{2} G_{1}}{2 N^{4}} - \\frac{B_{2} G_{2}}{2 N^{3}} - \\frac{B_{2} R_{1}}{2 N^{3}} - \\frac{B_{2} R_{2}}{2 N^{3}} + \\frac{B_{2}}{4 N^{3}} + \\frac{B_{2} R_{1} R_{2}}{N^{4}} + \\frac{B_{2} R_{1}}{2 N^{4}} - \\frac{G_{1}^{2} G_{2}^{2}}{N^{5}} + \\frac{3 G_{1}^{2} G_{2}}{4 N^{4}} + \\frac{G_{1}^{2} G_{2}}{4 N^{5}} - \\frac{G_{1}^{2}}{4 N^{3}} + \\frac{3 G_{1} G_{2}^{2}}{4 N^{4}} + \\frac{G_{1} G_{2}^{2}}{4 N^{5}} + \\frac{G_{1} G_{2} R_{1}}{N^{4}} + \\frac{G_{1} G_{2} R_{2}}{N^{4}} - \\frac{G_{1} G_{2}}{N^{4}} - \\frac{2 G_{1} G_{2} R_{1} R_{2}}{N^{5}} - \\frac{G_{1} R_{1}}{2 N^{3}} - \\frac{G_{1} R_{2}}{2 N^{3}} + \\frac{G_{1}}{4 N^{3}} + \\frac{G_{1} R_{1} R_{2}}{N^{4}} + \\frac{G_{1} R_{2}}{2 N^{4}} - \\frac{G_{2}^{2}}{4 N^{3}} - \\frac{G_{2} R_{1}}{2 N^{3}} - \\frac{G_{2} R_{2}}{2 N^{3}} + \\frac{G_{2}}{4 N^{3}} + \\frac{G_{2} R_{1} R_{2}}{N^{4}} + \\frac{G_{2} R_{1}}{2 N^{4}} - \\frac{R_{1}^{2}}{4 N^{3}} + \\frac{R_{1}}{4 N^{3}} - \\frac{R_{2}^{2}}{4 N^{3}} + \\frac{R_{2}}{4 N^{3}} + \\frac{3 R_{1}^{2} R_{2}}{4 N^{4}} + \\frac{3 R_{1} R_{2}^{2}}{4 N^{4}} - \\frac{R_{1} R_{2}}{N^{4}} - \\frac{R_{1}^{2} R_{2}^{2}}{N^{5}} + \\frac{R_{1}^{2} R_{2}}{4 N^{5}} + \\frac{R_{1} R_{2}^{2}}{4 N^{5}}$"
      ],
      "text/plain": [
       "-B_1**2*B_2**2/N**5 + 3*B_1**2*B_2/(4*N**4) + B_1**2*B_2/(4*N**5) - B_1**2/(4*N**3) + 3*B_1*B_2**2/(4*N**4) + B_1*B_2**2/(4*N**5) - 2*B_1*B_2*G_1*G_2/N**5 + B_1*B_2*G_1/N**4 + B_1*B_2*G_2/N**4 + B_1*B_2*R_1/N**4 + B_1*B_2*R_2/N**4 - B_1*B_2/N**4 - 2*B_1*B_2*R_1*R_2/N**5 + B_1*G_1*G_2/N**4 - B_1*G_1/(2*N**3) - B_1*G_2/(2*N**3) + B_1*G_2/(2*N**4) - B_1*R_1/(2*N**3) - B_1*R_2/(2*N**3) + B_1/(4*N**3) + B_1*R_1*R_2/N**4 + B_1*R_2/(2*N**4) - B_2**2/(4*N**3) + B_2*G_1*G_2/N**4 - B_2*G_1/(2*N**3) + B_2*G_1/(2*N**4) - B_2*G_2/(2*N**3) - B_2*R_1/(2*N**3) - B_2*R_2/(2*N**3) + B_2/(4*N**3) + B_2*R_1*R_2/N**4 + B_2*R_1/(2*N**4) - G_1**2*G_2**2/N**5 + 3*G_1**2*G_2/(4*N**4) + G_1**2*G_2/(4*N**5) - G_1**2/(4*N**3) + 3*G_1*G_2**2/(4*N**4) + G_1*G_2**2/(4*N**5) + G_1*G_2*R_1/N**4 + G_1*G_2*R_2/N**4 - G_1*G_2/N**4 - 2*G_1*G_2*R_1*R_2/N**5 - G_1*R_1/(2*N**3) - G_1*R_2/(2*N**3) + G_1/(4*N**3) + G_1*R_1*R_2/N**4 + G_1*R_2/(2*N**4) - G_2**2/(4*N**3) - G_2*R_1/(2*N**3) - G_2*R_2/(2*N**3) + G_2/(4*N**3) + G_2*R_1*R_2/N**4 + G_2*R_1/(2*N**4) - R_1**2/(4*N**3) + R_1/(4*N**3) - R_2**2/(4*N**3) + R_2/(4*N**3) + 3*R_1**2*R_2/(4*N**4) + 3*R_1*R_2**2/(4*N**4) - R_1*R_2/N**4 - R_1**2*R_2**2/N**5 + R_1**2*R_2/(4*N**5) + R_1*R_2**2/(4*N**5)"
      ]
     },
     "execution_count": 1007,
     "metadata": {},
     "output_type": "execute_result"
    }
   ],
   "source": [
    "V_RGB.subs({N_bar:N, S_bar:N, S:N, k:N}).expand()"
   ]
  },
  {
   "cell_type": "markdown",
   "id": "374fe820-eb1c-47a0-b0bb-3ddb2d7999a4",
   "metadata": {
    "jp-MarkdownHeadingCollapsed": true,
    "tags": []
   },
   "source": [
    "# Reducing corerlations between columns"
   ]
  },
  {
   "cell_type": "code",
   "execution_count": 996,
   "id": "ed928815-1eb8-47b8-8861-5c9872b9ab40",
   "metadata": {},
   "outputs": [],
   "source": [
    "from sklearn.metrics.cluster import normalized_mutual_info_score\n",
    "from itertools import permutations\n"
   ]
  },
  {
   "cell_type": "code",
   "execution_count": 997,
   "id": "0d3e0e1d-80b2-4880-9474-de34c9cb830b",
   "metadata": {},
   "outputs": [],
   "source": [
    "def generate_permutations(n):\n",
    "    # Create a list of all possible bit sequences of length n\n",
    "    bit_sequences = [[0], [1]]\n",
    "    for i in range(n - 1):\n",
    "        bit_sequences = [seq + [bit] for seq in bit_sequences for bit in [0, 1]]\n",
    "\n",
    "    # Convert each bit sequence to a string and return the list of permutations\n",
    "    permutations = [\"\".join(str(bit) for bit in seq) for seq in bit_sequences]\n",
    "    return permutations\n"
   ]
  },
  {
   "cell_type": "code",
   "execution_count": 998,
   "id": "b86d5fd5-8b8b-454c-8d01-3a0e4ed21b58",
   "metadata": {},
   "outputs": [],
   "source": [
    "strings = generate_permutations(10)"
   ]
  },
  {
   "cell_type": "code",
   "execution_count": 999,
   "id": "c7800182-2223-4ed0-ab14-098433682072",
   "metadata": {},
   "outputs": [],
   "source": [
    "i, j = random.randint(0,len(strings)), random.randint(0,len(strings))\n",
    "string_N = strings[i]\n",
    "string_S = strings[j]\n",
    "permutations_list = list(set(list(permutations(string_S))))\n",
    "random.shuffle(permutations_list)\n",
    "rs = np.arange(1, len(permutations_list))\n",
    "ys = []\n",
    "for r in rs:\n",
    "    string_N = strings[i]\n",
    "    string_S = strings[j]\n",
    "\n",
    "    a = list(string_S)\n",
    "\n",
    "    i = 0\n",
    "    for s in permutations_list:\n",
    "        if s != string_S:\n",
    "            i += 1\n",
    "            if(i>=r):\n",
    "                break\n",
    "            a.extend(list(s)) \n",
    "\n",
    "    string_N += string_N*(r-1)\n",
    "    \n",
    "    ys.append(normalized_mutual_info_score(list(string_N), a))\n",
    "    \n"
   ]
  },
  {
   "cell_type": "code",
   "execution_count": 1000,
   "id": "095f5191-12e5-450c-969b-3a198beece0f",
   "metadata": {},
   "outputs": [
    {
     "name": "stdout",
     "output_type": "stream",
     "text": [
      "0000101100\n",
      "0001000001\n"
     ]
    }
   ],
   "source": [
    "print(strings[i])\n",
    "print(strings[j])"
   ]
  },
  {
   "cell_type": "code",
   "execution_count": 1001,
   "id": "80f3b013-c059-4526-b8b5-49ea2b0a4e27",
   "metadata": {},
   "outputs": [
    {
     "data": {
      "text/plain": [
       "[<matplotlib.lines.Line2D at 0x1e805bf20c8>]"
      ]
     },
     "execution_count": 1001,
     "metadata": {},
     "output_type": "execute_result"
    },
    {
     "data": {
      "image/png": "[encoded data removed]",
      "text/plain": [
       "<Figure size 640x480 with 1 Axes>"
      ]
     },
     "metadata": {},
     "output_type": "display_data"
    }
   ],
   "source": [
    "plt.plot(rs, ys)"
   ]
  },
  {
   "cell_type": "code",
   "execution_count": 1008,
   "id": "7e7e2e85-b872-4e99-a6e6-40121fee5372",
   "metadata": {},
   "outputs": [
    {
     "data": {
      "text/latex": [
       "$\\displaystyle N$"
      ],
      "text/plain": [
       "N"
      ]
     },
     "execution_count": 1008,
     "metadata": {},
     "output_type": "execute_result"
    }
   ],
   "source": [
    "N"
   ]
  },
  {
   "cell_type": "code",
   "execution_count": 1009,
   "id": "b9eaeb29-e28f-458a-8a45-6c390075d460",
   "metadata": {},
   "outputs": [
    {
     "data": {
      "text/plain": [
       "17065157"
      ]
     },
     "execution_count": 1009,
     "metadata": {},
     "output_type": "execute_result"
    }
   ],
   "source": [
    "n"
   ]
  },
  {
   "cell_type": "code",
   "execution_count": 1010,
   "id": "cd98846d-8c5e-4ef7-8901-bc4633b80fdd",
   "metadata": {},
   "outputs": [
    {
     "data": {
      "text/plain": [
       "[4129, 4133]"
      ]
     },
     "execution_count": 1010,
     "metadata": {},
     "output_type": "execute_result"
    }
   ],
   "source": [
    "prime_factors(n)"
   ]
  },
  {
   "cell_type": "code",
   "execution_count": 1013,
   "id": "d8110f8a-fa8d-4358-9198-2a82e1f00886",
   "metadata": {},
   "outputs": [
    {
     "data": {
      "text/plain": [
       "5548032"
      ]
     },
     "execution_count": 1013,
     "metadata": {},
     "output_type": "execute_result"
    }
   ],
   "source": [
    "sp.totient((1-4129)*(1-4133))"
   ]
  },
  {
   "cell_type": "code",
   "execution_count": null,
   "id": "15415e44-ef1e-43fa-9730-dae65b09a452",
   "metadata": {},
   "outputs": [],
   "source": []
  }
 ],
 "metadata": {
  "kernelspec": {
   "display_name": "Python 3 (ipykernel)",
   "language": "python",
   "name": "python3"
  },
  "language_info": {
   "codemirror_mode": {
    "name": "ipython",
    "version": 3
   },
   "file_extension": ".py",
   "mimetype": "text/x-python",
   "name": "python",
   "nbconvert_exporter": "python",
   "pygments_lexer": "ipython3",
   "version": "3.7.11"
  }
 },
 "nbformat": 4,
 "nbformat_minor": 5
}
