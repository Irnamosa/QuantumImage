{
 "cells": [
  {
   "cell_type": "code",
   "execution_count": 174,
   "id": "f95333ec",
   "metadata": {},
   "outputs": [],
   "source": [
    "import einsteinpy\n",
    "import sympy as sp\n",
    "from einsteinpy.symbolic import MetricTensor, ChristoffelSymbols, RiemannCurvatureTensor\n",
    "from einsteinpy.symbolic.tensor import tensor_product\n",
    "from einsteinpy.symbolic.tensor import Tensor\n",
    "\n",
    "sympy.init_printing()"
   ]
  },
  {
   "cell_type": "markdown",
   "id": "f5e3a6b7",
   "metadata": {},
   "source": [
    "# Defining Metric"
   ]
  },
  {
   "cell_type": "code",
   "execution_count": 210,
   "id": "d1c7aef3",
   "metadata": {
    "scrolled": true
   },
   "outputs": [
    {
     "data": {
      "image/png": "[encoded data removed]",
      "text/latex": [
       "$\\displaystyle \\left[\\begin{matrix}1 & 0 & 0\\\\0 & - \\frac{a^{2}{\\left(t \\right)}}{- \\kappa r^{2} + 1} & 0\\\\0 & 0 & - r^{2} a^{2}{\\left(t \\right)}\\end{matrix}\\right]$"
      ],
      "text/plain": [
       "⎡1      0           0    ⎤\n",
       "⎢                        ⎥\n",
       "⎢      2                 ⎥\n",
       "⎢    -a (t)              ⎥\n",
       "⎢0  ──────────      0    ⎥\n",
       "⎢        2               ⎥\n",
       "⎢   - κ⋅r  + 1           ⎥\n",
       "⎢                        ⎥\n",
       "⎢                 2  2   ⎥\n",
       "⎣0      0       -r ⋅a (t)⎦"
      ]
     },
     "execution_count": 210,
     "metadata": {},
     "output_type": "execute_result"
    }
   ],
   "source": [
    "syms = sp.symbols('t r phi kappa')\n",
    "t, r, phi, k = syms\n",
    "a = sp.Function('a')(t)\n",
    "# define the metric for 3d spherical coordinates\n",
    "metric = [[0 for i in range(3)] for i in range(3)]\n",
    "metric[0][0] = 1\n",
    "metric[1][1] = -a**2/(1-k*r**2)\n",
    "metric[2][2] = -(a**2)*(r**2)\n",
    "# creating metric object\n",
    "g = MetricTensor(metric, syms[:3])\n",
    "g.tensor()"
   ]
  },
  {
   "cell_type": "markdown",
   "id": "5be26342",
   "metadata": {},
   "source": [
    "# Christoffel Symbols"
   ]
  },
  {
   "cell_type": "code",
   "execution_count": 225,
   "id": "5e300384",
   "metadata": {},
   "outputs": [
    {
     "data": {
      "image/png": "[encoded data removed]",
      "text/latex": [
       "$\\displaystyle \\left[\\begin{matrix}\\left[\\begin{matrix}0 & 0 & 0\\\\0 & \\frac{a{\\left(t \\right)} \\frac{d}{d t} a{\\left(t \\right)}}{- \\kappa r^{2} + 1} & 0\\\\0 & 0 & r^{2} a{\\left(t \\right)} \\frac{d}{d t} a{\\left(t \\right)}\\end{matrix}\\right] & \\left[\\begin{matrix}0 & - \\frac{\\left(\\kappa r^{2} - 1\\right) \\frac{d}{d t} a{\\left(t \\right)}}{\\left(- \\kappa r^{2} + 1\\right) a{\\left(t \\right)}} & 0\\\\- \\frac{\\left(\\kappa r^{2} - 1\\right) \\frac{d}{d t} a{\\left(t \\right)}}{\\left(- \\kappa r^{2} + 1\\right) a{\\left(t \\right)}} & - \\frac{\\kappa r \\left(\\kappa r^{2} - 1\\right)}{\\left(- \\kappa r^{2} + 1\\right)^{2}} & 0\\\\0 & 0 & r \\left(\\kappa r^{2} - 1\\right)\\end{matrix}\\right] & \\left[\\begin{matrix}0 & 0 & \\frac{\\frac{d}{d t} a{\\left(t \\right)}}{a{\\left(t \\right)}}\\\\0 & 0 & \\frac{1}{r}\\\\\\frac{\\frac{d}{d t} a{\\left(t \\right)}}{a{\\left(t \\right)}} & \\frac{1}{r} & 0\\end{matrix}\\right]\\end{matrix}\\right]$"
      ],
      "text/plain": [
       "⎡                                      ⎡                        ⎛   2    ⎞ d  \n",
       "⎢                                      ⎢                       -⎝κ⋅r  - 1⎠⋅──(\n",
       "⎢⎡0        0               0        ⎤  ⎢                                   dt \n",
       "⎢⎢                                  ⎥  ⎢          0            ───────────────\n",
       "⎢⎢        d                         ⎥  ⎢                         ⎛     2    ⎞ \n",
       "⎢⎢   a(t)⋅──(a(t))                  ⎥  ⎢                         ⎝- κ⋅r  + 1⎠⋅\n",
       "⎢⎢        dt                        ⎥  ⎢                                      \n",
       "⎢⎢0  ─────────────         0        ⎥  ⎢ ⎛   2    ⎞ d                         \n",
       "⎢⎢          2                       ⎥  ⎢-⎝κ⋅r  - 1⎠⋅──(a(t))          ⎛   2   \n",
       "⎢⎢     - κ⋅r  + 1                   ⎥  ⎢            dt           -κ⋅r⋅⎝κ⋅r  - \n",
       "⎢⎢                                  ⎥  ⎢─────────────────────    ─────────────\n",
       "⎢⎢                   2      d       ⎥  ⎢  ⎛     2    ⎞                        \n",
       "⎢⎢0        0        r ⋅a(t)⋅──(a(t))⎥  ⎢  ⎝- κ⋅r  + 1⎠⋅a(t)       ⎛     2    ⎞\n",
       "⎢⎣                          dt      ⎦  ⎢                          ⎝- κ⋅r  + 1⎠\n",
       "⎢                                      ⎢                                      \n",
       "⎢                                      ⎢                                      \n",
       "⎣                                      ⎣          0                      0    \n",
       "\n",
       "                    ⎤                         ⎤\n",
       "a(t))               ⎥  ⎡             d       ⎤⎥\n",
       "                    ⎥  ⎢             ──(a(t))⎥⎥\n",
       "──────       0      ⎥  ⎢             dt      ⎥⎥\n",
       "                    ⎥  ⎢   0      0  ────────⎥⎥\n",
       "a(t)                ⎥  ⎢               a(t)  ⎥⎥\n",
       "                    ⎥  ⎢                     ⎥⎥\n",
       "                    ⎥  ⎢                1    ⎥⎥\n",
       " ⎞                  ⎥  ⎢   0      0     ─    ⎥⎥\n",
       "1⎠                  ⎥  ⎢                r    ⎥⎥\n",
       "───          0      ⎥  ⎢                     ⎥⎥\n",
       "2                   ⎥  ⎢d                    ⎥⎥\n",
       "                    ⎥  ⎢──(a(t))             ⎥⎥\n",
       "                    ⎥  ⎢dt        1          ⎥⎥\n",
       "                    ⎥  ⎢────────  ─     0    ⎥⎥\n",
       "          ⎛   2    ⎞⎥  ⎣  a(t)    r          ⎦⎥\n",
       "        r⋅⎝κ⋅r  - 1⎠⎦                         ⎦"
      ]
     },
     "execution_count": 225,
     "metadata": {},
     "output_type": "execute_result"
    }
   ],
   "source": [
    "ch = ChristoffelSymbols.from_metric(g)\n",
    "ch.tensor()"
   ]
  },
  {
   "cell_type": "code",
   "execution_count": 226,
   "id": "c64915f0",
   "metadata": {},
   "outputs": [
    {
     "data": {
      "image/png": "[encoded data removed]",
      "text/latex": [
       "$\\displaystyle \\frac{\\frac{d}{d t} a{\\left(t \\right)}}{a{\\left(t \\right)}}$"
      ],
      "text/plain": [
       "d       \n",
       "──(a(t))\n",
       "dt      \n",
       "────────\n",
       "  a(t)  "
      ]
     },
     "execution_count": 226,
     "metadata": {},
     "output_type": "execute_result"
    }
   ],
   "source": [
    "sp.simplify(ch.tensor()[1,1,0])"
   ]
  },
  {
   "cell_type": "code",
   "execution_count": 227,
   "id": "c596246e",
   "metadata": {},
   "outputs": [
    {
     "data": {
      "image/png": "[encoded data removed]",
      "text/latex": [
       "$\\displaystyle \\frac{\\frac{d}{d t} a{\\left(t \\right)}}{a{\\left(t \\right)}}$"
      ],
      "text/plain": [
       "d       \n",
       "──(a(t))\n",
       "dt      \n",
       "────────\n",
       "  a(t)  "
      ]
     },
     "execution_count": 227,
     "metadata": {},
     "output_type": "execute_result"
    }
   ],
   "source": [
    "sp.simplify(ch.tensor()[2,2,0])"
   ]
  },
  {
   "cell_type": "markdown",
   "id": "feebd31d",
   "metadata": {},
   "source": [
    "# Ricci Tensor"
   ]
  },
  {
   "cell_type": "code",
   "execution_count": 228,
   "id": "2953838d",
   "metadata": {
    "scrolled": true
   },
   "outputs": [
    {
     "data": {
      "image/png": "[encoded data removed]",
      "text/latex": [
       "$\\displaystyle \\left[\\begin{matrix}- \\frac{2 \\frac{d^{2}}{d t^{2}} a{\\left(t \\right)}}{a{\\left(t \\right)}} & 0 & 0\\\\0 & - \\frac{\\kappa + a{\\left(t \\right)} \\frac{d^{2}}{d t^{2}} a{\\left(t \\right)} + \\left(\\frac{d}{d t} a{\\left(t \\right)}\\right)^{2}}{\\kappa r^{2} - 1} & 0\\\\0 & 0 & r^{2} \\left(\\kappa + a{\\left(t \\right)} \\frac{d^{2}}{d t^{2}} a{\\left(t \\right)} + \\left(\\frac{d}{d t} a{\\left(t \\right)}\\right)^{2}\\right)\\end{matrix}\\right]$"
      ],
      "text/plain": [
       "⎡     2                                                                       \n",
       "⎢    d                                                                        \n",
       "⎢-2⋅───(a(t))                                                                 \n",
       "⎢     2                                                                       \n",
       "⎢   dt                                                                        \n",
       "⎢─────────────                   0                                      0     \n",
       "⎢     a(t)                                                                    \n",
       "⎢                                                                             \n",
       "⎢                ⎛           2                   2⎞                           \n",
       "⎢                ⎜          d          ⎛d       ⎞ ⎟                           \n",
       "⎢               -⎜κ + a(t)⋅───(a(t)) + ⎜──(a(t))⎟ ⎟                           \n",
       "⎢                ⎜           2         ⎝dt      ⎠ ⎟                           \n",
       "⎢                ⎝         dt                     ⎠                           \n",
       "⎢      0        ────────────────────────────────────                    0     \n",
       "⎢                                2                                            \n",
       "⎢                             κ⋅r  - 1                                        \n",
       "⎢                                                                             \n",
       "⎢                                                        ⎛           2        \n",
       "⎢                                                      2 ⎜          d         \n",
       "⎢      0                         0                    r ⋅⎜κ + a(t)⋅───(a(t)) +\n",
       "⎢                                                        ⎜           2        \n",
       "⎣                                                        ⎝         dt         \n",
       "\n",
       "             ⎤\n",
       "             ⎥\n",
       "             ⎥\n",
       "             ⎥\n",
       "             ⎥\n",
       "             ⎥\n",
       "             ⎥\n",
       "             ⎥\n",
       "             ⎥\n",
       "             ⎥\n",
       "             ⎥\n",
       "             ⎥\n",
       "             ⎥\n",
       "             ⎥\n",
       "             ⎥\n",
       "             ⎥\n",
       "             ⎥\n",
       "           2⎞⎥\n",
       " ⎛d       ⎞ ⎟⎥\n",
       " ⎜──(a(t))⎟ ⎟⎥\n",
       " ⎝dt      ⎠ ⎟⎥\n",
       "            ⎠⎦"
      ]
     },
     "execution_count": 228,
     "metadata": {},
     "output_type": "execute_result"
    }
   ],
   "source": [
    "Ric = RicciTensor.from_metric(g)\n",
    "Ric.tensor()"
   ]
  },
  {
   "cell_type": "code",
   "execution_count": 229,
   "id": "ce4383e8",
   "metadata": {
    "scrolled": true
   },
   "outputs": [
    {
     "data": {
      "image/png": "[encoded data removed]",
      "text/latex": [
       "$\\displaystyle - \\frac{2 \\frac{d^{2}}{d t^{2}} a{\\left(t \\right)}}{a{\\left(t \\right)}}$"
      ],
      "text/plain": [
       "     2       \n",
       "    d        \n",
       "-2⋅───(a(t)) \n",
       "     2       \n",
       "   dt        \n",
       "─────────────\n",
       "     a(t)    "
      ]
     },
     "execution_count": 229,
     "metadata": {},
     "output_type": "execute_result"
    }
   ],
   "source": [
    "Ric.tensor()[0,0]"
   ]
  },
  {
   "cell_type": "code",
   "execution_count": 230,
   "id": "1950c849",
   "metadata": {
    "scrolled": true
   },
   "outputs": [
    {
     "data": {
      "image/png": "[encoded data removed]",
      "text/latex": [
       "$\\displaystyle - \\frac{\\kappa + a{\\left(t \\right)} \\frac{d^{2}}{d t^{2}} a{\\left(t \\right)} + \\left(\\frac{d}{d t} a{\\left(t \\right)}\\right)^{2}}{\\kappa r^{2} - 1}$"
      ],
      "text/plain": [
       " ⎛           2                   2⎞ \n",
       " ⎜          d          ⎛d       ⎞ ⎟ \n",
       "-⎜κ + a(t)⋅───(a(t)) + ⎜──(a(t))⎟ ⎟ \n",
       " ⎜           2         ⎝dt      ⎠ ⎟ \n",
       " ⎝         dt                     ⎠ \n",
       "────────────────────────────────────\n",
       "                 2                  \n",
       "              κ⋅r  - 1              "
      ]
     },
     "execution_count": 230,
     "metadata": {},
     "output_type": "execute_result"
    }
   ],
   "source": [
    "Ric.tensor()[1,1]"
   ]
  },
  {
   "cell_type": "code",
   "execution_count": 240,
   "id": "92aa7b5f",
   "metadata": {},
   "outputs": [
    {
     "data": {
      "image/png": "[encoded data removed]",
      "text/latex": [
       "$\\displaystyle r^{2} \\left(\\kappa + a{\\left(t \\right)} \\frac{d^{2}}{d t^{2}} a{\\left(t \\right)} + \\left(\\frac{d}{d t} a{\\left(t \\right)}\\right)^{2}\\right)$"
      ],
      "text/plain": [
       "   ⎛           2                   2⎞\n",
       " 2 ⎜          d          ⎛d       ⎞ ⎟\n",
       "r ⋅⎜κ + a(t)⋅───(a(t)) + ⎜──(a(t))⎟ ⎟\n",
       "   ⎜           2         ⎝dt      ⎠ ⎟\n",
       "   ⎝         dt                     ⎠"
      ]
     },
     "execution_count": 240,
     "metadata": {},
     "output_type": "execute_result"
    }
   ],
   "source": [
    "Ric.tensor()[2,2]"
   ]
  },
  {
   "cell_type": "code",
   "execution_count": 231,
   "id": "9a296e30",
   "metadata": {},
   "outputs": [
    {
     "data": {
      "image/png": "[encoded data removed]",
      "text/latex": [
       "$\\displaystyle - \\frac{2 \\kappa + 4 a{\\left(t \\right)} \\frac{d^{2}}{d t^{2}} a{\\left(t \\right)} + 2 \\left(\\frac{d}{d t} a{\\left(t \\right)}\\right)^{2}}{a^{2}{\\left(t \\right)}}$"
      ],
      "text/plain": [
       " ⎛               2                     2⎞ \n",
       " ⎜              d            ⎛d       ⎞ ⎟ \n",
       "-⎜2⋅κ + 4⋅a(t)⋅───(a(t)) + 2⋅⎜──(a(t))⎟ ⎟ \n",
       " ⎜               2           ⎝dt      ⎠ ⎟ \n",
       " ⎝             dt                       ⎠ \n",
       "──────────────────────────────────────────\n",
       "                   2                      \n",
       "                  a (t)                   "
      ]
     },
     "execution_count": 231,
     "metadata": {},
     "output_type": "execute_result"
    }
   ],
   "source": [
    "R = RicciScalar.from_riccitensor(Ric)\n",
    "R.simplify()\n",
    "R.expr"
   ]
  }
 ],
 "metadata": {
  "kernelspec": {
   "display_name": "Python 3 (ipykernel)",
   "language": "python",
   "name": "python3"
  },
  "language_info": {
   "codemirror_mode": {
    "name": "ipython",
    "version": 3
   },
   "file_extension": ".py",
   "mimetype": "text/x-python",
   "name": "python",
   "nbconvert_exporter": "python",
   "pygments_lexer": "ipython3",
   "version": "3.7.11"
  }
 },
 "nbformat": 4,
 "nbformat_minor": 5
}
