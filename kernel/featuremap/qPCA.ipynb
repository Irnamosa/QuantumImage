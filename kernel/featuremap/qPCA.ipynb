{
 "cells": [
  {
   "cell_type": "markdown",
   "id": "1206ec48-7f1b-4242-be3f-1a7750d92a09",
   "metadata": {},
   "source": [
    "# qPCA"
   ]
  },
  {
   "cell_type": "code",
   "execution_count": 1,
   "id": "29b8aa34-18ec-4c5b-9232-56d4913a5437",
   "metadata": {},
   "outputs": [],
   "source": [
    "import setup\n",
    "from circuits import * \n",
    "import qiskit\n",
    "\n",
    "import sympy as sp\n",
    "\n",
    "from qiskit.opflow import MatrixOp, CircuitOp\n",
    "\n",
    "from qiskit.quantum_info.states.densitymatrix import DensityMatrix\n",
    "from qiskit.quantum_info import partial_trace\n",
    "from qiskit.quantum_info.operators import Operator, Pauli\n",
    "from qiskit.quantum_info import random_density_matrix"
   ]
  },
  {
   "cell_type": "code",
   "execution_count": 2,
   "id": "8a964209-7c80-4c8d-950d-6a63152dcb5b",
   "metadata": {},
   "outputs": [],
   "source": [
    "def printmat(x, precision=4, max_size=7):\n",
    "    try:\n",
    "        return qiskit.visualization.array_to_latex(x, precision=precision, prefix='', source=False, max_size=max_size)\n",
    "    except TypeError:\n",
    "        return print(x)"
   ]
  },
  {
   "cell_type": "markdown",
   "id": "320f5ddd-6f92-422f-8221-4639211e32c3",
   "metadata": {
    "jp-MarkdownHeadingCollapsed": true,
    "tags": []
   },
   "source": [
    "# Partial Swap Operator"
   ]
  },
  {
   "cell_type": "markdown",
   "id": "524e9835-b7b9-419a-9ff0-897dad8a237b",
   "metadata": {
    "jp-MarkdownHeadingCollapsed": true,
    "tags": []
   },
   "source": [
    "### Initialising $\\sigma$ and $\\rho^{\\otimes n}$"
   ]
  },
  {
   "cell_type": "code",
   "execution_count": 3815,
   "id": "c0b77d09-fed9-4153-972b-8217f1aa6aa6",
   "metadata": {},
   "outputs": [],
   "source": [
    "m = 3\n",
    "D = np.random.rand(m,4)\n",
    "\n",
    "# Normalise each entry \n",
    "X = np.array([x / np.linalg.norm(x) for x in D])\n",
    "X = X.T\n",
    "\n",
    "# Inner product between pairs of features; equivalent to |psi_i><psi_i| per i number of features\n",
    "Q = (1/m)*(np.matmul(X,X.T))\n",
    "rho = DensityMatrix(Q)\n",
    "cols = [DensityMatrix(np.outer(x,x)) for x in X.T] \n",
    "\n",
    "evals, evecs = np.linalg.eig(Q)"
   ]
  },
  {
   "cell_type": "code",
   "execution_count": 3816,
   "id": "84951ba8-7f2c-4490-b3c5-bb4481fc60ab",
   "metadata": {},
   "outputs": [
    {
     "data": {
      "text/plain": [
       "True"
      ]
     },
     "execution_count": 3816,
     "metadata": {},
     "output_type": "execute_result"
    }
   ],
   "source": [
    "# Ansatz\n",
    "#sigma = rho\n",
    "sigma = DensityMatrix(1/2*np.matmul(np.array([[1,0,0,1]]).T, np.array([[1,0,0,1]])))\n",
    "sigma.is_valid()"
   ]
  },
  {
   "cell_type": "markdown",
   "id": "4ab88334-68c1-4428-a454-be1571813d83",
   "metadata": {
    "jp-MarkdownHeadingCollapsed": true,
    "tags": []
   },
   "source": [
    "### Showing $e^{-i\\rho \\delta t} \\approx Tr_{\\rho}[e^{-iS \\delta t}]$"
   ]
  },
  {
   "cell_type": "code",
   "execution_count": 3817,
   "id": "a48e097b-f0a5-4a0c-9336-aa21f976b964",
   "metadata": {},
   "outputs": [],
   "source": [
    "sigma = random_density_matrix(4)"
   ]
  },
  {
   "cell_type": "code",
   "execution_count": 3818,
   "id": "4772f4b4-41c9-4cfe-94ad-1a6f196dcb92",
   "metadata": {},
   "outputs": [
    {
     "data": {
      "image/png": "[encoded data removed]",
      "text/plain": [
       "<Figure size 206.997x264.88 with 1 Axes>"
      ]
     },
     "execution_count": 3818,
     "metadata": {},
     "output_type": "execute_result"
    }
   ],
   "source": [
    "qc = QuantumCircuit(4)\n",
    "qc.swap([0,1],[2,3]);\n",
    "qc.draw('mpl')"
   ]
  },
  {
   "cell_type": "code",
   "execution_count": 3819,
   "id": "b021ac92-8a39-48b8-95e5-5c594cb1986f",
   "metadata": {},
   "outputs": [],
   "source": [
    "t = 2*np.pi/2\n",
    "N = 1000\n",
    "dt = t/N"
   ]
  },
  {
   "cell_type": "code",
   "execution_count": 3820,
   "id": "f2e3c262-1fe1-420e-bd07-c89411678c71",
   "metadata": {},
   "outputs": [],
   "source": [
    "# np.exp(SWAP*dt)\n",
    "swap_4 = Operator(qc)\n",
    "\n",
    "def exp_swap_4(x):\n",
    "    return Operator(MatrixOp(x*swap_4).exp_i())\n",
    "\n",
    "# Evolve sigma via Trotter\n",
    "sigma_ = sigma.copy()\n",
    "for i in range(N):\n",
    "    sigma_ = DensityMatrix(partial_trace((rho ^ sigma_).evolve(exp_swap_4(dt)), [2,3])) # Leftmost is lowest, except in partial trace where labeling is important"
   ]
  },
  {
   "cell_type": "code",
   "execution_count": 3821,
   "id": "519d9c4d-3d2b-4d99-8995-85d4c38da810",
   "metadata": {},
   "outputs": [],
   "source": [
    "# np.exp(SWAP*t*rho)\n",
    "exp_rho = Operator(MatrixOp(t*Q).exp_i())"
   ]
  },
  {
   "cell_type": "code",
   "execution_count": 3822,
   "id": "0053cb7c-bbe6-4164-b4fb-5a860edebd35",
   "metadata": {},
   "outputs": [
    {
     "data": {
      "text/latex": [
       "$$\n",
       "\n",
       "\\begin{bmatrix}\n",
       "0.001 & 0.0014 - 0.0013i & 0.0012 + 0.0011i & 0.0015 + 0.0008i  \\\\\n",
       " 0.0014 + 0.0013i & -0.0007 & 0.0038 + 0.0008i & 0.0012 - 0.0002i  \\\\\n",
       " 0.0012 - 0.0011i & 0.0038 - 0.0008i & 0.0008 & -0.0002 + 0.0006i  \\\\\n",
       " 0.0015 - 0.0008i & 0.0012 + 0.0002i & -0.0002 - 0.0006i & -0.0011  \\\\\n",
       " \\end{bmatrix}\n",
       "$$"
      ],
      "text/plain": [
       "<IPython.core.display.Latex object>"
      ]
     },
     "execution_count": 3822,
     "metadata": {},
     "output_type": "execute_result"
    }
   ],
   "source": [
    "printmat(sigma_.data - sigma.evolve(exp_rho).data)"
   ]
  },
  {
   "cell_type": "markdown",
   "id": "2ff4e968-0046-4269-99a6-551b37a020b5",
   "metadata": {
    "jp-MarkdownHeadingCollapsed": true,
    "tags": []
   },
   "source": [
    "# Partial Swap Implementation"
   ]
  },
  {
   "cell_type": "markdown",
   "id": "b0d1fc70-9249-4e98-8a1e-336538a25042",
   "metadata": {
    "jp-MarkdownHeadingCollapsed": true,
    "tags": []
   },
   "source": [
    "## Two qubits"
   ]
  },
  {
   "cell_type": "code",
   "execution_count": 2130,
   "id": "9ce3b76e-664b-45c2-a3bf-af6b1729c994",
   "metadata": {},
   "outputs": [],
   "source": [
    "from qiskit.circuit import QuantumCircuit, Parameter"
   ]
  },
  {
   "cell_type": "code",
   "execution_count": 2131,
   "id": "9606249f-7663-4c28-a485-b498201b3464",
   "metadata": {},
   "outputs": [],
   "source": [
    "w = Parameter(\"w\")"
   ]
  },
  {
   "cell_type": "code",
   "execution_count": 2134,
   "id": "3186e61c-92d1-4a43-ad86-06b5369148cc",
   "metadata": {},
   "outputs": [],
   "source": [
    "qc = QuantumCircuit(2)\n",
    "\n",
    "qc.swap([0],[1]);\n",
    "\n",
    "qc.draw('mpl')"
   ]
  },
  {
   "cell_type": "code",
   "execution_count": 2135,
   "id": "023966b3-8c4e-47c1-8509-33f7e81b985e",
   "metadata": {},
   "outputs": [],
   "source": [
    "t = 1\n",
    "N = 10\n",
    "dt = t/N"
   ]
  },
  {
   "cell_type": "code",
   "execution_count": 2136,
   "id": "012fbdaa-9b57-460c-b841-bca447bc95b9",
   "metadata": {},
   "outputs": [],
   "source": [
    "swap_2 = Operator(qc)\n",
    "exp_swap_control_2 = Operator(Operator(MatrixOp(dt*swap_2).exp_i()).to_instruction().control(1))"
   ]
  },
  {
   "cell_type": "code",
   "execution_count": 2381,
   "id": "035a019d-4241-48a1-90d3-df08b5d9ff89",
   "metadata": {},
   "outputs": [
    {
     "data": {
      "image/png": "[encoded data removed]",
      "text/plain": [
       "<Figure size 748.797x264.88 with 1 Axes>"
      ]
     },
     "execution_count": 2381,
     "metadata": {},
     "output_type": "execute_result"
    }
   ],
   "source": [
    "def make_exp_swap_control_2(par):\n",
    "    qc2 = QuantumCircuit(4)\n",
    "\n",
    "    qc2.cnot(2,1)\n",
    "    qc2.cry(-np.pi/2, control_qubit=1, target_qubit=2)\n",
    "\n",
    "    qc2.barrier()\n",
    "\n",
    "    qc2.toffoli(1, 2, 3)\n",
    "\n",
    "\n",
    "    qc2.crz(2*par, 0,3)\n",
    "\n",
    "    qc2.toffoli(1, 2, 3)\n",
    "\n",
    "    qc2.barrier()\n",
    "\n",
    "    qc2.cry(np.pi/2, control_qubit=1, target_qubit=2)\n",
    "\n",
    "    qc2.cnot(2,1)\n",
    "    \n",
    "    return qc2\n",
    "\n",
    "qc2.draw('mpl')"
   ]
  },
  {
   "cell_type": "code",
   "execution_count": 2138,
   "id": "ffc76fc3-0db2-4fee-9fc4-6dc8f35d1e7a",
   "metadata": {},
   "outputs": [],
   "source": [
    "qc2 = make_exp_swap_control_2(w).assign_parameters({w:dt})"
   ]
  },
  {
   "cell_type": "code",
   "execution_count": 2139,
   "id": "d4c70011-1f12-4949-bf6b-1e985e12fd7b",
   "metadata": {},
   "outputs": [],
   "source": [
    "from qiskit.opflow import (StateFn, Zero, One, Plus, Minus, H,\n",
    "                           DictStateFn, VectorStateFn, CircuitStateFn, OperatorStateFn)"
   ]
  },
  {
   "cell_type": "code",
   "execution_count": 2140,
   "id": "ded2f57b-9edf-437f-839f-c180e1713a73",
   "metadata": {},
   "outputs": [],
   "source": [
    "x1 = (MatrixOp(exp_swap_control_2) @ (Plus ^ Plus ^ Plus)).eval().to_density_matrix()"
   ]
  },
  {
   "cell_type": "code",
   "execution_count": 2141,
   "id": "93cfe4a0-5e41-41df-a2b0-9256e91541e6",
   "metadata": {},
   "outputs": [],
   "source": [
    "x2 = partial_trace((MatrixOp(Operator(qc2)) @ (Zero ^ Plus ^ Plus ^ Plus)).eval().to_density_matrix(), [3])"
   ]
  },
  {
   "cell_type": "code",
   "execution_count": 2142,
   "id": "06c1e6bb-7662-4a02-ac88-e30f3d3c72a6",
   "metadata": {},
   "outputs": [
    {
     "data": {
      "text/latex": [
       "$$\n",
       "\n",
       "\\begin{bmatrix}\n",
       "0 & 0 & 0 & \\cdots & 0 & 0 & 0  \\\\\n",
       " 0 & 0 & 0 & \\cdots & 0 & 0 & 0  \\\\\n",
       " 0 & 0 & 0 & \\cdots & 0 & 0 & 0  \\\\\n",
       " \\vdots & \\vdots & \\vdots & \\ddots & \\vdots & \\vdots & \\vdots \\\\\n",
       " 0 & 0 & 0 & \\cdots & 0 & 0 & 0  \\\\\n",
       " 0 & 0 & 0 & \\cdots & 0 & 0 & 0  \\\\\n",
       " 0 & 0 & 0 & \\cdots & 0 & 0 & 0  \\\\\n",
       " \\end{bmatrix}\n",
       "$$"
      ],
      "text/plain": [
       "<IPython.core.display.Latex object>"
      ]
     },
     "execution_count": 2142,
     "metadata": {},
     "output_type": "execute_result"
    }
   ],
   "source": [
    "printmat(x2.data-x1.data)"
   ]
  },
  {
   "cell_type": "code",
   "execution_count": 2143,
   "id": "8a46cbe4-edcc-4b19-b77c-7c079be675c8",
   "metadata": {},
   "outputs": [],
   "source": [
    "rho_i = DensityMatrix(np.diag([1,0]))^random_density_matrix(2**3)"
   ]
  },
  {
   "cell_type": "code",
   "execution_count": 2144,
   "id": "6c337536-abe7-42a4-a221-1ba1be03fa0b",
   "metadata": {},
   "outputs": [
    {
     "data": {
      "text/latex": [
       "$$\n",
       "\n",
       "\\begin{bmatrix}\n",
       "0 & 0 & 0 & 0 & 0 & 0 & 0 & 0  \\\\\n",
       " 0 & 0 & 0 & 0 & 0 & 0 & 0 & 0  \\\\\n",
       " 0 & 0 & 0 & 0 & 0 & 0 & 0 & 0  \\\\\n",
       " 0 & 0 & 0 & 0 & 0 & 0 & 0 & 0  \\\\\n",
       " 0 & 0 & 0 & 0 & 0 & 0 & 0 & 0  \\\\\n",
       " 0 & 0 & 0 & 0 & 0 & 0 & 0 & 0  \\\\\n",
       " 0 & 0 & 0 & 0 & 0 & 0 & 0 & 0  \\\\\n",
       " 0 & 0 & 0 & 0 & 0 & 0 & 0 & 0  \\\\\n",
       " \\end{bmatrix}\n",
       "$$"
      ],
      "text/plain": [
       "<IPython.core.display.Latex object>"
      ]
     },
     "execution_count": 2144,
     "metadata": {},
     "output_type": "execute_result"
    }
   ],
   "source": [
    "printmat(partial_trace(rho_i,[3]).evolve(exp_swap_control_2).data - partial_trace(rho_i.evolve(Operator(qc2)),[3]).data, max_size=10)"
   ]
  },
  {
   "cell_type": "markdown",
   "id": "2471eed2-c968-4b64-9adf-1733a48093d5",
   "metadata": {
    "jp-MarkdownHeadingCollapsed": true,
    "tags": []
   },
   "source": [
    "## Four qubits"
   ]
  },
  {
   "cell_type": "code",
   "execution_count": 2261,
   "id": "77951dbd-be71-4f71-804c-cd0719a348cb",
   "metadata": {},
   "outputs": [],
   "source": [
    "qc = QuantumCircuit(4)\n",
    "qc.swap([0,1],[2,3]);"
   ]
  },
  {
   "cell_type": "code",
   "execution_count": null,
   "id": "6d53b305-8fe8-4e4c-8578-6ac2c4c06d88",
   "metadata": {},
   "outputs": [
    {
     "data": {
      "image/png": "[encoded data removed]",
      "text/plain": [
       "<Figure size 206.997x264.88 with 1 Axes>"
      ]
     },
     "execution_count": 944,
     "metadata": {},
     "output_type": "execute_result"
    }
   ],
   "source": [
    "qc.draw('mpl')"
   ]
  },
  {
   "cell_type": "code",
   "execution_count": null,
   "id": "2ab9abe1-78ba-428b-96fd-e17ed3ccb0b1",
   "metadata": {},
   "outputs": [],
   "source": [
    "swap_4 = Operator(qc)\n",
    "exp_swap_control_4 = Operator(Operator(MatrixOp(dt*swap_4).exp_i()).to_instruction().control(1))"
   ]
  },
  {
   "cell_type": "code",
   "execution_count": null,
   "id": "1a58ddc1-e3d3-4b06-a78d-70feae8c81b3",
   "metadata": {},
   "outputs": [],
   "source": [
    "qc2 = QuantumCircuit(6)\n",
    "\n",
    "qc2.cnot(2,0)\n",
    "qc2.cry(-np.pi/2, control_qubit=0, target_qubit=2)\n",
    "\n",
    "qc2.barrier()\n",
    "\n",
    "qc2.cnot(3,1)\n",
    "qc2.cry(-np.pi/2, control_qubit=1, target_qubit=3)\n",
    "\n",
    "qc2.barrier()\n",
    "\n",
    "qc2.toffoli(0, 2, 4)\n",
    "qc2.toffoli(1, 3, 4)\n",
    "\n",
    "qc2.crz(2*dt, 5,4)\n",
    "\n",
    "qc2.toffoli(1, 3, 4)\n",
    "qc2.toffoli(0, 2, 4)\n",
    "\n",
    "qc2.barrier()\n",
    "\n",
    "qc2.cry(np.pi/2, control_qubit=1, target_qubit=3)\n",
    "qc2.cnot(3,1)\n",
    "\n",
    "qc2.barrier()\n",
    "\n",
    "qc2.cry(np.pi/2, control_qubit=0, target_qubit=2)\n",
    "qc2.cnot(2,0)"
   ]
  },
  {
   "cell_type": "code",
   "execution_count": null,
   "id": "23ca441c-bba0-4d79-a0ac-d67dc69d1834",
   "metadata": {},
   "outputs": [],
   "source": [
    "qc3 = QuantumCircuit(6)\n",
    "qc3 = qc3.compose(qc2, [1,2,3,4,5,0])"
   ]
  },
  {
   "cell_type": "code",
   "execution_count": null,
   "id": "c69164d9-029d-4aa1-aafc-edd6b3d68945",
   "metadata": {},
   "outputs": [
    {
     "data": {
      "image/png": "[encoded data removed]",
      "text/plain": [
       "<Figure size 1110x385.28 with 1 Axes>"
      ]
     },
     "execution_count": 949,
     "metadata": {},
     "output_type": "execute_result"
    }
   ],
   "source": [
    "qc3.draw('mpl')"
   ]
  },
  {
   "cell_type": "code",
   "execution_count": null,
   "id": "cd3f329d-487f-431b-94e0-0714395e7297",
   "metadata": {},
   "outputs": [],
   "source": [
    "rho_i = DensityMatrix(np.diag([1,0]))^random_density_matrix(2**5)"
   ]
  },
  {
   "cell_type": "code",
   "execution_count": null,
   "id": "7c657d7f-2a66-4126-8438-3882a5e9a097",
   "metadata": {},
   "outputs": [],
   "source": [
    "# Simulated\n",
    "rho_f_simul = partial_trace(rho_i, [5]).evolve(exp_swap_control_4)\n",
    "\n",
    "# Circuit\n",
    "rho_f_qc = partial_trace(rho_i.evolve(Operator(qc3)), [5])"
   ]
  },
  {
   "cell_type": "code",
   "execution_count": null,
   "id": "b65bea72-743b-41d6-90bf-0fec5a1a1383",
   "metadata": {},
   "outputs": [
    {
     "data": {
      "text/latex": [
       "$$\n",
       "\n",
       "\\begin{bmatrix}\n",
       "0 & 0 & 0 & \\cdots & 0 & 0 & 0  \\\\\n",
       " 0 & 0 & 0 & \\cdots & 0 & 0 & 0  \\\\\n",
       " 0 & 0 & 0 & \\cdots & 0 & 0 & 0  \\\\\n",
       " \\vdots & \\vdots & \\vdots & \\ddots & \\vdots & \\vdots & \\vdots \\\\\n",
       " 0 & 0 & 0 & \\cdots & 0 & 0 & 0  \\\\\n",
       " 0 & 0 & 0 & \\cdots & 0 & 0 & 0  \\\\\n",
       " 0 & 0 & 0 & \\cdots & 0 & 0 & 0  \\\\\n",
       " \\end{bmatrix}\n",
       "$$"
      ],
      "text/plain": [
       "<IPython.core.display.Latex object>"
      ]
     },
     "execution_count": 959,
     "metadata": {},
     "output_type": "execute_result"
    }
   ],
   "source": [
    "printmat(rho_f_simul.data - rho_f_qc.data)"
   ]
  },
  {
   "cell_type": "markdown",
   "id": "c9bbab93-fb13-4c7d-ae60-70bda89b4fd4",
   "metadata": {
    "jp-MarkdownHeadingCollapsed": true,
    "tags": []
   },
   "source": [
    "## Symbolic Representation"
   ]
  },
  {
   "cell_type": "code",
   "execution_count": 3173,
   "id": "6efe61e4-6e86-4b50-b5f2-d8faf93816f9",
   "metadata": {},
   "outputs": [],
   "source": [
    "import sympy as sp"
   ]
  },
  {
   "cell_type": "code",
   "execution_count": 828,
   "id": "4d2e28b5-3b82-43f8-9951-2af2a2c2e795",
   "metadata": {},
   "outputs": [],
   "source": [
    "def kron(*m):\n",
    "    if(len(m)==1):\n",
    "        return m[0]\n",
    "    return sp.Matrix(np.kron(m[0], kron(*m[1:])))"
   ]
  },
  {
   "cell_type": "code",
   "execution_count": 3174,
   "id": "2b2f972a-b457-4727-801c-c825511298d8",
   "metadata": {},
   "outputs": [],
   "source": [
    "def mycontrol(x, order=0):\n",
    "    if(order):\n",
    "        return sp.Matrix(np.kron(np.diag([0,1]),x)) + sp.Matrix(np.kron(np.diag([1,0]), np.eye(x.shape[0])))\n",
    "    return sp.Matrix(np.kron(x, np.diag([0,1]))) + sp.Matrix(np.kron(np.eye(x.shape[0]), np.diag([1,0])))\n",
    "    "
   ]
  },
  {
   "cell_type": "code",
   "execution_count": 915,
   "id": "d107cd47-4daa-4ffd-b4e3-87de909e31fc",
   "metadata": {},
   "outputs": [],
   "source": [
    "def rz(x):\n",
    "    return sp.simplify((-sp.I/2*x*Z).exp())\n",
    "\n",
    "def ry(x):\n",
    "    return sp.simplify((-sp.I/2*x*Y).exp())\n",
    "\n",
    "def cry(x):\n",
    "    return mycontrol(ry(x))"
   ]
  },
  {
   "cell_type": "code",
   "execution_count": 674,
   "id": "903f8780-8c03-4ac8-9444-9b80f89fec44",
   "metadata": {},
   "outputs": [],
   "source": [
    "a, b, t =  sp.symbols('a b t') "
   ]
  },
  {
   "cell_type": "code",
   "execution_count": 702,
   "id": "6b3adfa0-0a6a-4b87-b526-b0304f3ff3da",
   "metadata": {},
   "outputs": [],
   "source": [
    "I = np.eye(2)"
   ]
  },
  {
   "cell_type": "code",
   "execution_count": 714,
   "id": "3d339c41-7f47-4dc8-bb28-835729e39aad",
   "metadata": {},
   "outputs": [],
   "source": [
    "Y = sp.Matrix([[0, -sp.I], [sp.I, 0]])"
   ]
  },
  {
   "cell_type": "code",
   "execution_count": 740,
   "id": "dcb52ada-245e-4145-a02f-5a855daddf0b",
   "metadata": {},
   "outputs": [],
   "source": [
    "Z = sp.Matrix([[1, 0], [0, -1]])"
   ]
  },
  {
   "cell_type": "code",
   "execution_count": 826,
   "id": "4e614183-ddc0-438e-9048-fc8db6ee0207",
   "metadata": {},
   "outputs": [],
   "source": [
    "myswap = sp.Matrix(np.array([[1,0,0,0],[0,0,1,0],[0,1,0,0],[0,0,0,1]]))"
   ]
  },
  {
   "cell_type": "code",
   "execution_count": 847,
   "id": "f71e2fb7-edc5-469a-8a26-96bf56559c39",
   "metadata": {},
   "outputs": [
    {
     "data": {
      "text/latex": [
       "$\\displaystyle \\left[\\begin{matrix}e^{- \\frac{i t}{2}} & 0 & 0 & 0\\\\0 & \\cos{\\left(\\frac{t}{2} \\right)} & - i \\sin{\\left(\\frac{t}{2} \\right)} & 0\\\\0 & - i \\sin{\\left(\\frac{t}{2} \\right)} & \\cos{\\left(\\frac{t}{2} \\right)} & 0\\\\0 & 0 & 0 & e^{- \\frac{i t}{2}}\\end{matrix}\\right]$"
      ],
      "text/plain": [
       "Matrix([\n",
       "[exp(-I*t/2),           0,           0,           0],\n",
       "[          0,    cos(t/2), -I*sin(t/2),           0],\n",
       "[          0, -I*sin(t/2),    cos(t/2),           0],\n",
       "[          0,           0,           0, exp(-I*t/2)]])"
      ]
     },
     "execution_count": 847,
     "metadata": {},
     "output_type": "execute_result"
    }
   ],
   "source": [
    "myswap_exp = sp.simplify((-sp.I/2*t*myswap).exp())\n",
    "myswap_exp"
   ]
  },
  {
   "cell_type": "code",
   "execution_count": 848,
   "id": "09112810-8d61-4272-8147-3087c6e9d6a9",
   "metadata": {},
   "outputs": [],
   "source": [
    "cnot = mycontrol(X)"
   ]
  },
  {
   "cell_type": "code",
   "execution_count": 849,
   "id": "b53897e4-4c7b-4199-a821-1784299ffa62",
   "metadata": {},
   "outputs": [
    {
     "data": {
      "text/latex": [
       "$\\displaystyle \\left[\\begin{matrix}1.0 & 0 & 0 & 0\\\\0 & 0 & 0 & 1.0\\\\0 & 0 & 1.0 & 0\\\\0 & 1.0 & 0 & 0\\end{matrix}\\right]$"
      ],
      "text/plain": [
       "Matrix([\n",
       "[1.0,   0,   0,   0],\n",
       "[  0,   0,   0, 1.0],\n",
       "[  0,   0, 1.0,   0],\n",
       "[  0, 1.0,   0,   0]])"
      ]
     },
     "execution_count": 849,
     "metadata": {},
     "output_type": "execute_result"
    }
   ],
   "source": [
    "cnot"
   ]
  },
  {
   "cell_type": "code",
   "execution_count": 850,
   "id": "ebbdbd9d-61cd-4834-ac18-55eb3f960b83",
   "metadata": {},
   "outputs": [],
   "source": [
    "toffoli = mycontrol(cnot)"
   ]
  },
  {
   "cell_type": "code",
   "execution_count": 851,
   "id": "e8e6b4ca-9d0f-427c-b602-e645b9a80fe9",
   "metadata": {},
   "outputs": [
    {
     "data": {
      "text/latex": [
       "$\\displaystyle \\left[\\begin{matrix}1.0 & 0 & 0 & 0 & 0 & 0 & 0 & 0\\\\0 & 1.0 & 0 & 0 & 0 & 0 & 0 & 0\\\\0 & 0 & 1.0 & 0 & 0 & 0 & 0 & 0\\\\0 & 0 & 0 & 0 & 0 & 0 & 0 & 1.0\\\\0 & 0 & 0 & 0 & 1.0 & 0 & 0 & 0\\\\0 & 0 & 0 & 0 & 0 & 1.0 & 0 & 0\\\\0 & 0 & 0 & 0 & 0 & 0 & 1.0 & 0\\\\0 & 0 & 0 & 1.0 & 0 & 0 & 0 & 0\\end{matrix}\\right]$"
      ],
      "text/plain": [
       "Matrix([\n",
       "[1.0,   0,   0,   0,   0,   0,   0,   0],\n",
       "[  0, 1.0,   0,   0,   0,   0,   0,   0],\n",
       "[  0,   0, 1.0,   0,   0,   0,   0,   0],\n",
       "[  0,   0,   0,   0,   0,   0,   0, 1.0],\n",
       "[  0,   0,   0,   0, 1.0,   0,   0,   0],\n",
       "[  0,   0,   0,   0,   0, 1.0,   0,   0],\n",
       "[  0,   0,   0,   0,   0,   0, 1.0,   0],\n",
       "[  0,   0,   0, 1.0,   0,   0,   0,   0]])"
      ]
     },
     "execution_count": 851,
     "metadata": {},
     "output_type": "execute_result"
    }
   ],
   "source": [
    "toffoli"
   ]
  },
  {
   "cell_type": "code",
   "execution_count": 923,
   "id": "6f204756-48ba-4c96-b96b-7e034929cfba",
   "metadata": {},
   "outputs": [],
   "source": [
    "fh = (kron(I, mycontrol(X, order=1), I)*kron(I, cry(-a), I))*kron(toffoli, I)*sp.Matrix(mycontrol(kron(rz(t), I, I)))"
   ]
  },
  {
   "cell_type": "code",
   "execution_count": 924,
   "id": "9c911d35-a0c0-4a6d-882c-e9c316f7738b",
   "metadata": {},
   "outputs": [],
   "source": [
    "matrix = ((fh * kron(toffoli, I) * kron(I, cry(a), I) * (kron(I, mycontrol(X, order=1), I))).subs({a:np.pi/2}))"
   ]
  },
  {
   "cell_type": "code",
   "execution_count": 925,
   "id": "a1b79e8b-06ea-4b89-8e1b-812a83fea8e0",
   "metadata": {},
   "outputs": [],
   "source": [
    "finalansatz = sp.nsimplify(matrix).rewrite(sp.cos).trigsimp()"
   ]
  },
  {
   "cell_type": "markdown",
   "id": "c1f5aea2-fc9e-44be-bdf2-8b740b81cdf3",
   "metadata": {
    "tags": []
   },
   "source": [
    "### Sympy circuit"
   ]
  },
  {
   "cell_type": "code",
   "execution_count": 926,
   "id": "87bdf0eb-ed30-4c85-ae74-2e14fff59c07",
   "metadata": {},
   "outputs": [
    {
     "data": {
      "text/latex": [
       "$\\displaystyle \\left[\\begin{matrix}1 & 0 & 0 & 0 & 0 & 0 & 0 & 0\\\\0 & 0.995004165278026 - 0.0998334166468282 i & 0 & 0 & 0 & 0 & 0 & 0\\\\0 & 0 & 1 & 0 & 0 & 0 & 0 & 0\\\\0 & 0 & 0 & 0.995004165278026 & 0 & 0.0998334166468282 i & 0 & 0\\\\0 & 0 & 0 & 0 & 1 & 0 & 0 & 0\\\\0 & 0 & 0 & 0.0998334166468282 i & 0 & 0.995004165278026 & 0 & 0\\\\0 & 0 & 0 & 0 & 0 & 0 & 1 & 0\\\\0 & 0 & 0 & 0 & 0 & 0 & 0 & 0.995004165278026 - 0.0998334166468282 i\\end{matrix}\\right]$"
      ],
      "text/plain": [
       "Matrix([\n",
       "[1,                                        0, 0,                    0, 0,                    0, 0,                                        0],\n",
       "[0, 0.995004165278026 - 0.0998334166468282*I, 0,                    0, 0,                    0, 0,                                        0],\n",
       "[0,                                        0, 1,                    0, 0,                    0, 0,                                        0],\n",
       "[0,                                        0, 0,    0.995004165278026, 0, 0.0998334166468282*I, 0,                                        0],\n",
       "[0,                                        0, 0,                    0, 1,                    0, 0,                                        0],\n",
       "[0,                                        0, 0, 0.0998334166468282*I, 0,    0.995004165278026, 0,                                        0],\n",
       "[0,                                        0, 0,                    0, 0,                    0, 1,                                        0],\n",
       "[0,                                        0, 0,                    0, 0,                    0, 0, 0.995004165278026 - 0.0998334166468282*I]])"
      ]
     },
     "execution_count": 926,
     "metadata": {},
     "output_type": "execute_result"
    }
   ],
   "source": [
    "finalansatz[:8,:8].subs({t:2*dt})"
   ]
  },
  {
   "cell_type": "markdown",
   "id": "517aaa66-310c-4df0-a7d7-98e671a31a75",
   "metadata": {},
   "source": [
    "### Qiskit Circuit"
   ]
  },
  {
   "cell_type": "code",
   "execution_count": 927,
   "id": "5405e685-5872-471f-bc56-070489236c84",
   "metadata": {},
   "outputs": [
    {
     "data": {
      "text/latex": [
       "$$\n",
       "\n",
       "\\begin{bmatrix}\n",
       "1 & 0 & 0 & 0 & 0 & 0 & 0 & 0  \\\\\n",
       " 0 & 0.995 - 0.0998i & 0 & 0 & 0 & 0 & 0 & 0  \\\\\n",
       " 0 & 0 & 1 & 0 & 0 & 0 & 0 & 0  \\\\\n",
       " 0 & 0 & 0 & 0.995 & 0 & 0.0998i & 0 & 0  \\\\\n",
       " 0 & 0 & 0 & 0 & 1 & 0 & 0 & 0  \\\\\n",
       " 0 & 0 & 0 & 0.0998i & 0 & 0.995 & 0 & 0  \\\\\n",
       " 0 & 0 & 0 & 0 & 0 & 0 & 1 & 0  \\\\\n",
       " 0 & 0 & 0 & 0 & 0 & 0 & 0 & 0.995 - 0.0998i  \\\\\n",
       " \\end{bmatrix}\n",
       "$$"
      ],
      "text/plain": [
       "<IPython.core.display.Latex object>"
      ]
     },
     "execution_count": 927,
     "metadata": {},
     "output_type": "execute_result"
    }
   ],
   "source": [
    "printmat(Operator(qc2).data[:8,:8], max_size=16)"
   ]
  },
  {
   "cell_type": "markdown",
   "id": "bf563da1-c1b4-4205-b2f8-da7b9eafeb6c",
   "metadata": {},
   "source": [
    "### Sympy math"
   ]
  },
  {
   "cell_type": "code",
   "execution_count": 928,
   "id": "7187e3d2-56f5-4f63-a2ce-4e9d23134d0a",
   "metadata": {},
   "outputs": [
    {
     "data": {
      "text/latex": [
       "$\\displaystyle \\left[\\begin{matrix}1.0 & 0 & 0 & 0 & 0 & 0 & 0 & 0\\\\0 & 0.995004165278026 - 0.0998334166468282 i & 0 & 0 & 0 & 0 & 0 & 0\\\\0 & 0 & 1.0 & 0 & 0 & 0 & 0 & 0\\\\0 & 0 & 0 & 0.995004165278026 & 0 & - 0.0998334166468282 i & 0 & 0\\\\0 & 0 & 0 & 0 & 1.0 & 0 & 0 & 0\\\\0 & 0 & 0 & - 0.0998334166468282 i & 0 & 0.995004165278026 & 0 & 0\\\\0 & 0 & 0 & 0 & 0 & 0 & 1.0 & 0\\\\0 & 0 & 0 & 0 & 0 & 0 & 0 & 0.995004165278026 - 0.0998334166468282 i\\end{matrix}\\right]$"
      ],
      "text/plain": [
       "Matrix([\n",
       "[1.0,                                        0,   0,                     0,   0,                     0,   0,                                        0],\n",
       "[  0, 0.995004165278026 - 0.0998334166468282*I,   0,                     0,   0,                     0,   0,                                        0],\n",
       "[  0,                                        0, 1.0,                     0,   0,                     0,   0,                                        0],\n",
       "[  0,                                        0,   0,     0.995004165278026,   0, -0.0998334166468282*I,   0,                                        0],\n",
       "[  0,                                        0,   0,                     0, 1.0,                     0,   0,                                        0],\n",
       "[  0,                                        0,   0, -0.0998334166468282*I,   0,     0.995004165278026,   0,                                        0],\n",
       "[  0,                                        0,   0,                     0,   0,                     0, 1.0,                                        0],\n",
       "[  0,                                        0,   0,                     0,   0,                     0,   0, 0.995004165278026 - 0.0998334166468282*I]])"
      ]
     },
     "execution_count": 928,
     "metadata": {},
     "output_type": "execute_result"
    }
   ],
   "source": [
    "sp.simplify(mycontrol(myswap_exp).subs({t:2*dt}))"
   ]
  },
  {
   "cell_type": "markdown",
   "id": "cb3e6615-ff3f-4fd5-b48b-fba513c3aa36",
   "metadata": {},
   "source": [
    "### Qiskit Math"
   ]
  },
  {
   "cell_type": "code",
   "execution_count": 929,
   "id": "8dcd5328-3d8d-4c66-8235-9ccd06e5c916",
   "metadata": {},
   "outputs": [
    {
     "data": {
      "text/latex": [
       "$$\n",
       "\n",
       "\\begin{bmatrix}\n",
       "1 & 0 & 0 & 0 & 0 & 0 & 0 & 0  \\\\\n",
       " 0 & 0.995 - 0.0998i & 0 & 0 & 0 & 0 & 0 & 0  \\\\\n",
       " 0 & 0 & 1 & 0 & 0 & 0 & 0 & 0  \\\\\n",
       " 0 & 0 & 0 & 0.995 & 0 & -0.0998i & 0 & 0  \\\\\n",
       " 0 & 0 & 0 & 0 & 1 & 0 & 0 & 0  \\\\\n",
       " 0 & 0 & 0 & -0.0998i & 0 & 0.995 & 0 & 0  \\\\\n",
       " 0 & 0 & 0 & 0 & 0 & 0 & 1 & 0  \\\\\n",
       " 0 & 0 & 0 & 0 & 0 & 0 & 0 & 0.995 - 0.0998i  \\\\\n",
       " \\end{bmatrix}\n",
       "$$"
      ],
      "text/plain": [
       "<IPython.core.display.Latex object>"
      ]
     },
     "execution_count": 929,
     "metadata": {},
     "output_type": "execute_result"
    }
   ],
   "source": [
    "printmat(exp_swap_control_2, max_size=16)"
   ]
  },
  {
   "cell_type": "markdown",
   "id": "416fdccb-14f2-43ec-8d4a-757b4858de5d",
   "metadata": {
    "jp-MarkdownHeadingCollapsed": true,
    "tags": []
   },
   "source": [
    "## Showing $Tr_{\\rho^{\\otimes N}}\\big[\\prod_{j=1}^N(\\text{C-}e^{-iS_j\\frac{t}{N}})\\big] \\approx \\text{C-}e^{-i\\rho t}$"
   ]
  },
  {
   "cell_type": "code",
   "execution_count": 2556,
   "id": "82e71eb5-547b-434e-b449-71f5dda85606",
   "metadata": {},
   "outputs": [],
   "source": [
    "t = 1\n",
    "N = 1000\n",
    "dt = t/N"
   ]
  },
  {
   "cell_type": "code",
   "execution_count": 2557,
   "id": "ccae9e1a-f115-4e1f-95a6-edb434a092a7",
   "metadata": {},
   "outputs": [],
   "source": [
    "# X \\in R^3x4, 4-D data arranged rowwise \n",
    "D = np.array([[0.32241437, 0.04200095],\n",
    "       [0.32591982, 0.04014517],\n",
    "       [0.17208166, 0.61868603]])\n",
    "# Normalise each entry \n",
    "X = np.array([x / np.linalg.norm(x) for x in D])\n",
    "\n",
    "# Columns\n",
    "X = X.T\n",
    "\n",
    "# Inner product between pairs of features; equivalent to |psi_i><psi_i| per i number of features\n",
    "Q = 1/3*np.matmul(X,X.T)\n",
    "rho = DensityMatrix(Q)"
   ]
  },
  {
   "cell_type": "code",
   "execution_count": 2558,
   "id": "e9304d66-e1ae-4d4a-879c-5ea83bd8fb39",
   "metadata": {},
   "outputs": [
    {
     "data": {
      "text/plain": [
       "(0.2529181977115852+0j)"
      ]
     },
     "execution_count": 2558,
     "metadata": {},
     "output_type": "execute_result"
    }
   ],
   "source": [
    "cols = [DensityMatrix(np.outer(x,x)) for x in X.T] \n",
    "\n",
    "evals, evecs = np.linalg.eig(rho.data)\n",
    "\n",
    "sigma = DensityMatrix(np.outer(evecs[1], evecs[1]))\n",
    "\n",
    "evals[1]"
   ]
  },
  {
   "cell_type": "code",
   "execution_count": 2559,
   "id": "d9e7b7a4-f2a5-432a-b857-5b6841e797cb",
   "metadata": {},
   "outputs": [
    {
     "data": {
      "image/png": "[encoded data removed]",
      "text/plain": [
       "<Figure size 628.397x264.88 with 1 Axes>"
      ]
     },
     "execution_count": 2559,
     "metadata": {},
     "output_type": "execute_result"
    }
   ],
   "source": [
    "make_exp_swap_control_2(dt).draw('mpl')"
   ]
  },
  {
   "cell_type": "code",
   "execution_count": 2560,
   "id": "37e6d87c-5158-48e3-8e24-69e8b48ed90a",
   "metadata": {
    "tags": []
   },
   "outputs": [],
   "source": [
    "# Evolve sigma via Trotter\n",
    "sigma_i = sigma.copy() ^ random_density_matrix(2)\n",
    "sigma_ = sigma_i.copy()\n",
    "for i in range(N):\n",
    "    for x in cols:\n",
    "        sigma_ = DensityMatrix(partial_trace((DensityMatrix(np.diag([1,0])) ^ x ^ sigma_).evolve(Operator(make_exp_swap_control_2(dt/len(cols)))), [2,3])) # Leftmost is lowest, except in partial trace where labeling is important"
   ]
  },
  {
   "cell_type": "code",
   "execution_count": 2561,
   "id": "80b3f2f0-4c25-46ce-b552-2f5d1782ade0",
   "metadata": {},
   "outputs": [],
   "source": [
    "exp_rho = Operator(Operator(MatrixOp(t*Q).exp_i()).to_instruction().control(1))"
   ]
  },
  {
   "cell_type": "code",
   "execution_count": 2562,
   "id": "f0e42d0c-ceb0-4708-bda8-829d8d9970ce",
   "metadata": {},
   "outputs": [
    {
     "data": {
      "text/latex": [
       "$$\n",
       "\n",
       "\\begin{bmatrix}\n",
       "0 & 0. - 0.i & 0 & 0.i  \\\\\n",
       " 0. + 0.i & 0.0002 & 0. + 0.i & 0. + 0.i  \\\\\n",
       " 0 & 0. - 0.i & 0 & 0.i  \\\\\n",
       " -0.i & 0. - 0.i & -0.i & -0.0002  \\\\\n",
       " \\end{bmatrix}\n",
       "$$"
      ],
      "text/plain": [
       "<IPython.core.display.Latex object>"
      ]
     },
     "execution_count": 2562,
     "metadata": {},
     "output_type": "execute_result"
    }
   ],
   "source": [
    "printmat(sigma_.data - sigma_i.evolve(exp_rho).data)"
   ]
  },
  {
   "cell_type": "markdown",
   "id": "4e3072fd-0788-4516-a5ad-f363b5abcd9a",
   "metadata": {
    "tags": []
   },
   "source": [
    "# QPE"
   ]
  },
  {
   "cell_type": "markdown",
   "id": "5fc7aed0-47c8-453a-8635-2a23ef42d55f",
   "metadata": {
    "jp-MarkdownHeadingCollapsed": true,
    "tags": []
   },
   "source": [
    "## Helper functions"
   ]
  },
  {
   "cell_type": "code",
   "execution_count": 2392,
   "id": "de743c3d-4a43-4bf1-bef0-ae1cde09be5c",
   "metadata": {},
   "outputs": [],
   "source": [
    "def c_es2(par):\n",
    "    qc2 = QuantumCircuit(4)\n",
    "\n",
    "    qc2.cnot(2,1)\n",
    "    qc2.cry(-np.pi/2, control_qubit=1, target_qubit=2)\n",
    "\n",
    "    qc2.barrier()\n",
    "\n",
    "    qc2.toffoli(1, 2, 3)\n",
    "    qc2.crz(2*par, 0,3)\n",
    "    qc2.toffoli(1, 2, 3)\n",
    "\n",
    "    qc2.barrier()\n",
    "\n",
    "    qc2.cry(np.pi/2, control_qubit=1, target_qubit=2)\n",
    "    qc2.cnot(2,1)\n",
    "    \n",
    "    return qc2\n",
    "\n",
    "def qc_swap2():\n",
    "    qc = QuantumCircuit(2)\n",
    "    qc.swap([0],[1])\n",
    "    return qc"
   ]
  },
  {
   "cell_type": "markdown",
   "id": "d3699764-04fa-4081-a0d4-825f318a6054",
   "metadata": {
    "tags": []
   },
   "source": [
    "## Implementation"
   ]
  },
  {
   "cell_type": "code",
   "execution_count": 66,
   "id": "91bc2530-a8e1-486c-aaa7-4cd067abdc54",
   "metadata": {},
   "outputs": [],
   "source": [
    "from qiskit.opflow import I, X, Y, Z\n",
    "\n",
    "from qiskit.circuit.library import QFT"
   ]
  },
  {
   "cell_type": "code",
   "execution_count": 67,
   "id": "5699eba0-0ccf-4f9b-8ff3-7e2053bfb08a",
   "metadata": {},
   "outputs": [],
   "source": [
    "def exp_rho(x, Q):\n",
    "    return Operator(Operator(MatrixOp(x*Q).exp_i()).to_instruction().control(1))"
   ]
  },
  {
   "cell_type": "code",
   "execution_count": 68,
   "id": "1d2a1bc5-bd6d-49d8-95a0-b45f66dc346c",
   "metadata": {},
   "outputs": [],
   "source": [
    "def qft_dagger(qc, n):\n",
    "    \"\"\"n-qubit QFTdagger the first n qubits in circ\"\"\"\n",
    "    # Don't forget the Swaps!\n",
    "    for qubit in range(n//2):\n",
    "        qc.swap(qubit, n-qubit-1)\n",
    "    for j in range(n):\n",
    "        for m in range(j):\n",
    "            qc.cp(-math.pi/float(2**(j-m)), m, j)\n",
    "        qc.h(j)"
   ]
  },
  {
   "cell_type": "code",
   "execution_count": 70,
   "id": "be4c0ea9-bdca-4c17-8bf7-717dc8c56478",
   "metadata": {},
   "outputs": [],
   "source": [
    "m = 3\n",
    "D = np.random.rand(m,2)"
   ]
  },
  {
   "cell_type": "code",
   "execution_count": 69,
   "id": "18c2b77d-3a2b-4741-9283-7c888753598e",
   "metadata": {},
   "outputs": [],
   "source": [
    "# 0.25\n",
    "D = np.array([[0.32241437, 0.04200095],\n",
    "       [0.32591982, 0.04014517],\n",
    "       [0.17208166, 0.61868603]])"
   ]
  },
  {
   "cell_type": "code",
   "execution_count": 77,
   "id": "08da9971-1602-4774-87ad-a9817c919db6",
   "metadata": {},
   "outputs": [],
   "source": [
    "# well partitioned\n",
    "D = np.array([[0.68392582, 0.11945512],\n",
    "       [0.03946855, 0.90996401],\n",
    "       [0.80280525, 0.216806  ]])"
   ]
  },
  {
   "cell_type": "code",
   "execution_count": 78,
   "id": "476bfb81-cd06-4c4c-aede-8200db352a61",
   "metadata": {},
   "outputs": [],
   "source": [
    "# Normalise each entry \n",
    "X = np.array([x / np.linalg.norm(x) for x in D])\n",
    "X = X.T\n",
    "\n",
    "# Inner product between pairs of features; equivalent to |psi_i><psi_i| per i number of features\n",
    "Q = (1/m)*(np.matmul(X,X.T))\n",
    "rho = DensityMatrix(Q)\n",
    "cols = [DensityMatrix(np.outer(x,x)) for x in X.T] \n",
    "\n",
    "evals, evecs = np.linalg.eig(Q)"
   ]
  },
  {
   "cell_type": "code",
   "execution_count": 79,
   "id": "cfce845b-d9e1-4c86-bb81-b940aaa11418",
   "metadata": {},
   "outputs": [],
   "source": [
    "evaldp = 5\n",
    "eval_reg = QuantumRegister(evaldp, 'eval')\n",
    "rho_reg = QuantumRegister(1, 'rho')\n",
    "anc_reg = QuantumRegister(2, 'ancilla')\n",
    "\n",
    "# 1/3 of QPE: Initialisation and Hadamards \n",
    "main_1 = QuantumCircuit(eval_reg, rho_reg)\n",
    "main_1.h(range(0,evaldp));\n",
    "\n",
    "#DensityMatrix(np.outer(evecs[:,1], evecs[:,1].conj()))\n",
    "sigma = rho\n",
    "rho2 = sigma ^ DensityMatrix(np.diag([1]+[0]*(2**eval_reg.size-1)))\n",
    "rho2 = rho2.evolve(Operator(main_1))\n",
    "\n",
    "# 2/3 of QPE: Controlled e^i\\rho t via m*N partial swaps\n",
    "# Uses \"c_es2\" defined under \"Two qubits\"\n",
    "# N = 100\n",
    "# rep = 0\n",
    "# for i in range(eval_reg.size):\n",
    "#     main_2 = QuantumCircuit(eval_reg, rho_reg , anc_reg)\n",
    "    \n",
    "#     t = -(2**rep)*2*np.pi\n",
    "#     dt = t/N\n",
    "    \n",
    "#     main_2 = main_2.compose(c_es2(dt/len(cols)).to_instruction(label=r\"$e^{iSdt}$\"), [eval_reg[i], *rho_reg, *anc_reg])\n",
    "#     rep +=1\n",
    "    \n",
    "#     for j in range(N):\n",
    "#         for x in cols:\n",
    "#             rho2 = partial_trace((DensityMatrix(np.diag([1,0])) ^ x ^ rho2).evolve(Operator(main_2)), list(range(eval_reg.size+1,main_2.num_qubits)))\n",
    "\n",
    "# Hardcoded approach (faster and more accurate for evading partial swap requirement) \n",
    "\n",
    "N = 100\n",
    "rep = 0\n",
    "for counting_qubit in range(eval_reg.size):\n",
    "    main_2 = QuantumCircuit(eval_reg, rho_reg , anc_reg)\n",
    "    \n",
    "    \n",
    "    #main_2 = main_2.compose(exp_rho(2*np.pi).to_instruction(), [counting_qubit ,4]); # This is CU\n",
    "    main_2 = main_2.compose(exp_rho(-2**rep*2*np.pi,Q).to_instruction(), [counting_qubit ,eval_reg.size])\n",
    "    #main_2.cp(math.pi/4, counting_qubit, 4);\n",
    "    rep +=1\n",
    "    \n",
    "    rho2 = partial_trace((DensityMatrix(np.diag([1,0])) ^ rho ^ rho2).evolve(Operator(main_2)), list(range(eval_reg.size+1,main_2.num_qubits)))\n",
    "\n",
    "# 3/3 of QPE: Inverse qft\n",
    "main_3 = QuantumCircuit(eval_reg, rho_reg)\n",
    "\n",
    "qft_dagger(main_3, eval_reg.size)\n",
    "rho2 = rho2.evolve(Operator(main_3))\n",
    "\n",
    "# Measure eigenvalue register and output most probable value\n",
    "outcomes2 = partial_trace(rho2, [eval_reg.size]).sample_counts(shots=10000)"
   ]
  },
  {
   "cell_type": "code",
   "execution_count": 82,
   "id": "4b574823-3530-4515-b7ba-21a2e35065d0",
   "metadata": {},
   "outputs": [
    {
     "name": "stdout",
     "output_type": "stream",
     "text": [
      "0\n"
     ]
    }
   ],
   "source": [
    "print(int(max(outcomes2, key=outcomes.get), 2)/(2**eval_reg.size)) #"
   ]
  },
  {
   "cell_type": "code",
   "execution_count": 87,
   "id": "f8bc11d1-729a-4fdc-a2c6-d98e50aeffe2",
   "metadata": {},
   "outputs": [
    {
     "name": "stdout",
     "output_type": "stream",
     "text": [
      "[0.70526542 0.29473458]\n",
      "0.71875\n"
     ]
    }
   ],
   "source": [
    "print(evals.real)\n",
    "print(int(max(outcomes2, key=outcomes2.get), 2)/(2**eval_reg.size)) # Important: binary to float via b/2^n"
   ]
  },
  {
   "cell_type": "code",
   "execution_count": 4368,
   "id": "0c54828d-d984-41d5-a31a-d16205575147",
   "metadata": {},
   "outputs": [],
   "source": [
    "outcomes2_lol = {round(int(k,2)/2**5,2):v for k,v in outcomes2.items()}\n",
    "outcomes1_lol = {round(int(k,2)/2**5,2):v for k,v in outcomes1.items()}"
   ]
  },
  {
   "cell_type": "code",
   "execution_count": 4367,
   "id": "2a27205d-9daa-46e7-bc86-bffd14903e07",
   "metadata": {},
   "outputs": [
    {
     "data": {
      "image/png": "[encoded data removed]",
      "text/plain": [
       "<Figure size 1000x500 with 1 Axes>"
      ]
     },
     "execution_count": 4367,
     "metadata": {},
     "output_type": "execute_result"
    }
   ],
   "source": [
    "qiskit.visualization.plot_histogram({round(int(k,2)/2**5,2):v for k,v in outcomes2.items()}, \n",
    "                                    title=\"Distribution of outcomes upon measuring the eigenvalue register in qPCA\", bar_labels=False,color=['mediumvioletred'],\n",
    "                                    figsize=(10,5))\n"
   ]
  },
  {
   "cell_type": "code",
   "execution_count": 4374,
   "id": "db3f5f29-aad7-4b6c-aa88-3a482c31bc10",
   "metadata": {},
   "outputs": [],
   "source": [
    "qiskit.visualization.plot_histogram({round(int(k,2)/2**5,2):v for k,v in outcomes.items()}, \n",
    "                                    title=\"Distribution of outcomes upon measuring the eigenvalue register in qPCA\", bar_labels=False,color=['mediumvioletred'],\n",
    "                                    figsize=(10,5))\n",
    "\n",
    "plot_histogram([outcomes1_lol, outcomes2_lol],\n",
    "               legend=['Simulator', 'Circuit decomposition'],\n",
    "               bar_labels=False,\n",
    "               title=\"Distribution of outcomes upon measuring the eigenvalue register in qPCA\", \n",
    "               color=['slateblue', 'mediumvioletred'],\n",
    "               figsize=(10,5))\n",
    "plt.savefig(\"./test.png\", bbox_inches=\"tight\")"
   ]
  },
  {
   "cell_type": "code",
   "execution_count": 4341,
   "id": "6e7638f1-aed2-4bcb-83f2-051454f971e3",
   "metadata": {},
   "outputs": [],
   "source": [
    "# well partitioned\n",
    "D = np.array([[0.68392582, 0.11945512],\n",
    "       [0.03946855, 0.90996401],\n",
    "       [0.80280525, 0.216806  ]])"
   ]
  },
  {
   "cell_type": "code",
   "execution_count": 4342,
   "id": "470fc2a3-2c7c-4f59-91bf-a1ce738b7645",
   "metadata": {},
   "outputs": [
    {
     "data": {
      "text/plain": [
       "(3, 2)"
      ]
     },
     "execution_count": 4342,
     "metadata": {},
     "output_type": "execute_result"
    }
   ],
   "source": [
    "D.shape"
   ]
  },
  {
   "cell_type": "code",
   "execution_count": null,
   "id": "03e8c3e9-7f1a-4c82-94ae-6fd1d3f5a6a3",
   "metadata": {},
   "outputs": [],
   "source": [
    "from qiskit.quantum_info import Statevector "
   ]
  },
  {
   "cell_type": "code",
   "execution_count": 3869,
   "id": "c6da4dcd-01ee-4f94-98a3-a79d51bc8010",
   "metadata": {},
   "outputs": [
    {
     "data": {
      "text/plain": [
       "Operator([[0.+0.j, 0.+0.j, 0.+0.j, ..., 0.+0.j, 0.+0.j, 0.+0.j],\n",
       "          [0.+0.j, 0.+0.j, 0.+0.j, ..., 0.+0.j, 0.+0.j, 0.+0.j],\n",
       "          [0.+0.j, 0.+0.j, 0.+0.j, ..., 0.+0.j, 0.+0.j, 0.+0.j],\n",
       "          ...,\n",
       "          [0.+0.j, 0.+0.j, 0.+0.j, ..., 0.+0.j, 0.+0.j, 0.+0.j],\n",
       "          [0.+0.j, 0.+0.j, 0.+0.j, ..., 0.+0.j, 0.+0.j, 0.+0.j],\n",
       "          [0.+0.j, 0.+0.j, 0.+0.j, ..., 0.+0.j, 0.+0.j, 0.+0.j]],\n",
       "         input_dims=(2, 2, 2, 2, 2), output_dims=(2, 2, 2, 2, 2))"
      ]
     },
     "execution_count": 3869,
     "metadata": {},
     "output_type": "execute_result"
    }
   ],
   "source": [
    "Statevector.from_int(round((2**5)*(evals[0])), 2**5).to_operator()"
   ]
  },
  {
   "cell_type": "markdown",
   "id": "3331f4c1-5fa3-43a8-9540-eb662d3524bd",
   "metadata": {
    "tags": []
   },
   "source": [
    "## Extracting Eigenvectors given Eigenvalue"
   ]
  },
  {
   "cell_type": "code",
   "execution_count": 3958,
   "id": "e5634d3c-5440-4ce5-a001-f77e9565c689",
   "metadata": {
    "tags": []
   },
   "outputs": [
    {
     "name": "stdout",
     "output_type": "stream",
     "text": [
      "[0.1982688 0.8017312]\n",
      "0.8125\n"
     ]
    },
    {
     "data": {
      "image/png": "[encoded data removed]",
      "text/plain": [
       "<Figure size 504x360 with 1 Axes>"
      ]
     },
     "execution_count": 3958,
     "metadata": {},
     "output_type": "execute_result"
    }
   ],
   "source": [
    "m = 3\n",
    "D = np.random.rand(m,2)\n",
    "\n",
    "# Normalise each entry \n",
    "X = np.array([x / np.linalg.norm(x) for x in D])\n",
    "X = X.T\n",
    "\n",
    "# Inner product between pairs of features; equivalent to |psi_i><psi_i| per i number of features\n",
    "Q = (1/m)*(np.matmul(X,X.T))\n",
    "rho = DensityMatrix(Q)\n",
    "cols = [DensityMatrix(np.outer(x,x)) for x in X.T] \n",
    "\n",
    "evals, evecs = np.linalg.eig(Q)\n",
    "\n",
    "evaldp = 5\n",
    "eval_reg = QuantumRegister(evaldp, 'eval')\n",
    "rho_reg = QuantumRegister(1, 'rho')\n",
    "anc_reg = QuantumRegister(2, 'ancilla')\n",
    "\n",
    "# 1/3 of QPE: Initialisation and Hadamards \n",
    "main_1 = QuantumCircuit(eval_reg, rho_reg)\n",
    "main_1.h(range(0,evaldp));\n",
    "\n",
    "#sigma = DensityMatrix(np.outer(evecs[:,1], evecs[:,1].conj()))\n",
    "sigma = rho\n",
    "rho2 = sigma ^ DensityMatrix(np.diag([1]+[0]*(2**eval_reg.size-1)))\n",
    "rho2 = rho2.evolve(Operator(main_1))\n",
    "\n",
    "# 2/3 of QPE: Controlled e^i\\rho t via m*N partial swaps\n",
    "#Hardcoded approach (faster and more accurate for evading partial swap requirement) \n",
    "\n",
    "N = 100\n",
    "rep = 0\n",
    "for counting_qubit in range(eval_reg.size):\n",
    "    main_2 = QuantumCircuit(eval_reg, rho_reg , anc_reg)\n",
    "    \n",
    "    \n",
    "    #main_2 = main_2.compose(exp_rho(2*np.pi).to_instruction(), [counting_qubit ,4]); # This is CU\n",
    "    main_2 = main_2.compose(exp_rho(-2**rep*2*np.pi,Q).to_instruction(), [counting_qubit ,eval_reg.size])\n",
    "    #main_2.cp(math.pi/4, counting_qubit, 4);\n",
    "    rep +=1\n",
    "    \n",
    "    rho2 = partial_trace((DensityMatrix(np.diag([1,0])) ^ rho ^ rho2).evolve(Operator(main_2)), list(range(eval_reg.size+1,main_2.num_qubits)))\n",
    "\n",
    "# 3/3 of QPE: Inverse qft\n",
    "main_3 = QuantumCircuit(eval_reg, rho_reg)\n",
    "\n",
    "qft_dagger(main_3, eval_reg.size)\n",
    "rho2 = rho2.evolve(Operator(main_3))\n",
    "\n",
    "# Measure eigenvalue register and output most probable value\n",
    "outcomes = partial_trace(rho2, [eval_reg.size]).sample_counts(shots=10000)\n",
    "\n",
    "print(evals.real)\n",
    "print(int(max(outcomes, key=outcomes.get), 2)/(2**eval_reg.size)) # Important: binary to float via b/2^n\n",
    "\n",
    "qiskit.visualization.plot_histogram(outcomes)"
   ]
  },
  {
   "cell_type": "code",
   "execution_count": 3961,
   "id": "4234bbce-a371-44df-8dae-c322f82c4d4e",
   "metadata": {},
   "outputs": [
    {
     "data": {
      "text/plain": [
       "'11010'"
      ]
     },
     "execution_count": 3961,
     "metadata": {},
     "output_type": "execute_result"
    }
   ],
   "source": [
    "bin(round((2**5)*(evals[1])))[2:].zfill(evaldp)"
   ]
  },
  {
   "cell_type": "code",
   "execution_count": 3987,
   "id": "b44a8e3e-e715-45ee-89e0-49669874936e",
   "metadata": {},
   "outputs": [],
   "source": [
    "outcome = rho2.measure(range(0, eval_reg.size))"
   ]
  },
  {
   "cell_type": "code",
   "execution_count": 3988,
   "id": "cb3ab1be-5733-44a1-aa1d-01a38c0768ba",
   "metadata": {},
   "outputs": [
    {
     "data": {
      "text/plain": [
       "('00110',\n",
       " DensityMatrix([[0.+0.j, 0.+0.j, 0.+0.j, ..., 0.+0.j, 0.+0.j, 0.+0.j],\n",
       "                [0.+0.j, 0.+0.j, 0.+0.j, ..., 0.+0.j, 0.+0.j, 0.+0.j],\n",
       "                [0.+0.j, 0.+0.j, 0.+0.j, ..., 0.+0.j, 0.+0.j, 0.+0.j],\n",
       "                ...,\n",
       "                [0.+0.j, 0.+0.j, 0.+0.j, ..., 0.+0.j, 0.+0.j, 0.+0.j],\n",
       "                [0.+0.j, 0.+0.j, 0.+0.j, ..., 0.+0.j, 0.+0.j, 0.+0.j],\n",
       "                [0.+0.j, 0.+0.j, 0.+0.j, ..., 0.+0.j, 0.+0.j, 0.+0.j]],\n",
       "               dims=(2, 2, 2, 2, 2, 2)))"
      ]
     },
     "execution_count": 3988,
     "metadata": {},
     "output_type": "execute_result"
    }
   ],
   "source": [
    "outcome"
   ]
  },
  {
   "cell_type": "code",
   "execution_count": 3993,
   "id": "8dac1716-b78f-4ee0-a907-c55fbb963c8d",
   "metadata": {},
   "outputs": [
    {
     "data": {
      "text/latex": [
       "$$\n",
       "\n",
       "\\begin{bmatrix}\n",
       "0.5357 & -0.4935  \\\\\n",
       " -0.4935 & 0.4643  \\\\\n",
       " \\end{bmatrix}\n",
       "$$"
      ],
      "text/plain": [
       "<IPython.core.display.Latex object>"
      ]
     },
     "execution_count": 3993,
     "metadata": {},
     "output_type": "execute_result"
    }
   ],
   "source": [
    "printmat(partial_trace(outcome[1], range(0, eval_reg.size)))"
   ]
  },
  {
   "cell_type": "code",
   "execution_count": 3994,
   "id": "19070e81-3603-4ce6-b024-02d5b3526238",
   "metadata": {},
   "outputs": [
    {
     "data": {
      "text/latex": [
       "$$\n",
       "\n",
       "\\begin{bmatrix}\n",
       "0.536 & -0.4987  \\\\\n",
       " -0.4987 & 0.464  \\\\\n",
       " \\end{bmatrix}\n",
       "$$"
      ],
      "text/plain": [
       "<IPython.core.display.Latex object>"
      ]
     },
     "execution_count": 3994,
     "metadata": {},
     "output_type": "execute_result"
    }
   ],
   "source": [
    "printmat(DensityMatrix(np.outer(evecs[:,0], evecs[:,0].conj())))"
   ]
  },
  {
   "cell_type": "code",
   "execution_count": 3998,
   "id": "5c1a1fe9-043e-48f2-a1e4-51c0802ad854",
   "metadata": {},
   "outputs": [],
   "source": [
    "evec_heur = partial_trace(outcome[1], range(0, eval_reg.size)).data"
   ]
  },
  {
   "cell_type": "code",
   "execution_count": 4001,
   "id": "a3e0255f-ffe4-4355-8c47-ef7770e311f9",
   "metadata": {},
   "outputs": [
    {
     "name": "stdout",
     "output_type": "stream",
     "text": [
      "DensityMatrix([[0.84798225+0.j, 0.35903809+0.j],\n",
      "               [0.35903809+0.j, 0.15201775+0.j]],\n",
      "              dims=(2,))\n"
     ]
    }
   ],
   "source": [
    "cols[0]"
   ]
  },
  {
   "cell_type": "code",
   "execution_count": 4005,
   "id": "f9310291-8c05-45e0-9b8c-310e21e9984c",
   "metadata": {},
   "outputs": [
    {
     "data": {
      "text/plain": [
       "0.4128834181703201"
      ]
     },
     "execution_count": 4005,
     "metadata": {},
     "output_type": "execute_result"
    }
   ],
   "source": [
    "np.sqrt(np.trace(np.matmul(evec_heur.data, cols[0].data)).real)"
   ]
  },
  {
   "cell_type": "markdown",
   "id": "4447232f-aa31-4ba5-89d3-269beb86cb33",
   "metadata": {},
   "source": [
    "## SKlearn"
   ]
  },
  {
   "cell_type": "code",
   "execution_count": 5,
   "id": "d31555d4-b233-4d84-9cb2-1e21e29342b5",
   "metadata": {},
   "outputs": [],
   "source": [
    "import setup\n",
    "from circuits import * \n",
    "from sklearn.datasets import load_digits\n",
    "from sklearn import preprocessing\n",
    "from sklearn.decomposition import KernelPCA"
   ]
  },
  {
   "cell_type": "code",
   "execution_count": 6,
   "id": "1321186a-cc1b-4e3d-aaaa-873d76a782d9",
   "metadata": {},
   "outputs": [
    {
     "data": {
      "text/plain": [
       "<Figure size 432x288 with 0 Axes>"
      ]
     },
     "metadata": {},
     "output_type": "display_data"
    },
    {
     "data": {
      "image/png": "[encoded data removed]",
      "text/plain": [
       "<Figure size 288x288 with 1 Axes>"
      ]
     },
     "metadata": {
      "needs_background": "light"
     },
     "output_type": "display_data"
    }
   ],
   "source": [
    "N = 100\n",
    "d = 64\n",
    "digits, _ = load_digits(return_X_y=True)\n",
    "digits_trunc = digits[:N]\n",
    "X = digits_trunc\n",
    "\n",
    "X = X[:,:d]\n",
    "\n",
    "X = X[~np.all(X == 0, axis=1)]\n",
    "m = X.shape[0]\n",
    "\n",
    "scaler = preprocessing.StandardScaler(with_std=False).fit(X)\n",
    "X = scaler.transform(X)\n",
    "\n",
    "plt.gray()\n",
    "\n",
    "plt.matshow(X[0].reshape(int(np.sqrt(d)), int(np.sqrt(d))));"
   ]
  },
  {
   "cell_type": "code",
   "execution_count": 7,
   "id": "f38d65e7-a0b4-439e-883a-2bdad1bb3436",
   "metadata": {},
   "outputs": [],
   "source": [
    "# Normalise each entry \n",
    "X = np.array([x / np.linalg.norm(x) for x in X])\n",
    "X = X.T\n",
    "\n",
    "# Inner product between pairs of features; equivalent to |psi_i><psi_i| per i number of features\n",
    "Q = (1/m)*(np.matmul(X,X.T))\n",
    "cols = [DensityMatrix(np.outer(x,x)) for x in X.T] \n",
    "rho = DensityMatrix(Q)\n",
    "\n",
    "evals, evecs = np.linalg.eig(Q)\n",
    "\n",
    "evaldp = 6\n",
    "eval_reg = QuantumRegister(evaldp, 'eval')\n",
    "rho_reg = QuantumRegister(round(np.log2(d)), 'rho')\n",
    "\n",
    "# 1/3 of QPE: Initialisation and Hadamards \n",
    "main_1 = QuantumCircuit(eval_reg, rho_reg)\n",
    "main_1.h(range(0,evaldp));\n",
    "\n",
    "#sigma = DensityMatrix(np.outer(evecs[:,1], evecs[:,1].conj())) # some evecs aren't valid?\n",
    "sigma = rho\n",
    "rho2 = sigma ^ DensityMatrix(np.diag([1]+[0]*(2**eval_reg.size-1)))\n",
    "rho2 = rho2.evolve(Operator(main_1))"
   ]
  },
  {
   "cell_type": "code",
   "execution_count": 8,
   "id": "dcba2051-713f-4b27-8990-ac4262628b7c",
   "metadata": {},
   "outputs": [],
   "source": [
    "def exp_rho(x, Q):\n",
    "    return Operator(Operator(MatrixOp(x*Q).exp_i()).to_instruction().control(1))"
   ]
  },
  {
   "cell_type": "code",
   "execution_count": null,
   "id": "07de7ae0-bd42-4d83-b12f-2b41040b82dc",
   "metadata": {},
   "outputs": [],
   "source": [
    "# Use qiskit circuit"
   ]
  },
  {
   "cell_type": "code",
   "execution_count": 777,
   "id": "16db9b8f-ac24-4f5e-bfc1-f280100405c5",
   "metadata": {},
   "outputs": [
    {
     "data": {
      "text/plain": [
       "True"
      ]
     },
     "execution_count": 777,
     "metadata": {},
     "output_type": "execute_result"
    }
   ],
   "source": [
    "sigma.is_valid()"
   ]
  },
  {
   "cell_type": "code",
   "execution_count": 778,
   "id": "4eadf435-b14a-4932-9d98-32b427d3e5bc",
   "metadata": {},
   "outputs": [
    {
     "name": "stdout",
     "output_type": "stream",
     "text": [
      "True\n",
      "True\n",
      "True\n",
      "True\n",
      "True\n",
      "True\n"
     ]
    }
   ],
   "source": [
    "# 2/3 of QPE: Controlled e^i\\rho t via m*N partial swaps\n",
    "#Hardcoded approach (faster and more accurate for evading partial swap requirement) \n",
    "\n",
    "rep = 0\n",
    "for counting_qubit in range(eval_reg.size):\n",
    "    main_2 = QuantumCircuit(eval_reg, rho_reg)\n",
    "    main_2 = main_2.compose(exp_rho(-2**rep*2*np.pi,Q).to_instruction(), [counting_qubit ,*rho_reg])\n",
    "    rep +=1\n",
    "    print(rho2.is_valid())\n",
    "    rho2 = rho2.evolve(Operator(main_2))"
   ]
  },
  {
   "cell_type": "code",
   "execution_count": 779,
   "id": "32daadab-044a-4d81-a336-949031d8e418",
   "metadata": {},
   "outputs": [],
   "source": [
    "# 3/3 of QPE: Inverse qft\n",
    "main_3 = QuantumCircuit(eval_reg, rho_reg)\n",
    "\n",
    "qft_dagger(main_3, eval_reg.size)\n",
    "rho2 = rho2.evolve(Operator(main_3))"
   ]
  },
  {
   "cell_type": "markdown",
   "id": "bbd326d7-2c6f-4a65-9e35-944dc33340d5",
   "metadata": {},
   "source": [
    "## Six qubit precision"
   ]
  },
  {
   "cell_type": "code",
   "execution_count": 780,
   "id": "16de5fd9-648b-4825-9353-9abc6a1f0282",
   "metadata": {},
   "outputs": [
    {
     "name": "stdout",
     "output_type": "stream",
     "text": [
      "[1.79618850e-01 1.59040937e-01 1.12909956e-01 9.69907156e-02\n",
      " 8.64204149e-02 4.69703775e-02 4.37590682e-02 3.38599886e-02\n",
      " 2.73360055e-02 2.61823090e-02 2.24566378e-02 1.82155343e-02\n",
      " 1.51854026e-02 1.37179964e-02 1.17375545e-02 1.07014346e-02\n",
      " 1.04365630e-02 8.96614817e-03 7.55738224e-03 7.51622757e-03\n",
      " 6.47511036e-03 6.21961055e-03 5.23281828e-03 4.84341298e-03\n",
      " 4.03908298e-03 3.69929430e-03 3.56274585e-03 3.22371400e-03\n",
      " 2.94482648e-03 2.53654557e-03 2.13816630e-03 2.00402049e-03\n",
      " 1.78497751e-03 1.55723833e-03 1.41980811e-03 1.38008084e-03\n",
      " 1.21280064e-03 1.06160655e-03 9.82754109e-04 7.65372257e-04\n",
      " 7.26509453e-04 6.08457668e-04 4.95632004e-04 4.24733899e-04\n",
      " 3.29053226e-04 3.11977754e-04 2.19597590e-04 1.10595394e-04\n",
      " 5.54467414e-05 4.87804823e-05 1.28817847e-06 2.42973587e-06\n",
      " 2.00811381e-06 0.00000000e+00 0.00000000e+00 0.00000000e+00\n",
      " 0.00000000e+00 0.00000000e+00 0.00000000e+00 0.00000000e+00\n",
      " 0.00000000e+00 0.00000000e+00 0.00000000e+00 0.00000000e+00]\n",
      "0.15625\n"
     ]
    },
    {
     "data": {
      "image/png": "[encoded data removed]",
      "text/plain": [
       "<Figure size 504x360 with 1 Axes>"
      ]
     },
     "execution_count": 780,
     "metadata": {},
     "output_type": "execute_result"
    }
   ],
   "source": [
    "# Measure eigenvalue register and output most probable value\n",
    "outcomes_6 = partial_trace(rho2, range(eval_reg.size, main_3.num_qubits)).sample_counts(shots=10000)\n",
    "\n",
    "print(evals.real)\n",
    "print(int(max(outcomes_6, key=outcomes_6.get), 2)/(2**eval_reg.size)) # Important: binary to float via b/2^n\n",
    "\n",
    "qiskit.visualization.plot_histogram(outcomes_6)"
   ]
  },
  {
   "cell_type": "code",
   "execution_count": 781,
   "id": "7b425498-231a-4149-b735-c0ee540a999c",
   "metadata": {},
   "outputs": [],
   "source": [
    "qargs =  range(0, eval_reg.size)"
   ]
  },
  {
   "cell_type": "code",
   "execution_count": 782,
   "id": "33c322f8-0023-432c-aa4d-8276eb803329",
   "metadata": {},
   "outputs": [],
   "source": [
    "evecs_qpca = []"
   ]
  },
  {
   "cell_type": "code",
   "execution_count": 783,
   "id": "dd6019bb-fa33-4817-9b70-b1357ed88539",
   "metadata": {
    "tags": []
   },
   "outputs": [
    {
     "name": "stdout",
     "output_type": "stream",
     "text": [
      "11 (0.011360188484814196+3.842965865632953e-13j)\n",
      "10 (0.006588398348113783-8.029037958752394e-14j)\n",
      "7 (0.010938643811358416-5.144600877346102e-13j)\n",
      "6 (0.05615127844846381+1.0070170352455262e-13j)\n",
      "6 (0.10608704651844472-2.932987667156457e-14j)\n",
      "3 (0.058526749585997385+1.2898228310673613e-13j)\n",
      "3 (0.07346845415823182-2.732168697288591e-13j)\n",
      "2 (0.08489035408079076+6.092141548537698e-14j)\n",
      "2 (0.1038652915865913+5.941841796803218e-14j)\n",
      "2 (0.08220208062828915+3.6100054774398215e-14j)\n",
      "1 (0.05048787033900679+4.202857272633659e-15j)\n",
      "1 (0.10912969170599122+4.209558744815359e-14j)\n",
      "1 (0.07162213057247489+9.68563395806846e-15j)\n",
      "1 (0.11051414177863107-4.678054022031704e-14j)\n",
      "1 (0.09942076965225562+1.1608711371308718e-16j)\n",
      "1 (0.10898243341778208+2.842208534345184e-14j)\n",
      "1 (0.11000123046970421+1.0896082837480574e-13j)\n",
      "1 (0.10746877872115254+3.584504483529006e-14j)\n",
      "0 (0.12271191063911573+2.6447037902087475e-14j)\n",
      "0 (0.07899595656335408+5.148730018641138e-14j)\n",
      "0 (0.107877754515563+1.523630973083102e-14j)\n",
      "0 (0.0917320252897152+6.422771002431376e-14j)\n",
      "0 (0.08692465290845817+1.1206238247372589e-14j)\n",
      "0 (0.07044606794281975+2.4940359552267163e-14j)\n",
      "0 (0.11376286575971525+1.0879402573816639e-14j)\n",
      "0 (0.1427389333432774-1.6583912226108424e-14j)\n",
      "0 (0.13080699716843489+3.7977577333908716e-14j)\n",
      "0 (0.10219777588299207+3.187455530023801e-14j)\n",
      "0 (0.09167022203171012-2.001196317370106e-14j)\n",
      "0 (0.11686372898529523+5.864838629620363e-14j)\n",
      "0 (0.09526429178352737+1.5866497179764847e-15j)\n",
      "0 (0.0980617460274791+9.141898738275074e-15j)\n",
      "0 (0.10785979677028398-2.167434012165284e-14j)\n",
      "0 (0.10425131442760546+1.7642084997191565e-14j)\n",
      "0 (0.12480728343339173+3.0520569152073403e-14j)\n",
      "0 (0.09615002417332155+1.5620246253314335e-14j)\n",
      "0 (0.09785823107498448+4.2736901437438467e-14j)\n",
      "0 (0.16273234986752555+1.880759791844465e-15j)\n",
      "0 (0.10519161467120114+3.5592618508076195e-14j)\n",
      "0 (0.0902253571562375+1.0158994412873707e-14j)\n",
      "0 (0.11032456402152416+1.0813509924649664e-14j)\n",
      "0 (0.20453317653195024-5.5243112293688436e-14j)\n",
      "0 (0.19710074553574822+2.648491599370896e-15j)\n",
      "0 (0.26703488602083353-8.530480617669998e-14j)\n",
      "0 (0.16142473462323653+1.608587964349478e-14j)\n",
      "0 (0.2953337063943936+4.168262423939452e-15j)\n",
      "0 (0.08638641545096461+1.5114885351394132e-14j)\n",
      "0 (0.11590790442311688+6.626000993899252e-15j)\n",
      "0 (0.4484363518624767+4.549472839194643e-14j)\n",
      "0 (0.23146691784485154+4.767639145008374e-16j)\n",
      "0 (0.4370934142633901+1.0970778355059998e-17j)\n",
      "0 (0.40785234487757044+8.14256367720165e-16j)\n",
      "0 (0.12318137666755591+1.1241582906282602e-14j)\n",
      "0 (0.03184700176071226-4.642805722085626e-18j)\n",
      "0 (0.03184700176071226-4.642805722085626e-18j)\n",
      "0 (0.03184700176071226-4.642805722085626e-18j)\n",
      "0 (0.03184700176071226-4.642805722085626e-18j)\n",
      "0 (0.03184700176071226-4.642805722085626e-18j)\n",
      "0 (0.03184700176071226-4.642805722085626e-18j)\n",
      "0 (0.03184700176071226-4.642805722085626e-18j)\n",
      "0 (0.03184700176071226-4.642805722085626e-18j)\n",
      "0 (0.03184700176071226-4.642805722085626e-18j)\n",
      "0 (0.03184700176071226-4.642805722085626e-18j)\n",
      "0 (0.03184700176071226-4.642805722085626e-18j)\n"
     ]
    }
   ],
   "source": [
    "for i,eval in enumerate(evals):\n",
    "    bin_eval = round((2** eval_reg.size)*(evals[i]))\n",
    "    prob = rho2.probabilities(qargs)[bin_eval]\n",
    "    proj = 1/np.sqrt(prob)*DensityMatrix(rho2).from_int(bin_eval, 2**(eval_reg.size)).to_operator()\n",
    "    evec_qpca = partial_trace(rho2.evolve(proj, qargs), qargs)\n",
    "    evecs_qpca.append(evec_qpca)\n",
    "    print(bin_eval, np.max(evec_qpca.data - np.outer(evecs[:,i], evecs[:,i].conj())))"
   ]
  },
  {
   "cell_type": "code",
   "execution_count": 784,
   "id": "a8bce025-0d2c-418f-9dd1-c601e94cb8c5",
   "metadata": {},
   "outputs": [],
   "source": [
    "i = 0"
   ]
  },
  {
   "cell_type": "code",
   "execution_count": 785,
   "id": "6948c4a2-5b7a-4086-ac91-2545c9af7560",
   "metadata": {},
   "outputs": [
    {
     "data": {
      "text/latex": [
       "$$\n",
       "\n",
       "\\begin{bmatrix}\n",
       "0 & 0 & 0 & \\cdots & 0 & 0 & 0  \\\\\n",
       " 0 & 0.0007 & 0.0062 & \\cdots & -0.0018 & -0.0013 & 0.  \\\\\n",
       " 0 & 0.0062 & 0.0599 & \\cdots & -0.0168 & -0.0116 & 0.0004  \\\\\n",
       " \\vdots & \\vdots & \\vdots & \\ddots & \\vdots & \\vdots & \\vdots \\\\\n",
       " 0 & -0.0018 & -0.0168 & \\cdots & 0.0058 & 0.004 & -0.0001  \\\\\n",
       " 0 & -0.0013 & -0.0116 & \\cdots & 0.004 & 0.003 & -0.0001  \\\\\n",
       " 0 & 0. & 0.0004 & \\cdots & -0.0001 & -0.0001 & 0.  \\\\\n",
       " \\end{bmatrix}\n",
       "$$"
      ],
      "text/plain": [
       "<IPython.core.display.Latex object>"
      ]
     },
     "execution_count": 785,
     "metadata": {},
     "output_type": "execute_result"
    }
   ],
   "source": [
    "printmat(evecs_qpca[i])"
   ]
  },
  {
   "cell_type": "code",
   "execution_count": 786,
   "id": "7c360e81-c73d-43c7-ae55-a8b72ccafba6",
   "metadata": {},
   "outputs": [
    {
     "data": {
      "text/latex": [
       "$$\n",
       "\n",
       "\\begin{bmatrix}\n",
       "0 & 0 & 0 & \\cdots & 0 & 0 & 0  \\\\\n",
       " 0 & 0.0007 & 0.0068 & \\cdots & -0.002 & -0.0014 & 0.  \\\\\n",
       " 0 & 0.0068 & 0.0636 & \\cdots & -0.0187 & -0.0135 & 0.0004  \\\\\n",
       " \\vdots & \\vdots & \\vdots & \\ddots & \\vdots & \\vdots & \\vdots \\\\\n",
       " 0 & -0.002 & -0.0187 & \\cdots & 0.0055 & 0.004 & -0.0001  \\\\\n",
       " 0 & -0.0014 & -0.0135 & \\cdots & 0.004 & 0.0029 & -0.0001  \\\\\n",
       " 0 & 0. & 0.0004 & \\cdots & -0.0001 & -0.0001 & 0.  \\\\\n",
       " \\end{bmatrix}\n",
       "$$"
      ],
      "text/plain": [
       "<IPython.core.display.Latex object>"
      ]
     },
     "execution_count": 786,
     "metadata": {},
     "output_type": "execute_result"
    }
   ],
   "source": [
    "printmat(DensityMatrix(np.outer(evecs[:,i], evecs[:,i].conj())))"
   ]
  },
  {
   "cell_type": "code",
   "execution_count": 790,
   "id": "0cdb7231-64d9-409e-978c-447b3294eec1",
   "metadata": {},
   "outputs": [],
   "source": [
    "comps = 64\n",
    "Z = []\n",
    "for col in cols:\n",
    "    z_i = []\n",
    "    for i,evec_qpca in enumerate(evecs_qpca):\n",
    "        if(i>=comps):\n",
    "            break\n",
    "        z_i.append(np.sqrt(np.trace(np.matmul(evec_qpca.data, col.data)).real))\n",
    "    Z.append(z_i)\n",
    "\n",
    "Z = np.array(Z)"
   ]
  },
  {
   "cell_type": "code",
   "execution_count": 791,
   "id": "5fc83197-4c04-4cf2-ae14-4348c64a19cf",
   "metadata": {},
   "outputs": [
    {
     "data": {
      "image/png": "[encoded data removed]",
      "text/plain": [
       "<Figure size 288x288 with 1 Axes>"
      ]
     },
     "metadata": {
      "needs_background": "light"
     },
     "output_type": "display_data"
    }
   ],
   "source": [
    "plt.matshow(X.T[0].reshape(8, 8));"
   ]
  },
  {
   "cell_type": "code",
   "execution_count": 792,
   "id": "76f9435f-290f-4c50-8be8-78a88fa4fd23",
   "metadata": {},
   "outputs": [
    {
     "data": {
      "text/plain": [
       "<Figure size 432x288 with 0 Axes>"
      ]
     },
     "metadata": {},
     "output_type": "display_data"
    },
    {
     "data": {
      "image/png": "[encoded data removed]",
      "text/plain": [
       "<Figure size 288x288 with 1 Axes>"
      ]
     },
     "metadata": {
      "needs_background": "light"
     },
     "output_type": "display_data"
    }
   ],
   "source": [
    "plt.gray()\n",
    "plt.matshow(Z[0].reshape(8, 8));"
   ]
  },
  {
   "cell_type": "code",
   "execution_count": 793,
   "id": "f0917913-aa1e-4ed6-a983-49c42c9f7901",
   "metadata": {},
   "outputs": [
    {
     "data": {
      "text/plain": [
       "(64, 64)"
      ]
     },
     "execution_count": 793,
     "metadata": {},
     "output_type": "execute_result"
    }
   ],
   "source": [
    "evecs_qpca[0].data.shape"
   ]
  },
  {
   "cell_type": "code",
   "execution_count": 794,
   "id": "49da8bf5-3194-42da-8ff9-c067e0562440",
   "metadata": {},
   "outputs": [],
   "source": [
    "basis = [DensityMatrix(np.outer(x,x)) for x in np.eye(64)]"
   ]
  },
  {
   "cell_type": "code",
   "execution_count": 795,
   "id": "a1938fc4-9f30-45d5-917b-252cd75ded53",
   "metadata": {},
   "outputs": [],
   "source": [
    "evecs_pure = []\n",
    "for i,evec_qpca in enumerate(evecs_qpca):\n",
    "    evec_pure = []\n",
    "    for base in basis:\n",
    "        evec_pure.append(np.sqrt(np.trace(np.matmul(evec_qpca.data, base.data)).real))\n",
    "    evecs_pure.append(evec_pure)\n",
    "\n",
    "evecs_pure = np.array(evecs_pure)"
   ]
  },
  {
   "cell_type": "code",
   "execution_count": 796,
   "id": "fdbd2634-cb07-4ee7-9e64-04da1ea37ce1",
   "metadata": {},
   "outputs": [
    {
     "data": {
      "text/plain": [
       "PCA(n_components=64)"
      ]
     },
     "execution_count": 796,
     "metadata": {},
     "output_type": "execute_result"
    }
   ],
   "source": [
    "import numpy as np\n",
    "from sklearn.decomposition import PCA\n",
    "\n",
    "pca = PCA(n_components=64)\n",
    "pca.fit(X.T)"
   ]
  },
  {
   "cell_type": "code",
   "execution_count": 797,
   "id": "0318a6ec-fdfd-45ff-b1bc-c3bba1fc9c92",
   "metadata": {},
   "outputs": [
    {
     "data": {
      "text/plain": [
       "<Figure size 576x576 with 0 Axes>"
      ]
     },
     "metadata": {},
     "output_type": "display_data"
    },
    {
     "data": {
      "image/png": "[encoded data removed]",
      "text/plain": [
       "<Figure size 576x576 with 63 Axes>"
      ]
     },
     "metadata": {
      "needs_background": "light"
     },
     "output_type": "display_data"
    },
    {
     "data": {
      "image/png": "[encoded data removed]",
      "text/plain": [
       "<Figure size 576x576 with 63 Axes>"
      ]
     },
     "metadata": {
      "needs_background": "light"
     },
     "output_type": "display_data"
    },
    {
     "data": {
      "image/png": "[encoded data removed]",
      "text/plain": [
       "<Figure size 576x576 with 63 Axes>"
      ]
     },
     "metadata": {
      "needs_background": "light"
     },
     "output_type": "display_data"
    }
   ],
   "source": [
    "import numpy as np\n",
    "import matplotlib.pyplot as plt\n",
    "\n",
    "w = 10\n",
    "h = 10\n",
    "fig = plt.figure(figsize=(8, 8))\n",
    "columns = 8\n",
    "rows = 8\n",
    "for dataset in (evecs_pure, \n",
    "                np.repeat(np.array([np.max(evecs.T,axis=1)]), 64, axis=1).reshape(64,64)-evecs.T, \n",
    "                pca.components_):\n",
    "    \n",
    "    w = 10\n",
    "    h = 10\n",
    "    fig = plt.figure(figsize=(8, 8))\n",
    "    columns = 8\n",
    "    rows = 8\n",
    "    for i in range(1, columns*rows):\n",
    "        fig.add_subplot(rows, columns, i)\n",
    "        plt.imshow((dataset[i]).reshape(8,8))\n",
    "    plt.show()"
   ]
  },
  {
   "cell_type": "code",
   "execution_count": null,
   "id": "98652915-9e62-477c-bfab-362f19086ce9",
   "metadata": {},
   "outputs": [],
   "source": []
  },
  {
   "cell_type": "markdown",
   "id": "48bd6c35-6362-4aa8-9cf5-17656e89e650",
   "metadata": {},
   "source": [
    "### Five qubit precision"
   ]
  },
  {
   "cell_type": "code",
   "execution_count": 626,
   "id": "4347b79e-1bee-4cd5-ad2b-56492b1b5617",
   "metadata": {},
   "outputs": [
    {
     "name": "stdout",
     "output_type": "stream",
     "text": [
      "[1.79618850e-01 1.59040937e-01 1.12909956e-01 9.69907156e-02\n",
      " 8.64204149e-02 4.69703775e-02 4.37590682e-02 3.38599886e-02\n",
      " 2.73360055e-02 2.61823090e-02 2.24566378e-02 1.82155343e-02\n",
      " 1.51854026e-02 1.37179964e-02 1.17375545e-02 1.07014346e-02\n",
      " 1.04365630e-02 8.96614817e-03 7.55738224e-03 7.51622757e-03\n",
      " 6.47511036e-03 6.21961055e-03 5.23281828e-03 4.84341298e-03\n",
      " 4.03908298e-03 3.69929430e-03 3.56274585e-03 3.22371400e-03\n",
      " 2.94482648e-03 2.53654557e-03 2.13816630e-03 2.00402049e-03\n",
      " 1.78497751e-03 1.55723833e-03 1.41980811e-03 1.38008084e-03\n",
      " 1.21280064e-03 1.06160655e-03 9.82754109e-04 7.65372257e-04\n",
      " 7.26509453e-04 6.08457668e-04 4.95632004e-04 4.24733899e-04\n",
      " 3.29053226e-04 3.11977754e-04 2.19597590e-04 1.10595394e-04\n",
      " 5.54467414e-05 4.87804823e-05 1.28817847e-06 2.42973587e-06\n",
      " 2.00811381e-06 0.00000000e+00 0.00000000e+00 0.00000000e+00\n",
      " 0.00000000e+00 0.00000000e+00 0.00000000e+00 0.00000000e+00\n",
      " 0.00000000e+00 0.00000000e+00 0.00000000e+00 0.00000000e+00]\n",
      "0.09375\n"
     ]
    },
    {
     "data": {
      "image/png": "[encoded data removed]",
      "text/plain": [
       "<Figure size 504x360 with 1 Axes>"
      ]
     },
     "execution_count": 626,
     "metadata": {},
     "output_type": "execute_result"
    }
   ],
   "source": [
    "# Measure eigenvalue register and output most probable value\n",
    "outcomes = partial_trace(rho2, range(eval_reg.size, main_3.num_qubits)).sample_counts(shots=10000)\n",
    "\n",
    "print(evals.real)\n",
    "print(int(max(outcomes, key=outcomes.get), 2)/(2**eval_reg.size)) # Important: binary to float via b/2^n\n",
    "\n",
    "qiskit.visualization.plot_histogram(outcomes)"
   ]
  },
  {
   "cell_type": "code",
   "execution_count": 518,
   "id": "6fccda12-626f-4380-9d3a-a720e2e12e74",
   "metadata": {},
   "outputs": [
    {
     "name": "stdout",
     "output_type": "stream",
     "text": [
      "[3.14001002e-01 2.81890744e-01 1.05680796e-01 8.76432013e-02\n",
      " 7.43775948e-02 4.39158070e-02 3.42820076e-02 2.55640352e-02\n",
      " 1.55230207e-02 1.03420581e-02 5.01175243e-03 1.75668276e-03\n",
      " 1.12967786e-05 0.00000000e+00 0.00000000e+00 0.00000000e+00]\n",
      "0.3125\n"
     ]
    },
    {
     "data": {
      "image/png": "[encoded data removed]",
      "text/plain": [
       "<Figure size 504x360 with 1 Axes>"
      ]
     },
     "execution_count": 518,
     "metadata": {},
     "output_type": "execute_result"
    }
   ],
   "source": [
    "# Measure eigenvalue register and output most probable value\n",
    "outcomes = partial_trace(rho2, range(eval_reg.size, main_3.num_qubits)).sample_counts(shots=10000)\n",
    "\n",
    "print(evals.real)\n",
    "print(int(max(outcomes, key=outcomes.get), 2)/(2**eval_reg.size)) # Important: binary to float via b/2^n\n",
    "\n",
    "qiskit.visualization.plot_histogram(outcomes)"
   ]
  },
  {
   "cell_type": "code",
   "execution_count": 630,
   "id": "b9275c24-d6b7-4afa-8506-581432ddcc8b",
   "metadata": {},
   "outputs": [],
   "source": [
    "qargs =  range(0, eval_reg.size)"
   ]
  },
  {
   "cell_type": "code",
   "execution_count": 631,
   "id": "45e3b9c0-b364-447e-b1fb-b1a6777ed3c9",
   "metadata": {},
   "outputs": [],
   "source": [
    "evecs_qpca = []"
   ]
  },
  {
   "cell_type": "code",
   "execution_count": 632,
   "id": "aea7c379-4f39-4a0e-afc8-19f397fcee51",
   "metadata": {
    "collapsed": true,
    "jupyter": {
     "outputs_hidden": true
    },
    "tags": []
   },
   "outputs": [
    {
     "name": "stdout",
     "output_type": "stream",
     "text": [
      "6 (0.003245480514543292-4.2009191796649395e-14j)\n",
      "5 (0.013410340780709809-7.10910479809154e-14j)\n",
      "4 (0.012418456806763518+1.2787388359716937e-13j)\n",
      "3 (0.07018865930823867+4.110286958565488e-14j)\n",
      "3 (0.09173035611583727+1.4222297219751333e-14j)\n",
      "2 (0.0716772576772858+1.007502212201537e-13j)\n",
      "1 (0.08341856529201716+1.774200777166675e-14j)\n",
      "1 (0.09395018390675502+2.8965619745701696e-14j)\n",
      "1 (0.12051631021171154+2.1471666288367005e-14j)\n",
      "1 (0.08574554413600997+1.531181561884649e-14j)\n",
      "1 (0.05631591354060558+1.5780446244051872e-14j)\n",
      "1 (0.12109183579658717+1.5173460547347115e-14j)\n",
      "0 (0.07665537155023158+1.7844740169942814e-14j)\n",
      "0 (0.10763910475288553+4.383012156579141e-14j)\n",
      "0 (0.10318857220645863+1.6697470519184042e-14j)\n",
      "0 (0.11299043452623948+2.2043332118789493e-14j)\n",
      "0 (0.10208412029480057+1.1024266177520224e-14j)\n",
      "0 (0.10807367753912886-3.3739451650373314e-14j)\n",
      "0 (0.12177506884035408+1.8791837971356137e-14j)\n",
      "0 (0.07838658340231375+2.6292632651225374e-14j)\n",
      "0 (0.10529325318463988-4.7059882293027696e-14j)\n",
      "0 (0.09069701126363039+1.7543278880366386e-15j)\n",
      "0 (0.08807320283515038+2.1670255580787585e-15j)\n",
      "0 (0.07429197165155593+3.262175094914392e-14j)\n",
      "0 (0.11795166517800838+7.773590095106166e-15j)\n",
      "0 (0.1472257932296703+3.170239891108108e-14j)\n",
      "0 (0.1323922338954397+1.0305272764782253e-14j)\n",
      "0 (0.10665460518512151+5.210827733438902e-15j)\n",
      "0 (0.09407667159643658+9.505991996011891e-15j)\n",
      "0 (0.11926659461512394+5.508963142166931e-15j)\n",
      "0 (0.09946347411711719+9.250218349845587e-15j)\n",
      "0 (0.09874565748348856+2.968789729953485e-14j)\n",
      "0 (0.10836525162585578-3.067938450667514e-14j)\n",
      "0 (0.10655140073124636+2.6320500329557634e-14j)\n",
      "0 (0.12685613697892328+2.085379554880321e-14j)\n",
      "0 (0.09379506759420356+1.678871745650847e-14j)\n",
      "0 (0.09930450437264093+9.289703584940602e-15j)\n",
      "0 (0.164335602448948+3.6392469042310514e-15j)\n",
      "0 (0.10578743126018363+1.1293110107899683e-15j)\n",
      "0 (0.09018669601521151+1.7992858897419094e-14j)\n",
      "0 (0.11152704691383168+1.848075976434593e-14j)\n",
      "0 (0.2074217819300886+7.629964694286621e-15j)\n",
      "0 (0.19804791282692488+9.651548684604498e-15j)\n",
      "0 (0.2711223591694869-3.658783562589255e-14j)\n",
      "0 (0.16078382033382368+1.6947992950197783e-15j)\n",
      "0 (0.2949068168968899+7.388026636782611e-15j)\n",
      "0 (0.08648653821347468+1.561120449934196e-15j)\n",
      "0 (0.11552168421865582+2.1773096882536954e-14j)\n",
      "0 (0.44696351113666793+1.1971596348476416e-14j)\n",
      "0 (0.23140510857288552+1.1212908486137392e-14j)\n",
      "0 (0.43709460131545225+6.453510917352277e-16j)\n",
      "0 (0.40785052533227506+1.0301852134918807e-16j)\n",
      "0 (0.12304495413319608+1.0922490818198553e-15j)\n",
      "0 (0.03081952670230055-4.498991266774274e-18j)\n",
      "0 (0.03081952670230055-4.498991266774274e-18j)\n",
      "0 (0.03081952670230055-4.498991266774274e-18j)\n",
      "0 (0.03081952670230055-4.498991266774274e-18j)\n",
      "0 (0.03081952670230055-4.498991266774274e-18j)\n",
      "0 (0.03081952670230055-4.498991266774274e-18j)\n",
      "0 (0.03081952670230055-4.498991266774274e-18j)\n",
      "0 (0.03081952670230055-4.498991266774274e-18j)\n",
      "0 (0.03081952670230055-4.498991266774274e-18j)\n",
      "0 (0.03081952670230055-4.498991266774274e-18j)\n",
      "0 (0.03081952670230055-4.498991266774274e-18j)\n"
     ]
    }
   ],
   "source": [
    "for i,eval in enumerate(evals):\n",
    "    bin_eval = round((2**5)*(evals[i]))\n",
    "    prob = rho2.probabilities(qargs)[bin_eval]\n",
    "    proj = 1/np.sqrt(prob)*DensityMatrix(rho2).from_int(bin_eval, 2**(eval_reg.size)).to_operator()\n",
    "    evec_qpca = partial_trace(rho2.evolve(proj, qargs), qargs)\n",
    "    evecs_qpca.append(evec_qpca)\n",
    "    print(bin_eval, np.max(evec_qpca.data - np.outer(evecs[:,i], evecs[:,i].conj())))"
   ]
  },
  {
   "cell_type": "code",
   "execution_count": 634,
   "id": "cd9bd0a9-0bcb-4e7a-b84d-12b9189ef7d1",
   "metadata": {},
   "outputs": [],
   "source": [
    "i = 0"
   ]
  },
  {
   "cell_type": "code",
   "execution_count": 635,
   "id": "96ec2d9b-c2b2-4f1c-aeac-3618c999c8ac",
   "metadata": {},
   "outputs": [
    {
     "data": {
      "text/latex": [
       "$$\n",
       "\n",
       "\\begin{bmatrix}\n",
       "0 & 0 & 0 & \\cdots & 0 & 0 & 0  \\\\\n",
       " 0 & 0.0007 & 0.0066 & \\cdots & -0.002 & -0.0014 & 0.  \\\\\n",
       " 0 & 0.0066 & 0.062 & \\cdots & -0.0183 & -0.013 & 0.0004  \\\\\n",
       " \\vdots & \\vdots & \\vdots & \\ddots & \\vdots & \\vdots & \\vdots \\\\\n",
       " 0 & -0.002 & -0.0183 & \\cdots & 0.0071 & 0.0046 & -0.0001  \\\\\n",
       " 0 & -0.0014 & -0.013 & \\cdots & 0.0046 & 0.0032 & -0.0001  \\\\\n",
       " 0 & 0. & 0.0004 & \\cdots & -0.0001 & -0.0001 & 0.  \\\\\n",
       " \\end{bmatrix}\n",
       "$$"
      ],
      "text/plain": [
       "<IPython.core.display.Latex object>"
      ]
     },
     "execution_count": 635,
     "metadata": {},
     "output_type": "execute_result"
    }
   ],
   "source": [
    "printmat(evecs_qpca[i])"
   ]
  },
  {
   "cell_type": "code",
   "execution_count": 636,
   "id": "7cc3e179-e99a-4993-b98f-d80c321dc907",
   "metadata": {},
   "outputs": [
    {
     "data": {
      "text/latex": [
       "$$\n",
       "\n",
       "\\begin{bmatrix}\n",
       "0 & 0 & 0 & \\cdots & 0 & 0 & 0  \\\\\n",
       " 0 & 0.0007 & 0.0068 & \\cdots & -0.002 & -0.0014 & 0.  \\\\\n",
       " 0 & 0.0068 & 0.0636 & \\cdots & -0.0187 & -0.0135 & 0.0004  \\\\\n",
       " \\vdots & \\vdots & \\vdots & \\ddots & \\vdots & \\vdots & \\vdots \\\\\n",
       " 0 & -0.002 & -0.0187 & \\cdots & 0.0055 & 0.004 & -0.0001  \\\\\n",
       " 0 & -0.0014 & -0.0135 & \\cdots & 0.004 & 0.0029 & -0.0001  \\\\\n",
       " 0 & 0. & 0.0004 & \\cdots & -0.0001 & -0.0001 & 0.  \\\\\n",
       " \\end{bmatrix}\n",
       "$$"
      ],
      "text/plain": [
       "<IPython.core.display.Latex object>"
      ]
     },
     "execution_count": 636,
     "metadata": {},
     "output_type": "execute_result"
    }
   ],
   "source": [
    "printmat(DensityMatrix(np.outer(evecs[:,i], evecs[:,i].conj())))"
   ]
  },
  {
   "cell_type": "code",
   "execution_count": 645,
   "id": "ca2476eb-97a1-48e4-ba98-5b7daf721c48",
   "metadata": {},
   "outputs": [],
   "source": [
    "comps = 4\n",
    "Z = []\n",
    "for col in cols:\n",
    "    z_i = []\n",
    "    for i,evec_qpca in enumerate(evecs_qpca):\n",
    "        if(i>=comps):\n",
    "            break\n",
    "        z_i.append(np.sqrt(np.trace(np.matmul(evec_qpca.data, col.data)).real))\n",
    "    Z.append(z_i)\n",
    "\n",
    "Z = np.array(Z)"
   ]
  },
  {
   "cell_type": "code",
   "execution_count": 651,
   "id": "91dd5513-a23e-474f-ac15-164524bd67a2",
   "metadata": {},
   "outputs": [
    {
     "data": {
      "image/png": "[encoded data removed]",
      "text/plain": [
       "<Figure size 288x288 with 1 Axes>"
      ]
     },
     "metadata": {
      "needs_background": "light"
     },
     "output_type": "display_data"
    }
   ],
   "source": [
    "plt.matshow(X.T[0].reshape(8, 8));"
   ]
  },
  {
   "cell_type": "code",
   "execution_count": 644,
   "id": "b6c38bea-7cef-4d64-90aa-93e57e2c79cf",
   "metadata": {},
   "outputs": [
    {
     "data": {
      "text/plain": [
       "<Figure size 432x288 with 0 Axes>"
      ]
     },
     "metadata": {},
     "output_type": "display_data"
    },
    {
     "data": {
      "image/png": "[encoded data removed]",
      "text/plain": [
       "<Figure size 288x288 with 1 Axes>"
      ]
     },
     "metadata": {
      "needs_background": "light"
     },
     "output_type": "display_data"
    }
   ],
   "source": [
    "plt.gray()\n",
    "plt.matshow(Z[0].reshape(7, 7));"
   ]
  },
  {
   "cell_type": "code",
   "execution_count": 656,
   "id": "427546f5-ef2f-40ea-8e1d-246c1d706637",
   "metadata": {},
   "outputs": [
    {
     "data": {
      "text/plain": [
       "(64, 64)"
      ]
     },
     "execution_count": 656,
     "metadata": {},
     "output_type": "execute_result"
    }
   ],
   "source": [
    "evecs_qpca[0].data.shape"
   ]
  },
  {
   "cell_type": "code",
   "execution_count": 657,
   "id": "87cb46ae-c9f2-4e7e-aebb-35a404aba9c8",
   "metadata": {},
   "outputs": [],
   "source": [
    "basis = [DensityMatrix(np.outer(x,x)) for x in np.eye(64)]"
   ]
  },
  {
   "cell_type": "code",
   "execution_count": 769,
   "id": "f83cc306-336d-479b-8f9e-2460cdb3a555",
   "metadata": {},
   "outputs": [],
   "source": [
    "evecs_pure = []\n",
    "for i,evec_qpca in enumerate(evecs_qpca):\n",
    "    evec_pure = []\n",
    "    for base in basis:\n",
    "        evec_pure.append(np.sqrt(np.trace(np.matmul(evec_qpca.data, base.data)).real))\n",
    "    evecs_pure.append(evec_pure)\n",
    "\n",
    "evecs_pure = np.array(evecs_pure)"
   ]
  },
  {
   "cell_type": "code",
   "execution_count": null,
   "id": "01f76b01-d4b6-4aac-8b65-50b2a9af6ee1",
   "metadata": {},
   "outputs": [],
   "source": [
    "import numpy as np\n",
    "from sklearn.decomposition import PCA\n",
    "\n",
    "pca = PCA(n_components=64)\n",
    "pca.fit(X.T)"
   ]
  },
  {
   "cell_type": "code",
   "execution_count": 767,
   "id": "b09c4911-8577-40cd-8653-f0d126a6ad89",
   "metadata": {},
   "outputs": [
    {
     "data": {
      "text/plain": [
       "<Figure size 576x576 with 0 Axes>"
      ]
     },
     "metadata": {},
     "output_type": "display_data"
    },
    {
     "data": {
      "image/png": "[encoded data removed]",
      "text/plain": [
       "<Figure size 576x576 with 63 Axes>"
      ]
     },
     "metadata": {
      "needs_background": "light"
     },
     "output_type": "display_data"
    },
    {
     "data": {
      "image/png": "[encoded data removed]",
      "text/plain": [
       "<Figure size 576x576 with 63 Axes>"
      ]
     },
     "metadata": {
      "needs_background": "light"
     },
     "output_type": "display_data"
    },
    {
     "data": {
      "image/png": "[encoded data removed]",
      "text/plain": [
       "<Figure size 576x576 with 63 Axes>"
      ]
     },
     "metadata": {
      "needs_background": "light"
     },
     "output_type": "display_data"
    }
   ],
   "source": [
    "import numpy as np\n",
    "import matplotlib.pyplot as plt\n",
    "\n",
    "w = 10\n",
    "h = 10\n",
    "fig = plt.figure(figsize=(8, 8))\n",
    "columns = 8\n",
    "rows = 8\n",
    "for dataset in (evecs_pure, \n",
    "                np.repeat(np.array([np.max(evecs.T,axis=1)]), 64, axis=1).reshape(64,64)-evecs.T, \n",
    "                pca.components_):\n",
    "    \n",
    "    w = 10\n",
    "    h = 10\n",
    "    fig = plt.figure(figsize=(8, 8))\n",
    "    columns = 8\n",
    "    rows = 8\n",
    "    for i in range(1, columns*rows):\n",
    "        fig.add_subplot(rows, columns, i)\n",
    "        plt.imshow((dataset[i]).reshape(8,8))\n",
    "    plt.show()"
   ]
  },
  {
   "cell_type": "markdown",
   "id": "5882e082-95a9-41fb-bb62-966549c06456",
   "metadata": {
    "jp-MarkdownHeadingCollapsed": true,
    "tags": []
   },
   "source": [
    "## MNIST"
   ]
  },
  {
   "cell_type": "code",
   "execution_count": 6,
   "id": "3b737009-fa64-431c-afc5-357533ce2ddc",
   "metadata": {},
   "outputs": [],
   "source": [
    "from sklearn import preprocessing\n",
    "\n",
    "import tensorflow as tf"
   ]
  },
  {
   "cell_type": "code",
   "execution_count": 421,
   "id": "00defcf0-9cd5-4f68-a090-d00269c4d260",
   "metadata": {},
   "outputs": [],
   "source": [
    "m = 100\n",
    "d = 16"
   ]
  },
  {
   "cell_type": "code",
   "execution_count": 422,
   "id": "7ffcd6d2-d9ba-4a0b-9915-e51865384823",
   "metadata": {},
   "outputs": [
    {
     "name": "stdout",
     "output_type": "stream",
     "text": [
      "(60000, 4, 4, 1)\n"
     ]
    },
    {
     "data": {
      "text/plain": [
       "<matplotlib.image.AxesImage at 0x2c1aa42d088>"
      ]
     },
     "execution_count": 422,
     "metadata": {},
     "output_type": "execute_result"
    },
    {
     "data": {
      "image/png": "[encoded data removed]",
      "text/plain": [
       "<Figure size 288x288 with 1 Axes>"
      ]
     },
     "metadata": {
      "needs_background": "light"
     },
     "output_type": "display_data"
    }
   ],
   "source": [
    "(x_train, y_train), (_, _) = tf.keras.datasets.mnist.load_data()\n",
    "\n",
    "# expand new axis, channel axis \n",
    "x_train = np.expand_dims(x_train, axis=-1)\n",
    "\n",
    "# it's always better to normalize \n",
    "# x_train = x_train.astype('float32') / 255\n",
    "\n",
    "# resize the input shape , i.e. old shape: 28, new shape: 32\n",
    "x_train = tf.image.resize(x_train, [int(np.sqrt(d)),int(np.sqrt(d))]) # if we want to resize \n",
    "\n",
    "print(x_train.shape)\n",
    "\n",
    "plt.matshow(x_train[1])"
   ]
  },
  {
   "cell_type": "code",
   "execution_count": 423,
   "id": "a46c74fb-3e6e-4809-88ee-f2d0fcee3c55",
   "metadata": {},
   "outputs": [],
   "source": [
    "X = tf.squeeze(x_train).numpy().reshape(60000,d)[:m]"
   ]
  },
  {
   "cell_type": "code",
   "execution_count": 424,
   "id": "e5e1607a-1699-4789-a647-106da9f02bf0",
   "metadata": {},
   "outputs": [
    {
     "data": {
      "text/plain": [
       "(93, 16)"
      ]
     },
     "execution_count": 424,
     "metadata": {},
     "output_type": "execute_result"
    }
   ],
   "source": [
    "X[~np.all(X == 0, axis=1)].shape"
   ]
  },
  {
   "cell_type": "code",
   "execution_count": 425,
   "id": "8a86f385-ff49-4fe2-8598-b0debe996351",
   "metadata": {},
   "outputs": [],
   "source": [
    "X = X[~np.all(X == 0, axis=1)]\n",
    "m = X.shape[1]"
   ]
  },
  {
   "cell_type": "code",
   "execution_count": 426,
   "id": "ebcb12f1-87a9-41f5-9b59-cf6f53ff23b0",
   "metadata": {},
   "outputs": [],
   "source": [
    "scaler = preprocessing.StandardScaler(with_std=False).fit(X)\n",
    "X = scaler.transform(X)"
   ]
  },
  {
   "cell_type": "code",
   "execution_count": 420,
   "id": "da13bb2d-fe95-4229-a187-e5bc7a9730db",
   "metadata": {},
   "outputs": [],
   "source": [
    "# Normalise each entry \n",
    "X = np.array([x / np.linalg.norm(x) for x in X])\n",
    "X = X.T\n",
    "\n",
    "# Inner product between pairs of features; equivalent to |psi_i><psi_i| per i number of features\n",
    "Q = (1/m)*(np.matmul(X,X.T))\n",
    "#cols = [DensityMatrix(np.outer(x,x)) for x in X.T] \n",
    "\n",
    "# Your initial 100 x 100 matrix \n",
    "a = np.zeros((2**round(np.log2(d)+1), 2**round(np.log2(d)+1)))\n",
    "\n",
    "\n",
    "r=0\n",
    "c=0\n",
    "a[r:r+Q.shape[0], c:c+Q.shape[1]] += Q\n",
    "Q = a\n",
    "\n",
    "rho = DensityMatrix(Q)"
   ]
  },
  {
   "cell_type": "code",
   "execution_count": 386,
   "id": "c410c90d-bf4d-49f8-ab97-73043496044c",
   "metadata": {},
   "outputs": [],
   "source": [
    "evals, evecs = np.linalg.eig(Q)\n",
    "\n",
    "evaldp = 5\n",
    "eval_reg = QuantumRegister(evaldp, 'eval')\n",
    "rho_reg = QuantumRegister(round(np.log2(d)), 'rho')\n",
    "\n",
    "# 1/3 of QPE: Initialisation and Hadamards \n",
    "main_1 = QuantumCircuit(eval_reg, rho_reg)\n",
    "main_1.h(range(0,evaldp));\n",
    "\n",
    "#sigma = DensityMatrix(np.outer(evecs[:,1], evecs[:,1].conj())) # some evecs aren't valid?\n",
    "sigma = rho\n",
    "rho2 = sigma ^ DensityMatrix(np.diag([1]+[0]*(2**eval_reg.size-1)))\n",
    "rho2 = rho2.evolve(Operator(main_1))"
   ]
  },
  {
   "cell_type": "code",
   "execution_count": 387,
   "id": "bc68003d-0b1a-486c-82eb-7b833418ff3d",
   "metadata": {},
   "outputs": [
    {
     "data": {
      "text/plain": [
       "True"
      ]
     },
     "execution_count": 387,
     "metadata": {},
     "output_type": "execute_result"
    }
   ],
   "source": [
    "sigma.is_valid()"
   ]
  },
  {
   "cell_type": "code",
   "execution_count": 388,
   "id": "898f0714-6e37-45c6-8643-39bf0430c997",
   "metadata": {
    "collapsed": true,
    "jupyter": {
     "outputs_hidden": true
    },
    "tags": []
   },
   "outputs": [
    {
     "ename": "KeyboardInterrupt",
     "evalue": "",
     "output_type": "error",
     "traceback": [
      "\u001b[1;31m---------------------------------------------------------------------------\u001b[0m",
      "\u001b[1;31mKeyboardInterrupt\u001b[0m                         Traceback (most recent call last)",
      "\u001b[1;32m~\\AppData\\Local\\Temp/ipykernel_20744/2800107985.py\u001b[0m in \u001b[0;36m<module>\u001b[1;34m\u001b[0m\n\u001b[0;32m      5\u001b[0m \u001b[1;32mfor\u001b[0m \u001b[0mcounting_qubit\u001b[0m \u001b[1;32min\u001b[0m \u001b[0mrange\u001b[0m\u001b[1;33m(\u001b[0m\u001b[0meval_reg\u001b[0m\u001b[1;33m.\u001b[0m\u001b[0msize\u001b[0m\u001b[1;33m)\u001b[0m\u001b[1;33m:\u001b[0m\u001b[1;33m\u001b[0m\u001b[1;33m\u001b[0m\u001b[0m\n\u001b[0;32m      6\u001b[0m     \u001b[0mmain_2\u001b[0m \u001b[1;33m=\u001b[0m \u001b[0mQuantumCircuit\u001b[0m\u001b[1;33m(\u001b[0m\u001b[0meval_reg\u001b[0m\u001b[1;33m,\u001b[0m \u001b[0mrho_reg\u001b[0m\u001b[1;33m)\u001b[0m\u001b[1;33m\u001b[0m\u001b[1;33m\u001b[0m\u001b[0m\n\u001b[1;32m----> 7\u001b[1;33m     \u001b[0mmain_2\u001b[0m \u001b[1;33m=\u001b[0m \u001b[0mmain_2\u001b[0m\u001b[1;33m.\u001b[0m\u001b[0mcompose\u001b[0m\u001b[1;33m(\u001b[0m\u001b[0mexp_rho\u001b[0m\u001b[1;33m(\u001b[0m\u001b[1;33m-\u001b[0m\u001b[1;36m2\u001b[0m\u001b[1;33m**\u001b[0m\u001b[0mrep\u001b[0m\u001b[1;33m*\u001b[0m\u001b[1;36m2\u001b[0m\u001b[1;33m*\u001b[0m\u001b[0mnp\u001b[0m\u001b[1;33m.\u001b[0m\u001b[0mpi\u001b[0m\u001b[1;33m,\u001b[0m\u001b[0mQ\u001b[0m\u001b[1;33m)\u001b[0m\u001b[1;33m.\u001b[0m\u001b[0mto_instruction\u001b[0m\u001b[1;33m(\u001b[0m\u001b[1;33m)\u001b[0m\u001b[1;33m,\u001b[0m \u001b[1;33m[\u001b[0m\u001b[0mcounting_qubit\u001b[0m \u001b[1;33m,\u001b[0m\u001b[1;33m*\u001b[0m\u001b[0mrho_reg\u001b[0m\u001b[1;33m]\u001b[0m\u001b[1;33m)\u001b[0m\u001b[1;33m\u001b[0m\u001b[1;33m\u001b[0m\u001b[0m\n\u001b[0m\u001b[0;32m      8\u001b[0m     \u001b[0mrep\u001b[0m \u001b[1;33m+=\u001b[0m\u001b[1;36m1\u001b[0m\u001b[1;33m\u001b[0m\u001b[1;33m\u001b[0m\u001b[0m\n\u001b[0;32m      9\u001b[0m     \u001b[0mprint\u001b[0m\u001b[1;33m(\u001b[0m\u001b[0mrho2\u001b[0m\u001b[1;33m.\u001b[0m\u001b[0mis_valid\u001b[0m\u001b[1;33m(\u001b[0m\u001b[1;33m)\u001b[0m\u001b[1;33m)\u001b[0m\u001b[1;33m\u001b[0m\u001b[1;33m\u001b[0m\u001b[0m\n",
      "\u001b[1;32m~\\AppData\\Local\\Temp/ipykernel_20744/40559933.py\u001b[0m in \u001b[0;36mexp_rho\u001b[1;34m(x, Q)\u001b[0m\n\u001b[0;32m      1\u001b[0m \u001b[1;32mdef\u001b[0m \u001b[0mexp_rho\u001b[0m\u001b[1;33m(\u001b[0m\u001b[0mx\u001b[0m\u001b[1;33m,\u001b[0m \u001b[0mQ\u001b[0m\u001b[1;33m)\u001b[0m\u001b[1;33m:\u001b[0m\u001b[1;33m\u001b[0m\u001b[1;33m\u001b[0m\u001b[0m\n\u001b[1;32m----> 2\u001b[1;33m     \u001b[1;32mreturn\u001b[0m \u001b[0mOperator\u001b[0m\u001b[1;33m(\u001b[0m\u001b[0mOperator\u001b[0m\u001b[1;33m(\u001b[0m\u001b[0mMatrixOp\u001b[0m\u001b[1;33m(\u001b[0m\u001b[0mx\u001b[0m\u001b[1;33m*\u001b[0m\u001b[0mQ\u001b[0m\u001b[1;33m)\u001b[0m\u001b[1;33m.\u001b[0m\u001b[0mexp_i\u001b[0m\u001b[1;33m(\u001b[0m\u001b[1;33m)\u001b[0m\u001b[1;33m)\u001b[0m\u001b[1;33m.\u001b[0m\u001b[0mto_instruction\u001b[0m\u001b[1;33m(\u001b[0m\u001b[1;33m)\u001b[0m\u001b[1;33m.\u001b[0m\u001b[0mcontrol\u001b[0m\u001b[1;33m(\u001b[0m\u001b[1;36m1\u001b[0m\u001b[1;33m)\u001b[0m\u001b[1;33m)\u001b[0m\u001b[1;33m\u001b[0m\u001b[1;33m\u001b[0m\u001b[0m\n\u001b[0m",
      "\u001b[1;32m~\\Anaconda3\\lib\\site-packages\\qiskit\\extensions\\unitary.py\u001b[0m in \u001b[0;36mcontrol\u001b[1;34m(self, num_ctrl_qubits, label, ctrl_state)\u001b[0m\n\u001b[0;32m    151\u001b[0m \u001b[1;33m\u001b[0m\u001b[0m\n\u001b[0;32m    152\u001b[0m         \u001b[1;31m# hack to correct global phase; should fix to prevent need for correction here\u001b[0m\u001b[1;33m\u001b[0m\u001b[1;33m\u001b[0m\u001b[1;33m\u001b[0m\u001b[0m\n\u001b[1;32m--> 153\u001b[1;33m         \u001b[0mpmat\u001b[0m \u001b[1;33m=\u001b[0m \u001b[0mOperator\u001b[0m\u001b[1;33m(\u001b[0m\u001b[0miso\u001b[0m\u001b[1;33m.\u001b[0m\u001b[0minverse\u001b[0m\u001b[1;33m(\u001b[0m\u001b[1;33m)\u001b[0m\u001b[1;33m)\u001b[0m\u001b[1;33m.\u001b[0m\u001b[0mdata\u001b[0m \u001b[1;33m@\u001b[0m \u001b[0mcmat\u001b[0m\u001b[1;33m\u001b[0m\u001b[1;33m\u001b[0m\u001b[0m\n\u001b[0m\u001b[0;32m    154\u001b[0m         \u001b[0mdiag\u001b[0m \u001b[1;33m=\u001b[0m \u001b[0mnumpy\u001b[0m\u001b[1;33m.\u001b[0m\u001b[0mdiag\u001b[0m\u001b[1;33m(\u001b[0m\u001b[0mpmat\u001b[0m\u001b[1;33m)\u001b[0m\u001b[1;33m\u001b[0m\u001b[1;33m\u001b[0m\u001b[0m\n\u001b[0;32m    155\u001b[0m         \u001b[1;32mif\u001b[0m \u001b[1;32mnot\u001b[0m \u001b[0mnumpy\u001b[0m\u001b[1;33m.\u001b[0m\u001b[0mallclose\u001b[0m\u001b[1;33m(\u001b[0m\u001b[0mdiag\u001b[0m\u001b[1;33m,\u001b[0m \u001b[0mdiag\u001b[0m\u001b[1;33m[\u001b[0m\u001b[1;36m0\u001b[0m\u001b[1;33m]\u001b[0m\u001b[1;33m)\u001b[0m\u001b[1;33m:\u001b[0m\u001b[1;33m\u001b[0m\u001b[1;33m\u001b[0m\u001b[0m\n",
      "\u001b[1;32m~\\Anaconda3\\lib\\site-packages\\qiskit\\quantum_info\\operators\\operator.py\u001b[0m in \u001b[0;36m__init__\u001b[1;34m(self, data, input_dims, output_dims)\u001b[0m\n\u001b[0;32m     84\u001b[0m             \u001b[1;31m# conditional gates, measure, or reset will cause an\u001b[0m\u001b[1;33m\u001b[0m\u001b[1;33m\u001b[0m\u001b[1;33m\u001b[0m\u001b[0m\n\u001b[0;32m     85\u001b[0m             \u001b[1;31m# exception to be raised.\u001b[0m\u001b[1;33m\u001b[0m\u001b[1;33m\u001b[0m\u001b[1;33m\u001b[0m\u001b[0m\n\u001b[1;32m---> 86\u001b[1;33m             \u001b[0mself\u001b[0m\u001b[1;33m.\u001b[0m\u001b[0m_data\u001b[0m \u001b[1;33m=\u001b[0m \u001b[0mself\u001b[0m\u001b[1;33m.\u001b[0m\u001b[0m_init_instruction\u001b[0m\u001b[1;33m(\u001b[0m\u001b[0mdata\u001b[0m\u001b[1;33m)\u001b[0m\u001b[1;33m.\u001b[0m\u001b[0mdata\u001b[0m\u001b[1;33m\u001b[0m\u001b[1;33m\u001b[0m\u001b[0m\n\u001b[0m\u001b[0;32m     87\u001b[0m         \u001b[1;32melif\u001b[0m \u001b[0mhasattr\u001b[0m\u001b[1;33m(\u001b[0m\u001b[0mdata\u001b[0m\u001b[1;33m,\u001b[0m \u001b[1;34m\"to_operator\"\u001b[0m\u001b[1;33m)\u001b[0m\u001b[1;33m:\u001b[0m\u001b[1;33m\u001b[0m\u001b[1;33m\u001b[0m\u001b[0m\n\u001b[0;32m     88\u001b[0m             \u001b[1;31m# If the data object has a 'to_operator' attribute this is given\u001b[0m\u001b[1;33m\u001b[0m\u001b[1;33m\u001b[0m\u001b[1;33m\u001b[0m\u001b[0m\n",
      "\u001b[1;32m~\\Anaconda3\\lib\\site-packages\\qiskit\\quantum_info\\operators\\operator.py\u001b[0m in \u001b[0;36m_init_instruction\u001b[1;34m(cls, instruction)\u001b[0m\n\u001b[0;32m    463\u001b[0m         \u001b[1;32mif\u001b[0m \u001b[0misinstance\u001b[0m\u001b[1;33m(\u001b[0m\u001b[0minstruction\u001b[0m\u001b[1;33m,\u001b[0m \u001b[0mQuantumCircuit\u001b[0m\u001b[1;33m)\u001b[0m\u001b[1;33m:\u001b[0m\u001b[1;33m\u001b[0m\u001b[1;33m\u001b[0m\u001b[0m\n\u001b[0;32m    464\u001b[0m             \u001b[0minstruction\u001b[0m \u001b[1;33m=\u001b[0m \u001b[0minstruction\u001b[0m\u001b[1;33m.\u001b[0m\u001b[0mto_instruction\u001b[0m\u001b[1;33m(\u001b[0m\u001b[1;33m)\u001b[0m\u001b[1;33m\u001b[0m\u001b[1;33m\u001b[0m\u001b[0m\n\u001b[1;32m--> 465\u001b[1;33m         \u001b[0mop\u001b[0m\u001b[1;33m.\u001b[0m\u001b[0m_append_instruction\u001b[0m\u001b[1;33m(\u001b[0m\u001b[0minstruction\u001b[0m\u001b[1;33m)\u001b[0m\u001b[1;33m\u001b[0m\u001b[1;33m\u001b[0m\u001b[0m\n\u001b[0m\u001b[0;32m    466\u001b[0m         \u001b[1;32mreturn\u001b[0m \u001b[0mop\u001b[0m\u001b[1;33m\u001b[0m\u001b[1;33m\u001b[0m\u001b[0m\n\u001b[0;32m    467\u001b[0m \u001b[1;33m\u001b[0m\u001b[0m\n",
      "\u001b[1;32m~\\Anaconda3\\lib\\site-packages\\qiskit\\quantum_info\\operators\\operator.py\u001b[0m in \u001b[0;36m_append_instruction\u001b[1;34m(self, obj, qargs)\u001b[0m\n\u001b[0;32m    531\u001b[0m                 \u001b[1;32melse\u001b[0m\u001b[1;33m:\u001b[0m\u001b[1;33m\u001b[0m\u001b[1;33m\u001b[0m\u001b[0m\n\u001b[0;32m    532\u001b[0m                     \u001b[0mnew_qargs\u001b[0m \u001b[1;33m=\u001b[0m \u001b[1;33m[\u001b[0m\u001b[0mqargs\u001b[0m\u001b[1;33m[\u001b[0m\u001b[0mbit_indices\u001b[0m\u001b[1;33m[\u001b[0m\u001b[0mtup\u001b[0m\u001b[1;33m]\u001b[0m\u001b[1;33m]\u001b[0m \u001b[1;32mfor\u001b[0m \u001b[0mtup\u001b[0m \u001b[1;32min\u001b[0m \u001b[0mqregs\u001b[0m\u001b[1;33m]\u001b[0m\u001b[1;33m\u001b[0m\u001b[1;33m\u001b[0m\u001b[0m\n\u001b[1;32m--> 533\u001b[1;33m                 \u001b[0mself\u001b[0m\u001b[1;33m.\u001b[0m\u001b[0m_append_instruction\u001b[0m\u001b[1;33m(\u001b[0m\u001b[0minstr\u001b[0m\u001b[1;33m,\u001b[0m \u001b[0mqargs\u001b[0m\u001b[1;33m=\u001b[0m\u001b[0mnew_qargs\u001b[0m\u001b[1;33m)\u001b[0m\u001b[1;33m\u001b[0m\u001b[1;33m\u001b[0m\u001b[0m\n\u001b[0m\u001b[0;32m    534\u001b[0m \u001b[1;33m\u001b[0m\u001b[0m\n\u001b[0;32m    535\u001b[0m \u001b[1;33m\u001b[0m\u001b[0m\n",
      "\u001b[1;32m~\\Anaconda3\\lib\\site-packages\\qiskit\\quantum_info\\operators\\operator.py\u001b[0m in \u001b[0;36m_append_instruction\u001b[1;34m(self, obj, qargs)\u001b[0m\n\u001b[0;32m    531\u001b[0m                 \u001b[1;32melse\u001b[0m\u001b[1;33m:\u001b[0m\u001b[1;33m\u001b[0m\u001b[1;33m\u001b[0m\u001b[0m\n\u001b[0;32m    532\u001b[0m                     \u001b[0mnew_qargs\u001b[0m \u001b[1;33m=\u001b[0m \u001b[1;33m[\u001b[0m\u001b[0mqargs\u001b[0m\u001b[1;33m[\u001b[0m\u001b[0mbit_indices\u001b[0m\u001b[1;33m[\u001b[0m\u001b[0mtup\u001b[0m\u001b[1;33m]\u001b[0m\u001b[1;33m]\u001b[0m \u001b[1;32mfor\u001b[0m \u001b[0mtup\u001b[0m \u001b[1;32min\u001b[0m \u001b[0mqregs\u001b[0m\u001b[1;33m]\u001b[0m\u001b[1;33m\u001b[0m\u001b[1;33m\u001b[0m\u001b[0m\n\u001b[1;32m--> 533\u001b[1;33m                 \u001b[0mself\u001b[0m\u001b[1;33m.\u001b[0m\u001b[0m_append_instruction\u001b[0m\u001b[1;33m(\u001b[0m\u001b[0minstr\u001b[0m\u001b[1;33m,\u001b[0m \u001b[0mqargs\u001b[0m\u001b[1;33m=\u001b[0m\u001b[0mnew_qargs\u001b[0m\u001b[1;33m)\u001b[0m\u001b[1;33m\u001b[0m\u001b[1;33m\u001b[0m\u001b[0m\n\u001b[0m\u001b[0;32m    534\u001b[0m \u001b[1;33m\u001b[0m\u001b[0m\n\u001b[0;32m    535\u001b[0m \u001b[1;33m\u001b[0m\u001b[0m\n",
      "\u001b[1;32m~\\Anaconda3\\lib\\site-packages\\qiskit\\quantum_info\\operators\\operator.py\u001b[0m in \u001b[0;36m_append_instruction\u001b[1;34m(self, obj, qargs)\u001b[0m\n\u001b[0;32m    490\u001b[0m             \u001b[1;31m# Perform the composition and inplace update the current state\u001b[0m\u001b[1;33m\u001b[0m\u001b[1;33m\u001b[0m\u001b[1;33m\u001b[0m\u001b[0m\n\u001b[0;32m    491\u001b[0m             \u001b[1;31m# of the operator\u001b[0m\u001b[1;33m\u001b[0m\u001b[1;33m\u001b[0m\u001b[1;33m\u001b[0m\u001b[0m\n\u001b[1;32m--> 492\u001b[1;33m             \u001b[0mop\u001b[0m \u001b[1;33m=\u001b[0m \u001b[0mself\u001b[0m\u001b[1;33m.\u001b[0m\u001b[0mcompose\u001b[0m\u001b[1;33m(\u001b[0m\u001b[0mmat\u001b[0m\u001b[1;33m,\u001b[0m \u001b[0mqargs\u001b[0m\u001b[1;33m=\u001b[0m\u001b[0mqargs\u001b[0m\u001b[1;33m)\u001b[0m\u001b[1;33m\u001b[0m\u001b[1;33m\u001b[0m\u001b[0m\n\u001b[0m\u001b[0;32m    493\u001b[0m             \u001b[0mself\u001b[0m\u001b[1;33m.\u001b[0m\u001b[0m_data\u001b[0m \u001b[1;33m=\u001b[0m \u001b[0mop\u001b[0m\u001b[1;33m.\u001b[0m\u001b[0mdata\u001b[0m\u001b[1;33m\u001b[0m\u001b[1;33m\u001b[0m\u001b[0m\n\u001b[0;32m    494\u001b[0m         \u001b[1;32melif\u001b[0m \u001b[0misinstance\u001b[0m\u001b[1;33m(\u001b[0m\u001b[0mobj\u001b[0m\u001b[1;33m,\u001b[0m \u001b[0mBarrier\u001b[0m\u001b[1;33m)\u001b[0m\u001b[1;33m:\u001b[0m\u001b[1;33m\u001b[0m\u001b[1;33m\u001b[0m\u001b[0m\n",
      "\u001b[1;32m~\\Anaconda3\\lib\\site-packages\\qiskit\\quantum_info\\operators\\operator.py\u001b[0m in \u001b[0;36mcompose\u001b[1;34m(self, other, qargs, front)\u001b[0m\n\u001b[0;32m    276\u001b[0m         \u001b[0mfinal_shape\u001b[0m \u001b[1;33m=\u001b[0m \u001b[1;33m[\u001b[0m\u001b[0mnp\u001b[0m\u001b[1;33m.\u001b[0m\u001b[0mproduct\u001b[0m\u001b[1;33m(\u001b[0m\u001b[0moutput_dims\u001b[0m\u001b[1;33m)\u001b[0m\u001b[1;33m,\u001b[0m \u001b[0mnp\u001b[0m\u001b[1;33m.\u001b[0m\u001b[0mproduct\u001b[0m\u001b[1;33m(\u001b[0m\u001b[0minput_dims\u001b[0m\u001b[1;33m)\u001b[0m\u001b[1;33m]\u001b[0m\u001b[1;33m\u001b[0m\u001b[1;33m\u001b[0m\u001b[0m\n\u001b[0;32m    277\u001b[0m         data = np.reshape(\n\u001b[1;32m--> 278\u001b[1;33m             \u001b[0mOperator\u001b[0m\u001b[1;33m.\u001b[0m\u001b[0m_einsum_matmul\u001b[0m\u001b[1;33m(\u001b[0m\u001b[0mtensor\u001b[0m\u001b[1;33m,\u001b[0m \u001b[0mmat\u001b[0m\u001b[1;33m,\u001b[0m \u001b[0mindices\u001b[0m\u001b[1;33m,\u001b[0m \u001b[0mshift\u001b[0m\u001b[1;33m,\u001b[0m \u001b[0mright_mul\u001b[0m\u001b[1;33m)\u001b[0m\u001b[1;33m,\u001b[0m \u001b[0mfinal_shape\u001b[0m\u001b[1;33m\u001b[0m\u001b[1;33m\u001b[0m\u001b[0m\n\u001b[0m\u001b[0;32m    279\u001b[0m         )\n\u001b[0;32m    280\u001b[0m         \u001b[0mret\u001b[0m \u001b[1;33m=\u001b[0m \u001b[0mOperator\u001b[0m\u001b[1;33m(\u001b[0m\u001b[0mdata\u001b[0m\u001b[1;33m,\u001b[0m \u001b[0minput_dims\u001b[0m\u001b[1;33m,\u001b[0m \u001b[0moutput_dims\u001b[0m\u001b[1;33m)\u001b[0m\u001b[1;33m\u001b[0m\u001b[1;33m\u001b[0m\u001b[0m\n",
      "\u001b[1;32m~\\Anaconda3\\lib\\site-packages\\qiskit\\quantum_info\\operators\\operator.py\u001b[0m in \u001b[0;36m_einsum_matmul\u001b[1;34m(cls, tensor, mat, indices, shift, right_mul)\u001b[0m\n\u001b[0;32m    449\u001b[0m         \u001b[1;32melse\u001b[0m\u001b[1;33m:\u001b[0m\u001b[1;33m\u001b[0m\u001b[1;33m\u001b[0m\u001b[0m\n\u001b[0;32m    450\u001b[0m             \u001b[0mindices_mat\u001b[0m \u001b[1;33m=\u001b[0m \u001b[0mmat_free\u001b[0m \u001b[1;33m+\u001b[0m \u001b[0mmat_contract\u001b[0m\u001b[1;33m\u001b[0m\u001b[1;33m\u001b[0m\u001b[0m\n\u001b[1;32m--> 451\u001b[1;33m         \u001b[1;32mreturn\u001b[0m \u001b[0mnp\u001b[0m\u001b[1;33m.\u001b[0m\u001b[0meinsum\u001b[0m\u001b[1;33m(\u001b[0m\u001b[0mtensor\u001b[0m\u001b[1;33m,\u001b[0m \u001b[0mindices_tensor\u001b[0m\u001b[1;33m,\u001b[0m \u001b[0mmat\u001b[0m\u001b[1;33m,\u001b[0m \u001b[0mindices_mat\u001b[0m\u001b[1;33m)\u001b[0m\u001b[1;33m\u001b[0m\u001b[1;33m\u001b[0m\u001b[0m\n\u001b[0m\u001b[0;32m    452\u001b[0m \u001b[1;33m\u001b[0m\u001b[0m\n\u001b[0;32m    453\u001b[0m     \u001b[1;33m@\u001b[0m\u001b[0mclassmethod\u001b[0m\u001b[1;33m\u001b[0m\u001b[1;33m\u001b[0m\u001b[0m\n",
      "\u001b[1;32m<__array_function__ internals>\u001b[0m in \u001b[0;36meinsum\u001b[1;34m(*args, **kwargs)\u001b[0m\n",
      "\u001b[1;32m~\\Anaconda3\\lib\\site-packages\\numpy\\core\\einsumfunc.py\u001b[0m in \u001b[0;36meinsum\u001b[1;34m(out, optimize, *operands, **kwargs)\u001b[0m\n\u001b[0;32m   1359\u001b[0m         \u001b[1;32mif\u001b[0m \u001b[0mspecified_out\u001b[0m\u001b[1;33m:\u001b[0m\u001b[1;33m\u001b[0m\u001b[1;33m\u001b[0m\u001b[0m\n\u001b[0;32m   1360\u001b[0m             \u001b[0mkwargs\u001b[0m\u001b[1;33m[\u001b[0m\u001b[1;34m'out'\u001b[0m\u001b[1;33m]\u001b[0m \u001b[1;33m=\u001b[0m \u001b[0mout\u001b[0m\u001b[1;33m\u001b[0m\u001b[1;33m\u001b[0m\u001b[0m\n\u001b[1;32m-> 1361\u001b[1;33m         \u001b[1;32mreturn\u001b[0m \u001b[0mc_einsum\u001b[0m\u001b[1;33m(\u001b[0m\u001b[1;33m*\u001b[0m\u001b[0moperands\u001b[0m\u001b[1;33m,\u001b[0m \u001b[1;33m**\u001b[0m\u001b[0mkwargs\u001b[0m\u001b[1;33m)\u001b[0m\u001b[1;33m\u001b[0m\u001b[1;33m\u001b[0m\u001b[0m\n\u001b[0m\u001b[0;32m   1362\u001b[0m \u001b[1;33m\u001b[0m\u001b[0m\n\u001b[0;32m   1363\u001b[0m     \u001b[1;31m# Check the kwargs to avoid a more cryptic error later, without having to\u001b[0m\u001b[1;33m\u001b[0m\u001b[1;33m\u001b[0m\u001b[1;33m\u001b[0m\u001b[0m\n",
      "\u001b[1;31mKeyboardInterrupt\u001b[0m: "
     ]
    }
   ],
   "source": [
    "# 2/3 of QPE: Controlled e^i\\rho t via m*N partial swaps\n",
    "#Hardcoded approach (faster and more accurate for evading partial swap requirement) \n",
    "\n",
    "rep = 0\n",
    "for counting_qubit in range(eval_reg.size):\n",
    "    main_2 = QuantumCircuit(eval_reg, rho_reg)\n",
    "    main_2 = main_2.compose(exp_rho(-2**rep*2*np.pi,Q).to_instruction(), [counting_qubit ,*rho_reg])\n",
    "    rep +=1\n",
    "    print(rho2.is_valid())\n",
    "    rho2 = rho2.evolve(Operator(main_2))"
   ]
  },
  {
   "cell_type": "code",
   "execution_count": 305,
   "id": "2a9cda55-a28f-414f-bc50-359a99be59ba",
   "metadata": {},
   "outputs": [],
   "source": [
    "# 3/3 of QPE: Inverse qft\n",
    "main_3 = QuantumCircuit(eval_reg, rho_reg)\n",
    "\n",
    "qft_dagger(main_3, eval_reg.size)\n",
    "rho2 = rho2.evolve(Operator(main_3))\n",
    "\n",
    "np.sum(list(partial_trace(rho2, range(eval_reg.size, main_3.num_qubits)).probabilities_dict().values()))\n",
    "\n",
    "# Measure eigenvalue register and output most probable value\n",
    "outcomes = partial_trace(rho2, range(eval_reg.size, main_3.num_qubits)).sample_counts(shots=10000)\n",
    "\n",
    "print(evals.real)\n",
    "print(int(max(outcomes, key=outcomes.get), 2)/(2**eval_reg.size)) # Important: binary to float via b/2^n\n",
    "\n",
    "qiskit.visualization.plot_histogram(outcomes)"
   ]
  },
  {
   "cell_type": "markdown",
   "id": "07b81145-ba7e-4f8a-b65c-3eb0ce6fe555",
   "metadata": {
    "jp-MarkdownHeadingCollapsed": true,
    "tags": []
   },
   "source": [
    "## Exact QPE"
   ]
  },
  {
   "cell_type": "code",
   "execution_count": null,
   "id": "7ccd4af5-049d-473b-8ca5-026803039baf",
   "metadata": {},
   "outputs": [],
   "source": [
    "rho = DensityMatrix(np.diag([1]+[0]*(2**4-1)))"
   ]
  },
  {
   "cell_type": "code",
   "execution_count": null,
   "id": "45b8287b-35cc-46d6-a433-bbf71e0d61f4",
   "metadata": {},
   "outputs": [],
   "source": [
    "qpe = QuantumCircuit(4)"
   ]
  },
  {
   "cell_type": "code",
   "execution_count": 1640,
   "id": "fa1a1bbb-a069-4104-87d9-6fa649d8950e",
   "metadata": {
    "tags": []
   },
   "outputs": [
    {
     "data": {
      "text/html": [
       "<pre style=\"word-wrap: normal;white-space: pre;background: #fff0;line-height: 1.1;font-family: &quot;Courier New&quot;,Courier,monospace\">     ┌───┐\n",
       "q_0: ┤ H ├\n",
       "     ├───┤\n",
       "q_1: ┤ H ├\n",
       "     ├───┤\n",
       "q_2: ┤ H ├\n",
       "     └───┘\n",
       "q_3: ─────\n",
       "          </pre>"
      ],
      "text/plain": [
       "     ┌───┐\n",
       "q_0: ┤ H ├\n",
       "     ├───┤\n",
       "q_1: ┤ H ├\n",
       "     ├───┤\n",
       "q_2: ┤ H ├\n",
       "     └───┘\n",
       "q_3: ─────\n",
       "          "
      ]
     },
     "execution_count": 1640,
     "metadata": {},
     "output_type": "execute_result"
    }
   ],
   "source": [
    "#qpe.x(3)\n",
    "for qubit in range(3):\n",
    "    qpe.h(qubit)\n",
    "qpe.draw()"
   ]
  },
  {
   "cell_type": "code",
   "execution_count": 1641,
   "id": "4c844b0f-1bc9-429f-9f09-5239e6e46872",
   "metadata": {},
   "outputs": [],
   "source": [
    "rho2 = rho.evolve(Operator(qpe))"
   ]
  },
  {
   "cell_type": "code",
   "execution_count": 1642,
   "id": "50d35f20-6c6f-4a01-985c-99b9b7405a8b",
   "metadata": {},
   "outputs": [
    {
     "data": {
      "text/html": [
       "<pre style=\"word-wrap: normal;white-space: pre;background: #fff0;line-height: 1.1;font-family: &quot;Courier New&quot;,Courier,monospace\">                                         \n",
       "q_0: ────────────────────────────────────\n",
       "                                         \n",
       "q_1: ────────────────────────────────────\n",
       "                                         \n",
       "q_2: ─■────────■────────■────────■───────\n",
       "      │P(π/4)  │P(π/4)  │P(π/4)  │P(π/4) \n",
       "q_3: ─■────────■────────■────────■───────\n",
       "                                         </pre>"
      ],
      "text/plain": [
       "                                         \n",
       "q_0: ────────────────────────────────────\n",
       "                                         \n",
       "q_1: ────────────────────────────────────\n",
       "                                         \n",
       "q_2: ─■────────■────────■────────■───────\n",
       "      │P(π/4)  │P(π/4)  │P(π/4)  │P(π/4) \n",
       "q_3: ─■────────■────────■────────■───────\n",
       "                                         "
      ]
     },
     "execution_count": 1642,
     "metadata": {},
     "output_type": "execute_result"
    }
   ],
   "source": [
    "\n",
    "rep = 1\n",
    "for counting_qubit in range(3):\n",
    "    qpe = QuantumCircuit(4)\n",
    "    \n",
    "    for i in range(rep):\n",
    "        qpe.cp(math.pi/4, counting_qubit, 3); # This is CU\n",
    "    rep *= 2\n",
    "    \n",
    "    rho2 = rho2.evolve(Operator(qpe))\n",
    "    \n",
    "qpe.draw()\n",
    "\n"
   ]
  },
  {
   "cell_type": "code",
   "execution_count": 1643,
   "id": "0e87d430-a627-4026-9db4-4812fec88016",
   "metadata": {},
   "outputs": [
    {
     "data": {
      "image/png": "[encoded data removed]",
      "text/plain": [
       "<Figure size 568.197x264.88 with 1 Axes>"
      ]
     },
     "execution_count": 1643,
     "metadata": {},
     "output_type": "execute_result"
    }
   ],
   "source": [
    "qpe.draw('mpl')"
   ]
  },
  {
   "cell_type": "code",
   "execution_count": 1644,
   "id": "31a32e1e-3801-4a4e-af4e-c1f6c4c79bb1",
   "metadata": {},
   "outputs": [],
   "source": [
    "def qft_dagger(qc, n):\n",
    "    \"\"\"n-qubit QFTdagger the first n qubits in circ\"\"\"\n",
    "    # Don't forget the Swaps!\n",
    "    for qubit in range(n//2):\n",
    "        qc.swap(qubit, n-qubit-1)\n",
    "    for j in range(n):\n",
    "        for m in range(j):\n",
    "            qc.cp(-math.pi/float(2**(j-m)), m, j)\n",
    "        qc.h(j)"
   ]
  },
  {
   "cell_type": "code",
   "execution_count": 1645,
   "id": "d651771a-9784-47f0-a6c8-f617e8a39ec6",
   "metadata": {},
   "outputs": [],
   "source": [
    "qpe = QuantumCircuit(4)"
   ]
  },
  {
   "cell_type": "code",
   "execution_count": 1646,
   "id": "84b46938-a568-4ae2-8b66-92db4bd0ea6b",
   "metadata": {},
   "outputs": [
    {
     "data": {
      "text/plain": [
       "<qiskit.circuit.instructionset.InstructionSet at 0x2037e39a908>"
      ]
     },
     "execution_count": 1646,
     "metadata": {},
     "output_type": "execute_result"
    }
   ],
   "source": [
    "qpe.barrier()\n",
    "# Apply inverse QFT\n",
    "qft_dagger(qpe, 3)\n",
    "# Measure\n",
    "qpe.barrier()"
   ]
  },
  {
   "cell_type": "code",
   "execution_count": 1647,
   "id": "57f9556c-a68c-411d-b3f1-9adcd677df53",
   "metadata": {},
   "outputs": [],
   "source": [
    "rho4 = rho2.evolve(Operator(qpe))"
   ]
  },
  {
   "cell_type": "code",
   "execution_count": 1648,
   "id": "1a3c5524-9ddf-4fab-9c73-6955100bfb4d",
   "metadata": {},
   "outputs": [
    {
     "data": {
      "image/png": "[encoded data removed]",
      "text/plain": [
       "<Figure size 504x360 with 1 Axes>"
      ]
     },
     "execution_count": 1648,
     "metadata": {},
     "output_type": "execute_result"
    }
   ],
   "source": [
    "qiskit.visualization.plot_histogram(partial_trace(rho4, [3]).sample_counts(shots=10000))"
   ]
  },
  {
   "cell_type": "markdown",
   "id": "afcea96e-8240-41c6-bf08-edec2942ddf8",
   "metadata": {
    "jp-MarkdownHeadingCollapsed": true,
    "tags": []
   },
   "source": [
    "# Validating circuit implementation of $e^{-iSt}$"
   ]
  },
  {
   "cell_type": "markdown",
   "id": "9e880828-f26f-402c-8814-0a5e171ef5fc",
   "metadata": {
    "jp-MarkdownHeadingCollapsed": true,
    "tags": []
   },
   "source": [
    "## Initialisation"
   ]
  },
  {
   "cell_type": "code",
   "execution_count": null,
   "id": "da3b2922-8c42-4153-96d8-c4b17ca29679",
   "metadata": {},
   "outputs": [],
   "source": [
    "# X \\in R^3x2, 4-D data arranged rowwise \n",
    "D = np.array([[0.32241437, 0.04200095],\n",
    "       [0.32591982, 0.04014517],\n",
    "       [0.17208166, 0.61868603]])\n",
    "# Normalise each entry \n",
    "X = np.array([x / np.linalg.norm(x) for x in D])\n",
    "\n",
    "# Columns\n",
    "X = X.T\n",
    "\n",
    "# Inner product between pairs of features; equivalent to |psi_i><psi_i| per i number of features\n",
    "Q = 1/3*np.matmul(X,X.T)\n",
    "rho = DensityMatrix(Q)"
   ]
  },
  {
   "cell_type": "code",
   "execution_count": null,
   "id": "05f98a8e-c65d-4efb-9861-1b2e00fa817b",
   "metadata": {},
   "outputs": [],
   "source": [
    "evals, evecs = np.linalg.eig(rho.data)\n",
    "\n",
    "sigma = DensityMatrix(np.outer(evecs[1], evecs[1]))\n",
    "\n",
    "cols = [DensityMatrix(np.outer(x,x)) for x in X.T] \n"
   ]
  },
  {
   "cell_type": "code",
   "execution_count": null,
   "id": "be45d63b-52dc-4ea8-ad43-edc551fe6345",
   "metadata": {},
   "outputs": [],
   "source": [
    "t = 1\n",
    "N = 100\n",
    "dt = 1/N"
   ]
  },
  {
   "cell_type": "code",
   "execution_count": null,
   "id": "49a217f5-04df-4c9a-b139-e3d4adb372e5",
   "metadata": {},
   "outputs": [],
   "source": [
    "w = Parameter(\"w\")"
   ]
  },
  {
   "cell_type": "code",
   "execution_count": null,
   "id": "7065e17f-feab-4892-9d43-f0c78b5874a4",
   "metadata": {},
   "outputs": [],
   "source": [
    "zero = DensityMatrix(np.diag([1,0]))"
   ]
  },
  {
   "cell_type": "code",
   "execution_count": 2429,
   "id": "8d21f77d-91c8-441e-b457-974724cc358a",
   "metadata": {},
   "outputs": [],
   "source": [
    "rando = random_density_matrix(2)"
   ]
  },
  {
   "cell_type": "markdown",
   "id": "7fed7b76-9765-4e25-90ba-decd8788abf8",
   "metadata": {
    "tags": []
   },
   "source": [
    "## Main"
   ]
  },
  {
   "cell_type": "code",
   "execution_count": 2460,
   "id": "8d5dc324-f8ea-40b8-86a2-2becfb2dfc3f",
   "metadata": {},
   "outputs": [],
   "source": [
    "def es2_num(x):\n",
    "    return Operator(MatrixOp(x*Operator(qc_swap2())).exp_i())"
   ]
  },
  {
   "cell_type": "code",
   "execution_count": 2462,
   "id": "a5e4e7f1-6b5b-4cc7-99d9-c73b70cca24e",
   "metadata": {},
   "outputs": [],
   "source": [
    "def c_es2_num(x):\n",
    "    return Operator(es2_num(x).to_instruction().control(1))"
   ]
  },
  {
   "cell_type": "code",
   "execution_count": null,
   "id": "ef4033af-5df4-4f2e-99da-0f4d5f91ddb8",
   "metadata": {},
   "outputs": [
    {
     "data": {
      "image/png": "[encoded data removed]",
      "text/plain": [
       "<Figure size 146.652x144.48 with 1 Axes>"
      ]
     },
     "execution_count": 2393,
     "metadata": {},
     "output_type": "execute_result"
    }
   ],
   "source": [
    "qc_swap2().draw('mpl')"
   ]
  },
  {
   "cell_type": "code",
   "execution_count": 2445,
   "id": "b18f8771-1f52-4623-a79e-714eba328079",
   "metadata": {},
   "outputs": [],
   "source": [
    "rho_i = zero ^ rho ^ sigma ^ rando"
   ]
  },
  {
   "cell_type": "code",
   "execution_count": 2446,
   "id": "aeb70efc-1487-42bb-9c30-6ed99053119e",
   "metadata": {},
   "outputs": [
    {
     "data": {
      "text/latex": [
       "$$\n",
       "\n",
       "\\begin{bmatrix}\n",
       "0.0496 & 0.0071 - 0.0369i & 0.1253 & \\cdots & 0.0513 - 0.0612i & 0.0312 & 0.0044 - 0.0231i  \\\\\n",
       " 0.0071 + 0.0369i & 0.0426 & 0.0179 + 0.093i & \\cdots & 0.0793 + 0.0441i & 0.0044 + 0.0231i & 0.0268  \\\\\n",
       " 0.1253 & 0.0179 - 0.093i & 0.3162 & \\cdots & 0.1295 - 0.1546i & 0.0787 & 0.0112 - 0.0584i  \\\\\n",
       " \\vdots & \\vdots & \\vdots & \\ddots & \\vdots & \\vdots & \\vdots \\\\\n",
       " 0.0513 + 0.0612i & 0.0793 - 0.0441i & 0.1295 + 0.1546i & \\cdots & 0.1982 & 0.0171 + 0.0529i & 0.0626 - 0.0077i  \\\\\n",
       " 0.0312 & 0.0044 - 0.0231i & 0.0787 & \\cdots & 0.0171 - 0.0529i & 0.1488 & 0.0212 - 0.1105i  \\\\\n",
       " 0.0044 + 0.0231i & 0.0268 & 0.0112 + 0.0584i & \\cdots & 0.0626 + 0.0077i & 0.0212 + 0.1105i & 0.1278  \\\\\n",
       " \\end{bmatrix}\n",
       "$$"
      ],
      "text/plain": [
       "<IPython.core.display.Latex object>"
      ]
     },
     "execution_count": 2446,
     "metadata": {},
     "output_type": "execute_result"
    }
   ],
   "source": [
    "printmat(partial_trace((zero ^ rho ^ sigma ^ rando).evolve(c_es2(t)),[3]))"
   ]
  },
  {
   "cell_type": "code",
   "execution_count": 2466,
   "id": "1562b312-24ea-4922-bd81-d56ce1907d4f",
   "metadata": {},
   "outputs": [
    {
     "data": {
      "text/latex": [
       "$$\n",
       "\n",
       "\\begin{bmatrix}\n",
       "0.0496 & 0.0071 - 0.0369i & 0.1253 & \\cdots & 0.0513 - 0.0612i & 0.0312 & 0.0044 - 0.0231i  \\\\\n",
       " 0.0071 + 0.0369i & 0.0426 & 0.0179 + 0.093i & \\cdots & 0.0793 + 0.0441i & 0.0044 + 0.0231i & 0.0268  \\\\\n",
       " 0.1253 & 0.0179 - 0.093i & 0.3162 & \\cdots & 0.1295 - 0.1546i & 0.0787 & 0.0112 - 0.0584i  \\\\\n",
       " \\vdots & \\vdots & \\vdots & \\ddots & \\vdots & \\vdots & \\vdots \\\\\n",
       " 0.0513 + 0.0612i & 0.0793 - 0.0441i & 0.1295 + 0.1546i & \\cdots & 0.1982 & 0.0171 + 0.0529i & 0.0626 - 0.0077i  \\\\\n",
       " 0.0312 & 0.0044 - 0.0231i & 0.0787 & \\cdots & 0.0171 - 0.0529i & 0.1488 & 0.0212 - 0.1105i  \\\\\n",
       " 0.0044 + 0.0231i & 0.0268 & 0.0112 + 0.0584i & \\cdots & 0.0626 + 0.0077i & 0.0212 + 0.1105i & 0.1278  \\\\\n",
       " \\end{bmatrix}\n",
       "$$"
      ],
      "text/plain": [
       "<IPython.core.display.Latex object>"
      ]
     },
     "execution_count": 2466,
     "metadata": {},
     "output_type": "execute_result"
    }
   ],
   "source": [
    "printmat((rho ^ sigma ^ rando).evolve(c_es2_num(t)))"
   ]
  },
  {
   "cell_type": "code",
   "execution_count": 2472,
   "id": "d81542b6-01f5-4d3c-9cf6-75f4f74ae450",
   "metadata": {},
   "outputs": [
    {
     "data": {
      "text/latex": [
       "$$\n",
       "\n",
       "\\begin{bmatrix}\n",
       "0 & 0 & 0 & \\cdots & 0 & 0 & 0  \\\\\n",
       " 0 & 0 & 0 & \\cdots & 0 & 0 & 0  \\\\\n",
       " 0 & 0 & 0 & \\cdots & 0 & 0 & 0  \\\\\n",
       " \\vdots & \\vdots & \\vdots & \\ddots & \\vdots & \\vdots & \\vdots \\\\\n",
       " 0 & 0 & 0 & \\cdots & 0 & 0 & 0  \\\\\n",
       " 0 & 0 & 0 & \\cdots & 0 & 0 & 0  \\\\\n",
       " 0 & 0 & 0 & \\cdots & 0 & 0 & 0  \\\\\n",
       " \\end{bmatrix}\n",
       "$$"
      ],
      "text/plain": [
       "<IPython.core.display.Latex object>"
      ]
     },
     "execution_count": 2472,
     "metadata": {},
     "output_type": "execute_result"
    }
   ],
   "source": [
    "printmat((rho ^ sigma ^ rando).evolve(c_es2_num(t)).data - partial_trace((zero ^ rho ^ sigma ^ rando).evolve(c_es2(t)),[3]).data)"
   ]
  },
  {
   "cell_type": "code",
   "execution_count": null,
   "id": "9b71dfa8-919a-482a-b760-2a45318a7fda",
   "metadata": {},
   "outputs": [],
   "source": [
    "# Indeed, tr(c_es2,[3]) = c_es2_num"
   ]
  }
 ],
 "metadata": {
  "kernelspec": {
   "display_name": "Python 3 (ipykernel)",
   "language": "python",
   "name": "python3"
  },
  "language_info": {
   "codemirror_mode": {
    "name": "ipython",
    "version": 3
   },
   "file_extension": ".py",
   "mimetype": "text/x-python",
   "name": "python",
   "nbconvert_exporter": "python",
   "pygments_lexer": "ipython3",
   "version": "3.7.11"
  }
 },
 "nbformat": 4,
 "nbformat_minor": 5
}
